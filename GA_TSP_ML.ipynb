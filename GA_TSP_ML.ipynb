{
  "nbformat": 4,
  "nbformat_minor": 0,
  "metadata": {
    "colab": {
      "provenance": [],
      "collapsed_sections": [
        "NEk0WgTtSMUT",
        "NG-anag2zmxm"
      ],
      "authorship_tag": "ABX9TyNnvAIInul0mn3/QhiQ/rka",
      "include_colab_link": true
    },
    "kernelspec": {
      "name": "python3",
      "display_name": "Python 3"
    },
    "language_info": {
      "name": "python"
    },
    "widgets": {
      "application/vnd.jupyter.widget-state+json": {
        "33ff6afacd5742cbb3030672b45c2dad": {
          "model_module": "@jupyter-widgets/controls",
          "model_name": "HBoxModel",
          "model_module_version": "1.5.0",
          "state": {
            "_dom_classes": [],
            "_model_module": "@jupyter-widgets/controls",
            "_model_module_version": "1.5.0",
            "_model_name": "HBoxModel",
            "_view_count": null,
            "_view_module": "@jupyter-widgets/controls",
            "_view_module_version": "1.5.0",
            "_view_name": "HBoxView",
            "box_style": "",
            "children": [
              "IPY_MODEL_9d11d269964e4791bb31f09fcb942db4",
              "IPY_MODEL_cf68ffe4f0a544c0be92eeb74067c577",
              "IPY_MODEL_60ba19db52884ca7ad1e4a066371a9aa"
            ],
            "layout": "IPY_MODEL_61a45474144b44448300399dd766ffe1"
          }
        },
        "9d11d269964e4791bb31f09fcb942db4": {
          "model_module": "@jupyter-widgets/controls",
          "model_name": "HTMLModel",
          "model_module_version": "1.5.0",
          "state": {
            "_dom_classes": [],
            "_model_module": "@jupyter-widgets/controls",
            "_model_module_version": "1.5.0",
            "_model_name": "HTMLModel",
            "_view_count": null,
            "_view_module": "@jupyter-widgets/controls",
            "_view_module_version": "1.5.0",
            "_view_name": "HTMLView",
            "description": "",
            "description_tooltip": null,
            "layout": "IPY_MODEL_492aa1e933c44d01804372417950d305",
            "placeholder": "​",
            "style": "IPY_MODEL_0240316a1add4ba0a6e54923837045a4",
            "value": "100%"
          }
        },
        "cf68ffe4f0a544c0be92eeb74067c577": {
          "model_module": "@jupyter-widgets/controls",
          "model_name": "FloatProgressModel",
          "model_module_version": "1.5.0",
          "state": {
            "_dom_classes": [],
            "_model_module": "@jupyter-widgets/controls",
            "_model_module_version": "1.5.0",
            "_model_name": "FloatProgressModel",
            "_view_count": null,
            "_view_module": "@jupyter-widgets/controls",
            "_view_module_version": "1.5.0",
            "_view_name": "ProgressView",
            "bar_style": "success",
            "description": "",
            "description_tooltip": null,
            "layout": "IPY_MODEL_3e43ab316cbe47afaef41065b828d139",
            "max": 50,
            "min": 0,
            "orientation": "horizontal",
            "style": "IPY_MODEL_be3854ab56e24fc59331f1cbccec0827",
            "value": 50
          }
        },
        "60ba19db52884ca7ad1e4a066371a9aa": {
          "model_module": "@jupyter-widgets/controls",
          "model_name": "HTMLModel",
          "model_module_version": "1.5.0",
          "state": {
            "_dom_classes": [],
            "_model_module": "@jupyter-widgets/controls",
            "_model_module_version": "1.5.0",
            "_model_name": "HTMLModel",
            "_view_count": null,
            "_view_module": "@jupyter-widgets/controls",
            "_view_module_version": "1.5.0",
            "_view_name": "HTMLView",
            "description": "",
            "description_tooltip": null,
            "layout": "IPY_MODEL_00b5d02d12154d77b3ba0d62f615524e",
            "placeholder": "​",
            "style": "IPY_MODEL_bfec7054adb2486d966348f92838e7ac",
            "value": " 50/50 [00:18&lt;00:00,  9.94it/s]"
          }
        },
        "61a45474144b44448300399dd766ffe1": {
          "model_module": "@jupyter-widgets/base",
          "model_name": "LayoutModel",
          "model_module_version": "1.2.0",
          "state": {
            "_model_module": "@jupyter-widgets/base",
            "_model_module_version": "1.2.0",
            "_model_name": "LayoutModel",
            "_view_count": null,
            "_view_module": "@jupyter-widgets/base",
            "_view_module_version": "1.2.0",
            "_view_name": "LayoutView",
            "align_content": null,
            "align_items": null,
            "align_self": null,
            "border": null,
            "bottom": null,
            "display": null,
            "flex": null,
            "flex_flow": null,
            "grid_area": null,
            "grid_auto_columns": null,
            "grid_auto_flow": null,
            "grid_auto_rows": null,
            "grid_column": null,
            "grid_gap": null,
            "grid_row": null,
            "grid_template_areas": null,
            "grid_template_columns": null,
            "grid_template_rows": null,
            "height": null,
            "justify_content": null,
            "justify_items": null,
            "left": null,
            "margin": null,
            "max_height": null,
            "max_width": null,
            "min_height": null,
            "min_width": null,
            "object_fit": null,
            "object_position": null,
            "order": null,
            "overflow": null,
            "overflow_x": null,
            "overflow_y": null,
            "padding": null,
            "right": null,
            "top": null,
            "visibility": null,
            "width": null
          }
        },
        "492aa1e933c44d01804372417950d305": {
          "model_module": "@jupyter-widgets/base",
          "model_name": "LayoutModel",
          "model_module_version": "1.2.0",
          "state": {
            "_model_module": "@jupyter-widgets/base",
            "_model_module_version": "1.2.0",
            "_model_name": "LayoutModel",
            "_view_count": null,
            "_view_module": "@jupyter-widgets/base",
            "_view_module_version": "1.2.0",
            "_view_name": "LayoutView",
            "align_content": null,
            "align_items": null,
            "align_self": null,
            "border": null,
            "bottom": null,
            "display": null,
            "flex": null,
            "flex_flow": null,
            "grid_area": null,
            "grid_auto_columns": null,
            "grid_auto_flow": null,
            "grid_auto_rows": null,
            "grid_column": null,
            "grid_gap": null,
            "grid_row": null,
            "grid_template_areas": null,
            "grid_template_columns": null,
            "grid_template_rows": null,
            "height": null,
            "justify_content": null,
            "justify_items": null,
            "left": null,
            "margin": null,
            "max_height": null,
            "max_width": null,
            "min_height": null,
            "min_width": null,
            "object_fit": null,
            "object_position": null,
            "order": null,
            "overflow": null,
            "overflow_x": null,
            "overflow_y": null,
            "padding": null,
            "right": null,
            "top": null,
            "visibility": null,
            "width": null
          }
        },
        "0240316a1add4ba0a6e54923837045a4": {
          "model_module": "@jupyter-widgets/controls",
          "model_name": "DescriptionStyleModel",
          "model_module_version": "1.5.0",
          "state": {
            "_model_module": "@jupyter-widgets/controls",
            "_model_module_version": "1.5.0",
            "_model_name": "DescriptionStyleModel",
            "_view_count": null,
            "_view_module": "@jupyter-widgets/base",
            "_view_module_version": "1.2.0",
            "_view_name": "StyleView",
            "description_width": ""
          }
        },
        "3e43ab316cbe47afaef41065b828d139": {
          "model_module": "@jupyter-widgets/base",
          "model_name": "LayoutModel",
          "model_module_version": "1.2.0",
          "state": {
            "_model_module": "@jupyter-widgets/base",
            "_model_module_version": "1.2.0",
            "_model_name": "LayoutModel",
            "_view_count": null,
            "_view_module": "@jupyter-widgets/base",
            "_view_module_version": "1.2.0",
            "_view_name": "LayoutView",
            "align_content": null,
            "align_items": null,
            "align_self": null,
            "border": null,
            "bottom": null,
            "display": null,
            "flex": null,
            "flex_flow": null,
            "grid_area": null,
            "grid_auto_columns": null,
            "grid_auto_flow": null,
            "grid_auto_rows": null,
            "grid_column": null,
            "grid_gap": null,
            "grid_row": null,
            "grid_template_areas": null,
            "grid_template_columns": null,
            "grid_template_rows": null,
            "height": null,
            "justify_content": null,
            "justify_items": null,
            "left": null,
            "margin": null,
            "max_height": null,
            "max_width": null,
            "min_height": null,
            "min_width": null,
            "object_fit": null,
            "object_position": null,
            "order": null,
            "overflow": null,
            "overflow_x": null,
            "overflow_y": null,
            "padding": null,
            "right": null,
            "top": null,
            "visibility": null,
            "width": null
          }
        },
        "be3854ab56e24fc59331f1cbccec0827": {
          "model_module": "@jupyter-widgets/controls",
          "model_name": "ProgressStyleModel",
          "model_module_version": "1.5.0",
          "state": {
            "_model_module": "@jupyter-widgets/controls",
            "_model_module_version": "1.5.0",
            "_model_name": "ProgressStyleModel",
            "_view_count": null,
            "_view_module": "@jupyter-widgets/base",
            "_view_module_version": "1.2.0",
            "_view_name": "StyleView",
            "bar_color": null,
            "description_width": ""
          }
        },
        "00b5d02d12154d77b3ba0d62f615524e": {
          "model_module": "@jupyter-widgets/base",
          "model_name": "LayoutModel",
          "model_module_version": "1.2.0",
          "state": {
            "_model_module": "@jupyter-widgets/base",
            "_model_module_version": "1.2.0",
            "_model_name": "LayoutModel",
            "_view_count": null,
            "_view_module": "@jupyter-widgets/base",
            "_view_module_version": "1.2.0",
            "_view_name": "LayoutView",
            "align_content": null,
            "align_items": null,
            "align_self": null,
            "border": null,
            "bottom": null,
            "display": null,
            "flex": null,
            "flex_flow": null,
            "grid_area": null,
            "grid_auto_columns": null,
            "grid_auto_flow": null,
            "grid_auto_rows": null,
            "grid_column": null,
            "grid_gap": null,
            "grid_row": null,
            "grid_template_areas": null,
            "grid_template_columns": null,
            "grid_template_rows": null,
            "height": null,
            "justify_content": null,
            "justify_items": null,
            "left": null,
            "margin": null,
            "max_height": null,
            "max_width": null,
            "min_height": null,
            "min_width": null,
            "object_fit": null,
            "object_position": null,
            "order": null,
            "overflow": null,
            "overflow_x": null,
            "overflow_y": null,
            "padding": null,
            "right": null,
            "top": null,
            "visibility": null,
            "width": null
          }
        },
        "bfec7054adb2486d966348f92838e7ac": {
          "model_module": "@jupyter-widgets/controls",
          "model_name": "DescriptionStyleModel",
          "model_module_version": "1.5.0",
          "state": {
            "_model_module": "@jupyter-widgets/controls",
            "_model_module_version": "1.5.0",
            "_model_name": "DescriptionStyleModel",
            "_view_count": null,
            "_view_module": "@jupyter-widgets/base",
            "_view_module_version": "1.2.0",
            "_view_name": "StyleView",
            "description_width": ""
          }
        }
      }
    }
  },
  "cells": [
    {
      "cell_type": "markdown",
      "metadata": {
        "id": "view-in-github",
        "colab_type": "text"
      },
      "source": [
        "<a href=\"https://colab.research.google.com/github/Aditya-Poli/EC312_GA/blob/main/GA_TSP_ML.ipynb\" target=\"_parent\"><img src=\"https://colab.research.google.com/assets/colab-badge.svg\" alt=\"Open In Colab\"/></a>"
      ]
    },
    {
      "cell_type": "code",
      "execution_count": null,
      "metadata": {
        "id": "mXTfifrwRfGU"
      },
      "outputs": [],
      "source": []
    },
    {
      "cell_type": "markdown",
      "source": [
        "# TSP"
      ],
      "metadata": {
        "id": "NEk0WgTtSMUT"
      }
    },
    {
      "cell_type": "code",
      "source": [
        "import numpy as np\n",
        "import matplotlib.pyplot as plt\n",
        "import matplotlib.animation as animation\n",
        "from tqdm.auto import tqdm\n",
        "from IPython.display import HTML\n",
        "\n",
        "\n",
        "\n",
        "# class for solving TSP using GA\n",
        "\n",
        "class TSP:\n",
        "\n",
        "\tdef __init__(self,\n",
        "\t\tcities:'dict',\n",
        "\t\tnum_pop:'int'=50,\n",
        "\t\tmutation_rate:'int'=0.1,\n",
        "\t\tcrossover_prob:'int'=0.85,\n",
        "\t\telitism:'bool'=True):\n",
        "\n",
        "\t\tself.cities = cities\n",
        "\t\tself.num_pop = num_pop\n",
        "\t\tself.mutation_rate = mutation_rate\n",
        "\t\tself.crossover_probability = crossover_prob\n",
        "\t\tself.elitism = elitism\n",
        "\n",
        "    "
      ],
      "metadata": {
        "id": "2uoc5BCbSNhV"
      },
      "execution_count": null,
      "outputs": []
    },
    {
      "cell_type": "code",
      "source": [
        "cities = np.array(['A', 'B', 'C', 'D'])"
      ],
      "metadata": {
        "id": "RYL7NxDdSXTr"
      },
      "execution_count": null,
      "outputs": []
    },
    {
      "cell_type": "code",
      "source": [
        "from itertools import permutations"
      ],
      "metadata": {
        "id": "cEi9imvNSmj3"
      },
      "execution_count": null,
      "outputs": []
    },
    {
      "cell_type": "code",
      "source": [
        "perm = np.array(list(permutations(cities)))"
      ],
      "metadata": {
        "id": "ZU-52DZtS60W"
      },
      "execution_count": null,
      "outputs": []
    },
    {
      "cell_type": "code",
      "source": [
        "perm"
      ],
      "metadata": {
        "colab": {
          "base_uri": "https://localhost:8080/"
        },
        "id": "xhC3fe5RTDsm",
        "outputId": "a9148f53-4f42-448f-e583-a5ae9e69fc30"
      },
      "execution_count": null,
      "outputs": [
        {
          "output_type": "execute_result",
          "data": {
            "text/plain": [
              "array([['A', 'B', 'C', 'D'],\n",
              "       ['A', 'B', 'D', 'C'],\n",
              "       ['A', 'C', 'B', 'D'],\n",
              "       ['A', 'C', 'D', 'B'],\n",
              "       ['A', 'D', 'B', 'C'],\n",
              "       ['A', 'D', 'C', 'B'],\n",
              "       ['B', 'A', 'C', 'D'],\n",
              "       ['B', 'A', 'D', 'C'],\n",
              "       ['B', 'C', 'A', 'D'],\n",
              "       ['B', 'C', 'D', 'A'],\n",
              "       ['B', 'D', 'A', 'C'],\n",
              "       ['B', 'D', 'C', 'A'],\n",
              "       ['C', 'A', 'B', 'D'],\n",
              "       ['C', 'A', 'D', 'B'],\n",
              "       ['C', 'B', 'A', 'D'],\n",
              "       ['C', 'B', 'D', 'A'],\n",
              "       ['C', 'D', 'A', 'B'],\n",
              "       ['C', 'D', 'B', 'A'],\n",
              "       ['D', 'A', 'B', 'C'],\n",
              "       ['D', 'A', 'C', 'B'],\n",
              "       ['D', 'B', 'A', 'C'],\n",
              "       ['D', 'B', 'C', 'A'],\n",
              "       ['D', 'C', 'A', 'B'],\n",
              "       ['D', 'C', 'B', 'A']], dtype='<U1')"
            ]
          },
          "metadata": {},
          "execution_count": 30
        }
      ]
    },
    {
      "cell_type": "code",
      "source": [
        "cities = {\n",
        "\t\t'A':(2, 6),\n",
        "\t\t'B':(5, 8),\n",
        "\t\t'C':(8, 26),\n",
        "\t\t'D':(10, 32)\n",
        "\t}\n"
      ],
      "metadata": {
        "id": "1N8Ox849TE9b"
      },
      "execution_count": null,
      "outputs": []
    },
    {
      "cell_type": "code",
      "source": [
        "def _calc_distance_(tour):\n",
        "    for i, city in enumerate(tour):\n",
        "        j = 0 if(i+1) == len(tour) else i+1\n",
        "        \n"
      ],
      "metadata": {
        "id": "Qxo8qpJQU_r-"
      },
      "execution_count": null,
      "outputs": []
    },
    {
      "cell_type": "code",
      "source": [
        "from scipy.spatial import distance\n",
        "import math"
      ],
      "metadata": {
        "id": "l8Wyy4dgWvtv"
      },
      "execution_count": null,
      "outputs": []
    },
    {
      "cell_type": "code",
      "source": [
        "from matplotlib.mathtext import MathtextBackend\n",
        "def _calc_distance_(tour):\n",
        "    coordinates = list(cities.values())\n",
        "    dst = 0\n",
        "    for i in range(len(coordinates)):\n",
        "        j = 0 if i+1 == len(coordinates) else i+1\n",
        "        a, b = coordinates[i], coordinates[j]\n",
        "        dst += math.hypot(a[0]-b[0], a[1], b[1])\n",
        "    return dst\n"
      ],
      "metadata": {
        "id": "tFe37yi-V2Yr"
      },
      "execution_count": null,
      "outputs": []
    },
    {
      "cell_type": "code",
      "source": [
        "_calc_distance_(perm[-1])"
      ],
      "metadata": {
        "colab": {
          "base_uri": "https://localhost:8080/"
        },
        "id": "8_pUhVFSV8VT",
        "outputId": "8a99b8a5-0b3a-4197-99b7-0096488dd084"
      },
      "execution_count": null,
      "outputs": [
        {
          "output_type": "execute_result",
          "data": {
            "text/plain": [
              "112.61381498529958"
            ]
          },
          "metadata": {},
          "execution_count": 45
        }
      ]
    },
    {
      "cell_type": "code",
      "source": [
        "a = np.array([1, 2, 3])\n",
        "print(np.linalg.norm(a))"
      ],
      "metadata": {
        "id": "zJtNEef4Yau_"
      },
      "execution_count": null,
      "outputs": []
    },
    {
      "cell_type": "code",
      "source": [
        "perm"
      ],
      "metadata": {
        "colab": {
          "base_uri": "https://localhost:8080/"
        },
        "id": "Q-W1IuKrZEUI",
        "outputId": "2100f206-b88a-4b80-b36a-4f9b22ecdb47"
      },
      "execution_count": null,
      "outputs": [
        {
          "output_type": "execute_result",
          "data": {
            "text/plain": [
              "array([['A', 'B', 'C', 'D'],\n",
              "       ['A', 'B', 'D', 'C'],\n",
              "       ['A', 'C', 'B', 'D'],\n",
              "       ['A', 'C', 'D', 'B'],\n",
              "       ['A', 'D', 'B', 'C'],\n",
              "       ['A', 'D', 'C', 'B'],\n",
              "       ['B', 'A', 'C', 'D'],\n",
              "       ['B', 'A', 'D', 'C'],\n",
              "       ['B', 'C', 'A', 'D'],\n",
              "       ['B', 'C', 'D', 'A'],\n",
              "       ['B', 'D', 'A', 'C'],\n",
              "       ['B', 'D', 'C', 'A'],\n",
              "       ['C', 'A', 'B', 'D'],\n",
              "       ['C', 'A', 'D', 'B'],\n",
              "       ['C', 'B', 'A', 'D'],\n",
              "       ['C', 'B', 'D', 'A'],\n",
              "       ['C', 'D', 'A', 'B'],\n",
              "       ['C', 'D', 'B', 'A'],\n",
              "       ['D', 'A', 'B', 'C'],\n",
              "       ['D', 'A', 'C', 'B'],\n",
              "       ['D', 'B', 'A', 'C'],\n",
              "       ['D', 'B', 'C', 'A'],\n",
              "       ['D', 'C', 'A', 'B'],\n",
              "       ['D', 'C', 'B', 'A']], dtype='<U1')"
            ]
          },
          "metadata": {},
          "execution_count": 46
        }
      ]
    },
    {
      "cell_type": "code",
      "source": [
        "idxs= np.random.choice(np.arange(0, len(perm)), 50)\n",
        "idxs"
      ],
      "metadata": {
        "colab": {
          "base_uri": "https://localhost:8080/"
        },
        "id": "xV1nbTeVcXtb",
        "outputId": "ef153c52-4e20-431d-9682-03148f6604e4"
      },
      "execution_count": null,
      "outputs": [
        {
          "output_type": "execute_result",
          "data": {
            "text/plain": [
              "array([ 1, 23,  4, 11, 11, 21,  7, 18, 11, 14, 20, 13, 16, 21, 17, 19, 17,\n",
              "        2, 18, 21,  5, 18, 18,  6, 13, 10,  8, 13,  3,  2,  2,  9,  3, 22,\n",
              "        8,  4, 22,  8,  7,  1,  2, 19,  5, 18, 16,  2, 18,  0,  2, 23])"
            ]
          },
          "metadata": {},
          "execution_count": 51
        }
      ]
    },
    {
      "cell_type": "code",
      "source": [
        "perm[idxs]"
      ],
      "metadata": {
        "colab": {
          "base_uri": "https://localhost:8080/"
        },
        "id": "B3tlQpq5cqdH",
        "outputId": "fd13219e-8f30-4d34-e519-35beeda3a22e"
      },
      "execution_count": null,
      "outputs": [
        {
          "output_type": "execute_result",
          "data": {
            "text/plain": [
              "array([['A', 'B', 'D', 'C'],\n",
              "       ['D', 'C', 'B', 'A'],\n",
              "       ['A', 'D', 'B', 'C'],\n",
              "       ['B', 'D', 'C', 'A'],\n",
              "       ['B', 'D', 'C', 'A'],\n",
              "       ['D', 'B', 'C', 'A'],\n",
              "       ['B', 'A', 'D', 'C'],\n",
              "       ['D', 'A', 'B', 'C'],\n",
              "       ['B', 'D', 'C', 'A'],\n",
              "       ['C', 'B', 'A', 'D'],\n",
              "       ['D', 'B', 'A', 'C'],\n",
              "       ['C', 'A', 'D', 'B'],\n",
              "       ['C', 'D', 'A', 'B'],\n",
              "       ['D', 'B', 'C', 'A'],\n",
              "       ['C', 'D', 'B', 'A'],\n",
              "       ['D', 'A', 'C', 'B'],\n",
              "       ['C', 'D', 'B', 'A'],\n",
              "       ['A', 'C', 'B', 'D'],\n",
              "       ['D', 'A', 'B', 'C'],\n",
              "       ['D', 'B', 'C', 'A'],\n",
              "       ['A', 'D', 'C', 'B'],\n",
              "       ['D', 'A', 'B', 'C'],\n",
              "       ['D', 'A', 'B', 'C'],\n",
              "       ['B', 'A', 'C', 'D'],\n",
              "       ['C', 'A', 'D', 'B'],\n",
              "       ['B', 'D', 'A', 'C'],\n",
              "       ['B', 'C', 'A', 'D'],\n",
              "       ['C', 'A', 'D', 'B'],\n",
              "       ['A', 'C', 'D', 'B'],\n",
              "       ['A', 'C', 'B', 'D'],\n",
              "       ['A', 'C', 'B', 'D'],\n",
              "       ['B', 'C', 'D', 'A'],\n",
              "       ['A', 'C', 'D', 'B'],\n",
              "       ['D', 'C', 'A', 'B'],\n",
              "       ['B', 'C', 'A', 'D'],\n",
              "       ['A', 'D', 'B', 'C'],\n",
              "       ['D', 'C', 'A', 'B'],\n",
              "       ['B', 'C', 'A', 'D'],\n",
              "       ['B', 'A', 'D', 'C'],\n",
              "       ['A', 'B', 'D', 'C'],\n",
              "       ['A', 'C', 'B', 'D'],\n",
              "       ['D', 'A', 'C', 'B'],\n",
              "       ['A', 'D', 'C', 'B'],\n",
              "       ['D', 'A', 'B', 'C'],\n",
              "       ['C', 'D', 'A', 'B'],\n",
              "       ['A', 'C', 'B', 'D'],\n",
              "       ['D', 'A', 'B', 'C'],\n",
              "       ['A', 'B', 'C', 'D'],\n",
              "       ['A', 'C', 'B', 'D'],\n",
              "       ['D', 'C', 'B', 'A']], dtype='<U1')"
            ]
          },
          "metadata": {},
          "execution_count": 52
        }
      ]
    },
    {
      "cell_type": "code",
      "source": [
        "def _generate_init_():\n",
        "    global cities\n",
        "    _cities = list(cities.keys())\n",
        "    perm = np.array(list(permutations(_cities)))\n",
        "    idxs =  np.random.choice(np.arange(0, len(perm)) \\\n",
        "        , 50)\n",
        "    print(idxs)\n",
        "    pop = perm[idxs]\n",
        "    return pop"
      ],
      "metadata": {
        "id": "Q_C8zl5McgCf"
      },
      "execution_count": null,
      "outputs": []
    },
    {
      "cell_type": "code",
      "source": [
        "_generate_init_()"
      ],
      "metadata": {
        "colab": {
          "base_uri": "https://localhost:8080/"
        },
        "id": "M7xxyPIFdiLA",
        "outputId": "efc505fa-f67d-4cda-92f1-b7f30fb58532"
      },
      "execution_count": null,
      "outputs": [
        {
          "output_type": "stream",
          "name": "stdout",
          "text": [
            "[10 20 11  4  6  4 15 20  3 12  4 20  8 14 15 20  3 23 15 13 21 21 16 17\n",
            "  5  9  3  0  5  0 17 18  4  2 16  3  2 10 13 16  7 21  9  0 10 18 11 23\n",
            "  2  2]\n"
          ]
        },
        {
          "output_type": "execute_result",
          "data": {
            "text/plain": [
              "array([['B', 'D', 'A', 'C'],\n",
              "       ['D', 'B', 'A', 'C'],\n",
              "       ['B', 'D', 'C', 'A'],\n",
              "       ['A', 'D', 'B', 'C'],\n",
              "       ['B', 'A', 'C', 'D'],\n",
              "       ['A', 'D', 'B', 'C'],\n",
              "       ['C', 'B', 'D', 'A'],\n",
              "       ['D', 'B', 'A', 'C'],\n",
              "       ['A', 'C', 'D', 'B'],\n",
              "       ['C', 'A', 'B', 'D'],\n",
              "       ['A', 'D', 'B', 'C'],\n",
              "       ['D', 'B', 'A', 'C'],\n",
              "       ['B', 'C', 'A', 'D'],\n",
              "       ['C', 'B', 'A', 'D'],\n",
              "       ['C', 'B', 'D', 'A'],\n",
              "       ['D', 'B', 'A', 'C'],\n",
              "       ['A', 'C', 'D', 'B'],\n",
              "       ['D', 'C', 'B', 'A'],\n",
              "       ['C', 'B', 'D', 'A'],\n",
              "       ['C', 'A', 'D', 'B'],\n",
              "       ['D', 'B', 'C', 'A'],\n",
              "       ['D', 'B', 'C', 'A'],\n",
              "       ['C', 'D', 'A', 'B'],\n",
              "       ['C', 'D', 'B', 'A'],\n",
              "       ['A', 'D', 'C', 'B'],\n",
              "       ['B', 'C', 'D', 'A'],\n",
              "       ['A', 'C', 'D', 'B'],\n",
              "       ['A', 'B', 'C', 'D'],\n",
              "       ['A', 'D', 'C', 'B'],\n",
              "       ['A', 'B', 'C', 'D'],\n",
              "       ['C', 'D', 'B', 'A'],\n",
              "       ['D', 'A', 'B', 'C'],\n",
              "       ['A', 'D', 'B', 'C'],\n",
              "       ['A', 'C', 'B', 'D'],\n",
              "       ['C', 'D', 'A', 'B'],\n",
              "       ['A', 'C', 'D', 'B'],\n",
              "       ['A', 'C', 'B', 'D'],\n",
              "       ['B', 'D', 'A', 'C'],\n",
              "       ['C', 'A', 'D', 'B'],\n",
              "       ['C', 'D', 'A', 'B'],\n",
              "       ['B', 'A', 'D', 'C'],\n",
              "       ['D', 'B', 'C', 'A'],\n",
              "       ['B', 'C', 'D', 'A'],\n",
              "       ['A', 'B', 'C', 'D'],\n",
              "       ['B', 'D', 'A', 'C'],\n",
              "       ['D', 'A', 'B', 'C'],\n",
              "       ['B', 'D', 'C', 'A'],\n",
              "       ['D', 'C', 'B', 'A'],\n",
              "       ['A', 'C', 'B', 'D'],\n",
              "       ['A', 'C', 'B', 'D']], dtype='<U1')"
            ]
          },
          "metadata": {},
          "execution_count": 81
        }
      ]
    },
    {
      "cell_type": "code",
      "source": [
        "def crossover(parent1, parent2):\n",
        "    idx = np.random.randint(parent1.size())\n",
        "    child1 = parent1\n",
        "    child1."
      ],
      "metadata": {
        "id": "_4UmYsFld69T"
      },
      "execution_count": null,
      "outputs": []
    },
    {
      "cell_type": "code",
      "source": [
        "def _remove(arr1, arr2):\n",
        "    a = []\n",
        "    for i in arr1:\n",
        "        if i not in arr2:\n",
        "            a.append(i)\n",
        "    return np.array(a)"
      ],
      "metadata": {
        "id": "OCFGzcEjgjYE"
      },
      "execution_count": null,
      "outputs": []
    },
    {
      "cell_type": "code",
      "source": [
        "perm[-4], perm[-2]"
      ],
      "metadata": {
        "id": "py-y97jxhl4u",
        "outputId": "ced5308b-86a5-4b84-a57b-19b7ed300525",
        "colab": {
          "base_uri": "https://localhost:8080/"
        }
      },
      "execution_count": null,
      "outputs": [
        {
          "output_type": "execute_result",
          "data": {
            "text/plain": [
              "(array(['D', 'B', 'A', 'C'], dtype='<U1'),\n",
              " array(['D', 'C', 'A', 'B'], dtype='<U1'))"
            ]
          },
          "metadata": {},
          "execution_count": 87
        }
      ]
    },
    {
      "cell_type": "code",
      "source": [
        "_remove(perm[-4], perm[-2][:2])"
      ],
      "metadata": {
        "colab": {
          "base_uri": "https://localhost:8080/"
        },
        "id": "WTaXtcwlgmSG",
        "outputId": "1b8d4ec3-c09a-400a-8f94-6bae6bd4f09f"
      },
      "execution_count": null,
      "outputs": [
        {
          "output_type": "execute_result",
          "data": {
            "text/plain": [
              "array(['B', 'A'], dtype='<U1')"
            ]
          },
          "metadata": {},
          "execution_count": 86
        }
      ]
    },
    {
      "cell_type": "code",
      "source": [
        "!ls"
      ],
      "metadata": {
        "id": "TuZJ3zauhf5f",
        "colab": {
          "base_uri": "https://localhost:8080/"
        },
        "outputId": "80b42c42-1aa4-4f04-daac-476a40593961"
      },
      "execution_count": null,
      "outputs": [
        {
          "output_type": "stream",
          "name": "stdout",
          "text": [
            "sample_data  TSP_test.py\n"
          ]
        }
      ]
    },
    {
      "cell_type": "code",
      "source": [
        "!python3 TSP_test.py"
      ],
      "metadata": {
        "colab": {
          "base_uri": "https://localhost:8080/"
        },
        "id": "vnYko7NT0Ctp",
        "outputId": "ba21fcdb-8ca9-49c7-e765-4645b8eb880a"
      },
      "execution_count": null,
      "outputs": [
        {
          "output_type": "stream",
          "name": "stdout",
          "text": [
            "^C\n"
          ]
        }
      ]
    },
    {
      "cell_type": "code",
      "source": [
        "!pip install --upgrade numba"
      ],
      "metadata": {
        "colab": {
          "base_uri": "https://localhost:8080/"
        },
        "id": "vazs-nXU-Sul",
        "outputId": "bc69692d-efad-4be0-8183-4adf9009498e"
      },
      "execution_count": null,
      "outputs": [
        {
          "output_type": "stream",
          "name": "stdout",
          "text": [
            "Looking in indexes: https://pypi.org/simple, https://us-python.pkg.dev/colab-wheels/public/simple/\n",
            "Requirement already satisfied: numba in /usr/local/lib/python3.9/dist-packages (0.56.4)\n",
            "Requirement already satisfied: numpy<1.24,>=1.18 in /usr/local/lib/python3.9/dist-packages (from numba) (1.22.4)\n",
            "Requirement already satisfied: setuptools in /usr/local/lib/python3.9/dist-packages (from numba) (67.6.1)\n",
            "Requirement already satisfied: llvmlite<0.40,>=0.39.0dev0 in /usr/local/lib/python3.9/dist-packages (from numba) (0.39.1)\n"
          ]
        }
      ]
    },
    {
      "cell_type": "code",
      "source": [
        "def nearest_neighbor(cities, coordinates):\n",
        "    cities = list(cities)\n",
        "    start_city = np.random.choice(cities)\n",
        "    tour = [start_city]\n",
        "    unvisited_cities = set(cities) - set(tour)\n",
        "\n",
        "    while unvisited_cities:\n",
        "        nearest_city = min(unvisited_cities, key=lambda city: TSP.euclidean_distance(coordinates[cities.index(tour[-1])], coordinates[cities.index(city)]))\n",
        "        tour.append(nearest_city)\n",
        "        unvisited_cities.remove(nearest_city)\n",
        "\n",
        "    return np.array(tour)"
      ],
      "metadata": {
        "id": "dnppYPfl5mOc"
      },
      "execution_count": null,
      "outputs": []
    },
    {
      "cell_type": "code",
      "source": [
        "def random_tours(cities):\n",
        "    cities = list(cities)\n",
        "    start_city = np.random.choice(cities)\n",
        "    cities.remove(start_city)\n",
        "    np.random.shuffle(cities)\n",
        "    return np.concatenate(([start_city], cities))"
      ],
      "metadata": {
        "id": "rRobCNC3gx7c"
      },
      "execution_count": 1,
      "outputs": []
    },
    {
      "cell_type": "code",
      "source": [
        "cities = np.array(['A', 'B', 'C', 'D'])\n",
        "coordinates = np.array(list(map(np.array, [(2,6), (5, 16), (8,32), (2, 24)])))"
      ],
      "metadata": {
        "id": "-thYSplhZCEi"
      },
      "execution_count": null,
      "outputs": []
    },
    {
      "cell_type": "code",
      "source": [
        "nearest_neighbor(cities, coordinates)"
      ],
      "metadata": {
        "colab": {
          "base_uri": "https://localhost:8080/"
        },
        "id": "3zurhx_zZLsV",
        "outputId": "75ecd96c-1092-4754-8d1d-e185cb6d0700"
      },
      "execution_count": null,
      "outputs": [
        {
          "output_type": "execute_result",
          "data": {
            "text/plain": [
              "array(['D', 'B', 'A', 'C'], dtype='<U1')"
            ]
          },
          "metadata": {},
          "execution_count": 74
        }
      ]
    },
    {
      "cell_type": "code",
      "source": [
        "random_tours(cities)"
      ],
      "metadata": {
        "colab": {
          "base_uri": "https://localhost:8080/"
        },
        "id": "AlfvpFN9g4LZ",
        "outputId": "ecbff448-0f1b-4b63-ab5f-a3a0ba7abff6"
      },
      "execution_count": null,
      "outputs": [
        {
          "output_type": "execute_result",
          "data": {
            "text/plain": [
              "array(['A', 'B', 'D', 'C'], dtype='<U1')"
            ]
          },
          "metadata": {},
          "execution_count": 79
        }
      ]
    },
    {
      "cell_type": "code",
      "source": [
        "TSP._calc_distance_(nearest_neighbor(cities, coordinates), cities, coordinates)"
      ],
      "metadata": {
        "colab": {
          "base_uri": "https://localhost:8080/"
        },
        "id": "lAdb_x6XaHVx",
        "outputId": "98468161-9df2-42d3-f7a8-639b284214b0"
      },
      "execution_count": null,
      "outputs": [
        {
          "output_type": "stream",
          "name": "stdout",
          "text": [
            "[0] [1]\n",
            "[1] [3]\n",
            "[3] [2]\n",
            "[2] [0]\n"
          ]
        },
        {
          "output_type": "execute_result",
          "data": {
            "text/plain": [
              "55.667638382480746"
            ]
          },
          "metadata": {},
          "execution_count": 31
        }
      ]
    },
    {
      "cell_type": "code",
      "source": [
        "np.where(nearest_neighbor(cities, coordinates)=='A')[0][0]"
      ],
      "metadata": {
        "colab": {
          "base_uri": "https://localhost:8080/"
        },
        "id": "O2-0_hQzbMCF",
        "outputId": "e51ba2ee-4a6c-47ff-b67a-05234fc9bef1"
      },
      "execution_count": null,
      "outputs": [
        {
          "output_type": "execute_result",
          "data": {
            "text/plain": [
              "3"
            ]
          },
          "metadata": {},
          "execution_count": 28
        }
      ]
    },
    {
      "cell_type": "code",
      "source": [
        "def crossover(parent1, parent2):\n",
        "        idx = np.random.randint(parent1.size)\n",
        "        child1 = np.concatenate(np.delete(parent2[idx:], parent1[:idx], assume_unique=True)), parent1[:idx])\n",
        "        child2 = np.concatenate((parent2[:idx], np.intersect1d(parent1[idx:], parent2[:idx], assume_unique=True)))\n",
        "        return child1, child2"
      ],
      "metadata": {
        "id": "GWbLWfVv5HF6"
      },
      "execution_count": null,
      "outputs": []
    },
    {
      "cell_type": "code",
      "source": [
        "p1 = np.array(['A', 'C', 'D', 'B'])\n",
        "p2 = np.array(['D','A', 'B', 'C'])"
      ],
      "metadata": {
        "id": "A4m6eBJ9Yuj8"
      },
      "execution_count": null,
      "outputs": []
    },
    {
      "cell_type": "code",
      "source": [
        "crossover(p1, p2)"
      ],
      "metadata": {
        "colab": {
          "base_uri": "https://localhost:8080/"
        },
        "id": "W_fL6BJicMvR",
        "outputId": "787c794a-0fc9-4388-d718-8d3789ec6e68"
      },
      "execution_count": null,
      "outputs": [
        {
          "output_type": "execute_result",
          "data": {
            "text/plain": [
              "(array(['A', 'A'], dtype='<U1'), array(['D', 'D'], dtype='<U1'))"
            ]
          },
          "metadata": {},
          "execution_count": 40
        }
      ]
    },
    {
      "cell_type": "code",
      "source": [
        "np.concatenate((p1[:2], p2[2:]))"
      ],
      "metadata": {
        "colab": {
          "base_uri": "https://localhost:8080/"
        },
        "id": "0rdXZEf2cQQe",
        "outputId": "5f7f2a59-eb46-4501-90cb-20c3d224d7f3"
      },
      "execution_count": null,
      "outputs": [
        {
          "output_type": "execute_result",
          "data": {
            "text/plain": [
              "array(['A', 'C', 'B', 'C'], dtype='<U1')"
            ]
          },
          "metadata": {},
          "execution_count": 50
        }
      ]
    },
    {
      "cell_type": "code",
      "source": [
        "def _remove(arr1, arr2):\n",
        "    for i in arr2:\n",
        "        arr1 = np.delete(arr1, np.where(arr1==i)[0][0])\n",
        "    return arr1"
      ],
      "metadata": {
        "id": "4mU5BcRmc0Up"
      },
      "execution_count": null,
      "outputs": []
    },
    {
      "cell_type": "code",
      "source": [
        "_remove(p1, p2[:2])"
      ],
      "metadata": {
        "colab": {
          "base_uri": "https://localhost:8080/"
        },
        "id": "FJYIoFr_dxs4",
        "outputId": "73e65052-37df-4b5e-d544-8e0208d29c5a"
      },
      "execution_count": null,
      "outputs": [
        {
          "output_type": "execute_result",
          "data": {
            "text/plain": [
              "array(['C', 'B'], dtype='<U1')"
            ]
          },
          "metadata": {},
          "execution_count": 56
        }
      ]
    },
    {
      "cell_type": "code",
      "source": [
        "\n",
        "def plot_tour(best_tour, cities, coordinates, iteration):\n",
        "    plt.figure(figsize=(8, 8))\n",
        "    plt.scatter(coordinates[:, 0], coordinates[:, 1], s=100, alpha=0.5)\n",
        "    for i, city in enumerate(cities):\n",
        "        plt.annotate(city, (coordinates[i, 0], coordinates[i, 1]), fontsize=12)\n",
        "    for i in range(len(best_tour)):\n",
        "        if i == len(best_tour) - 1:\n",
        "            plt.plot([coordinates[best_tour[i]-1, 0], coordinates[best_tour[0]-1, 0]], [coordinates[best_tour[i]-1, 1], coordinates[best_tour[0]-1, 1]], 'r-', linewidth=2)\n",
        "        else:\n",
        "            plt.plot([coordinates[best_tour[i]-1, 0], coordinates[best_tour[i+1]-1, 0]], [coordinates[best_tour[i]-1, 1], coordinates[best_tour[i+1]-1, 1]], 'r-', linewidth=2)\n",
        "    plt.title(f'Best Tour (Iteration {iteration})')\n",
        "    plt.show()"
      ],
      "metadata": {
        "id": "9niwIi2VpIPb"
      },
      "execution_count": null,
      "outputs": []
    },
    {
      "cell_type": "code",
      "source": [
        "citie = {\n",
        "    'A':(2, 6),\n",
        "    'B':(10, 8),\n",
        "    'C':(8, 26),\n",
        "    'D':(10, 32),\n",
        "    'E':(2, 6),\n",
        "    'F':(1, 8),\n",
        "    'G':(8, 26),\n",
        "    'H':(1, 2),\n",
        "    'I':(2, 12),\n",
        "    'J':(10, 6),\n",
        "    'K':(8, 6),\n",
        "    'L':(1, 3)\n",
        "}\n",
        "cities = np.array(list(citie.keys()))\n",
        "coordinates = np.array(list(map(np.array, list(citie.values()))))"
      ],
      "metadata": {
        "id": "9Zc7fHmC5BOq"
      },
      "execution_count": null,
      "outputs": []
    },
    {
      "cell_type": "code",
      "source": [
        "import string\n",
        "\n",
        "def generate_cities(num_cities, x_range, y_range):\n",
        "    cities = np.array(list((string.ascii_uppercase+string.ascii_lowercase)[:num_cities]))\n",
        "    x_coords = np.random.uniform(x_range[0], x_range[1], size=num_cities)\n",
        "    y_coords = np.random.uniform(y_range[0], y_range[1], size=num_cities)\n",
        "    coordinates = np.column_stack((x_coords, y_coords))\n",
        "    return cities, coordinates"
      ],
      "metadata": {
        "id": "aYj8OBC0h4yX"
      },
      "execution_count": 3,
      "outputs": []
    },
    {
      "cell_type": "code",
      "source": [
        "import numpy as np\n",
        "import matplotlib.pyplot as plt\n",
        "from matplotlib.animation import FuncAnimation\n",
        "from tqdm.auto import tqdm\n",
        "import time\n",
        "from IPython.display import HTML\n",
        "\n",
        "\n",
        "# class for solving TSP using GA\n",
        "# caching tours for improving performance\n",
        "class TSP:\n",
        "\n",
        "    def __init__(self,\n",
        "        cities: 'np.ndarray',\n",
        "        coordinates: 'np.ndarray',\n",
        "        num_pop: 'int' = 50,\n",
        "        selection_method: 'str' = 'tournament',\n",
        "        tournament_size: 'int' = 3,\n",
        "        mutation_rate: 'int' = 0.1,\n",
        "        mutation_method: 'str' = 'swap',\n",
        "        crossover_prob: 'int' = 0.85,\n",
        "        elitism: 'bool' = True):\n",
        "\n",
        "        self.cities = cities\n",
        "        self.coordinates = coordinates\n",
        "        self.num_pop = num_pop\n",
        "        self.selection_method = selection_method\n",
        "        self.tournament_size = tournament_size\n",
        "        self.mutation_rate = mutation_rate\n",
        "        self.mutation_method = mutation_method\n",
        "        self.crossover_probability = crossover_prob\n",
        "        self.elitism = elitism\n",
        "\n",
        "        self.pop = None\n",
        "        self._fitness = None\n",
        "        self.best_pop = None\n",
        "        self.best_fitness = None\n",
        "        self.history = []\n",
        "\n",
        "        self.tour_cache = dict()\n",
        "\n",
        "    def _generate_init_(self):\n",
        "        self.pop = np.array([random_tours(self.cities) for _ in range(self.num_pop)])\n",
        "        return self.pop\n",
        "\n",
        "    def fitness(self):\n",
        "        self._fitness = np.array([self._calc_distance_(city) for city in self.pop])\n",
        "        return self._fitness\n",
        "\n",
        "    @staticmethod\n",
        "    def _remove(arr1, arr2):\n",
        "        for i in arr2:\n",
        "            arr1 = np.delete(arr1, np.where(arr1==i)[0][0])\n",
        "        return arr1\n",
        "\n",
        "    @staticmethod\n",
        "    def euclidean_distance(point1, point2):\n",
        "        return np.sqrt(np.sum((point1 - point2)**2))\n",
        "\n",
        "    def _calc_distance_(self, tour):\n",
        "        if tuple(tour) in self.tour_cache:\n",
        "            return self.tour_cache[tuple(tour)]\n",
        "        dst = 0\n",
        "        for i, city in enumerate((tour)):\n",
        "            j = 0 if i+1 == len(tour) else i+1\n",
        "            idx1 = np.where(self.cities == city)[0][0]\n",
        "            idx2 = np.where(self.cities == tour[j])[0][0]\n",
        "            a, b = self.coordinates[idx1], self.coordinates[idx2]\n",
        "            dst += np.sqrt(np.sum((a - b)**2))\n",
        "        # add distance from last city to first city\n",
        "        idx1 = np.where(self.cities == tour[-1])[0][0]\n",
        "        idx2 = np.where(self.cities == tour[0])[0][0]\n",
        "        a, b = self.coordinates[idx1], self.coordinates[idx2]\n",
        "        dst += np.sqrt(np.sum((a - b)**2))\n",
        "        self.tour_cache[tuple(tour)] = dst\n",
        "        return dst\n",
        "\n",
        "    # Define the roulette wheel selection method\n",
        "    def roulette_wheel_selection(self, fitness):\n",
        "        total_fitness = np.sum(fitness)\n",
        "        selection_probs = fitness / total_fitness\n",
        "        selected_idx = np.random.choice(np.arange(self.num_pop), p=selection_probs)\n",
        "        return self.pop[selected_idx]\n",
        "\n",
        "    # Define the tournament selection method\n",
        "    def tournament_selection(self, fitness):\n",
        "        # tournament_size = int(self.num_pop * 0.1)\n",
        "        selected_idx = np.random.choice(np.arange(self.num_pop), size=self.tournament_size, replace=False)\n",
        "        tournament_fitness = fitness[selected_idx]\n",
        "        return self.pop[selected_idx[np.argmax(tournament_fitness)]]\n",
        "\n",
        "    # Define the rank based selection method\n",
        "    def rank_based_selection(fitness, num_parents):\n",
        "        ranked_fitness = np.argsort(np.argsort(-fitness)) # rank fitness in descending order\n",
        "        selection_prob = ranked_fitness / np.sum(ranked_fitness) # calculate selection probabilities\n",
        "        selected_indices = np.random.choices(range(len(fitness)), selection_prob, k=num_parents) # select indices based on probabilities\n",
        "        return selected_indices\n",
        "    \n",
        "    # Define the selection function\n",
        "    def selection(self, fitness):\n",
        "        if self.selection_method == 'roulette_wheel':\n",
        "            # Roulette wheel selection\n",
        "            parent1 = self.roulette_wheel_selection(fitness)\n",
        "            parent2 = self.roulette_wheel_selection(fitness)\n",
        "        elif self.selection_method == 'tournament':\n",
        "            # Tournament selection\n",
        "            parent1 = self.tournament_selection(fitness)\n",
        "            parent2 = self.tournament_selection(fitness)\n",
        "        elif self.selection_method == \"rank_based\":\n",
        "            parent1, parent2 = self.pop[self.rank_based_selection(fitness, 2)]\n",
        "        else:\n",
        "            raise ValueError('Invalid selection method selected!')\n",
        "        return parent1, parent2\n",
        "\n",
        "    def crossover(self, parent1, parent2):\n",
        "        idx = np.random.randint(parent1.size)\n",
        "        child1 = np.concatenate((parent1[:idx], TSP._remove(parent2, parent1[:idx])))\n",
        "        child2 = np.concatenate((parent2[:idx], TSP._remove(parent1, parent2[:idx])))\n",
        "        return child1, child2\n",
        "\n",
        "\n",
        "    def mutate(self, tour):\n",
        "        if np.random.rand() < self.mutation_rate:\n",
        "            if self.mutation_method == 'swap':\n",
        "                return self.swap_mutation(tour)\n",
        "            elif self.mutation_method == 'scramble':\n",
        "                return self.scramble_mutation(tour)\n",
        "            elif self.mutation_method == 'inversion':\n",
        "                return self.inversion_mutation(tour)\n",
        "            elif self.mutation_method == 'insertion':\n",
        "                return self.insertion_mutation(tour)\n",
        "        return tour\n",
        "\n",
        "    \n",
        "    def swap_mutation(self, tour):\n",
        "        # choose two random cities to swap\n",
        "        idx1, idx2 = np.random.choice(range(tour.size), size=2, replace=False)\n",
        "        tour[idx1], tour[idx2] = tour[idx2], tour[idx1]\n",
        "        return tour\n",
        "    \n",
        "    def scramble_mutation(self, tour):\n",
        "        # choose two random indices to represent the boundaries of the sub-tour to scramble\n",
        "        idx1, idx2 = np.random.choice(range(tour.size), size=2, replace=False)\n",
        "        # make sure idx1 < idx2\n",
        "        if idx1 > idx2:\n",
        "            idx1, idx2 = idx2, idx1\n",
        "        # randomly shuffle the sub-tour\n",
        "        sub_tour = tour[idx1:idx2+1]\n",
        "        np.random.shuffle(sub_tour)\n",
        "        tour[idx1:idx2+1] = sub_tour\n",
        "        return tour\n",
        "\n",
        "    def inversion_mutation(self, tour):\n",
        "        # choose two random indices to represent the boundaries of the sub-tour to invert\n",
        "        idx1, idx2 = np.random.choice(range(tour.size), size=2, replace=False)\n",
        "        # make sure idx1 < idx2\n",
        "        if idx1 > idx2:\n",
        "            idx1, idx2 = idx2, idx1\n",
        "        # invert the sub-tour\n",
        "        sub_tour = tour[idx1:idx2+1][::-1]\n",
        "        tour[idx1:idx2+1] = sub_tour\n",
        "        return tour\n",
        "\n",
        "    def insertion_mutation(self, tour):\n",
        "        # choose two random indices to represent the city to insert and its new position\n",
        "        idx1, idx2 = np.random.choice(range(tour.size), size=2, replace=False)\n",
        "        # remove the city from its original position and insert it into its new position\n",
        "        city = tour[idx1]\n",
        "        tour = np.delete(tour, idx1)\n",
        "        tour = np.insert(tour, idx2, city)\n",
        "        return tour\n",
        "    \n",
        "    # Define the plot history function\n",
        "    def plot_history(self):\n",
        "        x = np.arange(1, self.num_gen+1)\n",
        "        self.history = self.history[:self.num_gen]\n",
        "        plt.plot(x, self.history)\n",
        "        plt.xlabel(\"number of generations\")\n",
        "        plt.ylabel(\"history\")\n",
        "        plt.title(\"Convergence History\")\n",
        "        plt.plot(np.ones(x.shape)*x[np.argmin(self.history)], self.history)\n",
        "        minima = np.array([x[np.argmin(self.history)], np.min(self.history)])\n",
        "        plt.annotate(f'Best Solution {np.argmin(self.history)+1}', xy=minima+0.1, xytext=minima+0.5)\n",
        "        plt.legend([\"fitness\", \"best soution\"])\n",
        "        plt.savefig(f'ch_tsp_{time.strftime(\"%a_%d_%b_%Y_%H_%M_%S\")}.png', dpi=250, format='png')\n",
        "        # plt.pause(10)     # not requires in jupyter notebook\n",
        "\n",
        "\n",
        "    def evolve(self, generations, anim=False):\n",
        "        self._generate_init_()\n",
        "        self.num_gen = generations\n",
        "        self.fitness()\n",
        "        self.best_pop = self.pop[np.argmin(self._fitness)]\n",
        "        self.best_fitness = np.min(self._fitness)\n",
        "\n",
        "        fig, ax = plt.subplots(figsize=(8, 8))\n",
        "        ax.scatter(self.coordinates[:, 0], self.coordinates[:, 1], s=100, alpha=0.5)\n",
        "        for i, city in enumerate(self.cities):\n",
        "            ax.annotate(city, (self.coordinates[i, 0], self.coordinates[i, 1]), fontsize=12)\n",
        "        line, = ax.plot([], [], 'r-', linewidth=2)\n",
        "        title = ax.set_title(f'Best Tour (Iteration 0)')\n",
        "\n",
        "        def update_plot(i):\n",
        "            new_pop = []\n",
        "\n",
        "            if self.elitism:\n",
        "                new_pop.append(self.best_pop)\n",
        "                new_pop.append(self.best_pop)\n",
        "            for j in range(self.num_pop // 2 - int(self.elitism)):\n",
        "                parent1, parent2 = self.selection(-self._fitness)\n",
        "\n",
        "                child1, child2 = parent1, parent2\n",
        "\n",
        "                if np.random.rand() < self.crossover_probability:\n",
        "                    child1, child2 = self.crossover(parent1, parent2)\n",
        "\n",
        "                child1 = self.mutate(child1)\n",
        "                child2 = self.mutate(child2)\n",
        "                new_pop.append(child1)\n",
        "                new_pop.append(child2)\n",
        "\n",
        "            self.pop = np.array(new_pop)\n",
        "\n",
        "            self.fitness()\n",
        "            current_best = self.pop[np.argmin(self._fitness)]\n",
        "\n",
        "            if(self._calc_distance_(current_best) < self._calc_distance_(self.best_pop)):\n",
        "                self.best_pop = current_best\n",
        "                self.best_fitness = np.min(self._fitness)\n",
        "            \n",
        "            self.history.append(self.best_fitness)\n",
        "\n",
        "            best_pop_indices = np.array([np.where(self.cities == city)[0][0] for city in self.best_pop])\n",
        "            # add the last edge from the last city to the first city\n",
        "            best_pop_indices = np.append(best_pop_indices, best_pop_indices[0])\n",
        "            line.set_data(self.coordinates[best_pop_indices][:, 0], self.coordinates[best_pop_indices][:, 1])\n",
        "            title.set_text(f'Best Tour (Iteration {i+1}): {self.history[-1]}')\n",
        "            print(f\"Iteration {i+1}: Tour: {list(self.best_pop)}, Distance: {self.history[-1]}\")\n",
        "            return line, title\n",
        "\n",
        "        if anim:\n",
        "            anima = FuncAnimation(fig, update_plot, frames=generations, interval=200, blit=True)\n",
        "            anima.save('tsp.gif', writer='imagemagick')\n",
        "            # plt.show()\n",
        "        else:\n",
        "            for i in tqdm(range(generations)):\n",
        "                update_plot(i)\n",
        "                print(f\"Iteration {i+1}: Tour: {list(self.best_pop)}, Distance: {self.best_fitness}\")\n",
        "\n",
        "        print(f\"Best Tour: {list(self.best_pop)}, Distance: {self.best_fitness}\")\n",
        "        # save the best tour as an image\n",
        "        fig, ax = plt.subplots(figsize=(8, 8))\n",
        "        ax.scatter(self.coordinates[:, 0], self.coordinates[:, 1], s=100, alpha=0.5)\n",
        "        for i, city in enumerate(self.cities):\n",
        "            ax.annotate(city, (self.coordinates[i, 0], self.coordinates[i, 1]), fontsize=12)\n",
        "        best_pop_indices = np.array([np.where(self.cities == city)[0][0] for city in self.best_pop])\n",
        "        # add the last edge from the last city to the first city\n",
        "        best_pop_indices = np.append(best_pop_indices, best_pop_indices[0])\n",
        "        ax.plot(self.coordinates[best_pop_indices][:, 0], self.coordinates[best_pop_indices][:, 1], 'r-', linewidth=2)\n",
        "        ax.set_title(f'Best Tour (Distance: {self.best_fitness})')\n",
        "        plt.savefig('best_tsp.jpg')\n",
        "        if anim:\n",
        "            return anima, self.best_pop\n",
        "        return self.best_pop"
      ],
      "metadata": {
        "id": "G0q_rdsJiraG"
      },
      "execution_count": 53,
      "outputs": []
    },
    {
      "cell_type": "code",
      "source": [
        "coordinates = [(0,0),\n",
        "               (20,10),\n",
        "               (15,25),\n",
        "               (10,50),\n",
        "               (45,20),\n",
        "               (34,65),\n",
        "               (21,85),\n",
        "               (25,110),\n",
        "               (45,100),\n",
        "               (61,110),\n",
        "               (75,97),\n",
        "               (100,100),\n",
        "               (110,110),\n",
        "               (89,65),\n",
        "               (76,72),\n",
        "               (57,69),\n",
        "               (67,34),\n",
        "               (80,20),\n",
        "               (105,15),\n",
        "               (110,45)]\n",
        "\n",
        "cities, _ = generate_cities(len(coordinates), (-20, 20), (-40, 40))\n",
        "coordinates = np.array(list(map(np.array, coordinates)))"
      ],
      "metadata": {
        "id": "tmPmk0DAfnmH"
      },
      "execution_count": 26,
      "outputs": []
    },
    {
      "cell_type": "code",
      "source": [
        "tsp = TSP(cities, coordinates, selection_method='tournament', tournament_size=8, mutation_rate=0.5, mutation_method='inversion')\n",
        "ani, best_pop = tsp.evolve(100, anim=True)"
      ],
      "metadata": {
        "colab": {
          "base_uri": "https://localhost:8080/",
          "height": 1000
        },
        "id": "lN9aiBuJgZvB",
        "outputId": "cd08b62d-dd43-4a1a-9426-d10392419b44"
      },
      "execution_count": 54,
      "outputs": [
        {
          "output_type": "stream",
          "name": "stderr",
          "text": [
            "WARNING:matplotlib.animation:MovieWriter imagemagick unavailable; using Pillow instead.\n"
          ]
        },
        {
          "output_type": "stream",
          "name": "stdout",
          "text": [
            "Iteration 1: Tour: ['P', 'D', 'M', 'K', 'I', 'T', 'O', 'G', 'E', 'C', 'B', 'A', 'F', 'H', 'L', 'N', 'Q', 'R', 'J', 'S'], Distance: 1187.6481044834238\n",
            "Iteration 1: Tour: ['P', 'D', 'M', 'K', 'I', 'T', 'O', 'G', 'E', 'C', 'B', 'A', 'L', 'N', 'J', 'H', 'S', 'R', 'Q', 'F'], Distance: 1085.6283931758596\n",
            "Iteration 1: Tour: ['P', 'D', 'M', 'K', 'J', 'I', 'T', 'O', 'G', 'E', 'C', 'B', 'A', 'Q', 'N', 'L', 'H', 'F', 'R', 'S'], Distance: 1071.3115661804352\n",
            "Iteration 1: Tour: ['R', 'P', 'D', 'M', 'K', 'J', 'I', 'T', 'O', 'G', 'E', 'C', 'B', 'A', 'Q', 'N', 'L', 'H', 'F', 'S'], Distance: 1028.9253324024623\n",
            "Iteration 2: Tour: ['P', 'D', 'I', 'J', 'K', 'M', 'T', 'O', 'G', 'E', 'C', 'B', 'A', 'Q', 'N', 'L', 'H', 'F', 'S', 'R'], Distance: 981.8265175975262\n",
            "Iteration 3: Tour: ['R', 'P', 'D', 'M', 'K', 'J', 'I', 'T', 'O', 'G', 'E', 'C', 'B', 'A', 'Q', 'F', 'H', 'L', 'N', 'S'], Distance: 1001.8477901078218\n",
            "Iteration 4: Tour: ['R', 'P', 'D', 'M', 'K', 'J', 'I', 'T', 'Q', 'F', 'H', 'L', 'N', 'O', 'G', 'E', 'C', 'B', 'A', 'S'], Distance: 996.0158916775229\n",
            "Iteration 5: Tour: ['R', 'P', 'O', 'N', 'L', 'H', 'F', 'Q', 'T', 'I', 'J', 'K', 'M', 'D', 'G', 'E', 'C', 'B', 'A', 'S'], Distance: 944.728496368557\n",
            "Iteration 6: Tour: ['R', 'P', 'O', 'N', 'L', 'H', 'F', 'Q', 'T', 'I', 'J', 'K', 'M', 'D', 'G', 'E', 'C', 'B', 'A', 'S'], Distance: 944.728496368557\n",
            "Iteration 7: Tour: ['R', 'N', 'O', 'P', 'L', 'H', 'F', 'Q', 'A', 'B', 'C', 'E', 'G', 'D', 'M', 'K', 'J', 'I', 'T', 'S'], Distance: 907.9080865033123\n",
            "Iteration 8: Tour: ['R', 'N', 'M', 'K', 'J', 'I', 'T', 'Q', 'F', 'H', 'L', 'O', 'P', 'D', 'G', 'E', 'C', 'B', 'A', 'S'], Distance: 905.6506452906253\n",
            "Iteration 9: Tour: ['R', 'N', 'M', 'K', 'J', 'I', 'T', 'Q', 'P', 'O', 'L', 'H', 'F', 'D', 'G', 'E', 'C', 'B', 'A', 'S'], Distance: 874.3810450199644\n",
            "Iteration 10: Tour: ['R', 'N', 'M', 'P', 'G', 'D', 'F', 'H', 'L', 'O', 'K', 'J', 'I', 'T', 'Q', 'E', 'C', 'A', 'B', 'S'], Distance: 862.0435342318482\n",
            "Iteration 11: Tour: ['R', 'N', 'M', 'P', 'F', 'D', 'G', 'H', 'L', 'O', 'K', 'J', 'I', 'T', 'Q', 'E', 'C', 'A', 'B', 'S'], Distance: 825.4201402645306\n",
            "Iteration 12: Tour: ['R', 'N', 'M', 'P', 'F', 'D', 'G', 'H', 'L', 'O', 'K', 'J', 'I', 'T', 'Q', 'E', 'C', 'A', 'B', 'S'], Distance: 825.4201402645306\n",
            "Iteration 13: Tour: ['R', 'N', 'M', 'I', 'J', 'K', 'T', 'Q', 'P', 'O', 'L', 'H', 'G', 'D', 'F', 'A', 'B', 'C', 'E', 'S'], Distance: 817.979080582914\n",
            "Iteration 14: Tour: ['R', 'N', 'M', 'P', 'F', 'I', 'J', 'K', 'T', 'Q', 'O', 'L', 'H', 'G', 'D', 'A', 'B', 'C', 'E', 'S'], Distance: 812.0031852504782\n",
            "Iteration 15: Tour: ['R', 'N', 'O', 'P', 'L', 'M', 'I', 'J', 'K', 'T', 'Q', 'H', 'G', 'D', 'F', 'A', 'B', 'C', 'E', 'S'], Distance: 788.1273526746198\n",
            "Iteration 16: Tour: ['R', 'N', 'O', 'P', 'L', 'M', 'I', 'J', 'K', 'T', 'S', 'E', 'C', 'B', 'A', 'F', 'D', 'G', 'H', 'Q'], Distance: 761.3762344969241\n",
            "Iteration 17: Tour: ['R', 'N', 'O', 'P', 'L', 'M', 'I', 'J', 'K', 'T', 'Q', 'H', 'G', 'F', 'D', 'A', 'B', 'C', 'E', 'S'], Distance: 752.9280962982392\n",
            "Iteration 18: Tour: ['R', 'N', 'O', 'P', 'L', 'M', 'I', 'J', 'K', 'T', 'S', 'E', 'A', 'B', 'C', 'F', 'D', 'G', 'H', 'Q'], Distance: 751.1345907650094\n",
            "Iteration 19: Tour: ['R', 'P', 'O', 'N', 'L', 'M', 'I', 'J', 'K', 'T', 'Q', 'H', 'G', 'F', 'D', 'A', 'B', 'C', 'E', 'S'], Distance: 744.8448346196956\n",
            "Iteration 20: Tour: ['R', 'N', 'O', 'P', 'Q', 'T', 'K', 'J', 'I', 'M', 'L', 'H', 'G', 'F', 'D', 'A', 'B', 'C', 'E', 'S'], Distance: 725.1497689895857\n",
            "Iteration 21: Tour: ['R', 'N', 'O', 'P', 'L', 'M', 'I', 'J', 'K', 'H', 'G', 'D', 'F', 'C', 'B', 'A', 'E', 'S', 'T', 'Q'], Distance: 697.6667290584828\n",
            "Iteration 22: Tour: ['R', 'N', 'O', 'P', 'L', 'M', 'I', 'J', 'K', 'H', 'G', 'D', 'F', 'C', 'B', 'A', 'E', 'S', 'T', 'Q'], Distance: 697.6667290584828\n",
            "Iteration 23: Tour: ['R', 'P', 'O', 'N', 'L', 'M', 'I', 'J', 'K', 'H', 'G', 'D', 'F', 'C', 'B', 'A', 'E', 'S', 'T', 'Q'], Distance: 689.5834673799392\n",
            "Iteration 24: Tour: ['R', 'P', 'O', 'N', 'L', 'M', 'J', 'I', 'K', 'H', 'G', 'D', 'F', 'C', 'B', 'A', 'E', 'S', 'T', 'Q'], Distance: 683.8633888789294\n",
            "Iteration 25: Tour: ['R', 'P', 'O', 'N', 'L', 'M', 'J', 'I', 'K', 'H', 'G', 'D', 'F', 'C', 'B', 'A', 'E', 'S', 'T', 'Q'], Distance: 683.8633888789294\n",
            "Iteration 26: Tour: ['R', 'T', 'S', 'P', 'O', 'N', 'L', 'M', 'J', 'I', 'K', 'H', 'G', 'D', 'F', 'C', 'B', 'A', 'E', 'Q'], Distance: 662.5188850048241\n",
            "Iteration 27: Tour: ['R', 'P', 'O', 'N', 'L', 'M', 'J', 'I', 'K', 'H', 'G', 'F', 'D', 'C', 'B', 'A', 'E', 'S', 'T', 'Q'], Distance: 652.2411550239891\n",
            "Iteration 28: Tour: ['R', 'P', 'O', 'N', 'L', 'M', 'J', 'I', 'K', 'H', 'G', 'F', 'D', 'C', 'B', 'A', 'E', 'S', 'T', 'Q'], Distance: 652.2411550239891\n",
            "Iteration 29: Tour: ['R', 'T', 'S', 'P', 'O', 'N', 'L', 'M', 'J', 'I', 'K', 'H', 'G', 'F', 'D', 'C', 'B', 'A', 'E', 'Q'], Distance: 630.8966511498837\n",
            "Iteration 30: Tour: ['R', 'T', 'S', 'P', 'O', 'N', 'L', 'M', 'J', 'I', 'K', 'H', 'G', 'F', 'D', 'C', 'B', 'A', 'E', 'Q'], Distance: 630.8966511498837\n",
            "Iteration 31: Tour: ['R', 'T', 'S', 'P', 'O', 'N', 'M', 'L', 'J', 'K', 'I', 'H', 'G', 'F', 'D', 'C', 'B', 'A', 'E', 'Q'], Distance: 606.0645841174003\n",
            "Iteration 32: Tour: ['R', 'T', 'S', 'P', 'O', 'N', 'L', 'M', 'J', 'K', 'I', 'H', 'G', 'F', 'D', 'C', 'B', 'A', 'E', 'Q'], Distance: 601.8319764229532\n",
            "Iteration 33: Tour: ['R', 'T', 'S', 'P', 'O', 'N', 'L', 'M', 'J', 'K', 'I', 'H', 'G', 'F', 'D', 'C', 'B', 'A', 'E', 'Q'], Distance: 601.8319764229532\n",
            "Iteration 34: Tour: ['R', 'T', 'S', 'P', 'O', 'N', 'M', 'L', 'K', 'J', 'I', 'H', 'G', 'F', 'D', 'C', 'B', 'A', 'E', 'Q'], Distance: 579.7006318637843\n",
            "Iteration 35: Tour: ['R', 'T', 'S', 'P', 'O', 'N', 'M', 'L', 'K', 'J', 'I', 'H', 'G', 'F', 'D', 'C', 'B', 'A', 'E', 'Q'], Distance: 579.7006318637843\n",
            "Iteration 36: Tour: ['R', 'T', 'S', 'P', 'O', 'N', 'M', 'L', 'K', 'J', 'I', 'H', 'G', 'F', 'D', 'C', 'B', 'A', 'E', 'Q'], Distance: 579.7006318637843\n",
            "Iteration 37: Tour: ['R', 'T', 'S', 'P', 'O', 'N', 'M', 'L', 'K', 'J', 'I', 'H', 'G', 'F', 'D', 'C', 'B', 'A', 'E', 'Q'], Distance: 579.7006318637843\n",
            "Iteration 38: Tour: ['R', 'T', 'S', 'E', 'A', 'B', 'C', 'D', 'F', 'G', 'H', 'I', 'J', 'K', 'L', 'M', 'N', 'O', 'P', 'Q'], Distance: 577.982777110584\n",
            "Iteration 39: Tour: ['R', 'S', 'T', 'P', 'O', 'N', 'M', 'L', 'K', 'J', 'I', 'H', 'G', 'F', 'D', 'C', 'B', 'A', 'E', 'Q'], Distance: 552.0756664106166\n",
            "Iteration 40: Tour: ['R', 'S', 'T', 'P', 'O', 'N', 'M', 'L', 'K', 'J', 'I', 'H', 'G', 'F', 'D', 'C', 'B', 'A', 'E', 'Q'], Distance: 552.0756664106166\n",
            "Iteration 41: Tour: ['R', 'S', 'T', 'P', 'O', 'N', 'M', 'L', 'K', 'J', 'I', 'H', 'G', 'F', 'D', 'C', 'B', 'A', 'E', 'Q'], Distance: 552.0756664106166\n",
            "Iteration 42: Tour: ['R', 'S', 'T', 'P', 'O', 'N', 'M', 'L', 'K', 'J', 'I', 'H', 'G', 'F', 'D', 'C', 'B', 'A', 'E', 'Q'], Distance: 552.0756664106166\n",
            "Iteration 43: Tour: ['R', 'S', 'T', 'P', 'O', 'N', 'L', 'M', 'K', 'J', 'I', 'H', 'G', 'F', 'D', 'C', 'B', 'A', 'E', 'Q'], Distance: 551.261655775725\n",
            "Iteration 44: Tour: ['R', 'S', 'T', 'P', 'O', 'N', 'L', 'M', 'K', 'J', 'I', 'H', 'G', 'F', 'D', 'C', 'B', 'A', 'E', 'Q'], Distance: 551.261655775725\n",
            "Iteration 45: Tour: ['R', 'S', 'T', 'P', 'O', 'N', 'L', 'M', 'K', 'J', 'I', 'H', 'G', 'F', 'D', 'C', 'B', 'A', 'E', 'Q'], Distance: 551.261655775725\n",
            "Iteration 46: Tour: ['R', 'S', 'T', 'P', 'O', 'N', 'L', 'M', 'K', 'J', 'I', 'H', 'G', 'F', 'D', 'C', 'B', 'A', 'E', 'Q'], Distance: 551.261655775725\n",
            "Iteration 47: Tour: ['R', 'S', 'T', 'P', 'O', 'N', 'L', 'M', 'K', 'J', 'I', 'H', 'G', 'F', 'D', 'C', 'A', 'B', 'E', 'Q'], Distance: 542.2865619758015\n",
            "Iteration 48: Tour: ['R', 'S', 'T', 'N', 'O', 'P', 'L', 'M', 'K', 'J', 'I', 'H', 'G', 'F', 'D', 'C', 'B', 'A', 'E', 'Q'], Distance: 538.4024634116754\n",
            "Iteration 49: Tour: ['R', 'S', 'T', 'P', 'O', 'N', 'L', 'M', 'K', 'J', 'I', 'H', 'G', 'F', 'D', 'C', 'A', 'B', 'E', 'Q'], Distance: 542.2865619758015\n",
            "Iteration 50: Tour: ['R', 'S', 'T', 'N', 'O', 'P', 'L', 'M', 'K', 'J', 'I', 'H', 'G', 'F', 'D', 'C', 'A', 'B', 'E', 'Q'], Distance: 529.427369611752\n",
            "Iteration 51: Tour: ['R', 'S', 'T', 'P', 'O', 'N', 'L', 'M', 'K', 'J', 'I', 'H', 'G', 'F', 'D', 'C', 'A', 'B', 'E', 'Q'], Distance: 542.2865619758015\n",
            "Iteration 52: Tour: ['R', 'S', 'T', 'P', 'O', 'N', 'L', 'M', 'K', 'J', 'I', 'H', 'G', 'F', 'D', 'C', 'A', 'B', 'E', 'Q'], Distance: 542.2865619758015\n",
            "Iteration 53: Tour: ['R', 'S', 'T', 'P', 'O', 'N', 'L', 'M', 'K', 'J', 'I', 'H', 'G', 'F', 'D', 'C', 'A', 'B', 'E', 'Q'], Distance: 542.2865619758015\n",
            "Iteration 54: Tour: ['R', 'S', 'T', 'P', 'O', 'N', 'L', 'M', 'K', 'J', 'I', 'H', 'G', 'F', 'D', 'C', 'A', 'B', 'E', 'Q'], Distance: 542.2865619758015\n",
            "Iteration 55: Tour: ['R', 'S', 'T', 'P', 'O', 'N', 'L', 'M', 'K', 'J', 'I', 'H', 'G', 'F', 'D', 'C', 'A', 'B', 'E', 'Q'], Distance: 542.2865619758015\n",
            "Iteration 56: Tour: ['R', 'S', 'T', 'P', 'O', 'N', 'L', 'M', 'K', 'J', 'I', 'H', 'G', 'F', 'D', 'C', 'A', 'B', 'E', 'Q'], Distance: 542.2865619758015\n",
            "Iteration 57: Tour: ['R', 'S', 'T', 'P', 'O', 'N', 'L', 'M', 'K', 'J', 'I', 'H', 'G', 'F', 'D', 'C', 'A', 'B', 'E', 'Q'], Distance: 542.2865619758015\n",
            "Iteration 58: Tour: ['R', 'S', 'T', 'P', 'O', 'N', 'L', 'M', 'K', 'J', 'I', 'H', 'G', 'F', 'D', 'C', 'A', 'B', 'E', 'Q'], Distance: 542.2865619758015\n",
            "Iteration 59: Tour: ['R', 'S', 'T', 'P', 'O', 'N', 'L', 'M', 'K', 'J', 'I', 'H', 'G', 'F', 'D', 'C', 'A', 'B', 'E', 'Q'], Distance: 542.2865619758015\n",
            "Iteration 60: Tour: ['R', 'S', 'T', 'P', 'O', 'N', 'L', 'M', 'K', 'J', 'I', 'H', 'G', 'F', 'D', 'C', 'A', 'B', 'E', 'Q'], Distance: 542.2865619758015\n",
            "Iteration 61: Tour: ['R', 'S', 'T', 'N', 'O', 'P', 'L', 'M', 'K', 'J', 'I', 'H', 'G', 'F', 'D', 'C', 'A', 'B', 'E', 'Q'], Distance: 529.427369611752\n",
            "Iteration 62: Tour: ['R', 'S', 'T', 'N', 'O', 'P', 'L', 'M', 'K', 'J', 'I', 'H', 'G', 'F', 'D', 'C', 'A', 'B', 'E', 'Q'], Distance: 529.427369611752\n",
            "Iteration 63: Tour: ['R', 'S', 'T', 'N', 'O', 'P', 'L', 'M', 'K', 'J', 'I', 'H', 'G', 'F', 'D', 'C', 'A', 'B', 'E', 'Q'], Distance: 529.427369611752\n",
            "Iteration 64: Tour: ['R', 'S', 'T', 'N', 'O', 'P', 'L', 'M', 'K', 'J', 'I', 'H', 'G', 'F', 'D', 'C', 'A', 'B', 'E', 'Q'], Distance: 529.427369611752\n",
            "Iteration 65: Tour: ['R', 'S', 'T', 'N', 'O', 'P', 'L', 'M', 'K', 'J', 'I', 'H', 'G', 'F', 'D', 'C', 'A', 'B', 'E', 'Q'], Distance: 529.427369611752\n",
            "Iteration 66: Tour: ['R', 'S', 'T', 'N', 'O', 'P', 'L', 'M', 'K', 'J', 'I', 'H', 'G', 'F', 'D', 'C', 'A', 'B', 'E', 'Q'], Distance: 529.427369611752\n",
            "Iteration 67: Tour: ['R', 'S', 'T', 'N', 'O', 'P', 'L', 'M', 'K', 'J', 'I', 'H', 'G', 'F', 'D', 'C', 'A', 'B', 'E', 'Q'], Distance: 529.427369611752\n",
            "Iteration 68: Tour: ['R', 'S', 'T', 'N', 'O', 'P', 'L', 'M', 'K', 'J', 'I', 'H', 'G', 'F', 'D', 'C', 'A', 'B', 'E', 'Q'], Distance: 529.427369611752\n",
            "Iteration 69: Tour: ['R', 'S', 'T', 'N', 'O', 'P', 'L', 'M', 'K', 'J', 'I', 'H', 'G', 'F', 'D', 'C', 'A', 'B', 'E', 'Q'], Distance: 529.427369611752\n",
            "Iteration 70: Tour: ['R', 'S', 'T', 'N', 'O', 'P', 'L', 'M', 'K', 'J', 'I', 'H', 'G', 'F', 'D', 'C', 'A', 'B', 'E', 'Q'], Distance: 529.427369611752\n",
            "Iteration 71: Tour: ['R', 'S', 'T', 'N', 'O', 'P', 'L', 'M', 'K', 'J', 'I', 'H', 'G', 'F', 'D', 'C', 'A', 'B', 'E', 'Q'], Distance: 529.427369611752\n",
            "Iteration 72: Tour: ['R', 'S', 'T', 'N', 'O', 'P', 'L', 'M', 'K', 'J', 'I', 'H', 'G', 'F', 'D', 'C', 'A', 'B', 'E', 'Q'], Distance: 529.427369611752\n",
            "Iteration 73: Tour: ['R', 'S', 'T', 'N', 'O', 'P', 'L', 'M', 'K', 'J', 'I', 'H', 'G', 'F', 'D', 'C', 'A', 'B', 'E', 'Q'], Distance: 529.427369611752\n",
            "Iteration 74: Tour: ['R', 'S', 'T', 'N', 'O', 'P', 'L', 'M', 'K', 'J', 'I', 'H', 'G', 'F', 'D', 'C', 'A', 'B', 'E', 'Q'], Distance: 529.427369611752\n",
            "Iteration 75: Tour: ['R', 'S', 'T', 'N', 'O', 'P', 'L', 'M', 'K', 'J', 'I', 'H', 'G', 'F', 'D', 'C', 'A', 'B', 'E', 'Q'], Distance: 529.427369611752\n",
            "Iteration 76: Tour: ['R', 'S', 'T', 'N', 'O', 'P', 'K', 'L', 'M', 'J', 'I', 'H', 'G', 'F', 'D', 'C', 'A', 'B', 'E', 'Q'], Distance: 527.4426444874409\n",
            "Iteration 77: Tour: ['R', 'S', 'T', 'N', 'O', 'P', 'K', 'L', 'M', 'J', 'I', 'H', 'G', 'F', 'D', 'C', 'A', 'B', 'E', 'Q'], Distance: 527.4426444874409\n",
            "Iteration 78: Tour: ['R', 'S', 'T', 'N', 'O', 'P', 'K', 'L', 'M', 'J', 'I', 'H', 'G', 'F', 'D', 'C', 'A', 'B', 'E', 'Q'], Distance: 527.4426444874409\n",
            "Iteration 79: Tour: ['R', 'S', 'T', 'N', 'O', 'P', 'K', 'L', 'M', 'J', 'I', 'H', 'G', 'F', 'D', 'C', 'A', 'B', 'E', 'Q'], Distance: 527.4426444874409\n",
            "Iteration 80: Tour: ['R', 'S', 'T', 'N', 'O', 'P', 'K', 'L', 'M', 'J', 'I', 'H', 'G', 'F', 'D', 'C', 'A', 'B', 'E', 'Q'], Distance: 527.4426444874409\n",
            "Iteration 81: Tour: ['R', 'S', 'T', 'N', 'O', 'P', 'K', 'L', 'M', 'J', 'I', 'H', 'G', 'F', 'D', 'C', 'A', 'B', 'E', 'Q'], Distance: 527.4426444874409\n",
            "Iteration 82: Tour: ['R', 'S', 'T', 'N', 'O', 'P', 'K', 'L', 'M', 'J', 'I', 'H', 'G', 'F', 'D', 'C', 'A', 'B', 'E', 'Q'], Distance: 527.4426444874409\n",
            "Iteration 83: Tour: ['R', 'S', 'T', 'N', 'O', 'P', 'K', 'L', 'M', 'J', 'I', 'H', 'G', 'F', 'D', 'C', 'A', 'B', 'E', 'Q'], Distance: 527.4426444874409\n",
            "Iteration 84: Tour: ['R', 'S', 'T', 'N', 'O', 'P', 'K', 'L', 'M', 'J', 'I', 'H', 'G', 'F', 'D', 'C', 'A', 'B', 'E', 'Q'], Distance: 527.4426444874409\n",
            "Iteration 85: Tour: ['R', 'S', 'T', 'N', 'O', 'P', 'K', 'L', 'M', 'J', 'I', 'H', 'G', 'F', 'D', 'C', 'A', 'B', 'E', 'Q'], Distance: 527.4426444874409\n",
            "Iteration 86: Tour: ['R', 'S', 'T', 'N', 'O', 'P', 'K', 'L', 'M', 'J', 'I', 'H', 'G', 'F', 'D', 'C', 'A', 'B', 'E', 'Q'], Distance: 527.4426444874409\n",
            "Iteration 87: Tour: ['R', 'S', 'T', 'N', 'O', 'P', 'K', 'L', 'M', 'J', 'I', 'H', 'G', 'F', 'D', 'C', 'A', 'B', 'E', 'Q'], Distance: 527.4426444874409\n",
            "Iteration 88: Tour: ['R', 'S', 'T', 'N', 'O', 'P', 'K', 'L', 'M', 'J', 'I', 'H', 'G', 'F', 'D', 'C', 'A', 'B', 'E', 'Q'], Distance: 527.4426444874409\n",
            "Iteration 89: Tour: ['R', 'S', 'T', 'N', 'O', 'P', 'K', 'L', 'M', 'J', 'I', 'H', 'G', 'F', 'D', 'C', 'A', 'B', 'E', 'Q'], Distance: 527.4426444874409\n",
            "Iteration 90: Tour: ['R', 'S', 'T', 'N', 'O', 'P', 'K', 'L', 'M', 'J', 'I', 'H', 'G', 'F', 'D', 'C', 'A', 'B', 'E', 'Q'], Distance: 527.4426444874409\n",
            "Iteration 91: Tour: ['R', 'S', 'T', 'N', 'O', 'P', 'K', 'L', 'M', 'J', 'I', 'H', 'G', 'F', 'D', 'C', 'A', 'B', 'E', 'Q'], Distance: 527.4426444874409\n",
            "Iteration 92: Tour: ['R', 'S', 'T', 'N', 'O', 'P', 'K', 'L', 'M', 'J', 'I', 'H', 'G', 'F', 'D', 'C', 'A', 'B', 'E', 'Q'], Distance: 527.4426444874409\n",
            "Iteration 93: Tour: ['R', 'S', 'T', 'N', 'O', 'P', 'K', 'L', 'M', 'J', 'I', 'H', 'G', 'F', 'D', 'C', 'A', 'B', 'E', 'Q'], Distance: 527.4426444874409\n",
            "Iteration 94: Tour: ['R', 'S', 'T', 'N', 'O', 'P', 'K', 'L', 'M', 'J', 'I', 'H', 'G', 'F', 'D', 'C', 'A', 'B', 'E', 'Q'], Distance: 527.4426444874409\n",
            "Iteration 95: Tour: ['R', 'S', 'T', 'N', 'O', 'P', 'K', 'L', 'M', 'J', 'I', 'H', 'G', 'F', 'D', 'C', 'A', 'B', 'E', 'Q'], Distance: 527.4426444874409\n",
            "Iteration 96: Tour: ['R', 'S', 'T', 'N', 'O', 'P', 'K', 'L', 'M', 'J', 'I', 'H', 'G', 'F', 'D', 'C', 'A', 'B', 'E', 'Q'], Distance: 527.4426444874409\n",
            "Iteration 97: Tour: ['R', 'S', 'T', 'N', 'O', 'P', 'K', 'L', 'M', 'J', 'I', 'H', 'G', 'F', 'D', 'C', 'A', 'B', 'E', 'Q'], Distance: 527.4426444874409\n",
            "Iteration 98: Tour: ['R', 'S', 'T', 'N', 'O', 'P', 'K', 'L', 'M', 'J', 'I', 'H', 'G', 'F', 'D', 'C', 'A', 'B', 'E', 'Q'], Distance: 527.4426444874409\n",
            "Iteration 99: Tour: ['R', 'S', 'T', 'N', 'O', 'P', 'K', 'L', 'M', 'J', 'I', 'H', 'G', 'F', 'D', 'C', 'A', 'B', 'E', 'Q'], Distance: 527.4426444874409\n",
            "Iteration 100: Tour: ['R', 'S', 'T', 'N', 'O', 'P', 'K', 'L', 'M', 'J', 'I', 'H', 'G', 'F', 'D', 'C', 'A', 'B', 'E', 'Q'], Distance: 527.4426444874409\n",
            "Best Tour: ['R', 'S', 'T', 'N', 'O', 'P', 'K', 'L', 'M', 'J', 'I', 'H', 'G', 'F', 'D', 'C', 'A', 'B', 'E', 'Q'], Distance: 527.4426444874409\n"
          ]
        },
        {
          "output_type": "display_data",
          "data": {
            "text/plain": [
              "<Figure size 800x800 with 1 Axes>"
            ],
            "image/png": "[encoded data removed]"
          },
          "metadata": {}
        },
        {
          "output_type": "display_data",
          "data": {
            "text/plain": [
              "<Figure size 800x800 with 1 Axes>"
            ],
            "image/png": "[encoded data removed]"
          },
          "metadata": {}
        }
      ]
    },
    {
      "cell_type": "code",
      "source": [
        "tsp.plot_history()"
      ],
      "metadata": {
        "colab": {
          "base_uri": "https://localhost:8080/",
          "height": 472
        },
        "id": "ZXgSIxOXIIoL",
        "outputId": "8353d20c-de46-49cb-afe4-8a1a7a00975c"
      },
      "execution_count": 55,
      "outputs": [
        {
          "output_type": "display_data",
          "data": {
            "text/plain": [
              "<Figure size 640x480 with 1 Axes>"
            ],
            "image/png": "[encoded data removed]"
          },
          "metadata": {}
        }
      ]
    },
    {
      "cell_type": "code",
      "source": [
        "cities, coordinates = generate_cities(10, (-20, 20), (-40, 40))"
      ],
      "metadata": {
        "id": "y-ufME2Fh6nC"
      },
      "execution_count": null,
      "outputs": []
    },
    {
      "cell_type": "code",
      "source": [
        "num_cities = 20\n",
        "radius = 10\n",
        "\n",
        "# generate cities\n",
        "cities = generate_cities(num_cities, (-10,10), (-10,10))[0]\n",
        "\n",
        "# generate coordinates\n",
        "theta = np.linspace(0, 2*np.pi, num_cities, endpoint=False)\n",
        "x = radius * np.cos(theta)\n",
        "y = radius * np.sin(theta)\n",
        "coordinates = np.column_stack((x, y))"
      ],
      "metadata": {
        "id": "2uhAbb9osYWI"
      },
      "execution_count": 56,
      "outputs": []
    },
    {
      "cell_type": "code",
      "source": [
        "coordinates"
      ],
      "metadata": {
        "colab": {
          "base_uri": "https://localhost:8080/"
        },
        "id": "Y4EO4FKKAJv0",
        "outputId": "ebccf559-779e-49e0-9f46-ee5f16fc1ca3"
      },
      "execution_count": 57,
      "outputs": [
        {
          "output_type": "execute_result",
          "data": {
            "text/plain": [
              "array([[ 1.00000000e+01,  0.00000000e+00],\n",
              "       [ 9.51056516e+00,  3.09016994e+00],\n",
              "       [ 8.09016994e+00,  5.87785252e+00],\n",
              "       [ 5.87785252e+00,  8.09016994e+00],\n",
              "       [ 3.09016994e+00,  9.51056516e+00],\n",
              "       [ 6.12323400e-16,  1.00000000e+01],\n",
              "       [-3.09016994e+00,  9.51056516e+00],\n",
              "       [-5.87785252e+00,  8.09016994e+00],\n",
              "       [-8.09016994e+00,  5.87785252e+00],\n",
              "       [-9.51056516e+00,  3.09016994e+00],\n",
              "       [-1.00000000e+01,  1.22464680e-15],\n",
              "       [-9.51056516e+00, -3.09016994e+00],\n",
              "       [-8.09016994e+00, -5.87785252e+00],\n",
              "       [-5.87785252e+00, -8.09016994e+00],\n",
              "       [-3.09016994e+00, -9.51056516e+00],\n",
              "       [-1.83697020e-15, -1.00000000e+01],\n",
              "       [ 3.09016994e+00, -9.51056516e+00],\n",
              "       [ 5.87785252e+00, -8.09016994e+00],\n",
              "       [ 8.09016994e+00, -5.87785252e+00],\n",
              "       [ 9.51056516e+00, -3.09016994e+00]])"
            ]
          },
          "metadata": {},
          "execution_count": 57
        }
      ]
    },
    {
      "cell_type": "code",
      "source": [
        "tsp = TSP(cities, coordinates, selection_method='tournament',\n",
        "          tournament_size=8, mutation_rate=0.5, mutation_method='inversion')\n",
        "tsp.evolve(100, anim=True)"
      ],
      "metadata": {
        "colab": {
          "base_uri": "https://localhost:8080/",
          "height": 1000
        },
        "id": "VrOBcGATbyVe",
        "outputId": "66a968e9-5964-4241-ce56-46d0b8bc74f6"
      },
      "execution_count": 58,
      "outputs": [
        {
          "output_type": "stream",
          "name": "stderr",
          "text": [
            "WARNING:matplotlib.animation:MovieWriter imagemagick unavailable; using Pillow instead.\n"
          ]
        },
        {
          "output_type": "stream",
          "name": "stdout",
          "text": [
            "Iteration 1: Tour: ['M', 'R', 'Q', 'J', 'P', 'S', 'K', 'O', 'L', 'G', 'H', 'I', 'A', 'C', 'F', 'T', 'E', 'D', 'B', 'N'], Distance: 219.79855871771517\n",
            "Iteration 1: Tour: ['I', 'J', 'M', 'R', 'S', 'T', 'H', 'K', 'O', 'L', 'P', 'N', 'Q', 'G', 'A', 'F', 'D', 'B', 'C', 'E'], Distance: 204.06391837663975\n",
            "Iteration 1: Tour: ['J', 'I', 'G', 'L', 'O', 'K', 'P', 'Q', 'R', 'B', 'A', 'T', 'S', 'C', 'H', 'M', 'F', 'E', 'D', 'N'], Distance: 193.45686249666528\n",
            "Iteration 1: Tour: ['I', 'J', 'M', 'G', 'L', 'O', 'K', 'P', 'Q', 'R', 'B', 'A', 'T', 'S', 'C', 'H', 'F', 'E', 'D', 'N'], Distance: 191.52760742721986\n",
            "Iteration 2: Tour: ['M', 'J', 'I', 'G', 'L', 'O', 'K', 'N', 'D', 'E', 'F', 'H', 'C', 'S', 'T', 'A', 'B', 'R', 'Q', 'P'], Distance: 166.34063054039981\n",
            "Iteration 3: Tour: ['M', 'J', 'I', 'G', 'L', 'O', 'K', 'N', 'D', 'E', 'F', 'H', 'C', 'S', 'T', 'A', 'B', 'R', 'Q', 'P'], Distance: 166.34063054039981\n",
            "Iteration 4: Tour: ['M', 'L', 'G', 'I', 'J', 'O', 'K', 'N', 'D', 'E', 'F', 'H', 'C', 'S', 'T', 'A', 'B', 'R', 'Q', 'P'], Distance: 165.4518354753535\n",
            "Iteration 5: Tour: ['M', 'J', 'I', 'G', 'F', 'E', 'D', 'B', 'A', 'T', 'C', 'H', 'Q', 'P', 'S', 'R', 'L', 'O', 'K', 'N'], Distance: 150.87857012598084\n",
            "Iteration 6: Tour: ['M', 'J', 'I', 'G', 'F', 'E', 'D', 'B', 'A', 'T', 'C', 'H', 'Q', 'P', 'S', 'R', 'L', 'N', 'K', 'O'], Distance: 154.08240119207753\n",
            "Iteration 7: Tour: ['M', 'N', 'L', 'R', 'S', 'P', 'Q', 'H', 'C', 'T', 'A', 'B', 'D', 'E', 'F', 'G', 'I', 'J', 'K', 'O'], Distance: 154.08240119207753\n",
            "Iteration 8: Tour: ['M', 'N', 'L', 'R', 'S', 'P', 'Q', 'H', 'C', 'T', 'A', 'B', 'D', 'E', 'F', 'G', 'I', 'J', 'K', 'O'], Distance: 154.08240119207753\n",
            "Iteration 9: Tour: ['M', 'N', 'L', 'S', 'R', 'P', 'Q', 'H', 'C', 'T', 'A', 'B', 'D', 'E', 'F', 'G', 'I', 'J', 'K', 'O'], Distance: 140.92048029308134\n",
            "Iteration 10: Tour: ['N', 'M', 'L', 'R', 'S', 'P', 'Q', 'H', 'C', 'T', 'A', 'B', 'D', 'E', 'F', 'G', 'I', 'J', 'K', 'O'], Distance: 133.02520804402195\n",
            "Iteration 11: Tour: ['N', 'M', 'L', 'Q', 'P', 'S', 'R', 'H', 'G', 'F', 'E', 'D', 'B', 'A', 'T', 'C', 'I', 'J', 'K', 'O'], Distance: 130.21979064542487\n",
            "Iteration 12: Tour: ['N', 'M', 'L', 'R', 'S', 'P', 'Q', 'T', 'A', 'B', 'D', 'E', 'F', 'G', 'H', 'C', 'I', 'J', 'K', 'O'], Distance: 126.40013053292381\n",
            "Iteration 13: Tour: ['N', 'M', 'L', 'R', 'S', 'P', 'Q', 'T', 'A', 'B', 'D', 'E', 'F', 'G', 'H', 'C', 'I', 'J', 'K', 'O'], Distance: 126.40013053292381\n",
            "Iteration 14: Tour: ['N', 'M', 'L', 'R', 'Q', 'P', 'S', 'T', 'A', 'B', 'D', 'E', 'F', 'G', 'H', 'C', 'I', 'J', 'K', 'O'], Distance: 120.44900983893747\n",
            "Iteration 15: Tour: ['N', 'M', 'L', 'R', 'Q', 'P', 'S', 'T', 'A', 'B', 'D', 'E', 'F', 'G', 'H', 'C', 'I', 'J', 'K', 'O'], Distance: 120.44900983893747\n",
            "Iteration 16: Tour: ['N', 'M', 'L', 'R', 'Q', 'P', 'S', 'T', 'A', 'B', 'D', 'E', 'F', 'G', 'H', 'C', 'I', 'J', 'K', 'O'], Distance: 120.44900983893747\n",
            "Iteration 17: Tour: ['N', 'M', 'L', 'R', 'Q', 'P', 'S', 'T', 'A', 'B', 'D', 'C', 'H', 'G', 'F', 'E', 'I', 'J', 'K', 'O'], Distance: 116.024374997288\n",
            "Iteration 18: Tour: ['N', 'M', 'L', 'P', 'Q', 'R', 'S', 'T', 'A', 'B', 'D', 'E', 'F', 'G', 'H', 'C', 'I', 'J', 'K', 'O'], Distance: 110.07325430330167\n",
            "Iteration 19: Tour: ['N', 'M', 'L', 'P', 'Q', 'R', 'S', 'T', 'A', 'B', 'C', 'H', 'G', 'F', 'E', 'D', 'I', 'J', 'K', 'O'], Distance: 104.98339945283935\n",
            "Iteration 20: Tour: ['N', 'M', 'L', 'P', 'Q', 'R', 'S', 'T', 'A', 'B', 'C', 'H', 'G', 'F', 'E', 'D', 'I', 'J', 'K', 'O'], Distance: 104.98339945283935\n",
            "Iteration 21: Tour: ['N', 'M', 'L', 'P', 'Q', 'R', 'S', 'T', 'A', 'B', 'C', 'H', 'G', 'F', 'E', 'D', 'I', 'J', 'K', 'O'], Distance: 104.98339945283935\n",
            "Iteration 22: Tour: ['N', 'M', 'L', 'P', 'Q', 'R', 'S', 'T', 'A', 'B', 'C', 'H', 'G', 'F', 'E', 'D', 'I', 'J', 'K', 'O'], Distance: 104.98339945283935\n",
            "Iteration 23: Tour: ['N', 'M', 'L', 'P', 'Q', 'R', 'S', 'T', 'A', 'B', 'C', 'H', 'G', 'F', 'E', 'D', 'I', 'J', 'K', 'O'], Distance: 104.98339945283935\n",
            "Iteration 24: Tour: ['N', 'M', 'L', 'P', 'Q', 'R', 'S', 'T', 'A', 'B', 'C', 'H', 'G', 'F', 'E', 'D', 'I', 'J', 'K', 'O'], Distance: 104.98339945283935\n",
            "Iteration 25: Tour: ['N', 'M', 'L', 'P', 'Q', 'R', 'S', 'T', 'A', 'B', 'C', 'H', 'G', 'F', 'E', 'D', 'I', 'J', 'K', 'O'], Distance: 104.98339945283935\n",
            "Iteration 26: Tour: ['N', 'M', 'L', 'P', 'Q', 'R', 'S', 'T', 'A', 'B', 'C', 'H', 'G', 'F', 'E', 'D', 'I', 'J', 'K', 'O'], Distance: 104.98339945283935\n",
            "Iteration 27: Tour: ['N', 'M', 'L', 'P', 'Q', 'R', 'S', 'T', 'A', 'B', 'C', 'D', 'E', 'F', 'G', 'H', 'I', 'J', 'K', 'O'], Distance: 82.95650680698667\n",
            "Iteration 28: Tour: ['N', 'M', 'L', 'P', 'Q', 'R', 'S', 'T', 'A', 'B', 'C', 'D', 'E', 'F', 'G', 'H', 'I', 'J', 'K', 'O'], Distance: 82.95650680698667\n",
            "Iteration 29: Tour: ['N', 'M', 'L', 'K', 'J', 'I', 'H', 'G', 'F', 'E', 'D', 'C', 'B', 'A', 'T', 'S', 'R', 'Q', 'P', 'O'], Distance: 65.70247531689695\n",
            "Iteration 30: Tour: ['N', 'M', 'L', 'K', 'J', 'I', 'H', 'G', 'F', 'E', 'D', 'C', 'B', 'A', 'T', 'S', 'R', 'Q', 'P', 'O'], Distance: 65.70247531689695\n",
            "Iteration 31: Tour: ['N', 'M', 'L', 'K', 'J', 'I', 'H', 'G', 'F', 'E', 'D', 'C', 'B', 'A', 'T', 'S', 'R', 'Q', 'P', 'O'], Distance: 65.70247531689695\n",
            "Iteration 32: Tour: ['N', 'M', 'L', 'K', 'J', 'I', 'H', 'G', 'F', 'E', 'D', 'C', 'B', 'A', 'T', 'S', 'R', 'Q', 'P', 'O'], Distance: 65.70247531689695\n",
            "Iteration 33: Tour: ['N', 'M', 'L', 'K', 'J', 'I', 'H', 'G', 'F', 'E', 'D', 'C', 'B', 'A', 'T', 'S', 'R', 'Q', 'P', 'O'], Distance: 65.70247531689695\n",
            "Iteration 34: Tour: ['N', 'M', 'L', 'K', 'J', 'I', 'H', 'G', 'F', 'E', 'D', 'C', 'B', 'A', 'T', 'S', 'R', 'Q', 'P', 'O'], Distance: 65.70247531689695\n",
            "Iteration 35: Tour: ['N', 'M', 'L', 'K', 'J', 'I', 'H', 'G', 'F', 'E', 'D', 'C', 'B', 'A', 'T', 'S', 'R', 'Q', 'P', 'O'], Distance: 65.70247531689695\n",
            "Iteration 36: Tour: ['N', 'M', 'L', 'K', 'J', 'I', 'H', 'G', 'F', 'E', 'D', 'C', 'B', 'A', 'T', 'S', 'R', 'Q', 'P', 'O'], Distance: 65.70247531689695\n",
            "Iteration 37: Tour: ['N', 'M', 'L', 'K', 'J', 'I', 'H', 'G', 'F', 'E', 'D', 'C', 'B', 'A', 'T', 'S', 'R', 'Q', 'P', 'O'], Distance: 65.70247531689695\n",
            "Iteration 38: Tour: ['N', 'M', 'L', 'K', 'J', 'I', 'H', 'G', 'F', 'E', 'D', 'C', 'B', 'A', 'T', 'S', 'R', 'Q', 'P', 'O'], Distance: 65.70247531689695\n",
            "Iteration 39: Tour: ['N', 'M', 'L', 'K', 'J', 'I', 'H', 'G', 'F', 'E', 'D', 'C', 'B', 'A', 'T', 'S', 'R', 'Q', 'P', 'O'], Distance: 65.70247531689695\n",
            "Iteration 40: Tour: ['N', 'M', 'L', 'K', 'J', 'I', 'H', 'G', 'F', 'E', 'D', 'C', 'B', 'A', 'T', 'S', 'R', 'Q', 'P', 'O'], Distance: 65.70247531689695\n",
            "Iteration 41: Tour: ['N', 'M', 'L', 'K', 'J', 'I', 'H', 'G', 'F', 'E', 'D', 'C', 'B', 'A', 'T', 'S', 'R', 'Q', 'P', 'O'], Distance: 65.70247531689695\n",
            "Iteration 42: Tour: ['N', 'M', 'L', 'K', 'J', 'I', 'H', 'G', 'F', 'E', 'D', 'C', 'B', 'A', 'T', 'S', 'R', 'Q', 'P', 'O'], Distance: 65.70247531689695\n",
            "Iteration 43: Tour: ['N', 'M', 'L', 'K', 'J', 'I', 'H', 'G', 'F', 'E', 'D', 'C', 'B', 'A', 'T', 'S', 'R', 'Q', 'P', 'O'], Distance: 65.70247531689695\n",
            "Iteration 44: Tour: ['N', 'M', 'L', 'K', 'J', 'I', 'H', 'G', 'F', 'E', 'D', 'C', 'B', 'A', 'T', 'S', 'R', 'Q', 'P', 'O'], Distance: 65.70247531689695\n",
            "Iteration 45: Tour: ['N', 'M', 'L', 'K', 'J', 'I', 'H', 'G', 'F', 'E', 'D', 'C', 'B', 'A', 'T', 'S', 'R', 'Q', 'P', 'O'], Distance: 65.70247531689695\n",
            "Iteration 46: Tour: ['N', 'M', 'L', 'K', 'J', 'I', 'H', 'G', 'F', 'E', 'D', 'C', 'B', 'A', 'T', 'S', 'R', 'Q', 'P', 'O'], Distance: 65.70247531689695\n",
            "Iteration 47: Tour: ['N', 'M', 'L', 'K', 'J', 'I', 'H', 'G', 'F', 'E', 'D', 'C', 'B', 'A', 'T', 'S', 'R', 'Q', 'P', 'O'], Distance: 65.70247531689695\n",
            "Iteration 48: Tour: ['N', 'M', 'L', 'K', 'J', 'I', 'H', 'G', 'F', 'E', 'D', 'C', 'B', 'A', 'T', 'S', 'R', 'Q', 'P', 'O'], Distance: 65.70247531689695\n",
            "Iteration 49: Tour: ['N', 'M', 'L', 'K', 'J', 'I', 'H', 'G', 'F', 'E', 'D', 'C', 'B', 'A', 'T', 'S', 'R', 'Q', 'P', 'O'], Distance: 65.70247531689695\n",
            "Iteration 50: Tour: ['N', 'M', 'L', 'K', 'J', 'I', 'H', 'G', 'F', 'E', 'D', 'C', 'B', 'A', 'T', 'S', 'R', 'Q', 'P', 'O'], Distance: 65.70247531689695\n",
            "Iteration 51: Tour: ['N', 'M', 'L', 'K', 'J', 'I', 'H', 'G', 'F', 'E', 'D', 'C', 'B', 'A', 'T', 'S', 'R', 'Q', 'P', 'O'], Distance: 65.70247531689695\n",
            "Iteration 52: Tour: ['N', 'M', 'L', 'K', 'J', 'I', 'H', 'G', 'F', 'E', 'D', 'C', 'B', 'A', 'T', 'S', 'R', 'Q', 'P', 'O'], Distance: 65.70247531689695\n",
            "Iteration 53: Tour: ['N', 'M', 'L', 'K', 'J', 'I', 'H', 'G', 'F', 'E', 'D', 'C', 'B', 'A', 'T', 'S', 'R', 'Q', 'P', 'O'], Distance: 65.70247531689695\n",
            "Iteration 54: Tour: ['N', 'M', 'L', 'K', 'J', 'I', 'H', 'G', 'F', 'E', 'D', 'C', 'B', 'A', 'T', 'S', 'R', 'Q', 'P', 'O'], Distance: 65.70247531689695\n",
            "Iteration 55: Tour: ['N', 'M', 'L', 'K', 'J', 'I', 'H', 'G', 'F', 'E', 'D', 'C', 'B', 'A', 'T', 'S', 'R', 'Q', 'P', 'O'], Distance: 65.70247531689695\n",
            "Iteration 56: Tour: ['N', 'M', 'L', 'K', 'J', 'I', 'H', 'G', 'F', 'E', 'D', 'C', 'B', 'A', 'T', 'S', 'R', 'Q', 'P', 'O'], Distance: 65.70247531689695\n",
            "Iteration 57: Tour: ['N', 'M', 'L', 'K', 'J', 'I', 'H', 'G', 'F', 'E', 'D', 'C', 'B', 'A', 'T', 'S', 'R', 'Q', 'P', 'O'], Distance: 65.70247531689695\n",
            "Iteration 58: Tour: ['N', 'M', 'L', 'K', 'J', 'I', 'H', 'G', 'F', 'E', 'D', 'C', 'B', 'A', 'T', 'S', 'R', 'Q', 'P', 'O'], Distance: 65.70247531689695\n",
            "Iteration 59: Tour: ['N', 'M', 'L', 'K', 'J', 'I', 'H', 'G', 'F', 'E', 'D', 'C', 'B', 'A', 'T', 'S', 'R', 'Q', 'P', 'O'], Distance: 65.70247531689695\n",
            "Iteration 60: Tour: ['N', 'M', 'L', 'K', 'J', 'I', 'H', 'G', 'F', 'E', 'D', 'C', 'B', 'A', 'T', 'S', 'R', 'Q', 'P', 'O'], Distance: 65.70247531689695\n",
            "Iteration 61: Tour: ['N', 'M', 'L', 'K', 'J', 'I', 'H', 'G', 'F', 'E', 'D', 'C', 'B', 'A', 'T', 'S', 'R', 'Q', 'P', 'O'], Distance: 65.70247531689695\n",
            "Iteration 62: Tour: ['N', 'M', 'L', 'K', 'J', 'I', 'H', 'G', 'F', 'E', 'D', 'C', 'B', 'A', 'T', 'S', 'R', 'Q', 'P', 'O'], Distance: 65.70247531689695\n",
            "Iteration 63: Tour: ['N', 'M', 'L', 'K', 'J', 'I', 'H', 'G', 'F', 'E', 'D', 'C', 'B', 'A', 'T', 'S', 'R', 'Q', 'P', 'O'], Distance: 65.70247531689695\n",
            "Iteration 64: Tour: ['N', 'M', 'L', 'K', 'J', 'I', 'H', 'G', 'F', 'E', 'D', 'C', 'B', 'A', 'T', 'S', 'R', 'Q', 'P', 'O'], Distance: 65.70247531689695\n",
            "Iteration 65: Tour: ['N', 'M', 'L', 'K', 'J', 'I', 'H', 'G', 'F', 'E', 'D', 'C', 'B', 'A', 'T', 'S', 'R', 'Q', 'P', 'O'], Distance: 65.70247531689695\n",
            "Iteration 66: Tour: ['N', 'M', 'L', 'K', 'J', 'I', 'H', 'G', 'F', 'E', 'D', 'C', 'B', 'A', 'T', 'S', 'R', 'Q', 'P', 'O'], Distance: 65.70247531689695\n",
            "Iteration 67: Tour: ['N', 'M', 'L', 'K', 'J', 'I', 'H', 'G', 'F', 'E', 'D', 'C', 'B', 'A', 'T', 'S', 'R', 'Q', 'P', 'O'], Distance: 65.70247531689695\n",
            "Iteration 68: Tour: ['N', 'M', 'L', 'K', 'J', 'I', 'H', 'G', 'F', 'E', 'D', 'C', 'B', 'A', 'T', 'S', 'R', 'Q', 'P', 'O'], Distance: 65.70247531689695\n",
            "Iteration 69: Tour: ['N', 'M', 'L', 'K', 'J', 'I', 'H', 'G', 'F', 'E', 'D', 'C', 'B', 'A', 'T', 'S', 'R', 'Q', 'P', 'O'], Distance: 65.70247531689695\n",
            "Iteration 70: Tour: ['N', 'M', 'L', 'K', 'J', 'I', 'H', 'G', 'F', 'E', 'D', 'C', 'B', 'A', 'T', 'S', 'R', 'Q', 'P', 'O'], Distance: 65.70247531689695\n",
            "Iteration 71: Tour: ['N', 'M', 'L', 'K', 'J', 'I', 'H', 'G', 'F', 'E', 'D', 'C', 'B', 'A', 'T', 'S', 'R', 'Q', 'P', 'O'], Distance: 65.70247531689695\n",
            "Iteration 72: Tour: ['N', 'M', 'L', 'K', 'J', 'I', 'H', 'G', 'F', 'E', 'D', 'C', 'B', 'A', 'T', 'S', 'R', 'Q', 'P', 'O'], Distance: 65.70247531689695\n",
            "Iteration 73: Tour: ['N', 'M', 'L', 'K', 'J', 'I', 'H', 'G', 'F', 'E', 'D', 'C', 'B', 'A', 'T', 'S', 'R', 'Q', 'P', 'O'], Distance: 65.70247531689695\n",
            "Iteration 74: Tour: ['N', 'M', 'L', 'K', 'J', 'I', 'H', 'G', 'F', 'E', 'D', 'C', 'B', 'A', 'T', 'S', 'R', 'Q', 'P', 'O'], Distance: 65.70247531689695\n",
            "Iteration 75: Tour: ['N', 'M', 'L', 'K', 'J', 'I', 'H', 'G', 'F', 'E', 'D', 'C', 'B', 'A', 'T', 'S', 'R', 'Q', 'P', 'O'], Distance: 65.70247531689695\n",
            "Iteration 76: Tour: ['N', 'M', 'L', 'K', 'J', 'I', 'H', 'G', 'F', 'E', 'D', 'C', 'B', 'A', 'T', 'S', 'R', 'Q', 'P', 'O'], Distance: 65.70247531689695\n",
            "Iteration 77: Tour: ['N', 'M', 'L', 'K', 'J', 'I', 'H', 'G', 'F', 'E', 'D', 'C', 'B', 'A', 'T', 'S', 'R', 'Q', 'P', 'O'], Distance: 65.70247531689695\n",
            "Iteration 78: Tour: ['N', 'M', 'L', 'K', 'J', 'I', 'H', 'G', 'F', 'E', 'D', 'C', 'B', 'A', 'T', 'S', 'R', 'Q', 'P', 'O'], Distance: 65.70247531689695\n",
            "Iteration 79: Tour: ['N', 'M', 'L', 'K', 'J', 'I', 'H', 'G', 'F', 'E', 'D', 'C', 'B', 'A', 'T', 'S', 'R', 'Q', 'P', 'O'], Distance: 65.70247531689695\n",
            "Iteration 80: Tour: ['N', 'M', 'L', 'K', 'J', 'I', 'H', 'G', 'F', 'E', 'D', 'C', 'B', 'A', 'T', 'S', 'R', 'Q', 'P', 'O'], Distance: 65.70247531689695\n",
            "Iteration 81: Tour: ['N', 'M', 'L', 'K', 'J', 'I', 'H', 'G', 'F', 'E', 'D', 'C', 'B', 'A', 'T', 'S', 'R', 'Q', 'P', 'O'], Distance: 65.70247531689695\n",
            "Iteration 82: Tour: ['N', 'M', 'L', 'K', 'J', 'I', 'H', 'G', 'F', 'E', 'D', 'C', 'B', 'A', 'T', 'S', 'R', 'Q', 'P', 'O'], Distance: 65.70247531689695\n",
            "Iteration 83: Tour: ['N', 'M', 'L', 'K', 'J', 'I', 'H', 'G', 'F', 'E', 'D', 'C', 'B', 'A', 'T', 'S', 'R', 'Q', 'P', 'O'], Distance: 65.70247531689695\n",
            "Iteration 84: Tour: ['N', 'M', 'L', 'K', 'J', 'I', 'H', 'G', 'F', 'E', 'D', 'C', 'B', 'A', 'T', 'S', 'R', 'Q', 'P', 'O'], Distance: 65.70247531689695\n",
            "Iteration 85: Tour: ['N', 'M', 'L', 'K', 'J', 'I', 'H', 'G', 'F', 'E', 'D', 'C', 'B', 'A', 'T', 'S', 'R', 'Q', 'P', 'O'], Distance: 65.70247531689695\n",
            "Iteration 86: Tour: ['N', 'M', 'L', 'K', 'J', 'I', 'H', 'G', 'F', 'E', 'D', 'C', 'B', 'A', 'T', 'S', 'R', 'Q', 'P', 'O'], Distance: 65.70247531689695\n",
            "Iteration 87: Tour: ['N', 'M', 'L', 'K', 'J', 'I', 'H', 'G', 'F', 'E', 'D', 'C', 'B', 'A', 'T', 'S', 'R', 'Q', 'P', 'O'], Distance: 65.70247531689695\n",
            "Iteration 88: Tour: ['N', 'M', 'L', 'K', 'J', 'I', 'H', 'G', 'F', 'E', 'D', 'C', 'B', 'A', 'T', 'S', 'R', 'Q', 'P', 'O'], Distance: 65.70247531689695\n",
            "Iteration 89: Tour: ['N', 'M', 'L', 'K', 'J', 'I', 'H', 'G', 'F', 'E', 'D', 'C', 'B', 'A', 'T', 'S', 'R', 'Q', 'P', 'O'], Distance: 65.70247531689695\n",
            "Iteration 90: Tour: ['N', 'M', 'L', 'K', 'J', 'I', 'H', 'G', 'F', 'E', 'D', 'C', 'B', 'A', 'T', 'S', 'R', 'Q', 'P', 'O'], Distance: 65.70247531689695\n",
            "Iteration 91: Tour: ['N', 'M', 'L', 'K', 'J', 'I', 'H', 'G', 'F', 'E', 'D', 'C', 'B', 'A', 'T', 'S', 'R', 'Q', 'P', 'O'], Distance: 65.70247531689695\n",
            "Iteration 92: Tour: ['N', 'M', 'L', 'K', 'J', 'I', 'H', 'G', 'F', 'E', 'D', 'C', 'B', 'A', 'T', 'S', 'R', 'Q', 'P', 'O'], Distance: 65.70247531689695\n",
            "Iteration 93: Tour: ['N', 'M', 'L', 'K', 'J', 'I', 'H', 'G', 'F', 'E', 'D', 'C', 'B', 'A', 'T', 'S', 'R', 'Q', 'P', 'O'], Distance: 65.70247531689695\n",
            "Iteration 94: Tour: ['N', 'M', 'L', 'K', 'J', 'I', 'H', 'G', 'F', 'E', 'D', 'C', 'B', 'A', 'T', 'S', 'R', 'Q', 'P', 'O'], Distance: 65.70247531689695\n",
            "Iteration 95: Tour: ['N', 'M', 'L', 'K', 'J', 'I', 'H', 'G', 'F', 'E', 'D', 'C', 'B', 'A', 'T', 'S', 'R', 'Q', 'P', 'O'], Distance: 65.70247531689695\n",
            "Iteration 96: Tour: ['N', 'M', 'L', 'K', 'J', 'I', 'H', 'G', 'F', 'E', 'D', 'C', 'B', 'A', 'T', 'S', 'R', 'Q', 'P', 'O'], Distance: 65.70247531689695\n",
            "Iteration 97: Tour: ['N', 'M', 'L', 'K', 'J', 'I', 'H', 'G', 'F', 'E', 'D', 'C', 'B', 'A', 'T', 'S', 'R', 'Q', 'P', 'O'], Distance: 65.70247531689695\n",
            "Iteration 98: Tour: ['N', 'M', 'L', 'K', 'J', 'I', 'H', 'G', 'F', 'E', 'D', 'C', 'B', 'A', 'T', 'S', 'R', 'Q', 'P', 'O'], Distance: 65.70247531689695\n",
            "Iteration 99: Tour: ['N', 'M', 'L', 'K', 'J', 'I', 'H', 'G', 'F', 'E', 'D', 'C', 'B', 'A', 'T', 'S', 'R', 'Q', 'P', 'O'], Distance: 65.70247531689695\n",
            "Iteration 100: Tour: ['N', 'M', 'L', 'K', 'J', 'I', 'H', 'G', 'F', 'E', 'D', 'C', 'B', 'A', 'T', 'S', 'R', 'Q', 'P', 'O'], Distance: 65.70247531689695\n",
            "Best Tour: ['N', 'M', 'L', 'K', 'J', 'I', 'H', 'G', 'F', 'E', 'D', 'C', 'B', 'A', 'T', 'S', 'R', 'Q', 'P', 'O'], Distance: 65.70247531689695\n"
          ]
        },
        {
          "output_type": "execute_result",
          "data": {
            "text/plain": [
              "(<matplotlib.animation.FuncAnimation at 0x7f2c9e0f4d30>,\n",
              " array(['N', 'M', 'L', 'K', 'J', 'I', 'H', 'G', 'F', 'E', 'D', 'C', 'B',\n",
              "        'A', 'T', 'S', 'R', 'Q', 'P', 'O'], dtype='<U1'))"
            ]
          },
          "metadata": {},
          "execution_count": 58
        },
        {
          "output_type": "display_data",
          "data": {
            "text/plain": [
              "<Figure size 800x800 with 1 Axes>"
            ],
            "image/png": "[encoded data removed]"
          },
          "metadata": {}
        },
        {
          "output_type": "display_data",
          "data": {
            "text/plain": [
              "<Figure size 800x800 with 1 Axes>"
            ],
            "image/png": "[encoded data removed]"
          },
          "metadata": {}
        }
      ]
    },
    {
      "cell_type": "code",
      "source": [
        "tsp.plot_history()"
      ],
      "metadata": {
        "colab": {
          "base_uri": "https://localhost:8080/",
          "height": 472
        },
        "id": "jEKBWtk2Lf0G",
        "outputId": "f24057c5-aa65-436a-935f-9f0ab1c17aa9"
      },
      "execution_count": 59,
      "outputs": [
        {
          "output_type": "display_data",
          "data": {
            "text/plain": [
              "<Figure size 640x480 with 1 Axes>"
            ],
            "image/png": "[encoded data removed]"
          },
          "metadata": {}
        }
      ]
    },
    {
      "cell_type": "code",
      "source": [],
      "metadata": {
        "id": "YU3aU7xMevNU"
      },
      "execution_count": null,
      "outputs": []
    },
    {
      "cell_type": "markdown",
      "source": [
        "# Hyperparameter Tuning"
      ],
      "metadata": {
        "id": "NG-anag2zmxm"
      }
    },
    {
      "cell_type": "code",
      "source": [
        "from sklearn.datasets import load_breast_cancer\n",
        "from sklearn.linear_model import LogisticRegression\n",
        "from sklearn.model_selection import train_test_split\n",
        "import numpy as np\n",
        "import random\n",
        "import pandas as pd\n",
        "from tqdm.auto import tqdm\n",
        "\n",
        "class LogisticRegressionGA:\n",
        "    def __init__(self, penalty=['l1', 'l2'], solver=['liblinear', 'saga'], max_iter=[100, 200, 300, 500, 800], C=[0.1, 1, 10, 100], population_size=20, num_generations=50, mutation_rate=0.1):\n",
        "        self.penalty = penalty\n",
        "        self.solver = solver\n",
        "        self.max_iter = max_iter\n",
        "        self.C = C\n",
        "        self.population_size = population_size\n",
        "        self.num_generations = num_generations\n",
        "        self.mutation_rate = mutation_rate\n",
        "        self.best_clf = None\n",
        "        self.best_params = None\n",
        "\n",
        "    def fit(self, X, y):\n",
        "        # Define the fitness function\n",
        "        def fitness_function(params):\n",
        "            if params[0] == 'l1' and params[1] == 'lbfgs':\n",
        "                # Skip this combination of penalty and solver\n",
        "                return 0.0\n",
        "            else:\n",
        "                clf = LogisticRegression(penalty=params[0], solver=params[1], max_iter=params[2], C=params[3])\n",
        "                X_train, X_val, y_train, y_val = train_test_split(X, y, test_size=0.2)\n",
        "                clf.fit(X_train, y_train)\n",
        "                return clf.score(X_val, y_val)\n",
        "\n",
        "        # Generate the initial population\n",
        "        population = []\n",
        "        for i in range(self.population_size):\n",
        "            params = [np.random.choice(self.penalty), np.random.choice(self.solver), np.random.choice(self.max_iter), np.random.choice(self.C)]\n",
        "            population.append(params)\n",
        "\n",
        "        # Evolve the population\n",
        "        for generation in tqdm(range(self.num_generations)):\n",
        "            # Evaluate the fitness of each individual\n",
        "            fitness_scores = [fitness_function(params) for params in population]\n",
        "\n",
        "            # Select the fittest individuals\n",
        "            fittest_indices = np.argsort(fitness_scores)[-int(self.population_size/2):]\n",
        "            fittest_population = [population[i] for i in fittest_indices]\n",
        "\n",
        "            # Create the next generation\n",
        "            next_generation = []\n",
        "            for i in range(self.population_size):\n",
        "                # Select two parents\n",
        "                parent1 = random.choice(fittest_population)\n",
        "                parent2 = random.choice(fittest_population)\n",
        "\n",
        "                # Apply crossover\n",
        "                child = [parent1[j] if random.random() < 0.5 else parent2[j] for j in range(len(parent1))]\n",
        "\n",
        "                # Apply mutation\n",
        "                for j in range(len(child)):\n",
        "                    if random.random() < self.mutation_rate:\n",
        "                        if j == 0:\n",
        "                            child[j] = np.random.choice(self.penalty)\n",
        "                        elif j == 1:\n",
        "                            child[j] = np.random.choice(self.solver)\n",
        "                        elif j == 2:\n",
        "                            child[j] = np.random.choice(self.max_iter)\n",
        "                        elif j == 3:\n",
        "                            child[j] = np.random.choice(self.C)\n",
        "\n",
        "                next_generation.append(child)\n",
        "\n",
        "            population = next_generation\n",
        "\n",
        "        # Evaluate the fitness of the final population\n",
        "        fitness_scores = [fitness_function(params) for params in population]\n",
        "\n",
        "        # Select the fittest individual\n",
        "        fittest_index = np.argmax(fitness_scores)\n",
        "        fittest_params = population[fittest_index]\n",
        "\n",
        "        # Train the final model with the fittest hyperparameters\n",
        "        self.best_params = {'penalty': fittest_params[0], 'solver': fittest_params[1], 'max_iter': fittest_params[2], 'C': fittest_params[3]}\n",
        "        self.best_clf = LogisticRegression(penalty=fittest_params[0], solver=fittest_params[1], max_iter=fittest_params[2], C=fittest_params[3])\n",
        "        self.best_clf.fit(X, y)\n",
        "\n",
        "    def predict(self, X):\n",
        "        return self.best_clf.predict(X)\n",
        "\n",
        "    def score(self, X, y):\n",
        "        return self.best_clf.score(X, y)\n",
        "\n",
        "    def get_best_params(self):\n",
        "        return self.best_params\n",
        "\n",
        "    def get_best_clf(self):\n",
        "        return self.best_clf"
      ],
      "metadata": {
        "id": "XTAOLMaw16pq"
      },
      "execution_count": null,
      "outputs": []
    },
    {
      "cell_type": "code",
      "source": [
        "x1, x2 = load_breast_cancer(return_X_y=True, as_frame=True)"
      ],
      "metadata": {
        "id": "BvUq0J0Y32cz"
      },
      "execution_count": null,
      "outputs": []
    },
    {
      "cell_type": "code",
      "source": [
        "breast_cancer = load_breast_cancer()"
      ],
      "metadata": {
        "id": "SvSg5j1l5Vbl"
      },
      "execution_count": 62,
      "outputs": []
    },
    {
      "cell_type": "code",
      "source": [
        "breast_cancer.data"
      ],
      "metadata": {
        "colab": {
          "base_uri": "https://localhost:8080/"
        },
        "id": "iKo8nKQf347d",
        "outputId": "61f936d4-d7e7-46d3-93fc-20615d8839c8"
      },
      "execution_count": null,
      "outputs": [
        {
          "output_type": "execute_result",
          "data": {
            "text/plain": [
              "array([[1.799e+01, 1.038e+01, 1.228e+02, ..., 2.654e-01, 4.601e-01,\n",
              "        1.189e-01],\n",
              "       [2.057e+01, 1.777e+01, 1.329e+02, ..., 1.860e-01, 2.750e-01,\n",
              "        8.902e-02],\n",
              "       [1.969e+01, 2.125e+01, 1.300e+02, ..., 2.430e-01, 3.613e-01,\n",
              "        8.758e-02],\n",
              "       ...,\n",
              "       [1.660e+01, 2.808e+01, 1.083e+02, ..., 1.418e-01, 2.218e-01,\n",
              "        7.820e-02],\n",
              "       [2.060e+01, 2.933e+01, 1.401e+02, ..., 2.650e-01, 4.087e-01,\n",
              "        1.240e-01],\n",
              "       [7.760e+00, 2.454e+01, 4.792e+01, ..., 0.000e+00, 2.871e-01,\n",
              "        7.039e-02]])"
            ]
          },
          "metadata": {},
          "execution_count": 41
        }
      ]
    },
    {
      "cell_type": "code",
      "source": [
        "import warnings\n",
        "warnings.filterwarnings(\"ignore\")\n",
        "''' how to stop warnings in python '''"
      ],
      "metadata": {
        "colab": {
          "base_uri": "https://localhost:8080/",
          "height": 36
        },
        "id": "XgcASK2x6faG",
        "outputId": "7ceaf657-33cf-4768-a2eb-621746afde60"
      },
      "execution_count": 63,
      "outputs": [
        {
          "output_type": "execute_result",
          "data": {
            "text/plain": [
              "' how to stop warnings in python '"
            ],
            "application/vnd.google.colaboratory.intrinsic+json": {
              "type": "string"
            }
          },
          "metadata": {},
          "execution_count": 63
        }
      ]
    },
    {
      "cell_type": "code",
      "source": [
        "X = breast_cancer.data\n",
        "y = breast_cancer.target\n",
        "X_train, X_test, y_train, y_test = train_test_split(X,y,test_size=0.2,random_state=35)\n",
        "lr = LogisticRegressionGA()\n",
        "lr.fit(X_train, y_train)\n",
        "\n",
        "print(lr.score(X_test, y_test))"
      ],
      "metadata": {
        "colab": {
          "base_uri": "https://localhost:8080/",
          "height": 66,
          "referenced_widgets": [
            "329f77d6892b4904ace69520c99bbd10",
            "c1eeda0e88614e0c8e023fc51d569b38",
            "1724e99a01564c5fa49ce0160b9c29c9",
            "85b202349d1742d49394c99a41c4a062",
            "93e365634a4d4ebc90663300c7b344f0",
            "88ed688c579947b2b9f4ea22a8d2142a",
            "4d7bb990450140108f1451ef754937f8",
            "9d9767ed9c9040e0a07e6be9bb36b7e9",
            "9bfe200e180945d78ac42df58d5cd20a",
            "f4352424a87f4266bb8921719866211c",
            "8851650454804404812cc7b3c7db46bc"
          ]
        },
        "id": "g07HwZFI17Yd",
        "outputId": "fa06b11f-ba26-46b4-f2ad-7c8b0b6d5e59"
      },
      "execution_count": null,
      "outputs": [
        {
          "output_type": "display_data",
          "data": {
            "text/plain": [
              "  0%|          | 0/50 [00:00<?, ?it/s]"
            ],
            "application/vnd.jupyter.widget-view+json": {
              "version_major": 2,
              "version_minor": 0,
              "model_id": "329f77d6892b4904ace69520c99bbd10"
            }
          },
          "metadata": {}
        },
        {
          "output_type": "stream",
          "name": "stdout",
          "text": [
            "0.9649122807017544\n"
          ]
        }
      ]
    },
    {
      "cell_type": "code",
      "source": [
        "lr.best_params"
      ],
      "metadata": {
        "colab": {
          "base_uri": "https://localhost:8080/"
        },
        "id": "r5XSrtAr-wnc",
        "outputId": "a01bea01-dfc2-4af3-8bba-f7af1ae5502a"
      },
      "execution_count": null,
      "outputs": [
        {
          "output_type": "execute_result",
          "data": {
            "text/plain": [
              "{'penalty': 'l1', 'solver': 'liblinear', 'max_iter': 800, 'C': 100.0}"
            ]
          },
          "metadata": {},
          "execution_count": 77
        }
      ]
    },
    {
      "cell_type": "code",
      "source": [
        "lr.best_clf"
      ],
      "metadata": {
        "colab": {
          "base_uri": "https://localhost:8080/",
          "height": 74
        },
        "id": "M9xGMj-pD4-G",
        "outputId": "13ac5df5-3af3-493b-9b57-15dbe408f38d"
      },
      "execution_count": null,
      "outputs": [
        {
          "output_type": "execute_result",
          "data": {
            "text/plain": [
              "LogisticRegression(C=100.0, max_iter=800, penalty='l1', solver='liblinear')"
            ],
            "text/html": [
              "<style>#sk-container-id-4 {color: black;background-color: white;}#sk-container-id-4 pre{padding: 0;}#sk-container-id-4 div.sk-toggleable {background-color: white;}#sk-container-id-4 label.sk-toggleable__label {cursor: pointer;display: block;width: 100%;margin-bottom: 0;padding: 0.3em;box-sizing: border-box;text-align: center;}#sk-container-id-4 label.sk-toggleable__label-arrow:before {content: \"▸\";float: left;margin-right: 0.25em;color: #696969;}#sk-container-id-4 label.sk-toggleable__label-arrow:hover:before {color: black;}#sk-container-id-4 div.sk-estimator:hover label.sk-toggleable__label-arrow:before {color: black;}#sk-container-id-4 div.sk-toggleable__content {max-height: 0;max-width: 0;overflow: hidden;text-align: left;background-color: #f0f8ff;}#sk-container-id-4 div.sk-toggleable__content pre {margin: 0.2em;color: black;border-radius: 0.25em;background-color: #f0f8ff;}#sk-container-id-4 input.sk-toggleable__control:checked~div.sk-toggleable__content {max-height: 200px;max-width: 100%;overflow: auto;}#sk-container-id-4 input.sk-toggleable__control:checked~label.sk-toggleable__label-arrow:before {content: \"▾\";}#sk-container-id-4 div.sk-estimator input.sk-toggleable__control:checked~label.sk-toggleable__label {background-color: #d4ebff;}#sk-container-id-4 div.sk-label input.sk-toggleable__control:checked~label.sk-toggleable__label {background-color: #d4ebff;}#sk-container-id-4 input.sk-hidden--visually {border: 0;clip: rect(1px 1px 1px 1px);clip: rect(1px, 1px, 1px, 1px);height: 1px;margin: -1px;overflow: hidden;padding: 0;position: absolute;width: 1px;}#sk-container-id-4 div.sk-estimator {font-family: monospace;background-color: #f0f8ff;border: 1px dotted black;border-radius: 0.25em;box-sizing: border-box;margin-bottom: 0.5em;}#sk-container-id-4 div.sk-estimator:hover {background-color: #d4ebff;}#sk-container-id-4 div.sk-parallel-item::after {content: \"\";width: 100%;border-bottom: 1px solid gray;flex-grow: 1;}#sk-container-id-4 div.sk-label:hover label.sk-toggleable__label {background-color: #d4ebff;}#sk-container-id-4 div.sk-serial::before {content: \"\";position: absolute;border-left: 1px solid gray;box-sizing: border-box;top: 0;bottom: 0;left: 50%;z-index: 0;}#sk-container-id-4 div.sk-serial {display: flex;flex-direction: column;align-items: center;background-color: white;padding-right: 0.2em;padding-left: 0.2em;position: relative;}#sk-container-id-4 div.sk-item {position: relative;z-index: 1;}#sk-container-id-4 div.sk-parallel {display: flex;align-items: stretch;justify-content: center;background-color: white;position: relative;}#sk-container-id-4 div.sk-item::before, #sk-container-id-4 div.sk-parallel-item::before {content: \"\";position: absolute;border-left: 1px solid gray;box-sizing: border-box;top: 0;bottom: 0;left: 50%;z-index: -1;}#sk-container-id-4 div.sk-parallel-item {display: flex;flex-direction: column;z-index: 1;position: relative;background-color: white;}#sk-container-id-4 div.sk-parallel-item:first-child::after {align-self: flex-end;width: 50%;}#sk-container-id-4 div.sk-parallel-item:last-child::after {align-self: flex-start;width: 50%;}#sk-container-id-4 div.sk-parallel-item:only-child::after {width: 0;}#sk-container-id-4 div.sk-dashed-wrapped {border: 1px dashed gray;margin: 0 0.4em 0.5em 0.4em;box-sizing: border-box;padding-bottom: 0.4em;background-color: white;}#sk-container-id-4 div.sk-label label {font-family: monospace;font-weight: bold;display: inline-block;line-height: 1.2em;}#sk-container-id-4 div.sk-label-container {text-align: center;}#sk-container-id-4 div.sk-container {/* jupyter's `normalize.less` sets `[hidden] { display: none; }` but bootstrap.min.css set `[hidden] { display: none !important; }` so we also need the `!important` here to be able to override the default hidden behavior on the sphinx rendered scikit-learn.org. See: https://github.com/scikit-learn/scikit-learn/issues/21755 */display: inline-block !important;position: relative;}#sk-container-id-4 div.sk-text-repr-fallback {display: none;}</style><div id=\"sk-container-id-4\" class=\"sk-top-container\"><div class=\"sk-text-repr-fallback\"><pre>LogisticRegression(C=100.0, max_iter=800, penalty=&#x27;l1&#x27;, solver=&#x27;liblinear&#x27;)</pre><b>In a Jupyter environment, please rerun this cell to show the HTML representation or trust the notebook. <br />On GitHub, the HTML representation is unable to render, please try loading this page with nbviewer.org.</b></div><div class=\"sk-container\" hidden><div class=\"sk-item\"><div class=\"sk-estimator sk-toggleable\"><input class=\"sk-toggleable__control sk-hidden--visually\" id=\"sk-estimator-id-4\" type=\"checkbox\" checked><label for=\"sk-estimator-id-4\" class=\"sk-toggleable__label sk-toggleable__label-arrow\">LogisticRegression</label><div class=\"sk-toggleable__content\"><pre>LogisticRegression(C=100.0, max_iter=800, penalty=&#x27;l1&#x27;, solver=&#x27;liblinear&#x27;)</pre></div></div></div></div></div>"
            ]
          },
          "metadata": {},
          "execution_count": 79
        }
      ]
    },
    {
      "cell_type": "code",
      "source": [
        "from sklearn.datasets import load_breast_cancer\n",
        "from sklearn.linear_model import LogisticRegression\n",
        "from sklearn.model_selection import train_test_split\n",
        "import numpy as np\n",
        "import random\n",
        "import pandas as pd\n",
        "from tqdm.auto import tqdm\n",
        "\n",
        "class LogisticRegressionGA:\n",
        "    def __init__(self, penalty=['l1', 'l2', 'elasticnet'], solver=['lbfgs', 'liblinear', 'saga', 'newton-cg', 'newton-cholesky', 'sag'], max_iter=[100, 200, 300, 500, 800], C=[0.1, 1, 10, 100], l1_ratio=[0.1, 0.3, 0.5, 0.7, 0.9], population_size=20, num_generations=50, mutation_rate=0.1):\n",
        "        self.penalty = penalty\n",
        "        self.solver = solver\n",
        "        self.max_iter = max_iter\n",
        "        self.C = C\n",
        "        self.l1_ratio = l1_ratio\n",
        "        self.population_size = population_size\n",
        "        self.num_generations = num_generations\n",
        "        self.mutation_rate = mutation_rate\n",
        "        self.best_clf = None\n",
        "        self.best_params = None\n",
        "        self.fitness_cache = dict()\n",
        "        self.history = []\n",
        "    \n",
        "\n",
        "    def fit(self, X, y, X_test, y_test, test_size, random_state):\n",
        "        # Define the fitness function\n",
        "        def fitness_function(params):\n",
        "            # Check if the fitness value is already in the cache\n",
        "            key = tuple(params)\n",
        "            if key in self.fitness_cache:\n",
        "                return self.fitness_cache[key]\n",
        "\n",
        "            # Define the valid combinations of penalty and solver\n",
        "            valid_combinations = {\n",
        "                'lbfgs': ['l2', None],\n",
        "                'liblinear': ['l1', 'l2'],\n",
        "                'newton-cg': ['l2', None],\n",
        "                'newton-cholesky': ['l2', None],\n",
        "                'sag': ['l2', None],\n",
        "                'saga': ['elasticnet', 'l1', 'l2', None]\n",
        "            }\n",
        "\n",
        "            # Check if the combination of penalty and solver is valid\n",
        "            penalty, solver, max_iter, C, l1_ratio = params\n",
        "            if penalty not in valid_combinations[solver]:\n",
        "                # Skip this combination of penalty and solver\n",
        "                fitness = 0.0\n",
        "            else:\n",
        "                if C is None and solver == 'saga' and penalty == 'elasticnet':\n",
        "                    C = 1.0\n",
        "                if l1_ratio is None and solver == 'saga' and penalty == 'elasticnet':\n",
        "                    l1_ratio = 0.5\n",
        "                clf = LogisticRegression(penalty=penalty, solver=solver, max_iter=max_iter, C=C, l1_ratio=l1_ratio)\n",
        "                clf.fit(X, y)\n",
        "                fitness = clf.score(X_test, y_test)\n",
        "\n",
        "            # Add the fitness value to the cache\n",
        "            self.fitness_cache[key] = fitness\n",
        "\n",
        "            return fitness\n",
        "\n",
        "        # Generate the initial population\n",
        "        population = []\n",
        "        for i in range(self.population_size):\n",
        "            params = [np.random.choice(self.penalty), np.random.choice(self.solver), np.random.choice(self.max_iter), np.random.choice(self.C), np.random.choice(self.l1_ratio)]\n",
        "            population.append(params)\n",
        "\n",
        "        # Evolve the population\n",
        "        for generation in tqdm(range(self.num_generations)):\n",
        "            # Evaluate the fitness of each individual\n",
        "            fitness_scores = [fitness_function(params) for params in population]\n",
        "\n",
        "            # Select the fittest individuals\n",
        "            fittest_indices = np.argsort(fitness_scores)[-int(self.population_size/2):]\n",
        "            fittest_population = [population[i] for i in fittest_indices]\n",
        "\n",
        "            # Add the fittest individuals from the previous generation to the next generation\n",
        "            next_generation = fittest_population[:]\n",
        "\n",
        "            # Create the next generation\n",
        "            for i in range(self.population_size - len(next_generation)):\n",
        "                # Select two parents\n",
        "                parent1 = random.choice(fittest_population)\n",
        "                parent2 = random.choice(fittest_population)\n",
        "\n",
        "                # Apply crossover\n",
        "                child = [parent1[j] if random.random() < 0.5 else parent2[j] for j in range(len(parent1))]\n",
        "\n",
        "                # Apply mutation\n",
        "                for j in range(len(child)):\n",
        "                    if random.random() < self.mutation_rate:\n",
        "                        if j == 0:\n",
        "                            child[j] = np.random.choice(self.penalty)\n",
        "                        elif j == 1:\n",
        "                            child[j] = np.random.choice(self.solver)\n",
        "                        elif j == 2:\n",
        "                            child[j] = np.random.choice(self.max_iter)\n",
        "                        elif j == 3:\n",
        "                            child[j] = np.random.choice(self.C)\n",
        "                        elif j == 4:\n",
        "                            child[j] = np.random.choice(self.l1_ratio)\n",
        "\n",
        "                next_generation.append(child)\n",
        "\n",
        "            # Update the population\n",
        "            population = next_generation\n",
        "\n",
        "            fitness_scores = [fitness_function(params) for params in population]\n",
        "            self.history.append(np.max(fitness_scores))\n",
        "            print(f\"Iteration {generation+1}: {population[np.argmax(fitness_scores)]}: Accuracy: {self.history[-1]}\")\n",
        "\n",
        "        # Select the best individual\n",
        "        fitness_scores = [fitness_function(params) for params in population]\n",
        "        best_index = np.argmax(fitness_scores)\n",
        "        self.best_params = population[best_index]\n",
        "        self.best_clf = LogisticRegression(penalty=self.best_params[0], solver=self.best_params[1], max_iter=self.best_params[2], C=self.best_params[3], l1_ratio=self.best_params[4])\n",
        "        self.best_clf.fit(X, y)\n",
        "    \n",
        "    # Define the plot history function\n",
        "    def plot_history(self):\n",
        "        x = np.arange(1, self.num_generations+1)\n",
        "        fig = plt.figure(dpi=100)\n",
        "        plt.plot(x, self.history)\n",
        "        plt.xlabel(\"number of generations\")\n",
        "        plt.ylabel(\"history\")\n",
        "        plt.title(\"Convergence History {Iterations vs. Fitness}\")\n",
        "        plt.legend([\"fitness\"])\n",
        "        plt.savefig(f'ch_lr_ga_{time.strftime(\"%a_%d_%b_%Y_%H_%M_%S\")}.png', dpi=250, format='png')\n",
        "        # plt.pause(10)     # not requires in jupyter notebook\n",
        "\n",
        "    def predict(self, X):\n",
        "        return self.best_clf.predict(X)\n",
        "\n",
        "    def score(self, X, y):\n",
        "        return self.best_clf.score(X, y)\n",
        "\n",
        "    def get_best_params(self):\n",
        "        return self.best_params\n",
        "\n",
        "    def get_best_clf(self):\n",
        "        return self.best_clf"
      ],
      "metadata": {
        "id": "M25Kt7fEHdhj"
      },
      "execution_count": 86,
      "outputs": []
    },
    {
      "cell_type": "code",
      "source": [
        "%%time\n",
        "X = breast_cancer.data\n",
        "y = breast_cancer.target\n",
        "X_train, X_test, y_train, y_test = train_test_split(X,y,test_size=0.2,random_state=35)\n",
        "lr_cached = LogisticRegressionGA()\n",
        "lr_cached.fit(X_train, y_train, X_test, y_test, test_size=0.2,random_state=35)\n",
        "\n",
        "print(lr_cached.score(X_test, y_test))"
      ],
      "metadata": {
        "colab": {
          "base_uri": "https://localhost:8080/",
          "height": 969,
          "referenced_widgets": [
            "33ff6afacd5742cbb3030672b45c2dad",
            "9d11d269964e4791bb31f09fcb942db4",
            "cf68ffe4f0a544c0be92eeb74067c577",
            "60ba19db52884ca7ad1e4a066371a9aa",
            "61a45474144b44448300399dd766ffe1",
            "492aa1e933c44d01804372417950d305",
            "0240316a1add4ba0a6e54923837045a4",
            "3e43ab316cbe47afaef41065b828d139",
            "be3854ab56e24fc59331f1cbccec0827",
            "00b5d02d12154d77b3ba0d62f615524e",
            "bfec7054adb2486d966348f92838e7ac"
          ]
        },
        "id": "jC2NdXtQIGLq",
        "outputId": "809b1064-0683-4e1f-fd5d-18e563e36cbd"
      },
      "execution_count": 87,
      "outputs": [
        {
          "output_type": "display_data",
          "data": {
            "text/plain": [
              "  0%|          | 0/50 [00:00<?, ?it/s]"
            ],
            "application/vnd.jupyter.widget-view+json": {
              "version_major": 2,
              "version_minor": 0,
              "model_id": "33ff6afacd5742cbb3030672b45c2dad"
            }
          },
          "metadata": {}
        },
        {
          "output_type": "stream",
          "name": "stdout",
          "text": [
            "Iteration 1: ['l2', 'newton-cg', 100, 100.0, 0.5]: Accuracy: 0.9824561403508771\n",
            "Iteration 2: ['l2', 'newton-cg', 100, 100.0, 0.5]: Accuracy: 0.9824561403508771\n",
            "Iteration 3: ['l2', 'liblinear', 100, 10.0, 0.5]: Accuracy: 0.9824561403508771\n",
            "Iteration 4: ['l2', 'liblinear', 100, 10.0, 0.5]: Accuracy: 0.9824561403508771\n",
            "Iteration 5: ['l2', 'liblinear', 500, 10.0, 0.3]: Accuracy: 0.9824561403508771\n",
            "Iteration 6: ['l2', 'liblinear', 300, 10.0, 0.5]: Accuracy: 0.9824561403508771\n",
            "Iteration 7: ['l2', 'liblinear', 100, 100.0, 0.5]: Accuracy: 0.9824561403508771\n",
            "Iteration 8: ['l2', 'newton-cg', 100, 100.0, 0.5]: Accuracy: 0.9824561403508771\n",
            "Iteration 9: ['l2', 'liblinear', 100, 100.0, 0.5]: Accuracy: 0.9824561403508771\n",
            "Iteration 10: ['l2', 'liblinear', 100, 100.0, 0.5]: Accuracy: 0.9824561403508771\n",
            "Iteration 11: ['l2', 'liblinear', 100, 10.0, 0.5]: Accuracy: 0.9824561403508771\n",
            "Iteration 12: ['l2', 'liblinear', 100, 100.0, 0.5]: Accuracy: 0.9824561403508771\n",
            "Iteration 13: ['l1', 'liblinear', 100, 10.0, 0.5]: Accuracy: 0.9824561403508771\n",
            "Iteration 14: ['l1', 'liblinear', 100, 10.0, 0.5]: Accuracy: 0.9824561403508771\n",
            "Iteration 15: ['l2', 'liblinear', 100, 10.0, 0.5]: Accuracy: 0.9824561403508771\n",
            "Iteration 16: ['l1', 'liblinear', 100, 10.0, 0.5]: Accuracy: 0.9824561403508771\n",
            "Iteration 17: ['l1', 'liblinear', 100, 10.0, 0.5]: Accuracy: 0.9824561403508771\n",
            "Iteration 18: ['l2', 'liblinear', 500, 10.0, 0.5]: Accuracy: 0.9824561403508771\n",
            "Iteration 19: ['l2', 'newton-cg', 500, 100.0, 0.5]: Accuracy: 0.9824561403508771\n",
            "Iteration 20: ['l2', 'liblinear', 100, 10.0, 0.5]: Accuracy: 0.9824561403508771\n",
            "Iteration 21: ['l2', 'lbfgs', 500, 10.0, 0.5]: Accuracy: 0.9824561403508771\n",
            "Iteration 22: ['l2', 'newton-cg', 100, 100.0, 0.5]: Accuracy: 0.9824561403508771\n",
            "Iteration 23: ['l2', 'newton-cg', 100, 100.0, 0.5]: Accuracy: 0.9824561403508771\n",
            "Iteration 24: ['l2', 'liblinear', 100, 10.0, 0.5]: Accuracy: 0.9824561403508771\n",
            "Iteration 25: ['l2', 'liblinear', 100, 10.0, 0.5]: Accuracy: 0.9824561403508771\n",
            "Iteration 26: ['l2', 'liblinear', 100, 10.0, 0.5]: Accuracy: 0.9824561403508771\n",
            "Iteration 27: ['l2', 'liblinear', 100, 10.0, 0.5]: Accuracy: 0.9824561403508771\n",
            "Iteration 28: ['l2', 'liblinear', 100, 10.0, 0.5]: Accuracy: 0.9824561403508771\n",
            "Iteration 29: ['l2', 'newton-cg', 100, 100.0, 0.5]: Accuracy: 0.9824561403508771\n",
            "Iteration 30: ['l1', 'liblinear', 100, 10.0, 0.5]: Accuracy: 0.9824561403508771\n",
            "Iteration 31: ['l1', 'liblinear', 100, 10.0, 0.5]: Accuracy: 0.9824561403508771\n",
            "Iteration 32: ['l2', 'newton-cg', 800, 100.0, 0.7]: Accuracy: 0.9824561403508771\n",
            "Iteration 33: ['l2', 'newton-cg', 800, 100.0, 0.7]: Accuracy: 0.9824561403508771\n",
            "Iteration 34: ['l2', 'newton-cg', 800, 100.0, 0.7]: Accuracy: 0.9824561403508771\n",
            "Iteration 35: ['l1', 'liblinear', 100, 10.0, 0.5]: Accuracy: 0.9824561403508771\n",
            "Iteration 36: ['l2', 'liblinear', 800, 10.0, 0.3]: Accuracy: 0.9824561403508771\n",
            "Iteration 37: ['l1', 'liblinear', 100, 10.0, 0.5]: Accuracy: 0.9824561403508771\n",
            "Iteration 38: ['l2', 'liblinear', 100, 10.0, 0.5]: Accuracy: 0.9824561403508771\n",
            "Iteration 39: ['l2', 'liblinear', 100, 10.0, 0.5]: Accuracy: 0.9824561403508771\n",
            "Iteration 40: ['l1', 'liblinear', 100, 10.0, 0.5]: Accuracy: 0.9824561403508771\n",
            "Iteration 41: ['l2', 'liblinear', 100, 100.0, 0.5]: Accuracy: 0.9824561403508771\n",
            "Iteration 42: ['l2', 'newton-cg', 100, 100.0, 0.5]: Accuracy: 0.9824561403508771\n",
            "Iteration 43: ['l2', 'liblinear', 500, 10.0, 0.5]: Accuracy: 0.9824561403508771\n",
            "Iteration 44: ['l2', 'liblinear', 100, 10.0, 0.5]: Accuracy: 0.9824561403508771\n",
            "Iteration 45: ['l2', 'liblinear', 100, 10.0, 0.7]: Accuracy: 0.9824561403508771\n",
            "Iteration 46: ['l2', 'liblinear', 100, 10.0, 0.7]: Accuracy: 0.9824561403508771\n",
            "Iteration 47: ['l2', 'liblinear', 100, 10.0, 0.3]: Accuracy: 0.9824561403508771\n",
            "Iteration 48: ['l2', 'liblinear', 100, 100.0, 0.5]: Accuracy: 0.9824561403508771\n",
            "Iteration 49: ['l2', 'liblinear', 100, 100.0, 0.5]: Accuracy: 0.9824561403508771\n",
            "Iteration 50: ['l2', 'liblinear', 100, 10.0, 0.5]: Accuracy: 0.9824561403508771\n",
            "0.9824561403508771\n",
            "CPU times: user 16.9 s, sys: 7.14 s, total: 24 s\n",
            "Wall time: 18.8 s\n"
          ]
        }
      ]
    },
    {
      "cell_type": "code",
      "source": [
        "lr_cached.plot_history()"
      ],
      "metadata": {
        "colab": {
          "base_uri": "https://localhost:8080/",
          "height": 472
        },
        "id": "nJSGqxLIR7aP",
        "outputId": "26bcd664-c346-4aed-c1ef-8c2aaabfd5de"
      },
      "execution_count": 88,
      "outputs": [
        {
          "output_type": "display_data",
          "data": {
            "text/plain": [
              "<Figure size 640x480 with 1 Axes>"
            ],
            "image/png": "[encoded data removed]"
          },
          "metadata": {}
        }
      ]
    },
    {
      "cell_type": "code",
      "source": [],
      "metadata": {
        "id": "EbTMfcSgR9QJ"
      },
      "execution_count": null,
      "outputs": []
    },
    {
      "cell_type": "code",
      "source": [
        "lr_cached.best_params"
      ],
      "metadata": {
        "colab": {
          "base_uri": "https://localhost:8080/"
        },
        "id": "sg0bW_4-IVYd",
        "outputId": "7d082aa3-115f-4e5c-8c18-2bbb1dd4c74f"
      },
      "execution_count": 89,
      "outputs": [
        {
          "output_type": "execute_result",
          "data": {
            "text/plain": [
              "['l2', 'liblinear', 100, 10.0, 0.5]"
            ]
          },
          "metadata": {},
          "execution_count": 89
        }
      ]
    },
    {
      "cell_type": "code",
      "source": [
        "lr_cached.best_clf"
      ],
      "metadata": {
        "colab": {
          "base_uri": "https://localhost:8080/",
          "height": 74
        },
        "id": "dexxjqoJ9pMP",
        "outputId": "4d6c6825-3aa9-412b-edc2-17db81b0ebb7"
      },
      "execution_count": 90,
      "outputs": [
        {
          "output_type": "execute_result",
          "data": {
            "text/plain": [
              "LogisticRegression(C=10.0, l1_ratio=0.5, solver='liblinear')"
            ],
            "text/html": [
              "<style>#sk-container-id-1 {color: black;background-color: white;}#sk-container-id-1 pre{padding: 0;}#sk-container-id-1 div.sk-toggleable {background-color: white;}#sk-container-id-1 label.sk-toggleable__label {cursor: pointer;display: block;width: 100%;margin-bottom: 0;padding: 0.3em;box-sizing: border-box;text-align: center;}#sk-container-id-1 label.sk-toggleable__label-arrow:before {content: \"▸\";float: left;margin-right: 0.25em;color: #696969;}#sk-container-id-1 label.sk-toggleable__label-arrow:hover:before {color: black;}#sk-container-id-1 div.sk-estimator:hover label.sk-toggleable__label-arrow:before {color: black;}#sk-container-id-1 div.sk-toggleable__content {max-height: 0;max-width: 0;overflow: hidden;text-align: left;background-color: #f0f8ff;}#sk-container-id-1 div.sk-toggleable__content pre {margin: 0.2em;color: black;border-radius: 0.25em;background-color: #f0f8ff;}#sk-container-id-1 input.sk-toggleable__control:checked~div.sk-toggleable__content {max-height: 200px;max-width: 100%;overflow: auto;}#sk-container-id-1 input.sk-toggleable__control:checked~label.sk-toggleable__label-arrow:before {content: \"▾\";}#sk-container-id-1 div.sk-estimator input.sk-toggleable__control:checked~label.sk-toggleable__label {background-color: #d4ebff;}#sk-container-id-1 div.sk-label input.sk-toggleable__control:checked~label.sk-toggleable__label {background-color: #d4ebff;}#sk-container-id-1 input.sk-hidden--visually {border: 0;clip: rect(1px 1px 1px 1px);clip: rect(1px, 1px, 1px, 1px);height: 1px;margin: -1px;overflow: hidden;padding: 0;position: absolute;width: 1px;}#sk-container-id-1 div.sk-estimator {font-family: monospace;background-color: #f0f8ff;border: 1px dotted black;border-radius: 0.25em;box-sizing: border-box;margin-bottom: 0.5em;}#sk-container-id-1 div.sk-estimator:hover {background-color: #d4ebff;}#sk-container-id-1 div.sk-parallel-item::after {content: \"\";width: 100%;border-bottom: 1px solid gray;flex-grow: 1;}#sk-container-id-1 div.sk-label:hover label.sk-toggleable__label {background-color: #d4ebff;}#sk-container-id-1 div.sk-serial::before {content: \"\";position: absolute;border-left: 1px solid gray;box-sizing: border-box;top: 0;bottom: 0;left: 50%;z-index: 0;}#sk-container-id-1 div.sk-serial {display: flex;flex-direction: column;align-items: center;background-color: white;padding-right: 0.2em;padding-left: 0.2em;position: relative;}#sk-container-id-1 div.sk-item {position: relative;z-index: 1;}#sk-container-id-1 div.sk-parallel {display: flex;align-items: stretch;justify-content: center;background-color: white;position: relative;}#sk-container-id-1 div.sk-item::before, #sk-container-id-1 div.sk-parallel-item::before {content: \"\";position: absolute;border-left: 1px solid gray;box-sizing: border-box;top: 0;bottom: 0;left: 50%;z-index: -1;}#sk-container-id-1 div.sk-parallel-item {display: flex;flex-direction: column;z-index: 1;position: relative;background-color: white;}#sk-container-id-1 div.sk-parallel-item:first-child::after {align-self: flex-end;width: 50%;}#sk-container-id-1 div.sk-parallel-item:last-child::after {align-self: flex-start;width: 50%;}#sk-container-id-1 div.sk-parallel-item:only-child::after {width: 0;}#sk-container-id-1 div.sk-dashed-wrapped {border: 1px dashed gray;margin: 0 0.4em 0.5em 0.4em;box-sizing: border-box;padding-bottom: 0.4em;background-color: white;}#sk-container-id-1 div.sk-label label {font-family: monospace;font-weight: bold;display: inline-block;line-height: 1.2em;}#sk-container-id-1 div.sk-label-container {text-align: center;}#sk-container-id-1 div.sk-container {/* jupyter's `normalize.less` sets `[hidden] { display: none; }` but bootstrap.min.css set `[hidden] { display: none !important; }` so we also need the `!important` here to be able to override the default hidden behavior on the sphinx rendered scikit-learn.org. See: https://github.com/scikit-learn/scikit-learn/issues/21755 */display: inline-block !important;position: relative;}#sk-container-id-1 div.sk-text-repr-fallback {display: none;}</style><div id=\"sk-container-id-1\" class=\"sk-top-container\"><div class=\"sk-text-repr-fallback\"><pre>LogisticRegression(C=10.0, l1_ratio=0.5, solver=&#x27;liblinear&#x27;)</pre><b>In a Jupyter environment, please rerun this cell to show the HTML representation or trust the notebook. <br />On GitHub, the HTML representation is unable to render, please try loading this page with nbviewer.org.</b></div><div class=\"sk-container\" hidden><div class=\"sk-item\"><div class=\"sk-estimator sk-toggleable\"><input class=\"sk-toggleable__control sk-hidden--visually\" id=\"sk-estimator-id-1\" type=\"checkbox\" checked><label for=\"sk-estimator-id-1\" class=\"sk-toggleable__label sk-toggleable__label-arrow\">LogisticRegression</label><div class=\"sk-toggleable__content\"><pre>LogisticRegression(C=10.0, l1_ratio=0.5, solver=&#x27;liblinear&#x27;)</pre></div></div></div></div></div>"
            ]
          },
          "metadata": {},
          "execution_count": 90
        }
      ]
    },
    {
      "cell_type": "code",
      "source": [
        "lr_cached.best_clf"
      ],
      "metadata": {
        "colab": {
          "base_uri": "https://localhost:8080/",
          "height": 74
        },
        "id": "M_N2QtHJIaiS",
        "outputId": "33e69225-91ff-443e-b965-b23eb48b8009"
      },
      "execution_count": 91,
      "outputs": [
        {
          "output_type": "execute_result",
          "data": {
            "text/plain": [
              "LogisticRegression(C=10.0, l1_ratio=0.5, solver='liblinear')"
            ],
            "text/html": [
              "<style>#sk-container-id-2 {color: black;background-color: white;}#sk-container-id-2 pre{padding: 0;}#sk-container-id-2 div.sk-toggleable {background-color: white;}#sk-container-id-2 label.sk-toggleable__label {cursor: pointer;display: block;width: 100%;margin-bottom: 0;padding: 0.3em;box-sizing: border-box;text-align: center;}#sk-container-id-2 label.sk-toggleable__label-arrow:before {content: \"▸\";float: left;margin-right: 0.25em;color: #696969;}#sk-container-id-2 label.sk-toggleable__label-arrow:hover:before {color: black;}#sk-container-id-2 div.sk-estimator:hover label.sk-toggleable__label-arrow:before {color: black;}#sk-container-id-2 div.sk-toggleable__content {max-height: 0;max-width: 0;overflow: hidden;text-align: left;background-color: #f0f8ff;}#sk-container-id-2 div.sk-toggleable__content pre {margin: 0.2em;color: black;border-radius: 0.25em;background-color: #f0f8ff;}#sk-container-id-2 input.sk-toggleable__control:checked~div.sk-toggleable__content {max-height: 200px;max-width: 100%;overflow: auto;}#sk-container-id-2 input.sk-toggleable__control:checked~label.sk-toggleable__label-arrow:before {content: \"▾\";}#sk-container-id-2 div.sk-estimator input.sk-toggleable__control:checked~label.sk-toggleable__label {background-color: #d4ebff;}#sk-container-id-2 div.sk-label input.sk-toggleable__control:checked~label.sk-toggleable__label {background-color: #d4ebff;}#sk-container-id-2 input.sk-hidden--visually {border: 0;clip: rect(1px 1px 1px 1px);clip: rect(1px, 1px, 1px, 1px);height: 1px;margin: -1px;overflow: hidden;padding: 0;position: absolute;width: 1px;}#sk-container-id-2 div.sk-estimator {font-family: monospace;background-color: #f0f8ff;border: 1px dotted black;border-radius: 0.25em;box-sizing: border-box;margin-bottom: 0.5em;}#sk-container-id-2 div.sk-estimator:hover {background-color: #d4ebff;}#sk-container-id-2 div.sk-parallel-item::after {content: \"\";width: 100%;border-bottom: 1px solid gray;flex-grow: 1;}#sk-container-id-2 div.sk-label:hover label.sk-toggleable__label {background-color: #d4ebff;}#sk-container-id-2 div.sk-serial::before {content: \"\";position: absolute;border-left: 1px solid gray;box-sizing: border-box;top: 0;bottom: 0;left: 50%;z-index: 0;}#sk-container-id-2 div.sk-serial {display: flex;flex-direction: column;align-items: center;background-color: white;padding-right: 0.2em;padding-left: 0.2em;position: relative;}#sk-container-id-2 div.sk-item {position: relative;z-index: 1;}#sk-container-id-2 div.sk-parallel {display: flex;align-items: stretch;justify-content: center;background-color: white;position: relative;}#sk-container-id-2 div.sk-item::before, #sk-container-id-2 div.sk-parallel-item::before {content: \"\";position: absolute;border-left: 1px solid gray;box-sizing: border-box;top: 0;bottom: 0;left: 50%;z-index: -1;}#sk-container-id-2 div.sk-parallel-item {display: flex;flex-direction: column;z-index: 1;position: relative;background-color: white;}#sk-container-id-2 div.sk-parallel-item:first-child::after {align-self: flex-end;width: 50%;}#sk-container-id-2 div.sk-parallel-item:last-child::after {align-self: flex-start;width: 50%;}#sk-container-id-2 div.sk-parallel-item:only-child::after {width: 0;}#sk-container-id-2 div.sk-dashed-wrapped {border: 1px dashed gray;margin: 0 0.4em 0.5em 0.4em;box-sizing: border-box;padding-bottom: 0.4em;background-color: white;}#sk-container-id-2 div.sk-label label {font-family: monospace;font-weight: bold;display: inline-block;line-height: 1.2em;}#sk-container-id-2 div.sk-label-container {text-align: center;}#sk-container-id-2 div.sk-container {/* jupyter's `normalize.less` sets `[hidden] { display: none; }` but bootstrap.min.css set `[hidden] { display: none !important; }` so we also need the `!important` here to be able to override the default hidden behavior on the sphinx rendered scikit-learn.org. See: https://github.com/scikit-learn/scikit-learn/issues/21755 */display: inline-block !important;position: relative;}#sk-container-id-2 div.sk-text-repr-fallback {display: none;}</style><div id=\"sk-container-id-2\" class=\"sk-top-container\"><div class=\"sk-text-repr-fallback\"><pre>LogisticRegression(C=10.0, l1_ratio=0.5, solver=&#x27;liblinear&#x27;)</pre><b>In a Jupyter environment, please rerun this cell to show the HTML representation or trust the notebook. <br />On GitHub, the HTML representation is unable to render, please try loading this page with nbviewer.org.</b></div><div class=\"sk-container\" hidden><div class=\"sk-item\"><div class=\"sk-estimator sk-toggleable\"><input class=\"sk-toggleable__control sk-hidden--visually\" id=\"sk-estimator-id-2\" type=\"checkbox\" checked><label for=\"sk-estimator-id-2\" class=\"sk-toggleable__label sk-toggleable__label-arrow\">LogisticRegression</label><div class=\"sk-toggleable__content\"><pre>LogisticRegression(C=10.0, l1_ratio=0.5, solver=&#x27;liblinear&#x27;)</pre></div></div></div></div></div>"
            ]
          },
          "metadata": {},
          "execution_count": 91
        }
      ]
    },
    {
      "cell_type": "code",
      "source": [
        "lr_cached.best_clf.score(X_test, y_test)"
      ],
      "metadata": {
        "id": "p9Oz_K5yIce-",
        "colab": {
          "base_uri": "https://localhost:8080/"
        },
        "outputId": "7bd3b2f8-d2dd-434a-faba-1154496708c5"
      },
      "execution_count": 92,
      "outputs": [
        {
          "output_type": "execute_result",
          "data": {
            "text/plain": [
              "0.9824561403508771"
            ]
          },
          "metadata": {},
          "execution_count": 92
        }
      ]
    },
    {
      "cell_type": "code",
      "source": [
        "lr_brute = LogisticRegression(C=10.0, l1_ratio=0.5, solver='liblinear')"
      ],
      "metadata": {
        "id": "jxMRpvK12GFv"
      },
      "execution_count": 94,
      "outputs": []
    },
    {
      "cell_type": "code",
      "source": [
        "lr_brute.fit(X_train,y_train)"
      ],
      "metadata": {
        "colab": {
          "base_uri": "https://localhost:8080/",
          "height": 74
        },
        "id": "LeOClURh7kPK",
        "outputId": "df8bffad-2ada-4487-d7f3-89cb47d174eb"
      },
      "execution_count": 95,
      "outputs": [
        {
          "output_type": "execute_result",
          "data": {
            "text/plain": [
              "LogisticRegression(C=10.0, l1_ratio=0.5, solver='liblinear')"
            ],
            "text/html": [
              "<style>#sk-container-id-3 {color: black;background-color: white;}#sk-container-id-3 pre{padding: 0;}#sk-container-id-3 div.sk-toggleable {background-color: white;}#sk-container-id-3 label.sk-toggleable__label {cursor: pointer;display: block;width: 100%;margin-bottom: 0;padding: 0.3em;box-sizing: border-box;text-align: center;}#sk-container-id-3 label.sk-toggleable__label-arrow:before {content: \"▸\";float: left;margin-right: 0.25em;color: #696969;}#sk-container-id-3 label.sk-toggleable__label-arrow:hover:before {color: black;}#sk-container-id-3 div.sk-estimator:hover label.sk-toggleable__label-arrow:before {color: black;}#sk-container-id-3 div.sk-toggleable__content {max-height: 0;max-width: 0;overflow: hidden;text-align: left;background-color: #f0f8ff;}#sk-container-id-3 div.sk-toggleable__content pre {margin: 0.2em;color: black;border-radius: 0.25em;background-color: #f0f8ff;}#sk-container-id-3 input.sk-toggleable__control:checked~div.sk-toggleable__content {max-height: 200px;max-width: 100%;overflow: auto;}#sk-container-id-3 input.sk-toggleable__control:checked~label.sk-toggleable__label-arrow:before {content: \"▾\";}#sk-container-id-3 div.sk-estimator input.sk-toggleable__control:checked~label.sk-toggleable__label {background-color: #d4ebff;}#sk-container-id-3 div.sk-label input.sk-toggleable__control:checked~label.sk-toggleable__label {background-color: #d4ebff;}#sk-container-id-3 input.sk-hidden--visually {border: 0;clip: rect(1px 1px 1px 1px);clip: rect(1px, 1px, 1px, 1px);height: 1px;margin: -1px;overflow: hidden;padding: 0;position: absolute;width: 1px;}#sk-container-id-3 div.sk-estimator {font-family: monospace;background-color: #f0f8ff;border: 1px dotted black;border-radius: 0.25em;box-sizing: border-box;margin-bottom: 0.5em;}#sk-container-id-3 div.sk-estimator:hover {background-color: #d4ebff;}#sk-container-id-3 div.sk-parallel-item::after {content: \"\";width: 100%;border-bottom: 1px solid gray;flex-grow: 1;}#sk-container-id-3 div.sk-label:hover label.sk-toggleable__label {background-color: #d4ebff;}#sk-container-id-3 div.sk-serial::before {content: \"\";position: absolute;border-left: 1px solid gray;box-sizing: border-box;top: 0;bottom: 0;left: 50%;z-index: 0;}#sk-container-id-3 div.sk-serial {display: flex;flex-direction: column;align-items: center;background-color: white;padding-right: 0.2em;padding-left: 0.2em;position: relative;}#sk-container-id-3 div.sk-item {position: relative;z-index: 1;}#sk-container-id-3 div.sk-parallel {display: flex;align-items: stretch;justify-content: center;background-color: white;position: relative;}#sk-container-id-3 div.sk-item::before, #sk-container-id-3 div.sk-parallel-item::before {content: \"\";position: absolute;border-left: 1px solid gray;box-sizing: border-box;top: 0;bottom: 0;left: 50%;z-index: -1;}#sk-container-id-3 div.sk-parallel-item {display: flex;flex-direction: column;z-index: 1;position: relative;background-color: white;}#sk-container-id-3 div.sk-parallel-item:first-child::after {align-self: flex-end;width: 50%;}#sk-container-id-3 div.sk-parallel-item:last-child::after {align-self: flex-start;width: 50%;}#sk-container-id-3 div.sk-parallel-item:only-child::after {width: 0;}#sk-container-id-3 div.sk-dashed-wrapped {border: 1px dashed gray;margin: 0 0.4em 0.5em 0.4em;box-sizing: border-box;padding-bottom: 0.4em;background-color: white;}#sk-container-id-3 div.sk-label label {font-family: monospace;font-weight: bold;display: inline-block;line-height: 1.2em;}#sk-container-id-3 div.sk-label-container {text-align: center;}#sk-container-id-3 div.sk-container {/* jupyter's `normalize.less` sets `[hidden] { display: none; }` but bootstrap.min.css set `[hidden] { display: none !important; }` so we also need the `!important` here to be able to override the default hidden behavior on the sphinx rendered scikit-learn.org. See: https://github.com/scikit-learn/scikit-learn/issues/21755 */display: inline-block !important;position: relative;}#sk-container-id-3 div.sk-text-repr-fallback {display: none;}</style><div id=\"sk-container-id-3\" class=\"sk-top-container\"><div class=\"sk-text-repr-fallback\"><pre>LogisticRegression(C=10.0, l1_ratio=0.5, solver=&#x27;liblinear&#x27;)</pre><b>In a Jupyter environment, please rerun this cell to show the HTML representation or trust the notebook. <br />On GitHub, the HTML representation is unable to render, please try loading this page with nbviewer.org.</b></div><div class=\"sk-container\" hidden><div class=\"sk-item\"><div class=\"sk-estimator sk-toggleable\"><input class=\"sk-toggleable__control sk-hidden--visually\" id=\"sk-estimator-id-3\" type=\"checkbox\" checked><label for=\"sk-estimator-id-3\" class=\"sk-toggleable__label sk-toggleable__label-arrow\">LogisticRegression</label><div class=\"sk-toggleable__content\"><pre>LogisticRegression(C=10.0, l1_ratio=0.5, solver=&#x27;liblinear&#x27;)</pre></div></div></div></div></div>"
            ]
          },
          "metadata": {},
          "execution_count": 95
        }
      ]
    },
    {
      "cell_type": "code",
      "source": [
        "lr_brute.score(X_test, y_test)"
      ],
      "metadata": {
        "colab": {
          "base_uri": "https://localhost:8080/"
        },
        "id": "GBmzNs6C7pwg",
        "outputId": "8e8d87ba-4f08-4f5c-b663-04fb91c5407d"
      },
      "execution_count": 96,
      "outputs": [
        {
          "output_type": "execute_result",
          "data": {
            "text/plain": [
              "0.9824561403508771"
            ]
          },
          "metadata": {},
          "execution_count": 96
        }
      ]
    },
    {
      "cell_type": "code",
      "source": [
        "%%time\n",
        "\n",
        "from sklearn.model_selection import GridSearchCV\n",
        "\n",
        "# Define the logistic regression model\n",
        "lrCV = LogisticRegression()\n",
        "\n",
        "# Define the hyperparameters to search over\n",
        "param_grid = {\n",
        "    'penalty': ['l1', 'l2', 'elasticnet'],\n",
        "    'C': [0.1, 1, 10, 100],\n",
        "    'solver': ['lbfgs', 'liblinear', 'saga', 'newton-cg', 'newton-cholesky', 'sag'],\n",
        "    'max_iter': [100, 200, 300, 500, 800],\n",
        "    'l1_ratio' : [0.1, 0.3, 0.5, 0.7, 0.9]\n",
        "}\n",
        "\n",
        "# Perform GridSearchCV\n",
        "grid_search = GridSearchCV(lrCV, param_grid, cv=5, n_jobs=-1)\n",
        "grid_search.fit(X_train, y_train)\n",
        "\n",
        "# Print the best hyperparameters and the corresponding score\n",
        "print(\"Best hyperparameters: \", grid_search.best_params_)\n",
        "print(\"Best score: \", grid_search.best_score_)"
      ],
      "metadata": {
        "colab": {
          "base_uri": "https://localhost:8080/"
        },
        "id": "iGC_r1CK7tRo",
        "outputId": "02b46ab0-0ea7-4fc3-8f2e-b3c109011623"
      },
      "execution_count": null,
      "outputs": [
        {
          "output_type": "stream",
          "name": "stdout",
          "text": [
            "Best hyperparameters:  {'C': 10, 'l1_ratio': 0.1, 'max_iter': 200, 'penalty': 'l1', 'solver': 'liblinear'}\n",
            "Best score:  0.9670329670329669\n",
            "CPU times: user 6.37 s, sys: 284 ms, total: 6.65 s\n",
            "Wall time: 5min 8s\n"
          ]
        }
      ]
    },
    {
      "cell_type": "code",
      "source": [
        "grid_search.n_splits_"
      ],
      "metadata": {
        "colab": {
          "base_uri": "https://localhost:8080/"
        },
        "id": "J-RiOvZo-Dp-",
        "outputId": "17f556a8-f85f-4bd0-afbc-d90f3ef18b88"
      },
      "execution_count": null,
      "outputs": [
        {
          "output_type": "execute_result",
          "data": {
            "text/plain": [
              "5"
            ]
          },
          "metadata": {},
          "execution_count": 83
        }
      ]
    },
    {
      "cell_type": "code",
      "source": [
        "lr_grid = LogisticRegression(C=10, l1_ratio = 0.1, max_iter= 200, penalty= 'l1', solver= 'liblinear')\n",
        "lr_grid.fit(X_train, y_train)\n",
        "print(lr_grid.score(X_test, y_test))"
      ],
      "metadata": {
        "id": "m7XOCdg8FIwQ",
        "colab": {
          "base_uri": "https://localhost:8080/"
        },
        "outputId": "78d83d71-909a-46c2-9141-5ddae67a75d2"
      },
      "execution_count": null,
      "outputs": [
        {
          "output_type": "stream",
          "name": "stdout",
          "text": [
            "0.9824561403508771\n"
          ]
        }
      ]
    },
    {
      "cell_type": "code",
      "source": [],
      "metadata": {
        "id": "Dwx31jiODg1d"
      },
      "execution_count": null,
      "outputs": []
    }
  ]
}
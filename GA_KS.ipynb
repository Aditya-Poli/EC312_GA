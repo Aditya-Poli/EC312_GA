{
  "nbformat": 4,
  "nbformat_minor": 0,
  "metadata": {
    "colab": {
      "provenance": [],
      "collapsed_sections": [
        "SohPf7NH2TIF",
        "gyzcsoDezsSC",
        "lAiEMAfoS0NF"
      ],
      "authorship_tag": "ABX9TyMdFia12CEuL6QOYhfNLMyr",
      "include_colab_link": true
    },
    "kernelspec": {
      "name": "python3",
      "display_name": "Python 3"
    },
    "language_info": {
      "name": "python"
    },
    "widgets": {
      "application/vnd.jupyter.widget-state+json": {
        "0e50984f513b488f8e613dcd70da7d01": {
          "model_module": "@jupyter-widgets/controls",
          "model_name": "HBoxModel",
          "model_module_version": "1.5.0",
          "state": {
            "_dom_classes": [],
            "_model_module": "@jupyter-widgets/controls",
            "_model_module_version": "1.5.0",
            "_model_name": "HBoxModel",
            "_view_count": null,
            "_view_module": "@jupyter-widgets/controls",
            "_view_module_version": "1.5.0",
            "_view_name": "HBoxView",
            "box_style": "",
            "children": [
              "IPY_MODEL_bac04dd0149849f9892201041ec587aa",
              "IPY_MODEL_329e8437495744e58cca8db7bd69a5ed",
              "IPY_MODEL_6e8feb59052b45c9bc738fcc88688e4b"
            ],
            "layout": "IPY_MODEL_6540c33feb974fe18d6ec9584b259ad2"
          }
        },
        "bac04dd0149849f9892201041ec587aa": {
          "model_module": "@jupyter-widgets/controls",
          "model_name": "HTMLModel",
          "model_module_version": "1.5.0",
          "state": {
            "_dom_classes": [],
            "_model_module": "@jupyter-widgets/controls",
            "_model_module_version": "1.5.0",
            "_model_name": "HTMLModel",
            "_view_count": null,
            "_view_module": "@jupyter-widgets/controls",
            "_view_module_version": "1.5.0",
            "_view_name": "HTMLView",
            "description": "",
            "description_tooltip": null,
            "layout": "IPY_MODEL_48e9e23e5e9c432eb9fc68ea2a131bb2",
            "placeholder": "​",
            "style": "IPY_MODEL_cd9d8d1a9ab04ec58b718d69942d1e50",
            "value": "100%"
          }
        },
        "329e8437495744e58cca8db7bd69a5ed": {
          "model_module": "@jupyter-widgets/controls",
          "model_name": "FloatProgressModel",
          "model_module_version": "1.5.0",
          "state": {
            "_dom_classes": [],
            "_model_module": "@jupyter-widgets/controls",
            "_model_module_version": "1.5.0",
            "_model_name": "FloatProgressModel",
            "_view_count": null,
            "_view_module": "@jupyter-widgets/controls",
            "_view_module_version": "1.5.0",
            "_view_name": "ProgressView",
            "bar_style": "success",
            "description": "",
            "description_tooltip": null,
            "layout": "IPY_MODEL_cc1938969be14082a2d289d00331c5f7",
            "max": 50,
            "min": 0,
            "orientation": "horizontal",
            "style": "IPY_MODEL_d08f67e827dd4efaabb7f2f1951270d4",
            "value": 50
          }
        },
        "6e8feb59052b45c9bc738fcc88688e4b": {
          "model_module": "@jupyter-widgets/controls",
          "model_name": "HTMLModel",
          "model_module_version": "1.5.0",
          "state": {
            "_dom_classes": [],
            "_model_module": "@jupyter-widgets/controls",
            "_model_module_version": "1.5.0",
            "_model_name": "HTMLModel",
            "_view_count": null,
            "_view_module": "@jupyter-widgets/controls",
            "_view_module_version": "1.5.0",
            "_view_name": "HTMLView",
            "description": "",
            "description_tooltip": null,
            "layout": "IPY_MODEL_b974be8da0f64b0ebd854f01d7983830",
            "placeholder": "​",
            "style": "IPY_MODEL_b0e4268480454fa8858cc00d3bc9fec5",
            "value": " 50/50 [00:01&lt;00:00, 43.40it/s]"
          }
        },
        "6540c33feb974fe18d6ec9584b259ad2": {
          "model_module": "@jupyter-widgets/base",
          "model_name": "LayoutModel",
          "model_module_version": "1.2.0",
          "state": {
            "_model_module": "@jupyter-widgets/base",
            "_model_module_version": "1.2.0",
            "_model_name": "LayoutModel",
            "_view_count": null,
            "_view_module": "@jupyter-widgets/base",
            "_view_module_version": "1.2.0",
            "_view_name": "LayoutView",
            "align_content": null,
            "align_items": null,
            "align_self": null,
            "border": null,
            "bottom": null,
            "display": "inline-flex",
            "flex": null,
            "flex_flow": "row wrap",
            "grid_area": null,
            "grid_auto_columns": null,
            "grid_auto_flow": null,
            "grid_auto_rows": null,
            "grid_column": null,
            "grid_gap": null,
            "grid_row": null,
            "grid_template_areas": null,
            "grid_template_columns": null,
            "grid_template_rows": null,
            "height": null,
            "justify_content": null,
            "justify_items": null,
            "left": null,
            "margin": null,
            "max_height": null,
            "max_width": null,
            "min_height": null,
            "min_width": null,
            "object_fit": null,
            "object_position": null,
            "order": null,
            "overflow": null,
            "overflow_x": null,
            "overflow_y": null,
            "padding": null,
            "right": null,
            "top": null,
            "visibility": null,
            "width": "100%"
          }
        },
        "48e9e23e5e9c432eb9fc68ea2a131bb2": {
          "model_module": "@jupyter-widgets/base",
          "model_name": "LayoutModel",
          "model_module_version": "1.2.0",
          "state": {
            "_model_module": "@jupyter-widgets/base",
            "_model_module_version": "1.2.0",
            "_model_name": "LayoutModel",
            "_view_count": null,
            "_view_module": "@jupyter-widgets/base",
            "_view_module_version": "1.2.0",
            "_view_name": "LayoutView",
            "align_content": null,
            "align_items": null,
            "align_self": null,
            "border": null,
            "bottom": null,
            "display": null,
            "flex": null,
            "flex_flow": null,
            "grid_area": null,
            "grid_auto_columns": null,
            "grid_auto_flow": null,
            "grid_auto_rows": null,
            "grid_column": null,
            "grid_gap": null,
            "grid_row": null,
            "grid_template_areas": null,
            "grid_template_columns": null,
            "grid_template_rows": null,
            "height": null,
            "justify_content": null,
            "justify_items": null,
            "left": null,
            "margin": null,
            "max_height": null,
            "max_width": null,
            "min_height": null,
            "min_width": null,
            "object_fit": null,
            "object_position": null,
            "order": null,
            "overflow": null,
            "overflow_x": null,
            "overflow_y": null,
            "padding": null,
            "right": null,
            "top": null,
            "visibility": null,
            "width": null
          }
        },
        "cd9d8d1a9ab04ec58b718d69942d1e50": {
          "model_module": "@jupyter-widgets/controls",
          "model_name": "DescriptionStyleModel",
          "model_module_version": "1.5.0",
          "state": {
            "_model_module": "@jupyter-widgets/controls",
            "_model_module_version": "1.5.0",
            "_model_name": "DescriptionStyleModel",
            "_view_count": null,
            "_view_module": "@jupyter-widgets/base",
            "_view_module_version": "1.2.0",
            "_view_name": "StyleView",
            "description_width": ""
          }
        },
        "cc1938969be14082a2d289d00331c5f7": {
          "model_module": "@jupyter-widgets/base",
          "model_name": "LayoutModel",
          "model_module_version": "1.2.0",
          "state": {
            "_model_module": "@jupyter-widgets/base",
            "_model_module_version": "1.2.0",
            "_model_name": "LayoutModel",
            "_view_count": null,
            "_view_module": "@jupyter-widgets/base",
            "_view_module_version": "1.2.0",
            "_view_name": "LayoutView",
            "align_content": null,
            "align_items": null,
            "align_self": null,
            "border": null,
            "bottom": null,
            "display": null,
            "flex": "2",
            "flex_flow": null,
            "grid_area": null,
            "grid_auto_columns": null,
            "grid_auto_flow": null,
            "grid_auto_rows": null,
            "grid_column": null,
            "grid_gap": null,
            "grid_row": null,
            "grid_template_areas": null,
            "grid_template_columns": null,
            "grid_template_rows": null,
            "height": null,
            "justify_content": null,
            "justify_items": null,
            "left": null,
            "margin": null,
            "max_height": null,
            "max_width": null,
            "min_height": null,
            "min_width": null,
            "object_fit": null,
            "object_position": null,
            "order": null,
            "overflow": null,
            "overflow_x": null,
            "overflow_y": null,
            "padding": null,
            "right": null,
            "top": null,
            "visibility": null,
            "width": null
          }
        },
        "d08f67e827dd4efaabb7f2f1951270d4": {
          "model_module": "@jupyter-widgets/controls",
          "model_name": "ProgressStyleModel",
          "model_module_version": "1.5.0",
          "state": {
            "_model_module": "@jupyter-widgets/controls",
            "_model_module_version": "1.5.0",
            "_model_name": "ProgressStyleModel",
            "_view_count": null,
            "_view_module": "@jupyter-widgets/base",
            "_view_module_version": "1.2.0",
            "_view_name": "StyleView",
            "bar_color": null,
            "description_width": ""
          }
        },
        "b974be8da0f64b0ebd854f01d7983830": {
          "model_module": "@jupyter-widgets/base",
          "model_name": "LayoutModel",
          "model_module_version": "1.2.0",
          "state": {
            "_model_module": "@jupyter-widgets/base",
            "_model_module_version": "1.2.0",
            "_model_name": "LayoutModel",
            "_view_count": null,
            "_view_module": "@jupyter-widgets/base",
            "_view_module_version": "1.2.0",
            "_view_name": "LayoutView",
            "align_content": null,
            "align_items": null,
            "align_self": null,
            "border": null,
            "bottom": null,
            "display": null,
            "flex": null,
            "flex_flow": null,
            "grid_area": null,
            "grid_auto_columns": null,
            "grid_auto_flow": null,
            "grid_auto_rows": null,
            "grid_column": null,
            "grid_gap": null,
            "grid_row": null,
            "grid_template_areas": null,
            "grid_template_columns": null,
            "grid_template_rows": null,
            "height": null,
            "justify_content": null,
            "justify_items": null,
            "left": null,
            "margin": null,
            "max_height": null,
            "max_width": null,
            "min_height": null,
            "min_width": null,
            "object_fit": null,
            "object_position": null,
            "order": null,
            "overflow": null,
            "overflow_x": null,
            "overflow_y": null,
            "padding": null,
            "right": null,
            "top": null,
            "visibility": null,
            "width": null
          }
        },
        "b0e4268480454fa8858cc00d3bc9fec5": {
          "model_module": "@jupyter-widgets/controls",
          "model_name": "DescriptionStyleModel",
          "model_module_version": "1.5.0",
          "state": {
            "_model_module": "@jupyter-widgets/controls",
            "_model_module_version": "1.5.0",
            "_model_name": "DescriptionStyleModel",
            "_view_count": null,
            "_view_module": "@jupyter-widgets/base",
            "_view_module_version": "1.2.0",
            "_view_name": "StyleView",
            "description_width": ""
          }
        },
        "7aa959a93f774d278ab657318f518d6b": {
          "model_module": "@jupyter-widgets/controls",
          "model_name": "HBoxModel",
          "model_module_version": "1.5.0",
          "state": {
            "_dom_classes": [],
            "_model_module": "@jupyter-widgets/controls",
            "_model_module_version": "1.5.0",
            "_model_name": "HBoxModel",
            "_view_count": null,
            "_view_module": "@jupyter-widgets/controls",
            "_view_module_version": "1.5.0",
            "_view_name": "HBoxView",
            "box_style": "",
            "children": [
              "IPY_MODEL_352bf910956e49c3bb686200da54d4d8",
              "IPY_MODEL_6f9ed8c74913409ba838fa2f461847b3",
              "IPY_MODEL_1f1c63539138478bb56ada6b6067014f"
            ],
            "layout": "IPY_MODEL_2627c5fb61514389b2c45b028821d7e3"
          }
        },
        "352bf910956e49c3bb686200da54d4d8": {
          "model_module": "@jupyter-widgets/controls",
          "model_name": "HTMLModel",
          "model_module_version": "1.5.0",
          "state": {
            "_dom_classes": [],
            "_model_module": "@jupyter-widgets/controls",
            "_model_module_version": "1.5.0",
            "_model_name": "HTMLModel",
            "_view_count": null,
            "_view_module": "@jupyter-widgets/controls",
            "_view_module_version": "1.5.0",
            "_view_name": "HTMLView",
            "description": "",
            "description_tooltip": null,
            "layout": "IPY_MODEL_e704d8b06a7442b49f587b63311b14a8",
            "placeholder": "​",
            "style": "IPY_MODEL_e9c4d0d60a064b2ba9a6127460053b29",
            "value": "100%"
          }
        },
        "6f9ed8c74913409ba838fa2f461847b3": {
          "model_module": "@jupyter-widgets/controls",
          "model_name": "FloatProgressModel",
          "model_module_version": "1.5.0",
          "state": {
            "_dom_classes": [],
            "_model_module": "@jupyter-widgets/controls",
            "_model_module_version": "1.5.0",
            "_model_name": "FloatProgressModel",
            "_view_count": null,
            "_view_module": "@jupyter-widgets/controls",
            "_view_module_version": "1.5.0",
            "_view_name": "ProgressView",
            "bar_style": "success",
            "description": "",
            "description_tooltip": null,
            "layout": "IPY_MODEL_2834283d65b5491993ec8fc5ae8d6154",
            "max": 50,
            "min": 0,
            "orientation": "horizontal",
            "style": "IPY_MODEL_8d742433f24843c6b64748b3cd554ff2",
            "value": 50
          }
        },
        "1f1c63539138478bb56ada6b6067014f": {
          "model_module": "@jupyter-widgets/controls",
          "model_name": "HTMLModel",
          "model_module_version": "1.5.0",
          "state": {
            "_dom_classes": [],
            "_model_module": "@jupyter-widgets/controls",
            "_model_module_version": "1.5.0",
            "_model_name": "HTMLModel",
            "_view_count": null,
            "_view_module": "@jupyter-widgets/controls",
            "_view_module_version": "1.5.0",
            "_view_name": "HTMLView",
            "description": "",
            "description_tooltip": null,
            "layout": "IPY_MODEL_abed6ccb8e034c7cb2c4437a4bf04e97",
            "placeholder": "​",
            "style": "IPY_MODEL_95824b5581aa45798c5794d7ba9b442a",
            "value": " 50/50 [00:00&lt;00:00, 91.54it/s]"
          }
        },
        "2627c5fb61514389b2c45b028821d7e3": {
          "model_module": "@jupyter-widgets/base",
          "model_name": "LayoutModel",
          "model_module_version": "1.2.0",
          "state": {
            "_model_module": "@jupyter-widgets/base",
            "_model_module_version": "1.2.0",
            "_model_name": "LayoutModel",
            "_view_count": null,
            "_view_module": "@jupyter-widgets/base",
            "_view_module_version": "1.2.0",
            "_view_name": "LayoutView",
            "align_content": null,
            "align_items": null,
            "align_self": null,
            "border": null,
            "bottom": null,
            "display": "inline-flex",
            "flex": null,
            "flex_flow": "row wrap",
            "grid_area": null,
            "grid_auto_columns": null,
            "grid_auto_flow": null,
            "grid_auto_rows": null,
            "grid_column": null,
            "grid_gap": null,
            "grid_row": null,
            "grid_template_areas": null,
            "grid_template_columns": null,
            "grid_template_rows": null,
            "height": null,
            "justify_content": null,
            "justify_items": null,
            "left": null,
            "margin": null,
            "max_height": null,
            "max_width": null,
            "min_height": null,
            "min_width": null,
            "object_fit": null,
            "object_position": null,
            "order": null,
            "overflow": null,
            "overflow_x": null,
            "overflow_y": null,
            "padding": null,
            "right": null,
            "top": null,
            "visibility": null,
            "width": "100%"
          }
        },
        "e704d8b06a7442b49f587b63311b14a8": {
          "model_module": "@jupyter-widgets/base",
          "model_name": "LayoutModel",
          "model_module_version": "1.2.0",
          "state": {
            "_model_module": "@jupyter-widgets/base",
            "_model_module_version": "1.2.0",
            "_model_name": "LayoutModel",
            "_view_count": null,
            "_view_module": "@jupyter-widgets/base",
            "_view_module_version": "1.2.0",
            "_view_name": "LayoutView",
            "align_content": null,
            "align_items": null,
            "align_self": null,
            "border": null,
            "bottom": null,
            "display": null,
            "flex": null,
            "flex_flow": null,
            "grid_area": null,
            "grid_auto_columns": null,
            "grid_auto_flow": null,
            "grid_auto_rows": null,
            "grid_column": null,
            "grid_gap": null,
            "grid_row": null,
            "grid_template_areas": null,
            "grid_template_columns": null,
            "grid_template_rows": null,
            "height": null,
            "justify_content": null,
            "justify_items": null,
            "left": null,
            "margin": null,
            "max_height": null,
            "max_width": null,
            "min_height": null,
            "min_width": null,
            "object_fit": null,
            "object_position": null,
            "order": null,
            "overflow": null,
            "overflow_x": null,
            "overflow_y": null,
            "padding": null,
            "right": null,
            "top": null,
            "visibility": null,
            "width": null
          }
        },
        "e9c4d0d60a064b2ba9a6127460053b29": {
          "model_module": "@jupyter-widgets/controls",
          "model_name": "DescriptionStyleModel",
          "model_module_version": "1.5.0",
          "state": {
            "_model_module": "@jupyter-widgets/controls",
            "_model_module_version": "1.5.0",
            "_model_name": "DescriptionStyleModel",
            "_view_count": null,
            "_view_module": "@jupyter-widgets/base",
            "_view_module_version": "1.2.0",
            "_view_name": "StyleView",
            "description_width": ""
          }
        },
        "2834283d65b5491993ec8fc5ae8d6154": {
          "model_module": "@jupyter-widgets/base",
          "model_name": "LayoutModel",
          "model_module_version": "1.2.0",
          "state": {
            "_model_module": "@jupyter-widgets/base",
            "_model_module_version": "1.2.0",
            "_model_name": "LayoutModel",
            "_view_count": null,
            "_view_module": "@jupyter-widgets/base",
            "_view_module_version": "1.2.0",
            "_view_name": "LayoutView",
            "align_content": null,
            "align_items": null,
            "align_self": null,
            "border": null,
            "bottom": null,
            "display": null,
            "flex": "2",
            "flex_flow": null,
            "grid_area": null,
            "grid_auto_columns": null,
            "grid_auto_flow": null,
            "grid_auto_rows": null,
            "grid_column": null,
            "grid_gap": null,
            "grid_row": null,
            "grid_template_areas": null,
            "grid_template_columns": null,
            "grid_template_rows": null,
            "height": null,
            "justify_content": null,
            "justify_items": null,
            "left": null,
            "margin": null,
            "max_height": null,
            "max_width": null,
            "min_height": null,
            "min_width": null,
            "object_fit": null,
            "object_position": null,
            "order": null,
            "overflow": null,
            "overflow_x": null,
            "overflow_y": null,
            "padding": null,
            "right": null,
            "top": null,
            "visibility": null,
            "width": null
          }
        },
        "8d742433f24843c6b64748b3cd554ff2": {
          "model_module": "@jupyter-widgets/controls",
          "model_name": "ProgressStyleModel",
          "model_module_version": "1.5.0",
          "state": {
            "_model_module": "@jupyter-widgets/controls",
            "_model_module_version": "1.5.0",
            "_model_name": "ProgressStyleModel",
            "_view_count": null,
            "_view_module": "@jupyter-widgets/base",
            "_view_module_version": "1.2.0",
            "_view_name": "StyleView",
            "bar_color": null,
            "description_width": ""
          }
        },
        "abed6ccb8e034c7cb2c4437a4bf04e97": {
          "model_module": "@jupyter-widgets/base",
          "model_name": "LayoutModel",
          "model_module_version": "1.2.0",
          "state": {
            "_model_module": "@jupyter-widgets/base",
            "_model_module_version": "1.2.0",
            "_model_name": "LayoutModel",
            "_view_count": null,
            "_view_module": "@jupyter-widgets/base",
            "_view_module_version": "1.2.0",
            "_view_name": "LayoutView",
            "align_content": null,
            "align_items": null,
            "align_self": null,
            "border": null,
            "bottom": null,
            "display": null,
            "flex": null,
            "flex_flow": null,
            "grid_area": null,
            "grid_auto_columns": null,
            "grid_auto_flow": null,
            "grid_auto_rows": null,
            "grid_column": null,
            "grid_gap": null,
            "grid_row": null,
            "grid_template_areas": null,
            "grid_template_columns": null,
            "grid_template_rows": null,
            "height": null,
            "justify_content": null,
            "justify_items": null,
            "left": null,
            "margin": null,
            "max_height": null,
            "max_width": null,
            "min_height": null,
            "min_width": null,
            "object_fit": null,
            "object_position": null,
            "order": null,
            "overflow": null,
            "overflow_x": null,
            "overflow_y": null,
            "padding": null,
            "right": null,
            "top": null,
            "visibility": null,
            "width": null
          }
        },
        "95824b5581aa45798c5794d7ba9b442a": {
          "model_module": "@jupyter-widgets/controls",
          "model_name": "DescriptionStyleModel",
          "model_module_version": "1.5.0",
          "state": {
            "_model_module": "@jupyter-widgets/controls",
            "_model_module_version": "1.5.0",
            "_model_name": "DescriptionStyleModel",
            "_view_count": null,
            "_view_module": "@jupyter-widgets/base",
            "_view_module_version": "1.2.0",
            "_view_name": "StyleView",
            "description_width": ""
          }
        },
        "8e725331c2b440909df36a421c643d58": {
          "model_module": "@jupyter-widgets/controls",
          "model_name": "HBoxModel",
          "model_module_version": "1.5.0",
          "state": {
            "_dom_classes": [],
            "_model_module": "@jupyter-widgets/controls",
            "_model_module_version": "1.5.0",
            "_model_name": "HBoxModel",
            "_view_count": null,
            "_view_module": "@jupyter-widgets/controls",
            "_view_module_version": "1.5.0",
            "_view_name": "HBoxView",
            "box_style": "",
            "children": [
              "IPY_MODEL_b4fb52a89d5c43f389785b8968180c0a",
              "IPY_MODEL_838a2c0d0e21427a9f06644e92d03705",
              "IPY_MODEL_4f56ae77cf884daebc72530e3c276b23"
            ],
            "layout": "IPY_MODEL_aa549ae99cb44290877efde70c2ad17d"
          }
        },
        "b4fb52a89d5c43f389785b8968180c0a": {
          "model_module": "@jupyter-widgets/controls",
          "model_name": "HTMLModel",
          "model_module_version": "1.5.0",
          "state": {
            "_dom_classes": [],
            "_model_module": "@jupyter-widgets/controls",
            "_model_module_version": "1.5.0",
            "_model_name": "HTMLModel",
            "_view_count": null,
            "_view_module": "@jupyter-widgets/controls",
            "_view_module_version": "1.5.0",
            "_view_name": "HTMLView",
            "description": "",
            "description_tooltip": null,
            "layout": "IPY_MODEL_c6a6e42ef8a448f09fdd6cc0a53feac3",
            "placeholder": "​",
            "style": "IPY_MODEL_02592ff7427348a0aecf04fee95bd9c1",
            "value": "100%"
          }
        },
        "838a2c0d0e21427a9f06644e92d03705": {
          "model_module": "@jupyter-widgets/controls",
          "model_name": "FloatProgressModel",
          "model_module_version": "1.5.0",
          "state": {
            "_dom_classes": [],
            "_model_module": "@jupyter-widgets/controls",
            "_model_module_version": "1.5.0",
            "_model_name": "FloatProgressModel",
            "_view_count": null,
            "_view_module": "@jupyter-widgets/controls",
            "_view_module_version": "1.5.0",
            "_view_name": "ProgressView",
            "bar_style": "success",
            "description": "",
            "description_tooltip": null,
            "layout": "IPY_MODEL_51cc3b13b97b471aa335c2f6b5620c5c",
            "max": 10,
            "min": 0,
            "orientation": "horizontal",
            "style": "IPY_MODEL_3175c3cb30634c008ddfe30d8e94f984",
            "value": 10
          }
        },
        "4f56ae77cf884daebc72530e3c276b23": {
          "model_module": "@jupyter-widgets/controls",
          "model_name": "HTMLModel",
          "model_module_version": "1.5.0",
          "state": {
            "_dom_classes": [],
            "_model_module": "@jupyter-widgets/controls",
            "_model_module_version": "1.5.0",
            "_model_name": "HTMLModel",
            "_view_count": null,
            "_view_module": "@jupyter-widgets/controls",
            "_view_module_version": "1.5.0",
            "_view_name": "HTMLView",
            "description": "",
            "description_tooltip": null,
            "layout": "IPY_MODEL_341fc7683fb74770bd5b720f56927b95",
            "placeholder": "​",
            "style": "IPY_MODEL_ea73be23184a4330b54e68309c039fcf",
            "value": " 10/10 [00:00&lt;00:00, 119.05it/s]"
          }
        },
        "aa549ae99cb44290877efde70c2ad17d": {
          "model_module": "@jupyter-widgets/base",
          "model_name": "LayoutModel",
          "model_module_version": "1.2.0",
          "state": {
            "_model_module": "@jupyter-widgets/base",
            "_model_module_version": "1.2.0",
            "_model_name": "LayoutModel",
            "_view_count": null,
            "_view_module": "@jupyter-widgets/base",
            "_view_module_version": "1.2.0",
            "_view_name": "LayoutView",
            "align_content": null,
            "align_items": null,
            "align_self": null,
            "border": null,
            "bottom": null,
            "display": "inline-flex",
            "flex": null,
            "flex_flow": "row wrap",
            "grid_area": null,
            "grid_auto_columns": null,
            "grid_auto_flow": null,
            "grid_auto_rows": null,
            "grid_column": null,
            "grid_gap": null,
            "grid_row": null,
            "grid_template_areas": null,
            "grid_template_columns": null,
            "grid_template_rows": null,
            "height": null,
            "justify_content": null,
            "justify_items": null,
            "left": null,
            "margin": null,
            "max_height": null,
            "max_width": null,
            "min_height": null,
            "min_width": null,
            "object_fit": null,
            "object_position": null,
            "order": null,
            "overflow": null,
            "overflow_x": null,
            "overflow_y": null,
            "padding": null,
            "right": null,
            "top": null,
            "visibility": null,
            "width": "100%"
          }
        },
        "c6a6e42ef8a448f09fdd6cc0a53feac3": {
          "model_module": "@jupyter-widgets/base",
          "model_name": "LayoutModel",
          "model_module_version": "1.2.0",
          "state": {
            "_model_module": "@jupyter-widgets/base",
            "_model_module_version": "1.2.0",
            "_model_name": "LayoutModel",
            "_view_count": null,
            "_view_module": "@jupyter-widgets/base",
            "_view_module_version": "1.2.0",
            "_view_name": "LayoutView",
            "align_content": null,
            "align_items": null,
            "align_self": null,
            "border": null,
            "bottom": null,
            "display": null,
            "flex": null,
            "flex_flow": null,
            "grid_area": null,
            "grid_auto_columns": null,
            "grid_auto_flow": null,
            "grid_auto_rows": null,
            "grid_column": null,
            "grid_gap": null,
            "grid_row": null,
            "grid_template_areas": null,
            "grid_template_columns": null,
            "grid_template_rows": null,
            "height": null,
            "justify_content": null,
            "justify_items": null,
            "left": null,
            "margin": null,
            "max_height": null,
            "max_width": null,
            "min_height": null,
            "min_width": null,
            "object_fit": null,
            "object_position": null,
            "order": null,
            "overflow": null,
            "overflow_x": null,
            "overflow_y": null,
            "padding": null,
            "right": null,
            "top": null,
            "visibility": null,
            "width": null
          }
        },
        "02592ff7427348a0aecf04fee95bd9c1": {
          "model_module": "@jupyter-widgets/controls",
          "model_name": "DescriptionStyleModel",
          "model_module_version": "1.5.0",
          "state": {
            "_model_module": "@jupyter-widgets/controls",
            "_model_module_version": "1.5.0",
            "_model_name": "DescriptionStyleModel",
            "_view_count": null,
            "_view_module": "@jupyter-widgets/base",
            "_view_module_version": "1.2.0",
            "_view_name": "StyleView",
            "description_width": ""
          }
        },
        "51cc3b13b97b471aa335c2f6b5620c5c": {
          "model_module": "@jupyter-widgets/base",
          "model_name": "LayoutModel",
          "model_module_version": "1.2.0",
          "state": {
            "_model_module": "@jupyter-widgets/base",
            "_model_module_version": "1.2.0",
            "_model_name": "LayoutModel",
            "_view_count": null,
            "_view_module": "@jupyter-widgets/base",
            "_view_module_version": "1.2.0",
            "_view_name": "LayoutView",
            "align_content": null,
            "align_items": null,
            "align_self": null,
            "border": null,
            "bottom": null,
            "display": null,
            "flex": "2",
            "flex_flow": null,
            "grid_area": null,
            "grid_auto_columns": null,
            "grid_auto_flow": null,
            "grid_auto_rows": null,
            "grid_column": null,
            "grid_gap": null,
            "grid_row": null,
            "grid_template_areas": null,
            "grid_template_columns": null,
            "grid_template_rows": null,
            "height": null,
            "justify_content": null,
            "justify_items": null,
            "left": null,
            "margin": null,
            "max_height": null,
            "max_width": null,
            "min_height": null,
            "min_width": null,
            "object_fit": null,
            "object_position": null,
            "order": null,
            "overflow": null,
            "overflow_x": null,
            "overflow_y": null,
            "padding": null,
            "right": null,
            "top": null,
            "visibility": null,
            "width": null
          }
        },
        "3175c3cb30634c008ddfe30d8e94f984": {
          "model_module": "@jupyter-widgets/controls",
          "model_name": "ProgressStyleModel",
          "model_module_version": "1.5.0",
          "state": {
            "_model_module": "@jupyter-widgets/controls",
            "_model_module_version": "1.5.0",
            "_model_name": "ProgressStyleModel",
            "_view_count": null,
            "_view_module": "@jupyter-widgets/base",
            "_view_module_version": "1.2.0",
            "_view_name": "StyleView",
            "bar_color": null,
            "description_width": ""
          }
        },
        "341fc7683fb74770bd5b720f56927b95": {
          "model_module": "@jupyter-widgets/base",
          "model_name": "LayoutModel",
          "model_module_version": "1.2.0",
          "state": {
            "_model_module": "@jupyter-widgets/base",
            "_model_module_version": "1.2.0",
            "_model_name": "LayoutModel",
            "_view_count": null,
            "_view_module": "@jupyter-widgets/base",
            "_view_module_version": "1.2.0",
            "_view_name": "LayoutView",
            "align_content": null,
            "align_items": null,
            "align_self": null,
            "border": null,
            "bottom": null,
            "display": null,
            "flex": null,
            "flex_flow": null,
            "grid_area": null,
            "grid_auto_columns": null,
            "grid_auto_flow": null,
            "grid_auto_rows": null,
            "grid_column": null,
            "grid_gap": null,
            "grid_row": null,
            "grid_template_areas": null,
            "grid_template_columns": null,
            "grid_template_rows": null,
            "height": null,
            "justify_content": null,
            "justify_items": null,
            "left": null,
            "margin": null,
            "max_height": null,
            "max_width": null,
            "min_height": null,
            "min_width": null,
            "object_fit": null,
            "object_position": null,
            "order": null,
            "overflow": null,
            "overflow_x": null,
            "overflow_y": null,
            "padding": null,
            "right": null,
            "top": null,
            "visibility": null,
            "width": null
          }
        },
        "ea73be23184a4330b54e68309c039fcf": {
          "model_module": "@jupyter-widgets/controls",
          "model_name": "DescriptionStyleModel",
          "model_module_version": "1.5.0",
          "state": {
            "_model_module": "@jupyter-widgets/controls",
            "_model_module_version": "1.5.0",
            "_model_name": "DescriptionStyleModel",
            "_view_count": null,
            "_view_module": "@jupyter-widgets/base",
            "_view_module_version": "1.2.0",
            "_view_name": "StyleView",
            "description_width": ""
          }
        }
      }
    }
  },
  "cells": [
    {
      "cell_type": "markdown",
      "metadata": {
        "id": "view-in-github",
        "colab_type": "text"
      },
      "source": [
        "<a href=\"https://colab.research.google.com/github/Aditya-Poli/EC312_GA/blob/main/GA_KS.ipynb\" target=\"_parent\"><img src=\"https://colab.research.google.com/assets/colab-badge.svg\" alt=\"Open In Colab\"/></a>"
      ]
    },
    {
      "cell_type": "code",
      "execution_count": null,
      "metadata": {
        "id": "PpPJhi-oRdTL"
      },
      "outputs": [],
      "source": []
    },
    {
      "cell_type": "markdown",
      "source": [
        "# KnapSack"
      ],
      "metadata": {
        "id": "SohPf7NH2TIF"
      }
    },
    {
      "cell_type": "code",
      "source": [
        "class knapsack:\n",
        "\n",
        "    def __init__(self, numItems=5, weights=None, limit=10):\n",
        "        self.numItems = numItems\n",
        "        self.weights = weights\n",
        "        self.limit = limit;\n",
        "        self._pop = None\n",
        "        self._bestPop = None\n",
        "        self._bestFit = None\n",
        "        self._Variants = None\n",
        "\n",
        "    def _getWeight(self,Item):\n",
        "        weight = 0\n",
        "        if self.weights == None:\n",
        "            self.weights = {i : 1 for i in range(1, self.numItems+1)}\n",
        "        for _ in range(1, len(Item)+1):\n",
        "            if(Item[_ - 1] != '0'):\n",
        "                weight += self.weights[_]\n",
        "        return weight\n",
        "\n",
        "    def fitness(self):\n",
        "        return np.array([self._getWeight(pop) for pop in self._pop])\n",
        "\n",
        "    def selection(self):\n",
        "        fitness = np.array([val if (val - self.limit) < 0 else 0 for val in self.fitness()])\n",
        "        # print(fitness)\n",
        "        prob = fitness / np.sum(fitness)\n",
        "        return np.random.choice(self._pop, size=1, replace=True, p=prob)\n",
        "    \n",
        "    def crossover(self, parent1, parent2):\n",
        "        idx = np.random.randint(0, len(parent1))\n",
        "        return parent1[:idx] + parent2[idx:]\n",
        "    \n",
        "    def mutate(self, child, mutProb=0.1):\n",
        "        child = list(child)\n",
        "        if np.random.random() <= mutProb:\n",
        "            idx1 = np.random.randint(0, len(child), size=1)\n",
        "            child[idx1[0]] = '1'\n",
        "        return ''.join(child)\n",
        "\n",
        "    def _generatePop(self, popSize):\n",
        "        pop = []\n",
        "        for _ in range(popSize):\n",
        "            pop.append(''.join(map(str, list(np.random.randint(2,size=self.numItems)))))\n",
        "        return np.array(pop)\n",
        "\n",
        "    def variants(self):\n",
        "        return self._Variants\n",
        "    \n",
        "    def run(self, popSize=50, nIter=50):\n",
        "\n",
        "        self._pop = self._generatePop(popSize)\n",
        "        # print(self._pop)\n",
        "        for _ in tqdm(range(1, nIter+1), file=sys.stdout):\n",
        "            if np.sum(self.fitness() - self.limit) == 0:\n",
        "                print(f\"StopIteration {_}: Best Population : {list(self._bestPop)}  Fitness: {self._bestFit}\")\n",
        "                break\n",
        "            newPop = []\n",
        "            for i in range(popSize):\n",
        "                parent1 = self.selection()\n",
        "                parent2 = self.selection()\n",
        "                child = self.crossover(*parent1, *parent2)\n",
        "                child = self.mutate(child)\n",
        "                newPop.append(child)\n",
        "            self._pop = newPop\n",
        "            fitness = np.array([val if (val - self.limit) < 0 else 0 for val in self.fitness()])\n",
        "            if self._bestFit == None or np.max(fitness) > self._bestFit:\n",
        "                self._bestFit = np.max(fitness)\n",
        "                self._bestPop = self._pop[np.argmax(self.fitness())]\n",
        "                self._Variants = np.array([pop for pop in self._pop if self._getWeight(pop) == self._bestFit])\n",
        "\n",
        "            print(f\"Iteration {_}: Best Population : {list(self._bestPop)}  Fitness: {self._bestFit}\")\n",
        "\n",
        "\n",
        "            \n"
      ],
      "metadata": {
        "id": "xXZ20-SoLAvL"
      },
      "execution_count": null,
      "outputs": []
    },
    {
      "cell_type": "code",
      "source": [
        "ks = knapsack(numItems=10, weights={i:np.random.randint(1, 100, size=1)[0] for i in range(1, 31)}, limit=200)"
      ],
      "metadata": {
        "id": "t2pGlguyTa6S"
      },
      "execution_count": null,
      "outputs": []
    },
    {
      "cell_type": "code",
      "source": [
        "ks.run()"
      ],
      "metadata": {
        "colab": {
          "base_uri": "https://localhost:8080/",
          "height": 917,
          "referenced_widgets": [
            "13560583512540ab922ed77037f91aaf",
            "dc43678d53cc4597871de2af31d900f1",
            "be4d63f51f864e95a92e472d6030fb3b",
            "c5fc39699b2546019322ff19ec64f467",
            "652cc95640804e5493f233895010b39b",
            "34b4b021e09c4518be05ebbbf44cfe63",
            "53a45c1d363c484687ce132e9f9b7591",
            "819bd74ae3b2494187b069f95ac292df",
            "f29cf5c6abc2451db9a2e54495502770",
            "2b80703d282842e8a148283643d16c89",
            "1933f4148c2c4e4b96c3d61d2b29c6e3"
          ]
        },
        "id": "N4hhBc9rThvD",
        "outputId": "91feba54-da13-40d4-8f33-60fcc806453f"
      },
      "execution_count": null,
      "outputs": [
        {
          "output_type": "display_data",
          "data": {
            "text/plain": [
              "  0%|          | 0/50 [00:00<?, ?it/s]"
            ],
            "application/vnd.jupyter.widget-view+json": {
              "version_major": 2,
              "version_minor": 0,
              "model_id": "13560583512540ab922ed77037f91aaf"
            }
          },
          "metadata": {}
        },
        {
          "output_type": "stream",
          "name": "stdout",
          "text": [
            "Iteration 1: Best Population : ['1', '0', '0', '1', '0', '1', '1', '1', '0', '1']  Fitness: 199\n",
            "Iteration 2: Best Population : ['1', '0', '0', '1', '0', '1', '1', '1', '0', '1']  Fitness: 199\n",
            "Iteration 3: Best Population : ['1', '0', '0', '1', '0', '1', '1', '1', '0', '1']  Fitness: 199\n",
            "Iteration 4: Best Population : ['1', '0', '0', '1', '0', '1', '1', '1', '0', '1']  Fitness: 199\n",
            "Iteration 5: Best Population : ['1', '0', '0', '1', '0', '1', '1', '1', '0', '1']  Fitness: 199\n",
            "Iteration 6: Best Population : ['1', '0', '0', '1', '0', '1', '1', '1', '0', '1']  Fitness: 199\n",
            "Iteration 7: Best Population : ['1', '0', '0', '1', '0', '1', '1', '1', '0', '1']  Fitness: 199\n",
            "Iteration 8: Best Population : ['1', '0', '0', '1', '0', '1', '1', '1', '0', '1']  Fitness: 199\n",
            "Iteration 9: Best Population : ['1', '0', '0', '1', '0', '1', '1', '1', '0', '1']  Fitness: 199\n",
            "Iteration 10: Best Population : ['1', '0', '0', '1', '0', '1', '1', '1', '0', '1']  Fitness: 199\n",
            "Iteration 11: Best Population : ['1', '0', '0', '1', '0', '1', '1', '1', '0', '1']  Fitness: 199\n",
            "Iteration 12: Best Population : ['1', '0', '0', '1', '0', '1', '1', '1', '0', '1']  Fitness: 199\n",
            "Iteration 13: Best Population : ['1', '0', '0', '1', '0', '1', '1', '1', '0', '1']  Fitness: 199\n",
            "Iteration 14: Best Population : ['1', '0', '0', '1', '0', '1', '1', '1', '0', '1']  Fitness: 199\n",
            "Iteration 15: Best Population : ['1', '0', '0', '1', '0', '1', '1', '1', '0', '1']  Fitness: 199\n",
            "Iteration 16: Best Population : ['1', '0', '0', '1', '0', '1', '1', '1', '0', '1']  Fitness: 199\n",
            "Iteration 17: Best Population : ['1', '0', '0', '1', '0', '1', '1', '1', '0', '1']  Fitness: 199\n",
            "Iteration 18: Best Population : ['1', '0', '0', '1', '0', '1', '1', '1', '0', '1']  Fitness: 199\n",
            "Iteration 19: Best Population : ['1', '0', '0', '1', '0', '1', '1', '1', '0', '1']  Fitness: 199\n",
            "Iteration 20: Best Population : ['1', '0', '0', '1', '0', '1', '1', '1', '0', '1']  Fitness: 199\n",
            "Iteration 21: Best Population : ['1', '0', '0', '1', '0', '1', '1', '1', '0', '1']  Fitness: 199\n",
            "Iteration 22: Best Population : ['1', '0', '0', '1', '0', '1', '1', '1', '0', '1']  Fitness: 199\n",
            "Iteration 23: Best Population : ['1', '0', '0', '1', '0', '1', '1', '1', '0', '1']  Fitness: 199\n",
            "Iteration 24: Best Population : ['1', '0', '0', '1', '0', '1', '1', '1', '0', '1']  Fitness: 199\n",
            "Iteration 25: Best Population : ['1', '0', '0', '1', '0', '1', '1', '1', '0', '1']  Fitness: 199\n",
            "Iteration 26: Best Population : ['1', '0', '0', '1', '0', '1', '1', '1', '0', '1']  Fitness: 199\n",
            "Iteration 27: Best Population : ['1', '0', '0', '1', '0', '1', '1', '1', '0', '1']  Fitness: 199\n",
            "Iteration 28: Best Population : ['1', '0', '0', '1', '0', '1', '1', '1', '0', '1']  Fitness: 199\n",
            "Iteration 29: Best Population : ['1', '0', '0', '1', '0', '1', '1', '1', '0', '1']  Fitness: 199\n",
            "Iteration 30: Best Population : ['1', '0', '0', '1', '0', '1', '1', '1', '0', '1']  Fitness: 199\n",
            "Iteration 31: Best Population : ['1', '0', '0', '1', '0', '1', '1', '1', '0', '1']  Fitness: 199\n",
            "Iteration 32: Best Population : ['1', '0', '0', '1', '0', '1', '1', '1', '0', '1']  Fitness: 199\n",
            "Iteration 33: Best Population : ['1', '0', '0', '1', '0', '1', '1', '1', '0', '1']  Fitness: 199\n",
            "Iteration 34: Best Population : ['1', '0', '0', '1', '0', '1', '1', '1', '0', '1']  Fitness: 199\n",
            "Iteration 35: Best Population : ['1', '0', '0', '1', '0', '1', '1', '1', '0', '1']  Fitness: 199\n",
            "Iteration 36: Best Population : ['1', '0', '0', '1', '0', '1', '1', '1', '0', '1']  Fitness: 199\n",
            "Iteration 37: Best Population : ['1', '0', '0', '1', '0', '1', '1', '1', '0', '1']  Fitness: 199\n",
            "Iteration 38: Best Population : ['1', '0', '0', '1', '0', '1', '1', '1', '0', '1']  Fitness: 199\n",
            "Iteration 39: Best Population : ['1', '0', '0', '1', '0', '1', '1', '1', '0', '1']  Fitness: 199\n",
            "Iteration 40: Best Population : ['1', '0', '0', '1', '0', '1', '1', '1', '0', '1']  Fitness: 199\n",
            "Iteration 41: Best Population : ['1', '0', '0', '1', '0', '1', '1', '1', '0', '1']  Fitness: 199\n",
            "Iteration 42: Best Population : ['1', '0', '0', '1', '0', '1', '1', '1', '0', '1']  Fitness: 199\n",
            "Iteration 43: Best Population : ['1', '0', '0', '1', '0', '1', '1', '1', '0', '1']  Fitness: 199\n",
            "Iteration 44: Best Population : ['1', '0', '0', '1', '0', '1', '1', '1', '0', '1']  Fitness: 199\n",
            "Iteration 45: Best Population : ['1', '0', '0', '1', '0', '1', '1', '1', '0', '1']  Fitness: 199\n",
            "Iteration 46: Best Population : ['1', '0', '0', '1', '0', '1', '1', '1', '0', '1']  Fitness: 199\n",
            "Iteration 47: Best Population : ['1', '0', '0', '1', '0', '1', '1', '1', '0', '1']  Fitness: 199\n",
            "Iteration 48: Best Population : ['1', '0', '0', '1', '0', '1', '1', '1', '0', '1']  Fitness: 199\n",
            "Iteration 49: Best Population : ['1', '0', '0', '1', '0', '1', '1', '1', '0', '1']  Fitness: 199\n",
            "Iteration 50: Best Population : ['1', '0', '0', '1', '0', '1', '1', '1', '0', '1']  Fitness: 199\n"
          ]
        }
      ]
    },
    {
      "cell_type": "code",
      "source": [
        "ks.variants()"
      ],
      "metadata": {
        "colab": {
          "base_uri": "https://localhost:8080/"
        },
        "id": "pCl3XuCZ1a35",
        "outputId": "52120e70-784d-4356-e8ef-3e6c5349b37c"
      },
      "execution_count": null,
      "outputs": [
        {
          "output_type": "execute_result",
          "data": {
            "text/plain": [
              "array(['0010111111'], dtype='<U10')"
            ]
          },
          "metadata": {},
          "execution_count": 14
        }
      ]
    },
    {
      "cell_type": "code",
      "source": [],
      "metadata": {
        "id": "5w-VbMdH1evl"
      },
      "execution_count": null,
      "outputs": []
    },
    {
      "cell_type": "code",
      "source": [
        "prob = np.array([10, 31, 68])\n",
        "prob = prob / np.sum(prob)\n",
        "np.random.choice(['1001', '0000', '1111'], size=2, replace=True, p=prob)"
      ],
      "metadata": {
        "colab": {
          "base_uri": "https://localhost:8080/"
        },
        "id": "_iYPstsuaWTB",
        "outputId": "683a086b-e11e-4d13-be71-8dcdb78c7a44"
      },
      "execution_count": null,
      "outputs": [
        {
          "output_type": "execute_result",
          "data": {
            "text/plain": [
              "array(['0000', '1001'], dtype='<U4')"
            ]
          },
          "metadata": {},
          "execution_count": 85
        }
      ]
    },
    {
      "cell_type": "code",
      "source": [
        "cond = 5\n",
        "[val if val % cond == 0 else 0 for val in range(1, 21)]"
      ],
      "metadata": {
        "colab": {
          "base_uri": "https://localhost:8080/"
        },
        "id": "4ILh8t0fTjgD",
        "outputId": "2cf2d936-54d7-4f24-8f4a-006fdc3284cc"
      },
      "execution_count": null,
      "outputs": [
        {
          "output_type": "execute_result",
          "data": {
            "text/plain": [
              "[0, 0, 0, 0, 5, 0, 0, 0, 0, 10, 0, 0, 0, 0, 15, 0, 0, 0, 0, 20]"
            ]
          },
          "metadata": {},
          "execution_count": 98
        }
      ]
    },
    {
      "cell_type": "code",
      "source": [
        "np.random.randint(0, 2, size=5)"
      ],
      "metadata": {
        "colab": {
          "base_uri": "https://localhost:8080/"
        },
        "id": "8iWzZS1zcrup",
        "outputId": "719f11fa-c165-41e4-a625-8559cfa29d55"
      },
      "execution_count": null,
      "outputs": [
        {
          "output_type": "execute_result",
          "data": {
            "text/plain": [
              "array([0, 0, 0, 0, 1])"
            ]
          },
          "metadata": {},
          "execution_count": 113
        }
      ]
    },
    {
      "cell_type": "code",
      "source": [
        "np.random.randint(1, 100, size=1)[0]"
      ],
      "metadata": {
        "colab": {
          "base_uri": "https://localhost:8080/"
        },
        "id": "lCK94tSXdcM1",
        "outputId": "9e8b9b85-c981-4672-a4b1-6280711f6198"
      },
      "execution_count": null,
      "outputs": [
        {
          "output_type": "execute_result",
          "data": {
            "text/plain": [
              "77"
            ]
          },
          "metadata": {},
          "execution_count": 22
        }
      ]
    },
    {
      "cell_type": "code",
      "source": [
        "def _generatePop(popSize):\n",
        "    pop = []\n",
        "    for _ in range(popSize):\n",
        "        pop.append(''.join(map(str, list(np.random.randint(2,size=5)))))\n",
        "    return np.array(pop)\n",
        "\n",
        "_generatePop(10)"
      ],
      "metadata": {
        "colab": {
          "base_uri": "https://localhost:8080/"
        },
        "id": "B8je4iJsgx3I",
        "outputId": "1f457f06-e567-4fe5-9870-3b3c1704399c"
      },
      "execution_count": null,
      "outputs": [
        {
          "output_type": "execute_result",
          "data": {
            "text/plain": [
              "array(['01111', '11011', '11001', '01000', '00010', '01101', '01110',\n",
              "       '00000', '11011', '01101'], dtype='<U5')"
            ]
          },
          "metadata": {},
          "execution_count": 43
        }
      ]
    },
    {
      "cell_type": "code",
      "source": [
        "def _getWeight(Item):\n",
        "    weight = 0\n",
        "    global weights\n",
        "    if weights == None:\n",
        "        weights = {i : 1 for i in range(1, numItems+1)}\n",
        "    for _ in range(1, len(Item)+1):\n",
        "        if(Item[_ - 1] != '0'):\n",
        "            weight += weights[_]\n",
        "    return weight\n",
        "\n",
        "def fitness():\n",
        "    return np.array([_getWeight(pop) for pop in _pop])\n",
        "\n",
        "global _pop\n",
        "global numItems\n",
        "global weights\n",
        "\n",
        "\n",
        "numItems = 10\n",
        "weights = {i:np.random.randint(1, 200, size=1)[0] for i in range(1, numItems+1)}\n",
        "_pop = _generatePop(numItems)\n",
        "print(_pop)\n",
        "print(fit:=fitness())"
      ],
      "metadata": {
        "colab": {
          "base_uri": "https://localhost:8080/"
        },
        "id": "eSoIcKDEhAtj",
        "outputId": "b4129d95-3ee9-4bf4-82f8-2af8ffbb1c00"
      },
      "execution_count": null,
      "outputs": [
        {
          "output_type": "stream",
          "name": "stdout",
          "text": [
            "['11100' '01001' '00011' '00000' '01101' '00100' '11101' '00110' '11100'\n",
            " '00100']\n",
            "[488 370 274   0 496 126 681 207 488 126]\n"
          ]
        }
      ]
    },
    {
      "cell_type": "code",
      "source": [
        "fitness = np.array([val if (val - 200) < 0 else 0 for val in fit])\n",
        "print(fitness)\n",
        "prob = fitness / np.sum(fitness)"
      ],
      "metadata": {
        "colab": {
          "base_uri": "https://localhost:8080/"
        },
        "id": "ROJJNyeaiEqf",
        "outputId": "5d88b3f4-204e-4f6f-a09e-2b1faf7c32a1"
      },
      "execution_count": null,
      "outputs": [
        {
          "output_type": "stream",
          "name": "stdout",
          "text": [
            "[  0   0   0   0   0 126   0   0   0 126]\n"
          ]
        }
      ]
    },
    {
      "cell_type": "code",
      "source": [
        "prob"
      ],
      "metadata": {
        "colab": {
          "base_uri": "https://localhost:8080/"
        },
        "id": "PkfU8xl6i7td",
        "outputId": "e8b1202a-ebf8-440b-c046-e65c8a7aea86"
      },
      "execution_count": null,
      "outputs": [
        {
          "output_type": "execute_result",
          "data": {
            "text/plain": [
              "array([0. , 0. , 0. , 0. , 0. , 0.5, 0. , 0. , 0. , 0.5])"
            ]
          },
          "metadata": {},
          "execution_count": 51
        }
      ]
    },
    {
      "cell_type": "code",
      "source": [
        "class knpsk:\n",
        "\n",
        "    def __init__(self, numItems=5, weights=None, limit=10):\n",
        "        self.numItems = numItems\n",
        "        self.weights = weights\n",
        "        self.limit = limit;\n",
        "        self._pop = None\n",
        "        self._bestPop = None\n",
        "        self._bestFit = None\n",
        "        self._Variants = None\n",
        "\n",
        "    def _getWeight(self,Item):\n",
        "        weight = 0\n",
        "        if self.weights == None:\n",
        "            self.weights = {i : 1 for i in range(1, self.numItems+1)}\n",
        "        for _ in range(1, len(Item)+1):\n",
        "            if(Item[_ - 1] != '0'):\n",
        "                weight += self.weights[_]\n",
        "        return weight\n",
        "\n",
        "    def fitness(self):\n",
        "        return np.array([self._getWeight(pop) for pop in self._pop])\n",
        "\n",
        "    def selection(self):\n",
        "        fitness = np.array([val if (val - self.limit) < 0 else 0 for val in self.fitness()])\n",
        "        # print(fitness)\n",
        "        prob = fitness / np.sum(fitness)\n",
        "        prob = np.array([p if p != np.nan else 0 for p in prob])\n",
        "        return np.random.choice(self._pop, size=1, replace=True, p=prob)\n",
        "    \n",
        "    def crossover(self, parent1, parent2):\n",
        "        idx = np.random.randint(0, len(parent1))\n",
        "        return parent1[:idx] + parent2[idx:]\n",
        "    \n",
        "    def mutate(self, child, mutProb=0.1):\n",
        "        child = list(child)\n",
        "        if np.random.random() <= mutProb:\n",
        "            idx1 = np.random.randint(0, len(child), size=1)\n",
        "            child[idx1[0]] = '1'\n",
        "        return ''.join(child)\n",
        "\n",
        "    def _generatePop(self, popSize):\n",
        "        pop = []\n",
        "        for _ in range(popSize):\n",
        "            pop.append(''.join(map(str, list(np.random.randint(2,size=self.numItems)))))\n",
        "        return np.array(pop)\n",
        "\n",
        "    def variants(self):\n",
        "        return self._Variants\n",
        "    \n",
        "    def run(self, popSize=50, nIter=50):\n",
        "\n",
        "        self._pop = self._generatePop(popSize)\n",
        "        # print(self._pop)\n",
        "        for _ in tqdm(range(1, nIter+1), file=sys.stdout):\n",
        "            if np.sum(self.fitness() - self.limit) == 0:\n",
        "                print(f\"StopIteration {_}: Best Population : {list(self._bestPop)}  Fitness: {self._bestFit}\")\n",
        "                break\n",
        "            newPop = []\n",
        "            for i in range(popSize):\n",
        "                parent1 = self.selection()\n",
        "                parent2 = self.selection()\n",
        "                child = self.crossover(*parent1, *parent2)\n",
        "                child = self.mutate(child)\n",
        "                newPop.append(child)\n",
        "            self._pop = newPop\n",
        "            fitness = np.array([val if (val - self.limit) < 0 else 0 for val in self.fitness()])\n",
        "            if self._bestFit == None or np.max(fitness) > self._bestFit:\n",
        "                self._bestFit = np.max(fitness)\n",
        "                self._bestPop = self._pop[np.argmax(self.fitness())]\n",
        "                self._Variants = np.array([pop for pop in self._pop if self._getWeight(pop) == self._bestFit])\n",
        "\n",
        "            print(f\"Iteration {_}: Best Population : {list(self._bestPop)}  Fitness: {self._bestFit}\")"
      ],
      "metadata": {
        "id": "ZAnXmTxJGefO"
      },
      "execution_count": null,
      "outputs": []
    },
    {
      "cell_type": "code",
      "source": [
        "ks = knpsk(numItems = 22, weights={i: np.random.randint(1,100) for i in range(1, 23)}, limit=300)"
      ],
      "metadata": {
        "id": "o6AGkuo7GnZm"
      },
      "execution_count": null,
      "outputs": []
    },
    {
      "cell_type": "code",
      "source": [
        "ks.run(popSize=50, nIter=30)"
      ],
      "metadata": {
        "colab": {
          "base_uri": "https://localhost:8080/",
          "referenced_widgets": [
            "32a21f1bf4f4470f887247ca41aaa8a1",
            "dd549ff0a43848c3a983e3d9af81d563",
            "e377d68bf7ab408e9cbf8513ed1b27a6",
            "c945b922f16f43c1a67e12dfb3649f46",
            "f1c4286d835f40b08a5f925b76d89945",
            "9c499198c6244ec3bee2538258a7284a",
            "3f1b31c63b374036a1d92032159f7a49",
            "97452112a97a4abc90bfa723dc6377ee",
            "ea3b4c54a5384631b0828b7cfb3432dc",
            "a549f86696524b1a9568a354b4450bf5",
            "63aba99929ec4db681c644046273c324"
          ]
        },
        "id": "EvIWn0jgHIaq",
        "outputId": "5debf115-0b87-4e8d-cedf-efb176a25ec5"
      },
      "execution_count": null,
      "outputs": [
        {
          "output_type": "display_data",
          "data": {
            "text/plain": [
              "  0%|          | 0/30 [00:00<?, ?it/s]"
            ],
            "application/vnd.jupyter.widget-view+json": {
              "version_major": 2,
              "version_minor": 0,
              "model_id": "32a21f1bf4f4470f887247ca41aaa8a1"
            }
          },
          "metadata": {}
        },
        {
          "output_type": "stream",
          "name": "stdout",
          "text": [
            "Iteration 1: Best Population : ['1', '0', '1', '0', '1', '0', '0', '1', '1', '1', '0', '0', '1', '1', '0', '1', '1', '1', '1', '0', '1', '0']  Fitness: 292\n",
            "Iteration 2: Best Population : ['1', '0', '1', '0', '1', '0', '0', '1', '1', '1', '0', '1', '1', '1', '0', '1', '1', '1', '0', '0', '1', '0']  Fitness: 297\n",
            "Iteration 3: Best Population : ['1', '0', '1', '0', '1', '0', '0', '1', '1', '1', '0', '1', '1', '1', '0', '1', '1', '1', '0', '0', '1', '0']  Fitness: 297\n",
            "Iteration 4: Best Population : ['1', '0', '1', '0', '1', '0', '0', '1', '1', '1', '0', '1', '1', '1', '0', '1', '1', '1', '0', '0', '1', '0']  Fitness: 297\n",
            "Iteration 5: Best Population : ['1', '0', '1', '0', '1', '0', '0', '1', '1', '1', '0', '1', '1', '1', '0', '1', '1', '1', '0', '0', '1', '0']  Fitness: 297\n",
            "Iteration 6: Best Population : ['1', '0', '1', '0', '1', '0', '0', '1', '1', '1', '0', '1', '1', '1', '0', '1', '1', '1', '0', '0', '1', '0']  Fitness: 297\n",
            "Iteration 7: Best Population : ['1', '0', '1', '0', '1', '0', '0', '1', '1', '1', '0', '1', '1', '1', '0', '1', '1', '1', '0', '0', '1', '0']  Fitness: 297\n",
            "Iteration 8: Best Population : ['1', '0', '1', '0', '1', '0', '0', '1', '1', '1', '0', '1', '1', '1', '0', '1', '1', '1', '0', '0', '1', '0']  Fitness: 297\n",
            "Iteration 9: Best Population : ['1', '0', '1', '0', '1', '0', '0', '1', '1', '1', '0', '1', '1', '1', '0', '1', '1', '1', '0', '0', '1', '0']  Fitness: 297\n",
            "Iteration 10: Best Population : ['1', '0', '1', '0', '0', '0', '0', '1', '1', '1', '0', '0', '1', '1', '0', '1', '1', '1', '1', '0', '1', '0']  Fitness: 298\n",
            "Iteration 11: Best Population : ['1', '0', '1', '0', '0', '0', '0', '1', '1', '1', '0', '0', '1', '1', '0', '1', '1', '1', '1', '0', '1', '0']  Fitness: 298\n",
            "Iteration 12: Best Population : ['1', '0', '1', '0', '0', '0', '0', '1', '1', '1', '0', '0', '1', '1', '0', '1', '1', '1', '1', '0', '1', '0']  Fitness: 298\n",
            "Iteration 13: Best Population : ['1', '0', '1', '0', '0', '0', '0', '1', '1', '1', '0', '0', '1', '1', '0', '1', '1', '1', '1', '0', '1', '0']  Fitness: 298\n",
            "Iteration 14: Best Population : ['1', '0', '1', '0', '0', '0', '0', '1', '1', '1', '0', '0', '1', '1', '0', '1', '1', '1', '1', '0', '1', '0']  Fitness: 298\n",
            "Iteration 15: Best Population : ['1', '0', '1', '0', '0', '0', '0', '1', '1', '1', '0', '0', '1', '1', '0', '1', '1', '1', '1', '0', '1', '0']  Fitness: 298\n",
            "Iteration 16: Best Population : ['1', '0', '1', '0', '0', '0', '0', '1', '1', '1', '0', '0', '1', '1', '0', '1', '1', '1', '1', '0', '1', '0']  Fitness: 298\n",
            "Iteration 17: Best Population : ['1', '0', '1', '0', '0', '0', '0', '1', '1', '1', '0', '0', '1', '1', '0', '1', '1', '1', '1', '0', '1', '0']  Fitness: 298\n",
            "Iteration 18: Best Population : ['1', '0', '1', '0', '0', '0', '0', '1', '1', '1', '0', '0', '1', '1', '0', '1', '1', '1', '1', '0', '1', '0']  Fitness: 298\n",
            "Iteration 19: Best Population : ['1', '0', '1', '0', '0', '0', '0', '1', '1', '1', '0', '0', '1', '1', '0', '1', '1', '1', '1', '0', '1', '0']  Fitness: 298\n",
            "Iteration 20: Best Population : ['1', '0', '1', '0', '0', '0', '0', '1', '1', '1', '0', '0', '1', '1', '0', '1', '1', '1', '1', '0', '1', '0']  Fitness: 298\n",
            "Iteration 21: Best Population : ['1', '0', '1', '0', '0', '0', '0', '1', '1', '1', '0', '0', '1', '1', '0', '1', '1', '1', '1', '0', '1', '0']  Fitness: 298\n",
            "Iteration 22: Best Population : ['1', '0', '0', '0', '0', '0', '1', '1', '0', '0', '0', '0', '1', '0', '1', '1', '0', '1', '0', '1', '1', '0']  Fitness: 299\n",
            "Iteration 23: Best Population : ['1', '0', '0', '0', '0', '0', '1', '1', '0', '0', '0', '0', '1', '0', '1', '1', '0', '1', '0', '1', '1', '0']  Fitness: 299\n",
            "Iteration 24: Best Population : ['1', '0', '0', '0', '0', '0', '1', '1', '0', '0', '0', '0', '1', '0', '1', '1', '0', '1', '0', '1', '1', '0']  Fitness: 299\n",
            "Iteration 25: Best Population : ['1', '0', '0', '0', '0', '0', '1', '1', '0', '0', '0', '0', '1', '0', '1', '1', '0', '1', '0', '1', '1', '0']  Fitness: 299\n",
            "Iteration 26: Best Population : ['1', '0', '0', '0', '0', '0', '1', '1', '0', '0', '0', '0', '1', '0', '1', '1', '0', '1', '0', '1', '1', '0']  Fitness: 299\n",
            "Iteration 27: Best Population : ['1', '0', '0', '0', '0', '0', '1', '1', '0', '0', '0', '0', '1', '0', '1', '1', '0', '1', '0', '1', '1', '0']  Fitness: 299\n",
            "Iteration 28: Best Population : ['1', '0', '0', '0', '0', '0', '1', '1', '0', '0', '0', '0', '1', '0', '1', '1', '0', '1', '0', '1', '1', '0']  Fitness: 299\n",
            "Iteration 29: Best Population : ['1', '0', '0', '0', '0', '0', '1', '1', '0', '0', '0', '0', '1', '0', '1', '1', '0', '1', '0', '1', '1', '0']  Fitness: 299\n",
            "Iteration 30: Best Population : ['1', '0', '0', '0', '0', '0', '1', '1', '0', '0', '0', '0', '1', '0', '1', '1', '0', '1', '0', '1', '1', '0']  Fitness: 299\n"
          ]
        }
      ]
    },
    {
      "cell_type": "code",
      "source": [
        "ks.variants()"
      ],
      "metadata": {
        "colab": {
          "base_uri": "https://localhost:8080/"
        },
        "id": "pmV0tmPjGjSV",
        "outputId": "e0d5a6d9-4dc4-45ce-9d8e-a2c397b00c06"
      },
      "execution_count": null,
      "outputs": [
        {
          "output_type": "execute_result",
          "data": {
            "text/plain": [
              "array(['1001000000001011010011'], dtype='<U22')"
            ]
          },
          "metadata": {},
          "execution_count": 86
        }
      ]
    },
    {
      "cell_type": "code",
      "source": [
        "ks._getWeight(\"1001000000001011010011\")"
      ],
      "metadata": {
        "colab": {
          "base_uri": "https://localhost:8080/"
        },
        "id": "au1t4G0lKFcH",
        "outputId": "7755f2a7-d211-4dc9-921b-bdd68f2ca6b5"
      },
      "execution_count": null,
      "outputs": [
        {
          "output_type": "execute_result",
          "data": {
            "text/plain": [
              "299"
            ]
          },
          "metadata": {},
          "execution_count": 88
        }
      ]
    },
    {
      "cell_type": "code",
      "source": [
        "ks.weights"
      ],
      "metadata": {
        "colab": {
          "base_uri": "https://localhost:8080/"
        },
        "id": "B0WrNvYLMWAe",
        "outputId": "2d21fe54-7032-4456-d503-223de2fd87ad"
      },
      "execution_count": null,
      "outputs": [
        {
          "output_type": "execute_result",
          "data": {
            "text/plain": [
              "{1: 69,\n",
              " 2: 85,\n",
              " 3: 7,\n",
              " 4: 46,\n",
              " 5: 23,\n",
              " 6: 30,\n",
              " 7: 97,\n",
              " 8: 30,\n",
              " 9: 18,\n",
              " 10: 26,\n",
              " 11: 97,\n",
              " 12: 49,\n",
              " 13: 23,\n",
              " 14: 32,\n",
              " 15: 55,\n",
              " 16: 51,\n",
              " 17: 46,\n",
              " 18: 15,\n",
              " 19: 8,\n",
              " 20: 38,\n",
              " 21: 9,\n",
              " 22: 31}"
            ]
          },
          "metadata": {},
          "execution_count": 89
        }
      ]
    },
    {
      "cell_type": "markdown",
      "source": [
        "# Adding more methods"
      ],
      "metadata": {
        "id": "gyzcsoDezsSC"
      }
    },
    {
      "cell_type": "code",
      "source": [
        "import numpy as np\n",
        "import matplotlib.pyplot as plt\n",
        "from tqdm.auto import tqdm\n",
        "\n",
        "class GABIN:\n",
        "    \"\"\"\n",
        "    A class implementing a genetic algorithm for optimization problems.\n",
        "\n",
        "    Parameters:\n",
        "        population_size (int): The size of the population of individuals in each \n",
        "            generation.\n",
        "        fitness_function (function): A function that takes an individual as input\n",
        "            and returns its fitness value.\n",
        "        gene_length (int): The length of the individual's gene sequence.\n",
        "        encoding (str): The encoding type used to represent the gene sequence. \n",
        "            Currently, only \"binary\" encoding is supported.\n",
        "        selection_method (str): The selection method used to choose individuals \n",
        "            for reproduction. Must be one of \"tournament\", \"roulette_wheel\", or \n",
        "            \"rank_based\".\n",
        "        tournament_size (int, optional): The size of the tournament used in \n",
        "            tournament selection. Required if selection_method is \"tournament\".\n",
        "        crossover_method (str, optional): The crossover method used to create \n",
        "            offspring. Must be one of \"one-point\", \"two-point\", or \"uniform\".\n",
        "        crossover_prob (float, optional): The probability of crossover to takes\n",
        "            place. If there is no crossover, offspring is exact copy of parents.\n",
        "        mutation_method (str, optional): The mutation method used to introduce \n",
        "            variation into the population. Currently, only \"bit-flip\" mutation\n",
        "            is supported.\n",
        "        mutation_rate (float, optional): The probability of each gene being mutated.\n",
        "        elitism (bool, optional): Whether to keep the best individual from the \n",
        "            previous generation in the next generation.\n",
        "\n",
        "    Attributes:\n",
        "        population (ndarray): The current population of individuals.\n",
        "        fitness (ndarray): The fitness values of the current population.\n",
        "        best_individual (ndarray): The individual with the highest fitness \n",
        "            value in the current population.\n",
        "        best_fitness (float): The fitness value of the best individual in the \n",
        "            current population.\n",
        "\n",
        "    Methods:\n",
        "        evolve(num_generations):\n",
        "            Evolve the population for a given number of generations.\n",
        "\n",
        "        available_selection_methods():\n",
        "            Print the available selection methods.\n",
        "\n",
        "        available_crossover_methods():\n",
        "            Print the available crossover methods.\n",
        "\n",
        "        tournament_selection(population, fitness, tournament_size):\n",
        "            Choose individuals for reproduction using tournament selection.\n",
        "\n",
        "        roulette_wheel_selection(population, fitness):\n",
        "            Choose individuals for reproduction using roulette wheel selection.\n",
        "\n",
        "        rank_based_selection(population, fitness):\n",
        "            Choose individuals for reproduction using rank-based selection.\n",
        "\n",
        "        one_point_crossover(parent1, parent2):\n",
        "            Create offspring using one-point crossover.\n",
        "\n",
        "        two_point_crossover(parent1, parent2):\n",
        "            Create offspring using two-point crossover.\n",
        "\n",
        "        uniform_crossover(parent1, parent2):\n",
        "            Create offspring using uniform crossover.\n",
        "\n",
        "        bit_flip_mutation(individual, mutation_rate):\n",
        "            Introduce variation into an individual's gene sequence using bit-flip mutation.\n",
        "\n",
        "        swap_mutation(individual, mutation_rate):\n",
        "            Introduce variation into an individual's gene sequence by swap two bit positions.\n",
        "\n",
        "        evolve(generations):\n",
        "            Run the GA for the specified number of generations.\n",
        "        \n",
        "        plot_history():\n",
        "            Plot the fitness history.\n",
        "    \"\"\"\n",
        "\n",
        "    def __init__(self, population_size, fitness_function=None, *, gene_length, encoding, selection_method,\n",
        "                 tournament_size=None, crossover_method=None, crossover_prob=0.6, mutation_method=None,\n",
        "                 mutation_rate=0.1, elitism=False):\n",
        "        \n",
        "        self.population_size = population_size\n",
        "        self.fitness_function = fitness_function\n",
        "        self.gene_length = gene_length\n",
        "        self.encoding = encoding\n",
        "        self.selection_method = selection_method\n",
        "        self.tournament_size = tournament_size\n",
        "        self.crossover_method = crossover_method\n",
        "        self.crossover_probability = crossover_prob\n",
        "        self.mutation_method = mutation_method\n",
        "        self.mutation_rate = mutation_rate\n",
        "        self.elitism = elitism\n",
        "        self.population = None\n",
        "        self.fitness = None\n",
        "        self.best_individual = None\n",
        "        self.best_fitness = None\n",
        "        self.fitness_history = None\n",
        "        self.num_gen = None\n",
        "\n",
        "        # Validate encoding type\n",
        "        if encoding not in [\"binary\"]:\n",
        "            raise ValueError(\"Invalid encoding type. Must be 'binary'.\")\n",
        "            \n",
        "        # Validate selection method\n",
        "        if selection_method not in [\"tournament\", \"roulette_wheel\", \"rank_based\"]:\n",
        "            raise ValueError(\"Invalid selection method. Must be 'tournament', 'roulette_wheel', or 'rank_based'.\")\n",
        "            \n",
        "        # Validate crossover method\n",
        "        if crossover_method not in [\"one-point\", \"two-point\", \"uniform\"]:\n",
        "            raise ValueError(\"Invalid crossover method. Must be 'one-point', 'two-point', or 'uniform'.\")\n",
        "            \n",
        "        # Validate mutation method\n",
        "        if mutation_method not in [\"bit-flip\", \"swap\"]:\n",
        "            raise ValueError(\"Invalid mutation method. Must be 'bit-flip', or 'swap'.\")\n",
        "\n",
        "    def _initialize_population(self):\n",
        "        if self.encoding == \"binary\":\n",
        "            self.population = np.random.randint(2, size=(self.population_size, self.gene_length))\n",
        "    \n",
        "\n",
        "    def _evaluate_fitness(self):\n",
        "        self.fitness = np.zeros(self.population_size)\n",
        "        for i in range(self.population_size):\n",
        "            self.fitness[i] = self.fitness_function(''.join(map(str, self.population[i])))\n",
        "        self.best_individual = self.population[np.argmax(self.fitness)]\n",
        "        # print(self.best_individual)\n",
        "        self.best_fitness = np.max(self.fitness)\n",
        "\n",
        "    def _tournament_selection(self):\n",
        "        indices = np.random.choice(self.population_size, size=self.tournament_size, replace=False)\n",
        "        return self.population[np.argmax(self.fitness[indices])]\n",
        "\n",
        "    def _roulette_wheel_selection(self):\n",
        "        fitness_sum = np.sum(self.fitness)\n",
        "        rand_num = np.random.rand() * fitness_sum\n",
        "        idx = 0\n",
        "        while rand_num > 0:\n",
        "            rand_num -= self.fitness[idx]\n",
        "            idx += 1\n",
        "        idx -= 1\n",
        "        return self.population[idx]\n",
        "\n",
        "    def _rank_based_selection(self):\n",
        "        ranks = np.argsort(np.argsort(-self.fitness))\n",
        "        rank_sum = np.sum(ranks)\n",
        "        probabilities = ranks / rank_sum\n",
        "        idx = np.random.choice(np.arange(self.population_size), p=probabilities)\n",
        "        return self.population[idx]\n",
        "\n",
        "    def _one_point_crossover(self, parent1, parent2):\n",
        "        crossover_point = np.random.randint(1, self.gene_length)\n",
        "        child1 = np.concatenate((parent1[:crossover_point], parent2[crossover_point:]))\n",
        "        child2 = np.concatenate((parent2[:crossover_point], parent1[crossover_point:]))\n",
        "        return child1, child2\n",
        "\n",
        "    def _two_point_crossover(self, parent1, parent2):\n",
        "        crossover_points = np.sort(np.random.choice(self.gene_length, size=2, replace=False))\n",
        "        child1 = np.concatenate((parent1[:crossover_points[0]], parent2[crossover_points[0]:crossover_points[1]], parent1[crossover_points[1]:]))\n",
        "        child2 = np.concatenate((parent2[:crossover_points[0]], parent1[crossover_points[0]:crossover_points[1]], parent2[crossover_points[1]:]))\n",
        "        return child1, child2\n",
        "\n",
        "    def _uniform_crossover(self, parent1, parent2):\n",
        "        mask = np.random.randint(2, size=self.gene_length)\n",
        "        child1 = np.where(mask, parent1, parent2)\n",
        "        child2 = np.where(mask, parent2, parent1)\n",
        "        return child1, child2\n",
        "\n",
        "    def _bit_flip_mutation(self, individual):\n",
        "        mask = np.random.rand(self.gene_length) < self.mutation_rate\n",
        "        mutated_individual = individual.copy()\n",
        "        mutated_individual[mask] = 1 - mutated_individual[mask]\n",
        "        return mutated_individual\n",
        "\n",
        "    def _swap_mutation(self, individual):\n",
        "        idx = np.random.randint(0, self.genelength, 2)\n",
        "        individual[idx[0]], individual[idx[1]] = individual[idx[1]], individual[idx[0]]\n",
        "\n",
        "    def evolve(self, generations):\n",
        "        self.num_gen = generations\n",
        "        self._initialize_population()\n",
        "        self._evaluate_fitness()\n",
        "        self.fitness_history = np.zeros(shape=(generations,))\n",
        "        for i in tqdm(range(generations), dynamic_ncols=True):\n",
        "            # Store the best fitness value for this generation in fitness_history\n",
        "            new_population = []\n",
        "            elitism_offset = 1 if self.elitism else 0\n",
        "            if self.elitism:\n",
        "                new_population.append(self.best_individual)\n",
        "            for j in range(elitism_offset, self.population_size):\n",
        "                # Selection\n",
        "                if self.selection_method == \"tournament\":\n",
        "                    parent1 = self._tournament_selection()\n",
        "                    parent2 = self._tournament_selection()\n",
        "                elif self.selection_method == \"roulette_wheel\":\n",
        "                    parent1 = self._roulette_wheel_selection()\n",
        "                    parent2 = self._roulette_wheel_selection()\n",
        "                elif self.selection_method == \"rank_based\":\n",
        "                    parent1 = self._rank_based_selection()\n",
        "                    parent2 = self._rank_based_selection()\n",
        "                # Crossover\n",
        "                crossover = np.random.rand() < self.crossover_probability\n",
        "                if self.crossover_method == \"one-point\" and crossover:\n",
        "                    child1, child2 = self._one_point_crossover(parent1, parent2)\n",
        "                elif self.crossover_method == \"two-point\" and crossover:\n",
        "                    child1, child2 = self._two_point_crossover(parent1, parent2)\n",
        "                elif self.crossover_method == \"uniform\" and crossover:\n",
        "                    child1, child2 = self._uniform_crossover(parent1, parent2)\n",
        "                else:\n",
        "                    child1, child2 = parent1, parent2\n",
        "                # Mutation\n",
        "                if self.mutation_method == \"swap\":\n",
        "                    child1 = self._swap_mutation(child1)\n",
        "                    child2 = self._swap_mutation(child2)\n",
        "                else:\n",
        "                    child1 = self._bit_flip_mutation(child1)\n",
        "                    child2 = self._bit_flip_mutation(child2)\n",
        "                new_population.extend([child1, child2])\n",
        "            self.population = np.array(new_population)\n",
        "            self._evaluate_fitness()\n",
        "            self.fitness_history[i] = self.best_fitness\n",
        "\n",
        "            print(f\"Generation {i+1}:Best Population: {''.join(list(map(str, self.best_individual)))} Best fitness: {self.best_fitness}\")\n",
        "        return self.best_individual, self.best_fitness\n",
        "\n",
        "    def get_best_individual(self):\n",
        "        return self.best_individual\n",
        "\n",
        "    def get_best_fitness(self):\n",
        "        return self.best_fitness\n",
        "    \n",
        "    def plot_history(self):\n",
        "        x = np.arange(1, self.num_gen+1)\n",
        "        plt.plot(x, self.fitness_history)\n",
        "        plt.xlabel(\"number of generations\")\n",
        "        plt.ylabel(\"history\")\n",
        "        plt.title(\"Convergence History {Iterations vs. Fitness}\")\n",
        "        minima = np.array([x[np.argmax(self.fitness_history)], np.max(self.fitness_history)])\n",
        "        plt.annotate(f'Best Solution {np.argmax(self.fitness_history)+1}', xy=minima, xytext=minima-0.3)\n",
        "        plt.legend([\"fitness\", \"actual minima\", \"best soution\"])\n",
        "        # plt.pause(100)\n",
        "\n"
      ],
      "metadata": {
        "id": "NQyy0fWay3w7"
      },
      "execution_count": 80,
      "outputs": []
    },
    {
      "cell_type": "code",
      "source": [
        "# for knapsack problem\n",
        "weights = weights = {i : np.random.randint(1, 100) for i in range(1, 22+1)}\n",
        "\n",
        "def fitness(pop, weights=weights, limit=500):\n",
        "    weight = 0\n",
        "    for _ in range(1, len(pop)+1):\n",
        "        if(pop[_ - 1] != '0'):\n",
        "            weight += weights[_]\n",
        "    return weight if weight - limit  < 0 else 0"
      ],
      "metadata": {
        "id": "OxyQeKbu0izH"
      },
      "execution_count": 81,
      "outputs": []
    },
    {
      "cell_type": "code",
      "source": [
        "fitness('1000000000000000101001')"
      ],
      "metadata": {
        "colab": {
          "base_uri": "https://localhost:8080/"
        },
        "id": "paxjfSvd1WXQ",
        "outputId": "9f8a5e57-0ea9-4a7f-f986-6207fdb21123"
      },
      "execution_count": 82,
      "outputs": [
        {
          "output_type": "execute_result",
          "data": {
            "text/plain": [
              "167"
            ]
          },
          "metadata": {},
          "execution_count": 82
        }
      ]
    },
    {
      "cell_type": "code",
      "source": [
        "GA = GABIN(population_size=50 \\\n",
        "           , fitness_function=fitness \\\n",
        "           , gene_length=22 \\\n",
        "           , encoding=\"binary\" \\\n",
        "           , selection_method=\"tournament\" \\\n",
        "           , tournament_size=10 \\\n",
        "           , crossover_method=\"two-point\" \\\n",
        "           , crossover_prob=0.85 \\\n",
        "           , mutation_method=\"bit-flip\" \\\n",
        "           , mutation_rate=0.1, elitism=True)"
      ],
      "metadata": {
        "id": "Fs83AH5R0PsZ"
      },
      "execution_count": 83,
      "outputs": []
    },
    {
      "cell_type": "code",
      "source": [
        "GA.evolve(50)"
      ],
      "metadata": {
        "colab": {
          "base_uri": "https://localhost:8080/",
          "height": 951,
          "referenced_widgets": [
            "0e50984f513b488f8e613dcd70da7d01",
            "bac04dd0149849f9892201041ec587aa",
            "329e8437495744e58cca8db7bd69a5ed",
            "6e8feb59052b45c9bc738fcc88688e4b",
            "6540c33feb974fe18d6ec9584b259ad2",
            "48e9e23e5e9c432eb9fc68ea2a131bb2",
            "cd9d8d1a9ab04ec58b718d69942d1e50",
            "cc1938969be14082a2d289d00331c5f7",
            "d08f67e827dd4efaabb7f2f1951270d4",
            "b974be8da0f64b0ebd854f01d7983830",
            "b0e4268480454fa8858cc00d3bc9fec5"
          ]
        },
        "id": "wut-dY6I2ofG",
        "outputId": "34d7e82e-08ea-4f30-f119-9a9674a62447"
      },
      "execution_count": 84,
      "outputs": [
        {
          "output_type": "display_data",
          "data": {
            "text/plain": [
              "  0%|          | 0/50 [00:00<?, ?it/s]"
            ],
            "application/vnd.jupyter.widget-view+json": {
              "version_major": 2,
              "version_minor": 0,
              "model_id": "0e50984f513b488f8e613dcd70da7d01"
            }
          },
          "metadata": {}
        },
        {
          "output_type": "stream",
          "name": "stdout",
          "text": [
            "Generation 1:Best Population: 1100100100110111100001 Best fitness: 493.0\n",
            "Generation 2:Best Population: 1100100100110111100001 Best fitness: 493.0\n",
            "Generation 3:Best Population: 1100100100110111100001 Best fitness: 493.0\n",
            "Generation 4:Best Population: 0010100111010010010001 Best fitness: 499.0\n",
            "Generation 5:Best Population: 0010100111010010010001 Best fitness: 499.0\n",
            "Generation 6:Best Population: 0010100111010010010001 Best fitness: 499.0\n",
            "Generation 7:Best Population: 0010100111010010010001 Best fitness: 499.0\n",
            "Generation 8:Best Population: 0010100111010010010001 Best fitness: 499.0\n",
            "Generation 9:Best Population: 0010100111010010010001 Best fitness: 499.0\n",
            "Generation 10:Best Population: 0010100111010010010001 Best fitness: 499.0\n",
            "Generation 11:Best Population: 0010100111010010010001 Best fitness: 499.0\n",
            "Generation 12:Best Population: 0010100111010010010001 Best fitness: 499.0\n",
            "Generation 13:Best Population: 0010100111010010010001 Best fitness: 499.0\n",
            "Generation 14:Best Population: 0010100111010010010001 Best fitness: 499.0\n",
            "Generation 15:Best Population: 0010100111010010010001 Best fitness: 499.0\n",
            "Generation 16:Best Population: 0010100111010010010001 Best fitness: 499.0\n",
            "Generation 17:Best Population: 0010100111010010010001 Best fitness: 499.0\n",
            "Generation 18:Best Population: 0010100111010010010001 Best fitness: 499.0\n",
            "Generation 19:Best Population: 0010100111010010010001 Best fitness: 499.0\n",
            "Generation 20:Best Population: 0010100111010010010001 Best fitness: 499.0\n",
            "Generation 21:Best Population: 0010100111010010010001 Best fitness: 499.0\n",
            "Generation 22:Best Population: 0010100111010010010001 Best fitness: 499.0\n",
            "Generation 23:Best Population: 0010100111010010010001 Best fitness: 499.0\n",
            "Generation 24:Best Population: 0010100111010010010001 Best fitness: 499.0\n",
            "Generation 25:Best Population: 0010100111010010010001 Best fitness: 499.0\n",
            "Generation 26:Best Population: 0010100111010010010001 Best fitness: 499.0\n",
            "Generation 27:Best Population: 0010100111010010010001 Best fitness: 499.0\n",
            "Generation 28:Best Population: 0010100111010010010001 Best fitness: 499.0\n",
            "Generation 29:Best Population: 0010100111010010010001 Best fitness: 499.0\n",
            "Generation 30:Best Population: 0010100111010010010001 Best fitness: 499.0\n",
            "Generation 31:Best Population: 0010100111010010010001 Best fitness: 499.0\n",
            "Generation 32:Best Population: 0010100111010010010001 Best fitness: 499.0\n",
            "Generation 33:Best Population: 0010100111010010010001 Best fitness: 499.0\n",
            "Generation 34:Best Population: 0010100111010010010001 Best fitness: 499.0\n",
            "Generation 35:Best Population: 0010100111010010010001 Best fitness: 499.0\n",
            "Generation 36:Best Population: 0010100111010010010001 Best fitness: 499.0\n",
            "Generation 37:Best Population: 0010100111010010010001 Best fitness: 499.0\n",
            "Generation 38:Best Population: 0010100111010010010001 Best fitness: 499.0\n",
            "Generation 39:Best Population: 0010100111010010010001 Best fitness: 499.0\n",
            "Generation 40:Best Population: 0010100111010010010001 Best fitness: 499.0\n",
            "Generation 41:Best Population: 0010100111010010010001 Best fitness: 499.0\n",
            "Generation 42:Best Population: 0010100111010010010001 Best fitness: 499.0\n",
            "Generation 43:Best Population: 0010100111010010010001 Best fitness: 499.0\n",
            "Generation 44:Best Population: 0010100111010010010001 Best fitness: 499.0\n",
            "Generation 45:Best Population: 0010100111010010010001 Best fitness: 499.0\n",
            "Generation 46:Best Population: 0010100111010010010001 Best fitness: 499.0\n",
            "Generation 47:Best Population: 0010100111010010010001 Best fitness: 499.0\n",
            "Generation 48:Best Population: 0010100111010010010001 Best fitness: 499.0\n",
            "Generation 49:Best Population: 0010100111010010010001 Best fitness: 499.0\n",
            "Generation 50:Best Population: 0010100111010010010001 Best fitness: 499.0\n"
          ]
        },
        {
          "output_type": "execute_result",
          "data": {
            "text/plain": [
              "(array([0, 0, 1, 0, 1, 0, 0, 1, 1, 1, 0, 1, 0, 0, 1, 0, 0, 1, 0, 0, 0, 1]),\n",
              " 499.0)"
            ]
          },
          "metadata": {},
          "execution_count": 84
        }
      ]
    },
    {
      "cell_type": "code",
      "source": [
        "GA.plot_history()"
      ],
      "metadata": {
        "colab": {
          "base_uri": "https://localhost:8080/",
          "height": 472
        },
        "id": "8xpqJRMNd8F6",
        "outputId": "071a6725-a9a9-4e93-8f5e-4620e694dcc1"
      },
      "execution_count": 85,
      "outputs": [
        {
          "output_type": "display_data",
          "data": {
            "text/plain": [
              "<Figure size 640x480 with 1 Axes>"
            ],
            "image/png": "[encoded data removed]"
          },
          "metadata": {}
        }
      ]
    },
    {
      "cell_type": "code",
      "source": [
        "fitness(''.join(map(str, [1, 1, 0, 1, 1, 0, 0, 0, 0, 1, 0, 1, 0, 0, 0, 1, 1, 1, 1, 0, 0, 1])))"
      ],
      "metadata": {
        "colab": {
          "base_uri": "https://localhost:8080/"
        },
        "id": "gAF16ERb2xgt",
        "outputId": "4e6795fd-89fe-45fd-81bc-d1318464c85e"
      },
      "execution_count": 86,
      "outputs": [
        {
          "output_type": "execute_result",
          "data": {
            "text/plain": [
              "0"
            ]
          },
          "metadata": {},
          "execution_count": 86
        }
      ]
    },
    {
      "cell_type": "code",
      "source": [
        "GA1 = GABIN(population_size=50 \\\n",
        "           , fitness_function=fitness \\\n",
        "           , gene_length=22 \\\n",
        "           , encoding=\"binary\" \\\n",
        "           , selection_method=\"rank_based\" \\\n",
        "           , tournament_size=10 \\\n",
        "           , crossover_method=\"uniform\" \\\n",
        "           , crossover_prob=0.85 \\\n",
        "           , mutation_method=\"bit-flip\" \\\n",
        "           , mutation_rate=0.1, elitism=True)"
      ],
      "metadata": {
        "id": "WUCYtYNNAFM-"
      },
      "execution_count": 90,
      "outputs": []
    },
    {
      "cell_type": "code",
      "source": [
        "GA1.evolve(50)"
      ],
      "metadata": {
        "colab": {
          "base_uri": "https://localhost:8080/",
          "height": 951,
          "referenced_widgets": [
            "7aa959a93f774d278ab657318f518d6b",
            "352bf910956e49c3bb686200da54d4d8",
            "6f9ed8c74913409ba838fa2f461847b3",
            "1f1c63539138478bb56ada6b6067014f",
            "2627c5fb61514389b2c45b028821d7e3",
            "e704d8b06a7442b49f587b63311b14a8",
            "e9c4d0d60a064b2ba9a6127460053b29",
            "2834283d65b5491993ec8fc5ae8d6154",
            "8d742433f24843c6b64748b3cd554ff2",
            "abed6ccb8e034c7cb2c4437a4bf04e97",
            "95824b5581aa45798c5794d7ba9b442a"
          ]
        },
        "id": "DLxIeB4dBSvO",
        "outputId": "7940df30-8563-4dfe-cdf9-a57c2b82cfcc"
      },
      "execution_count": 91,
      "outputs": [
        {
          "output_type": "display_data",
          "data": {
            "text/plain": [
              "  0%|          | 0/50 [00:00<?, ?it/s]"
            ],
            "application/vnd.jupyter.widget-view+json": {
              "version_major": 2,
              "version_minor": 0,
              "model_id": "7aa959a93f774d278ab657318f518d6b"
            }
          },
          "metadata": {}
        },
        {
          "output_type": "stream",
          "name": "stdout",
          "text": [
            "Generation 1:Best Population: 0001000100101110011100 Best fitness: 497.0\n",
            "Generation 2:Best Population: 0001000100101110011100 Best fitness: 497.0\n",
            "Generation 3:Best Population: 0001000100101110011100 Best fitness: 497.0\n",
            "Generation 4:Best Population: 0001000100101110011100 Best fitness: 497.0\n",
            "Generation 5:Best Population: 0001000100101110011100 Best fitness: 497.0\n",
            "Generation 6:Best Population: 0001000100101110011100 Best fitness: 497.0\n",
            "Generation 7:Best Population: 1011100100100011100011 Best fitness: 499.0\n",
            "Generation 8:Best Population: 1011100100100011100011 Best fitness: 499.0\n",
            "Generation 9:Best Population: 1011100100100011100011 Best fitness: 499.0\n",
            "Generation 10:Best Population: 1011100100100011100011 Best fitness: 499.0\n",
            "Generation 11:Best Population: 1011100100100011100011 Best fitness: 499.0\n",
            "Generation 12:Best Population: 1011100100100011100011 Best fitness: 499.0\n",
            "Generation 13:Best Population: 1011100100100011100011 Best fitness: 499.0\n",
            "Generation 14:Best Population: 1011100100100011100011 Best fitness: 499.0\n",
            "Generation 15:Best Population: 1011100100100011100011 Best fitness: 499.0\n",
            "Generation 16:Best Population: 1011100100100011100011 Best fitness: 499.0\n",
            "Generation 17:Best Population: 1011100100100011100011 Best fitness: 499.0\n",
            "Generation 18:Best Population: 1011100100100011100011 Best fitness: 499.0\n",
            "Generation 19:Best Population: 1011100100100011100011 Best fitness: 499.0\n",
            "Generation 20:Best Population: 1011100100100011100011 Best fitness: 499.0\n",
            "Generation 21:Best Population: 1011100100100011100011 Best fitness: 499.0\n",
            "Generation 22:Best Population: 1011100100100011100011 Best fitness: 499.0\n",
            "Generation 23:Best Population: 1011100100100011100011 Best fitness: 499.0\n",
            "Generation 24:Best Population: 1011100100100011100011 Best fitness: 499.0\n",
            "Generation 25:Best Population: 1011100100100011100011 Best fitness: 499.0\n",
            "Generation 26:Best Population: 1011100100100011100011 Best fitness: 499.0\n",
            "Generation 27:Best Population: 1011100100100011100011 Best fitness: 499.0\n",
            "Generation 28:Best Population: 1011100100100011100011 Best fitness: 499.0\n",
            "Generation 29:Best Population: 1011100100100011100011 Best fitness: 499.0\n",
            "Generation 30:Best Population: 1011100100100011100011 Best fitness: 499.0\n",
            "Generation 31:Best Population: 1011100100100011100011 Best fitness: 499.0\n",
            "Generation 32:Best Population: 1011100100100011100011 Best fitness: 499.0\n",
            "Generation 33:Best Population: 1011100100100011100011 Best fitness: 499.0\n",
            "Generation 34:Best Population: 1011100100100011100011 Best fitness: 499.0\n",
            "Generation 35:Best Population: 1011100100100011100011 Best fitness: 499.0\n",
            "Generation 36:Best Population: 1011100100100011100011 Best fitness: 499.0\n",
            "Generation 37:Best Population: 1011100100100011100011 Best fitness: 499.0\n",
            "Generation 38:Best Population: 1011100100100011100011 Best fitness: 499.0\n",
            "Generation 39:Best Population: 1011100100100011100011 Best fitness: 499.0\n",
            "Generation 40:Best Population: 1011100100100011100011 Best fitness: 499.0\n",
            "Generation 41:Best Population: 1011100100100011100011 Best fitness: 499.0\n",
            "Generation 42:Best Population: 1011100100100011100011 Best fitness: 499.0\n",
            "Generation 43:Best Population: 1011100100100011100011 Best fitness: 499.0\n",
            "Generation 44:Best Population: 1011100100100011100011 Best fitness: 499.0\n",
            "Generation 45:Best Population: 1011100100100011100011 Best fitness: 499.0\n",
            "Generation 46:Best Population: 1011100100100011100011 Best fitness: 499.0\n",
            "Generation 47:Best Population: 1011100100100011100011 Best fitness: 499.0\n",
            "Generation 48:Best Population: 1011100100100011100011 Best fitness: 499.0\n",
            "Generation 49:Best Population: 1011100100100011100011 Best fitness: 499.0\n",
            "Generation 50:Best Population: 1011100100100011100011 Best fitness: 499.0\n"
          ]
        },
        {
          "output_type": "execute_result",
          "data": {
            "text/plain": [
              "(array([1, 0, 1, 1, 1, 0, 0, 1, 0, 0, 1, 0, 0, 0, 1, 1, 1, 0, 0, 0, 1, 1]),\n",
              " 499.0)"
            ]
          },
          "metadata": {},
          "execution_count": 91
        }
      ]
    },
    {
      "cell_type": "code",
      "source": [
        "GA1.plot_history()"
      ],
      "metadata": {
        "id": "5aaZt1uzBUrT",
        "colab": {
          "base_uri": "https://localhost:8080/",
          "height": 472
        },
        "outputId": "1787f912-4075-43b3-ee97-b90594169f77"
      },
      "execution_count": 92,
      "outputs": [
        {
          "output_type": "display_data",
          "data": {
            "text/plain": [
              "<Figure size 640x480 with 1 Axes>"
            ],
            "image/png": "[encoded data removed]"
          },
          "metadata": {}
        }
      ]
    },
    {
      "cell_type": "markdown",
      "source": [
        "# MaxOne's"
      ],
      "metadata": {
        "id": "lAiEMAfoS0NF"
      }
    },
    {
      "cell_type": "code",
      "source": [
        "class MaxOnes(GABIN):\n",
        "    \n",
        "    def __init__(self, population_size, gene_length, encoding, selection_method,\n",
        "                 tournament_size=None, crossover_method=None, crossover_prob=0.6, mutation_method=None,\n",
        "                 mutation_rate=0.1, elitism=False):\n",
        "        super().__init__(population_size, fitness_function = lambda x : x.count('1'), gene_length=gene_length, encoding=encoding,\n",
        "                         selection_method = selection_method, tournament_size=tournament_size,\n",
        "                         crossover_method=crossover_method, crossover_prob=0.6, mutation_method=mutation_method, \n",
        "                         mutation_rate=0.1, elitism=elitism)"
      ],
      "metadata": {
        "id": "L9JXx2V6S7y9"
      },
      "execution_count": 93,
      "outputs": []
    },
    {
      "cell_type": "code",
      "source": [
        "maxones = MaxOnes(population_size=20,\n",
        "                  gene_length=10,\n",
        "                  encoding=\"binary\",\n",
        "                  selection_method=\"tournament\",\n",
        "                  tournament_size=5,\n",
        "                  crossover_method=\"two-point\",\n",
        "                  crossover_prob=0.7,\n",
        "                  mutation_method=\"bit-flip\",\n",
        "                  mutation_rate=0.1,\n",
        "                  elitism=True)"
      ],
      "metadata": {
        "id": "mQcbM-1hT3-Q"
      },
      "execution_count": 94,
      "outputs": []
    },
    {
      "cell_type": "code",
      "source": [
        "maxones.evolve(10)"
      ],
      "metadata": {
        "colab": {
          "base_uri": "https://localhost:8080/",
          "height": 240,
          "referenced_widgets": [
            "8e725331c2b440909df36a421c643d58",
            "b4fb52a89d5c43f389785b8968180c0a",
            "838a2c0d0e21427a9f06644e92d03705",
            "4f56ae77cf884daebc72530e3c276b23",
            "aa549ae99cb44290877efde70c2ad17d",
            "c6a6e42ef8a448f09fdd6cc0a53feac3",
            "02592ff7427348a0aecf04fee95bd9c1",
            "51cc3b13b97b471aa335c2f6b5620c5c",
            "3175c3cb30634c008ddfe30d8e94f984",
            "341fc7683fb74770bd5b720f56927b95",
            "ea73be23184a4330b54e68309c039fcf"
          ]
        },
        "id": "yPHkdywDTEQw",
        "outputId": "38b23786-bdec-4ef4-9399-00dd8ba23868"
      },
      "execution_count": 95,
      "outputs": [
        {
          "output_type": "display_data",
          "data": {
            "text/plain": [
              "  0%|          | 0/10 [00:00<?, ?it/s]"
            ],
            "application/vnd.jupyter.widget-view+json": {
              "version_major": 2,
              "version_minor": 0,
              "model_id": "8e725331c2b440909df36a421c643d58"
            }
          },
          "metadata": {}
        },
        {
          "output_type": "stream",
          "name": "stdout",
          "text": [
            "Generation 1:Best Population: 0011111011 Best fitness: 7.0\n",
            "Generation 2:Best Population: 0111111011 Best fitness: 8.0\n",
            "Generation 3:Best Population: 0111111011 Best fitness: 8.0\n",
            "Generation 4:Best Population: 0111111011 Best fitness: 8.0\n",
            "Generation 5:Best Population: 0111111011 Best fitness: 8.0\n",
            "Generation 6:Best Population: 0111111011 Best fitness: 8.0\n",
            "Generation 7:Best Population: 1111111011 Best fitness: 9.0\n",
            "Generation 8:Best Population: 1111111011 Best fitness: 9.0\n",
            "Generation 9:Best Population: 1111111011 Best fitness: 9.0\n",
            "Generation 10:Best Population: 1111111111 Best fitness: 10.0\n"
          ]
        },
        {
          "output_type": "execute_result",
          "data": {
            "text/plain": [
              "(array([1, 1, 1, 1, 1, 1, 1, 1, 1, 1]), 10.0)"
            ]
          },
          "metadata": {},
          "execution_count": 95
        }
      ]
    },
    {
      "cell_type": "code",
      "source": [
        "maxones.plot_history()"
      ],
      "metadata": {
        "id": "e7v3dPMCTEZH",
        "colab": {
          "base_uri": "https://localhost:8080/",
          "height": 472
        },
        "outputId": "859a8e3d-4b84-4662-dc67-0c5c455d046a"
      },
      "execution_count": 96,
      "outputs": [
        {
          "output_type": "display_data",
          "data": {
            "text/plain": [
              "<Figure size 640x480 with 1 Axes>"
            ],
            "image/png": "[encoded data removed]"
          },
          "metadata": {}
        }
      ]
    },
    {
      "cell_type": "code",
      "source": [],
      "metadata": {
        "id": "QLbWkxDnhigC"
      },
      "execution_count": null,
      "outputs": []
    }
  ]
}
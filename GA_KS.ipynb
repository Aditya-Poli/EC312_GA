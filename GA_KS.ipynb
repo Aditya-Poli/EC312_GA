{
  "nbformat": 4,
  "nbformat_minor": 0,
  "metadata": {
    "colab": {
      "provenance": [],
      "collapsed_sections": [
        "SohPf7NH2TIF",
        "gyzcsoDezsSC",
        "lAiEMAfoS0NF"
      ],
      "authorship_tag": "ABX9TyPeazt1zxeUvyGCYcyGY9KB",
      "include_colab_link": true
    },
    "kernelspec": {
      "name": "python3",
      "display_name": "Python 3"
    },
    "language_info": {
      "name": "python"
    }
  },
  "cells": [
    {
      "cell_type": "markdown",
      "metadata": {
        "id": "view-in-github",
        "colab_type": "text"
      },
      "source": [
        "<a href=\"https://colab.research.google.com/github/Aditya-Poli/EC312_GA/blob/main/GA_KS.ipynb\" target=\"_parent\"><img src=\"https://colab.research.google.com/assets/colab-badge.svg\" alt=\"Open In Colab\"/></a>"
      ]
    },
    {
      "cell_type": "code",
      "execution_count": null,
      "metadata": {
        "id": "PpPJhi-oRdTL"
      },
      "outputs": [],
      "source": []
    },
    {
      "cell_type": "markdown",
      "source": [
        "# KnapSack"
      ],
      "metadata": {
        "id": "SohPf7NH2TIF"
      }
    },
    {
      "cell_type": "code",
      "source": [
        "class knapsack:\n",
        "\n",
        "    def __init__(self, numItems=5, weights=None, limit=10):\n",
        "        self.numItems = numItems\n",
        "        self.weights = weights\n",
        "        self.limit = limit;\n",
        "        self._pop = None\n",
        "        self._bestPop = None\n",
        "        self._bestFit = None\n",
        "        self._Variants = None\n",
        "\n",
        "    def _getWeight(self,Item):\n",
        "        weight = 0\n",
        "        if self.weights == None:\n",
        "            self.weights = {i : 1 for i in range(1, self.numItems+1)}\n",
        "        for _ in range(1, len(Item)+1):\n",
        "            if(Item[_ - 1] != '0'):\n",
        "                weight += self.weights[_]\n",
        "        return weight\n",
        "\n",
        "    def fitness(self):\n",
        "        return np.array([self._getWeight(pop) for pop in self._pop])\n",
        "\n",
        "    def selection(self):\n",
        "        fitness = np.array([val if (val - self.limit) < 0 else 0 for val in self.fitness()])\n",
        "        # print(fitness)\n",
        "        prob = fitness / np.sum(fitness)\n",
        "        return np.random.choice(self._pop, size=1, replace=True, p=prob)\n",
        "    \n",
        "    def crossover(self, parent1, parent2):\n",
        "        idx = np.random.randint(0, len(parent1))\n",
        "        return parent1[:idx] + parent2[idx:]\n",
        "    \n",
        "    def mutate(self, child, mutProb=0.1):\n",
        "        child = list(child)\n",
        "        if np.random.random() <= mutProb:\n",
        "            idx1 = np.random.randint(0, len(child), size=1)\n",
        "            child[idx1[0]] = '1'\n",
        "        return ''.join(child)\n",
        "\n",
        "    def _generatePop(self, popSize):\n",
        "        pop = []\n",
        "        for _ in range(popSize):\n",
        "            pop.append(''.join(map(str, list(np.random.randint(2,size=self.numItems)))))\n",
        "        return np.array(pop)\n",
        "\n",
        "    def variants(self):\n",
        "        return self._Variants\n",
        "    \n",
        "    def run(self, popSize=50, nIter=50):\n",
        "\n",
        "        self._pop = self._generatePop(popSize)\n",
        "        # print(self._pop)\n",
        "        for _ in tqdm(range(1, nIter+1), file=sys.stdout):\n",
        "            if np.sum(self.fitness() - self.limit) == 0:\n",
        "                print(f\"StopIteration {_}: Best Population : {list(self._bestPop)}  Fitness: {self._bestFit}\")\n",
        "                break\n",
        "            newPop = []\n",
        "            for i in range(popSize):\n",
        "                parent1 = self.selection()\n",
        "                parent2 = self.selection()\n",
        "                child = self.crossover(*parent1, *parent2)\n",
        "                child = self.mutate(child)\n",
        "                newPop.append(child)\n",
        "            self._pop = newPop\n",
        "            fitness = np.array([val if (val - self.limit) < 0 else 0 for val in self.fitness()])\n",
        "            if self._bestFit == None or np.max(fitness) > self._bestFit:\n",
        "                self._bestFit = np.max(fitness)\n",
        "                self._bestPop = self._pop[np.argmax(self.fitness())]\n",
        "                self._Variants = np.array([pop for pop in self._pop if self._getWeight(pop) == self._bestFit])\n",
        "\n",
        "            print(f\"Iteration {_}: Best Population : {list(self._bestPop)}  Fitness: {self._bestFit}\")\n",
        "\n",
        "\n",
        "            \n"
      ],
      "metadata": {
        "id": "xXZ20-SoLAvL"
      },
      "execution_count": null,
      "outputs": []
    },
    {
      "cell_type": "code",
      "source": [
        "ks = knapsack(numItems=10, weights={i:np.random.randint(1, 100, size=1)[0] for i in range(1, 31)}, limit=200)"
      ],
      "metadata": {
        "id": "t2pGlguyTa6S"
      },
      "execution_count": null,
      "outputs": []
    },
    {
      "cell_type": "code",
      "source": [
        "ks.run()"
      ],
      "metadata": {
        "colab": {
          "base_uri": "https://localhost:8080/",
          "height": 917,
          "referenced_widgets": [
            "13560583512540ab922ed77037f91aaf",
            "dc43678d53cc4597871de2af31d900f1",
            "be4d63f51f864e95a92e472d6030fb3b",
            "c5fc39699b2546019322ff19ec64f467",
            "652cc95640804e5493f233895010b39b",
            "34b4b021e09c4518be05ebbbf44cfe63",
            "53a45c1d363c484687ce132e9f9b7591",
            "819bd74ae3b2494187b069f95ac292df",
            "f29cf5c6abc2451db9a2e54495502770",
            "2b80703d282842e8a148283643d16c89",
            "1933f4148c2c4e4b96c3d61d2b29c6e3"
          ]
        },
        "id": "N4hhBc9rThvD",
        "outputId": "91feba54-da13-40d4-8f33-60fcc806453f"
      },
      "execution_count": null,
      "outputs": [
        {
          "output_type": "display_data",
          "data": {
            "text/plain": [
              "  0%|          | 0/50 [00:00<?, ?it/s]"
            ],
            "application/vnd.jupyter.widget-view+json": {
              "version_major": 2,
              "version_minor": 0,
              "model_id": "13560583512540ab922ed77037f91aaf"
            }
          },
          "metadata": {}
        },
        {
          "output_type": "stream",
          "name": "stdout",
          "text": [
            "Iteration 1: Best Population : ['1', '0', '0', '1', '0', '1', '1', '1', '0', '1']  Fitness: 199\n",
            "Iteration 2: Best Population : ['1', '0', '0', '1', '0', '1', '1', '1', '0', '1']  Fitness: 199\n",
            "Iteration 3: Best Population : ['1', '0', '0', '1', '0', '1', '1', '1', '0', '1']  Fitness: 199\n",
            "Iteration 4: Best Population : ['1', '0', '0', '1', '0', '1', '1', '1', '0', '1']  Fitness: 199\n",
            "Iteration 5: Best Population : ['1', '0', '0', '1', '0', '1', '1', '1', '0', '1']  Fitness: 199\n",
            "Iteration 6: Best Population : ['1', '0', '0', '1', '0', '1', '1', '1', '0', '1']  Fitness: 199\n",
            "Iteration 7: Best Population : ['1', '0', '0', '1', '0', '1', '1', '1', '0', '1']  Fitness: 199\n",
            "Iteration 8: Best Population : ['1', '0', '0', '1', '0', '1', '1', '1', '0', '1']  Fitness: 199\n",
            "Iteration 9: Best Population : ['1', '0', '0', '1', '0', '1', '1', '1', '0', '1']  Fitness: 199\n",
            "Iteration 10: Best Population : ['1', '0', '0', '1', '0', '1', '1', '1', '0', '1']  Fitness: 199\n",
            "Iteration 11: Best Population : ['1', '0', '0', '1', '0', '1', '1', '1', '0', '1']  Fitness: 199\n",
            "Iteration 12: Best Population : ['1', '0', '0', '1', '0', '1', '1', '1', '0', '1']  Fitness: 199\n",
            "Iteration 13: Best Population : ['1', '0', '0', '1', '0', '1', '1', '1', '0', '1']  Fitness: 199\n",
            "Iteration 14: Best Population : ['1', '0', '0', '1', '0', '1', '1', '1', '0', '1']  Fitness: 199\n",
            "Iteration 15: Best Population : ['1', '0', '0', '1', '0', '1', '1', '1', '0', '1']  Fitness: 199\n",
            "Iteration 16: Best Population : ['1', '0', '0', '1', '0', '1', '1', '1', '0', '1']  Fitness: 199\n",
            "Iteration 17: Best Population : ['1', '0', '0', '1', '0', '1', '1', '1', '0', '1']  Fitness: 199\n",
            "Iteration 18: Best Population : ['1', '0', '0', '1', '0', '1', '1', '1', '0', '1']  Fitness: 199\n",
            "Iteration 19: Best Population : ['1', '0', '0', '1', '0', '1', '1', '1', '0', '1']  Fitness: 199\n",
            "Iteration 20: Best Population : ['1', '0', '0', '1', '0', '1', '1', '1', '0', '1']  Fitness: 199\n",
            "Iteration 21: Best Population : ['1', '0', '0', '1', '0', '1', '1', '1', '0', '1']  Fitness: 199\n",
            "Iteration 22: Best Population : ['1', '0', '0', '1', '0', '1', '1', '1', '0', '1']  Fitness: 199\n",
            "Iteration 23: Best Population : ['1', '0', '0', '1', '0', '1', '1', '1', '0', '1']  Fitness: 199\n",
            "Iteration 24: Best Population : ['1', '0', '0', '1', '0', '1', '1', '1', '0', '1']  Fitness: 199\n",
            "Iteration 25: Best Population : ['1', '0', '0', '1', '0', '1', '1', '1', '0', '1']  Fitness: 199\n",
            "Iteration 26: Best Population : ['1', '0', '0', '1', '0', '1', '1', '1', '0', '1']  Fitness: 199\n",
            "Iteration 27: Best Population : ['1', '0', '0', '1', '0', '1', '1', '1', '0', '1']  Fitness: 199\n",
            "Iteration 28: Best Population : ['1', '0', '0', '1', '0', '1', '1', '1', '0', '1']  Fitness: 199\n",
            "Iteration 29: Best Population : ['1', '0', '0', '1', '0', '1', '1', '1', '0', '1']  Fitness: 199\n",
            "Iteration 30: Best Population : ['1', '0', '0', '1', '0', '1', '1', '1', '0', '1']  Fitness: 199\n",
            "Iteration 31: Best Population : ['1', '0', '0', '1', '0', '1', '1', '1', '0', '1']  Fitness: 199\n",
            "Iteration 32: Best Population : ['1', '0', '0', '1', '0', '1', '1', '1', '0', '1']  Fitness: 199\n",
            "Iteration 33: Best Population : ['1', '0', '0', '1', '0', '1', '1', '1', '0', '1']  Fitness: 199\n",
            "Iteration 34: Best Population : ['1', '0', '0', '1', '0', '1', '1', '1', '0', '1']  Fitness: 199\n",
            "Iteration 35: Best Population : ['1', '0', '0', '1', '0', '1', '1', '1', '0', '1']  Fitness: 199\n",
            "Iteration 36: Best Population : ['1', '0', '0', '1', '0', '1', '1', '1', '0', '1']  Fitness: 199\n",
            "Iteration 37: Best Population : ['1', '0', '0', '1', '0', '1', '1', '1', '0', '1']  Fitness: 199\n",
            "Iteration 38: Best Population : ['1', '0', '0', '1', '0', '1', '1', '1', '0', '1']  Fitness: 199\n",
            "Iteration 39: Best Population : ['1', '0', '0', '1', '0', '1', '1', '1', '0', '1']  Fitness: 199\n",
            "Iteration 40: Best Population : ['1', '0', '0', '1', '0', '1', '1', '1', '0', '1']  Fitness: 199\n",
            "Iteration 41: Best Population : ['1', '0', '0', '1', '0', '1', '1', '1', '0', '1']  Fitness: 199\n",
            "Iteration 42: Best Population : ['1', '0', '0', '1', '0', '1', '1', '1', '0', '1']  Fitness: 199\n",
            "Iteration 43: Best Population : ['1', '0', '0', '1', '0', '1', '1', '1', '0', '1']  Fitness: 199\n",
            "Iteration 44: Best Population : ['1', '0', '0', '1', '0', '1', '1', '1', '0', '1']  Fitness: 199\n",
            "Iteration 45: Best Population : ['1', '0', '0', '1', '0', '1', '1', '1', '0', '1']  Fitness: 199\n",
            "Iteration 46: Best Population : ['1', '0', '0', '1', '0', '1', '1', '1', '0', '1']  Fitness: 199\n",
            "Iteration 47: Best Population : ['1', '0', '0', '1', '0', '1', '1', '1', '0', '1']  Fitness: 199\n",
            "Iteration 48: Best Population : ['1', '0', '0', '1', '0', '1', '1', '1', '0', '1']  Fitness: 199\n",
            "Iteration 49: Best Population : ['1', '0', '0', '1', '0', '1', '1', '1', '0', '1']  Fitness: 199\n",
            "Iteration 50: Best Population : ['1', '0', '0', '1', '0', '1', '1', '1', '0', '1']  Fitness: 199\n"
          ]
        }
      ]
    },
    {
      "cell_type": "code",
      "source": [
        "ks.variants()"
      ],
      "metadata": {
        "colab": {
          "base_uri": "https://localhost:8080/"
        },
        "id": "pCl3XuCZ1a35",
        "outputId": "52120e70-784d-4356-e8ef-3e6c5349b37c"
      },
      "execution_count": null,
      "outputs": [
        {
          "output_type": "execute_result",
          "data": {
            "text/plain": [
              "array(['0010111111'], dtype='<U10')"
            ]
          },
          "metadata": {},
          "execution_count": 14
        }
      ]
    },
    {
      "cell_type": "code",
      "source": [],
      "metadata": {
        "id": "5w-VbMdH1evl"
      },
      "execution_count": null,
      "outputs": []
    },
    {
      "cell_type": "code",
      "source": [
        "prob = np.array([10, 31, 68])\n",
        "prob = prob / np.sum(prob)\n",
        "np.random.choice(['1001', '0000', '1111'], size=2, replace=True, p=prob)"
      ],
      "metadata": {
        "colab": {
          "base_uri": "https://localhost:8080/"
        },
        "id": "_iYPstsuaWTB",
        "outputId": "683a086b-e11e-4d13-be71-8dcdb78c7a44"
      },
      "execution_count": null,
      "outputs": [
        {
          "output_type": "execute_result",
          "data": {
            "text/plain": [
              "array(['0000', '1001'], dtype='<U4')"
            ]
          },
          "metadata": {},
          "execution_count": 85
        }
      ]
    },
    {
      "cell_type": "code",
      "source": [
        "cond = 5\n",
        "[val if val % cond == 0 else 0 for val in range(1, 21)]"
      ],
      "metadata": {
        "colab": {
          "base_uri": "https://localhost:8080/"
        },
        "id": "4ILh8t0fTjgD",
        "outputId": "2cf2d936-54d7-4f24-8f4a-006fdc3284cc"
      },
      "execution_count": null,
      "outputs": [
        {
          "output_type": "execute_result",
          "data": {
            "text/plain": [
              "[0, 0, 0, 0, 5, 0, 0, 0, 0, 10, 0, 0, 0, 0, 15, 0, 0, 0, 0, 20]"
            ]
          },
          "metadata": {},
          "execution_count": 98
        }
      ]
    },
    {
      "cell_type": "code",
      "source": [
        "np.random.randint(0, 2, size=5)"
      ],
      "metadata": {
        "colab": {
          "base_uri": "https://localhost:8080/"
        },
        "id": "8iWzZS1zcrup",
        "outputId": "719f11fa-c165-41e4-a625-8559cfa29d55"
      },
      "execution_count": null,
      "outputs": [
        {
          "output_type": "execute_result",
          "data": {
            "text/plain": [
              "array([0, 0, 0, 0, 1])"
            ]
          },
          "metadata": {},
          "execution_count": 113
        }
      ]
    },
    {
      "cell_type": "code",
      "source": [
        "np.random.randint(1, 100, size=1)[0]"
      ],
      "metadata": {
        "colab": {
          "base_uri": "https://localhost:8080/"
        },
        "id": "lCK94tSXdcM1",
        "outputId": "9e8b9b85-c981-4672-a4b1-6280711f6198"
      },
      "execution_count": null,
      "outputs": [
        {
          "output_type": "execute_result",
          "data": {
            "text/plain": [
              "77"
            ]
          },
          "metadata": {},
          "execution_count": 22
        }
      ]
    },
    {
      "cell_type": "code",
      "source": [
        "def _generatePop(popSize):\n",
        "    pop = []\n",
        "    for _ in range(popSize):\n",
        "        pop.append(''.join(map(str, list(np.random.randint(2,size=5)))))\n",
        "    return np.array(pop)\n",
        "\n",
        "_generatePop(10)"
      ],
      "metadata": {
        "colab": {
          "base_uri": "https://localhost:8080/"
        },
        "id": "B8je4iJsgx3I",
        "outputId": "1f457f06-e567-4fe5-9870-3b3c1704399c"
      },
      "execution_count": null,
      "outputs": [
        {
          "output_type": "execute_result",
          "data": {
            "text/plain": [
              "array(['01111', '11011', '11001', '01000', '00010', '01101', '01110',\n",
              "       '00000', '11011', '01101'], dtype='<U5')"
            ]
          },
          "metadata": {},
          "execution_count": 43
        }
      ]
    },
    {
      "cell_type": "code",
      "source": [
        "def _getWeight(Item):\n",
        "    weight = 0\n",
        "    global weights\n",
        "    if weights == None:\n",
        "        weights = {i : 1 for i in range(1, numItems+1)}\n",
        "    for _ in range(1, len(Item)+1):\n",
        "        if(Item[_ - 1] != '0'):\n",
        "            weight += weights[_]\n",
        "    return weight\n",
        "\n",
        "def fitness():\n",
        "    return np.array([_getWeight(pop) for pop in _pop])\n",
        "\n",
        "global _pop\n",
        "global numItems\n",
        "global weights\n",
        "\n",
        "\n",
        "numItems = 10\n",
        "weights = {i:np.random.randint(1, 200, size=1)[0] for i in range(1, numItems+1)}\n",
        "_pop = _generatePop(numItems)\n",
        "print(_pop)\n",
        "print(fit:=fitness())"
      ],
      "metadata": {
        "colab": {
          "base_uri": "https://localhost:8080/"
        },
        "id": "eSoIcKDEhAtj",
        "outputId": "b4129d95-3ee9-4bf4-82f8-2af8ffbb1c00"
      },
      "execution_count": null,
      "outputs": [
        {
          "output_type": "stream",
          "name": "stdout",
          "text": [
            "['11100' '01001' '00011' '00000' '01101' '00100' '11101' '00110' '11100'\n",
            " '00100']\n",
            "[488 370 274   0 496 126 681 207 488 126]\n"
          ]
        }
      ]
    },
    {
      "cell_type": "code",
      "source": [
        "fitness = np.array([val if (val - 200) < 0 else 0 for val in fit])\n",
        "print(fitness)\n",
        "prob = fitness / np.sum(fitness)"
      ],
      "metadata": {
        "colab": {
          "base_uri": "https://localhost:8080/"
        },
        "id": "ROJJNyeaiEqf",
        "outputId": "5d88b3f4-204e-4f6f-a09e-2b1faf7c32a1"
      },
      "execution_count": null,
      "outputs": [
        {
          "output_type": "stream",
          "name": "stdout",
          "text": [
            "[  0   0   0   0   0 126   0   0   0 126]\n"
          ]
        }
      ]
    },
    {
      "cell_type": "code",
      "source": [
        "prob"
      ],
      "metadata": {
        "colab": {
          "base_uri": "https://localhost:8080/"
        },
        "id": "PkfU8xl6i7td",
        "outputId": "e8b1202a-ebf8-440b-c046-e65c8a7aea86"
      },
      "execution_count": null,
      "outputs": [
        {
          "output_type": "execute_result",
          "data": {
            "text/plain": [
              "array([0. , 0. , 0. , 0. , 0. , 0.5, 0. , 0. , 0. , 0.5])"
            ]
          },
          "metadata": {},
          "execution_count": 51
        }
      ]
    },
    {
      "cell_type": "code",
      "source": [
        "class knpsk:\n",
        "\n",
        "    def __init__(self, numItems=5, weights=None, limit=10):\n",
        "        self.numItems = numItems\n",
        "        self.weights = weights\n",
        "        self.limit = limit;\n",
        "        self._pop = None\n",
        "        self._bestPop = None\n",
        "        self._bestFit = None\n",
        "        self._Variants = None\n",
        "\n",
        "    def _getWeight(self,Item):\n",
        "        weight = 0\n",
        "        if self.weights == None:\n",
        "            self.weights = {i : 1 for i in range(1, self.numItems+1)}\n",
        "        for _ in range(1, len(Item)+1):\n",
        "            if(Item[_ - 1] != '0'):\n",
        "                weight += self.weights[_]\n",
        "        return weight\n",
        "\n",
        "    def fitness(self):\n",
        "        return np.array([self._getWeight(pop) for pop in self._pop])\n",
        "\n",
        "    def selection(self):\n",
        "        fitness = np.array([val if (val - self.limit) < 0 else 0 for val in self.fitness()])\n",
        "        # print(fitness)\n",
        "        prob = fitness / np.sum(fitness)\n",
        "        prob = np.array([p if p != np.nan else 0 for p in prob])\n",
        "        return np.random.choice(self._pop, size=1, replace=True, p=prob)\n",
        "    \n",
        "    def crossover(self, parent1, parent2):\n",
        "        idx = np.random.randint(0, len(parent1))\n",
        "        return parent1[:idx] + parent2[idx:]\n",
        "    \n",
        "    def mutate(self, child, mutProb=0.1):\n",
        "        child = list(child)\n",
        "        if np.random.random() <= mutProb:\n",
        "            idx1 = np.random.randint(0, len(child), size=1)\n",
        "            child[idx1[0]] = '1'\n",
        "        return ''.join(child)\n",
        "\n",
        "    def _generatePop(self, popSize):\n",
        "        pop = []\n",
        "        for _ in range(popSize):\n",
        "            pop.append(''.join(map(str, list(np.random.randint(2,size=self.numItems)))))\n",
        "        return np.array(pop)\n",
        "\n",
        "    def variants(self):\n",
        "        return self._Variants\n",
        "    \n",
        "    def run(self, popSize=50, nIter=50):\n",
        "\n",
        "        self._pop = self._generatePop(popSize)\n",
        "        # print(self._pop)\n",
        "        for _ in tqdm(range(1, nIter+1), file=sys.stdout):\n",
        "            if np.sum(self.fitness() - self.limit) == 0:\n",
        "                print(f\"StopIteration {_}: Best Population : {list(self._bestPop)}  Fitness: {self._bestFit}\")\n",
        "                break\n",
        "            newPop = []\n",
        "            for i in range(popSize):\n",
        "                parent1 = self.selection()\n",
        "                parent2 = self.selection()\n",
        "                child = self.crossover(*parent1, *parent2)\n",
        "                child = self.mutate(child)\n",
        "                newPop.append(child)\n",
        "            self._pop = newPop\n",
        "            fitness = np.array([val if (val - self.limit) < 0 else 0 for val in self.fitness()])\n",
        "            if self._bestFit == None or np.max(fitness) > self._bestFit:\n",
        "                self._bestFit = np.max(fitness)\n",
        "                self._bestPop = self._pop[np.argmax(self.fitness())]\n",
        "                self._Variants = np.array([pop for pop in self._pop if self._getWeight(pop) == self._bestFit])\n",
        "\n",
        "            print(f\"Iteration {_}: Best Population : {list(self._bestPop)}  Fitness: {self._bestFit}\")"
      ],
      "metadata": {
        "id": "ZAnXmTxJGefO"
      },
      "execution_count": null,
      "outputs": []
    },
    {
      "cell_type": "code",
      "source": [
        "ks = knpsk(numItems = 22, weights={i: np.random.randint(1,100) for i in range(1, 23)}, limit=300)"
      ],
      "metadata": {
        "id": "o6AGkuo7GnZm"
      },
      "execution_count": null,
      "outputs": []
    },
    {
      "cell_type": "code",
      "source": [
        "ks.run(popSize=50, nIter=30)"
      ],
      "metadata": {
        "colab": {
          "base_uri": "https://localhost:8080/",
          "referenced_widgets": [
            "32a21f1bf4f4470f887247ca41aaa8a1",
            "dd549ff0a43848c3a983e3d9af81d563",
            "e377d68bf7ab408e9cbf8513ed1b27a6",
            "c945b922f16f43c1a67e12dfb3649f46",
            "f1c4286d835f40b08a5f925b76d89945",
            "9c499198c6244ec3bee2538258a7284a",
            "3f1b31c63b374036a1d92032159f7a49",
            "97452112a97a4abc90bfa723dc6377ee",
            "ea3b4c54a5384631b0828b7cfb3432dc",
            "a549f86696524b1a9568a354b4450bf5",
            "63aba99929ec4db681c644046273c324"
          ]
        },
        "id": "EvIWn0jgHIaq",
        "outputId": "5debf115-0b87-4e8d-cedf-efb176a25ec5"
      },
      "execution_count": null,
      "outputs": [
        {
          "output_type": "display_data",
          "data": {
            "text/plain": [
              "  0%|          | 0/30 [00:00<?, ?it/s]"
            ],
            "application/vnd.jupyter.widget-view+json": {
              "version_major": 2,
              "version_minor": 0,
              "model_id": "32a21f1bf4f4470f887247ca41aaa8a1"
            }
          },
          "metadata": {}
        },
        {
          "output_type": "stream",
          "name": "stdout",
          "text": [
            "Iteration 1: Best Population : ['1', '0', '1', '0', '1', '0', '0', '1', '1', '1', '0', '0', '1', '1', '0', '1', '1', '1', '1', '0', '1', '0']  Fitness: 292\n",
            "Iteration 2: Best Population : ['1', '0', '1', '0', '1', '0', '0', '1', '1', '1', '0', '1', '1', '1', '0', '1', '1', '1', '0', '0', '1', '0']  Fitness: 297\n",
            "Iteration 3: Best Population : ['1', '0', '1', '0', '1', '0', '0', '1', '1', '1', '0', '1', '1', '1', '0', '1', '1', '1', '0', '0', '1', '0']  Fitness: 297\n",
            "Iteration 4: Best Population : ['1', '0', '1', '0', '1', '0', '0', '1', '1', '1', '0', '1', '1', '1', '0', '1', '1', '1', '0', '0', '1', '0']  Fitness: 297\n",
            "Iteration 5: Best Population : ['1', '0', '1', '0', '1', '0', '0', '1', '1', '1', '0', '1', '1', '1', '0', '1', '1', '1', '0', '0', '1', '0']  Fitness: 297\n",
            "Iteration 6: Best Population : ['1', '0', '1', '0', '1', '0', '0', '1', '1', '1', '0', '1', '1', '1', '0', '1', '1', '1', '0', '0', '1', '0']  Fitness: 297\n",
            "Iteration 7: Best Population : ['1', '0', '1', '0', '1', '0', '0', '1', '1', '1', '0', '1', '1', '1', '0', '1', '1', '1', '0', '0', '1', '0']  Fitness: 297\n",
            "Iteration 8: Best Population : ['1', '0', '1', '0', '1', '0', '0', '1', '1', '1', '0', '1', '1', '1', '0', '1', '1', '1', '0', '0', '1', '0']  Fitness: 297\n",
            "Iteration 9: Best Population : ['1', '0', '1', '0', '1', '0', '0', '1', '1', '1', '0', '1', '1', '1', '0', '1', '1', '1', '0', '0', '1', '0']  Fitness: 297\n",
            "Iteration 10: Best Population : ['1', '0', '1', '0', '0', '0', '0', '1', '1', '1', '0', '0', '1', '1', '0', '1', '1', '1', '1', '0', '1', '0']  Fitness: 298\n",
            "Iteration 11: Best Population : ['1', '0', '1', '0', '0', '0', '0', '1', '1', '1', '0', '0', '1', '1', '0', '1', '1', '1', '1', '0', '1', '0']  Fitness: 298\n",
            "Iteration 12: Best Population : ['1', '0', '1', '0', '0', '0', '0', '1', '1', '1', '0', '0', '1', '1', '0', '1', '1', '1', '1', '0', '1', '0']  Fitness: 298\n",
            "Iteration 13: Best Population : ['1', '0', '1', '0', '0', '0', '0', '1', '1', '1', '0', '0', '1', '1', '0', '1', '1', '1', '1', '0', '1', '0']  Fitness: 298\n",
            "Iteration 14: Best Population : ['1', '0', '1', '0', '0', '0', '0', '1', '1', '1', '0', '0', '1', '1', '0', '1', '1', '1', '1', '0', '1', '0']  Fitness: 298\n",
            "Iteration 15: Best Population : ['1', '0', '1', '0', '0', '0', '0', '1', '1', '1', '0', '0', '1', '1', '0', '1', '1', '1', '1', '0', '1', '0']  Fitness: 298\n",
            "Iteration 16: Best Population : ['1', '0', '1', '0', '0', '0', '0', '1', '1', '1', '0', '0', '1', '1', '0', '1', '1', '1', '1', '0', '1', '0']  Fitness: 298\n",
            "Iteration 17: Best Population : ['1', '0', '1', '0', '0', '0', '0', '1', '1', '1', '0', '0', '1', '1', '0', '1', '1', '1', '1', '0', '1', '0']  Fitness: 298\n",
            "Iteration 18: Best Population : ['1', '0', '1', '0', '0', '0', '0', '1', '1', '1', '0', '0', '1', '1', '0', '1', '1', '1', '1', '0', '1', '0']  Fitness: 298\n",
            "Iteration 19: Best Population : ['1', '0', '1', '0', '0', '0', '0', '1', '1', '1', '0', '0', '1', '1', '0', '1', '1', '1', '1', '0', '1', '0']  Fitness: 298\n",
            "Iteration 20: Best Population : ['1', '0', '1', '0', '0', '0', '0', '1', '1', '1', '0', '0', '1', '1', '0', '1', '1', '1', '1', '0', '1', '0']  Fitness: 298\n",
            "Iteration 21: Best Population : ['1', '0', '1', '0', '0', '0', '0', '1', '1', '1', '0', '0', '1', '1', '0', '1', '1', '1', '1', '0', '1', '0']  Fitness: 298\n",
            "Iteration 22: Best Population : ['1', '0', '0', '0', '0', '0', '1', '1', '0', '0', '0', '0', '1', '0', '1', '1', '0', '1', '0', '1', '1', '0']  Fitness: 299\n",
            "Iteration 23: Best Population : ['1', '0', '0', '0', '0', '0', '1', '1', '0', '0', '0', '0', '1', '0', '1', '1', '0', '1', '0', '1', '1', '0']  Fitness: 299\n",
            "Iteration 24: Best Population : ['1', '0', '0', '0', '0', '0', '1', '1', '0', '0', '0', '0', '1', '0', '1', '1', '0', '1', '0', '1', '1', '0']  Fitness: 299\n",
            "Iteration 25: Best Population : ['1', '0', '0', '0', '0', '0', '1', '1', '0', '0', '0', '0', '1', '0', '1', '1', '0', '1', '0', '1', '1', '0']  Fitness: 299\n",
            "Iteration 26: Best Population : ['1', '0', '0', '0', '0', '0', '1', '1', '0', '0', '0', '0', '1', '0', '1', '1', '0', '1', '0', '1', '1', '0']  Fitness: 299\n",
            "Iteration 27: Best Population : ['1', '0', '0', '0', '0', '0', '1', '1', '0', '0', '0', '0', '1', '0', '1', '1', '0', '1', '0', '1', '1', '0']  Fitness: 299\n",
            "Iteration 28: Best Population : ['1', '0', '0', '0', '0', '0', '1', '1', '0', '0', '0', '0', '1', '0', '1', '1', '0', '1', '0', '1', '1', '0']  Fitness: 299\n",
            "Iteration 29: Best Population : ['1', '0', '0', '0', '0', '0', '1', '1', '0', '0', '0', '0', '1', '0', '1', '1', '0', '1', '0', '1', '1', '0']  Fitness: 299\n",
            "Iteration 30: Best Population : ['1', '0', '0', '0', '0', '0', '1', '1', '0', '0', '0', '0', '1', '0', '1', '1', '0', '1', '0', '1', '1', '0']  Fitness: 299\n"
          ]
        }
      ]
    },
    {
      "cell_type": "code",
      "source": [
        "ks.variants()"
      ],
      "metadata": {
        "colab": {
          "base_uri": "https://localhost:8080/"
        },
        "id": "pmV0tmPjGjSV",
        "outputId": "e0d5a6d9-4dc4-45ce-9d8e-a2c397b00c06"
      },
      "execution_count": null,
      "outputs": [
        {
          "output_type": "execute_result",
          "data": {
            "text/plain": [
              "array(['1001000000001011010011'], dtype='<U22')"
            ]
          },
          "metadata": {},
          "execution_count": 86
        }
      ]
    },
    {
      "cell_type": "code",
      "source": [
        "ks._getWeight(\"1001000000001011010011\")"
      ],
      "metadata": {
        "colab": {
          "base_uri": "https://localhost:8080/"
        },
        "id": "au1t4G0lKFcH",
        "outputId": "7755f2a7-d211-4dc9-921b-bdd68f2ca6b5"
      },
      "execution_count": null,
      "outputs": [
        {
          "output_type": "execute_result",
          "data": {
            "text/plain": [
              "299"
            ]
          },
          "metadata": {},
          "execution_count": 88
        }
      ]
    },
    {
      "cell_type": "code",
      "source": [
        "ks.weights"
      ],
      "metadata": {
        "colab": {
          "base_uri": "https://localhost:8080/"
        },
        "id": "B0WrNvYLMWAe",
        "outputId": "2d21fe54-7032-4456-d503-223de2fd87ad"
      },
      "execution_count": null,
      "outputs": [
        {
          "output_type": "execute_result",
          "data": {
            "text/plain": [
              "{1: 69,\n",
              " 2: 85,\n",
              " 3: 7,\n",
              " 4: 46,\n",
              " 5: 23,\n",
              " 6: 30,\n",
              " 7: 97,\n",
              " 8: 30,\n",
              " 9: 18,\n",
              " 10: 26,\n",
              " 11: 97,\n",
              " 12: 49,\n",
              " 13: 23,\n",
              " 14: 32,\n",
              " 15: 55,\n",
              " 16: 51,\n",
              " 17: 46,\n",
              " 18: 15,\n",
              " 19: 8,\n",
              " 20: 38,\n",
              " 21: 9,\n",
              " 22: 31}"
            ]
          },
          "metadata": {},
          "execution_count": 89
        }
      ]
    },
    {
      "cell_type": "markdown",
      "source": [
        "# Adding more methods"
      ],
      "metadata": {
        "id": "gyzcsoDezsSC"
      }
    },
    {
      "cell_type": "code",
      "source": [
        "import numpy as np\n",
        "from tqdm.auto import tqdm\n",
        "\n",
        "class GABIN:\n",
        "    \"\"\"\n",
        "    A class implementing a genetic algorithm for optimization problems.\n",
        "\n",
        "    Parameters:\n",
        "        population_size (int): The size of the population of individuals in each \n",
        "            generation.\n",
        "        fitness_function (function): A function that takes an individual as input\n",
        "            and returns its fitness value.\n",
        "        gene_length (int): The length of the individual's gene sequence.\n",
        "        encoding (str): The encoding type used to represent the gene sequence. \n",
        "            Currently, only \"binary\" encoding is supported.\n",
        "        selection_method (str): The selection method used to choose individuals \n",
        "            for reproduction. Must be one of \"tournament\", \"roulette_wheel\", or \n",
        "            \"rank_based\".\n",
        "        tournament_size (int, optional): The size of the tournament used in \n",
        "            tournament selection. Required if selection_method is \"tournament\".\n",
        "        crossover_method (str, optional): The crossover method used to create \n",
        "            offspring. Must be one of \"one-point\", \"two-point\", or \"uniform\".\n",
        "        crossover_prob (float, optional): The probability of crossover to takes\n",
        "            place. If there is no crossover, offspring is exact copy of parents.\n",
        "        mutation_method (str, optional): The mutation method used to introduce \n",
        "            variation into the population. Currently, only \"bit-flip\" mutation\n",
        "            is supported.\n",
        "        mutation_rate (float, optional): The probability of each gene being mutated.\n",
        "        elitism (bool, optional): Whether to keep the best individual from the \n",
        "            previous generation in the next generation.\n",
        "\n",
        "    Attributes:\n",
        "        population (ndarray): The current population of individuals.\n",
        "        fitness (ndarray): The fitness values of the current population.\n",
        "        best_individual (ndarray): The individual with the highest fitness \n",
        "            value in the current population.\n",
        "        best_fitness (float): The fitness value of the best individual in the \n",
        "            current population.\n",
        "\n",
        "    Methods:\n",
        "        evolve(num_generations):\n",
        "            Evolve the population for a given number of generations.\n",
        "\n",
        "        available_selection_methods():\n",
        "            Print the available selection methods.\n",
        "\n",
        "        available_crossover_methods():\n",
        "            Print the available crossover methods.\n",
        "\n",
        "        tournament_selection(population, fitness, tournament_size):\n",
        "            Choose individuals for reproduction using tournament selection.\n",
        "\n",
        "        roulette_wheel_selection(population, fitness):\n",
        "            Choose individuals for reproduction using roulette wheel selection.\n",
        "\n",
        "        rank_based_selection(population, fitness):\n",
        "            Choose individuals for reproduction using rank-based selection.\n",
        "\n",
        "        one_point_crossover(parent1, parent2):\n",
        "            Create offspring using one-point crossover.\n",
        "\n",
        "        two_point_crossover(parent1, parent2):\n",
        "            Create offspring using two-point crossover.\n",
        "\n",
        "        uniform_crossover(parent1, parent2):\n",
        "            Create offspring using uniform crossover.\n",
        "\n",
        "        bit_flip_mutation(individual, mutation_rate):\n",
        "            Introduce variation into an individual's gene sequence using bit-flip mutation.\n",
        "    \"\"\"\n",
        "\n",
        "    def __init__(self, population_size, fitness_function=None, *, gene_length, encoding, selection_method,\n",
        "                 tournament_size=None, crossover_method=None, crossover_prob=0.6, mutation_method=None,\n",
        "                 mutation_rate=0.1, elitism=False):\n",
        "        \n",
        "        self.population_size = population_size\n",
        "        self.fitness_function = fitness_function\n",
        "        self.gene_length = gene_length\n",
        "        self.encoding = encoding\n",
        "        self.selection_method = selection_method\n",
        "        self.tournament_size = tournament_size\n",
        "        self.crossover_method = crossover_method\n",
        "        self.crossover_probability = crossover_prob\n",
        "        self.mutation_method = mutation_method\n",
        "        self.mutation_rate = mutation_rate\n",
        "        self.elitism = elitism\n",
        "        self.population = None\n",
        "        self.fitness = None\n",
        "        self.best_individual = None\n",
        "        self.best_fitness = None\n",
        "        self.fitness_history = None\n",
        "\n",
        "        # Validate encoding type\n",
        "        if encoding not in [\"binary\"]:\n",
        "            raise ValueError(\"Invalid encoding type. Must be 'binary'.\")\n",
        "            \n",
        "        # Validate selection method\n",
        "        if selection_method not in [\"tournament\", \"roulette_wheel\", \"rank_based\"]:\n",
        "            raise ValueError(\"Invalid selection method. Must be 'tournament', 'roulette_wheel', or 'rank_based'.\")\n",
        "            \n",
        "        # Validate crossover method\n",
        "        if crossover_method not in [\"one-point\", \"two-point\", \"uniform\"]:\n",
        "            raise ValueError(\"Invalid crossover method. Must be 'one-point', 'two-point', or 'uniform'.\")\n",
        "            \n",
        "        # Validate mutation method\n",
        "        if mutation_method not in [\"bit-flip\", \"swap\"]:\n",
        "            raise ValueError(\"Invalid mutation method. Must be 'bit-flip', or 'swap'.\")\n",
        "\n",
        "    def _initialize_population(self):\n",
        "        if self.encoding == \"binary\":\n",
        "            self.population = np.random.randint(2, size=(self.population_size, self.gene_length))\n",
        "    \n",
        "\n",
        "    def _evaluate_fitness(self):\n",
        "        self.fitness = np.zeros(self.population_size)\n",
        "        for i in range(self.population_size):\n",
        "            self.fitness[i] = self.fitness_function(''.join(map(str, self.population[i])))\n",
        "        self.best_individual = self.population[np.argmax(self.fitness)]\n",
        "        print(self.best_individual)\n",
        "        self.best_fitness = np.max(self.fitness)\n",
        "\n",
        "    def _tournament_selection(self):\n",
        "        indices = np.random.choice(self.population_size, size=self.tournament_size, replace=False)\n",
        "        return self.population[np.argmax(self.fitness[indices])]\n",
        "\n",
        "    def _roulette_wheel_selection(self):\n",
        "        fitness_sum = np.sum(self.fitness)\n",
        "        rand_num = np.random.rand() * fitness_sum\n",
        "        idx = 0\n",
        "        while rand_num > 0:\n",
        "            rand_num -= self.fitness[idx]\n",
        "            idx += 1\n",
        "        idx -= 1\n",
        "        return self.population[idx]\n",
        "\n",
        "    def _rank_based_selection(self):\n",
        "        ranks = np.argsort(np.argsort(-self.fitness))\n",
        "        rank_sum = np.sum(ranks)\n",
        "        probabilities = ranks / rank_sum\n",
        "        idx = np.random.choice(np.arange(self.population_size), p=probabilities)\n",
        "        return self.population[idx]\n",
        "\n",
        "    def _one_point_crossover(self, parent1, parent2):\n",
        "        crossover_point = np.random.randint(1, self.gene_length)\n",
        "        child1 = np.concatenate((parent1[:crossover_point], parent2[crossover_point:]))\n",
        "        child2 = np.concatenate((parent2[:crossover_point], parent1[crossover_point:]))\n",
        "        return child1, child2\n",
        "\n",
        "    def _two_point_crossover(self, parent1, parent2):\n",
        "        crossover_points = np.sort(np.random.choice(self.gene_length, size=2, replace=False))\n",
        "        child1 = np.concatenate((parent1[:crossover_points[0]], parent2[crossover_points[0]:crossover_points[1]], parent1[crossover_points[1]:]))\n",
        "        child2 = np.concatenate((parent2[:crossover_points[0]], parent1[crossover_points[0]:crossover_points[1]], parent2[crossover_points[1]:]))\n",
        "        return child1, child2\n",
        "\n",
        "    def _uniform_crossover(self, parent1, parent2):\n",
        "        mask = np.random.randint(2, size=self.gene_length)\n",
        "        child1 = np.where(mask, parent1, parent2)\n",
        "        child2 = np.where(mask, parent2, parent1)\n",
        "        return child1, child2\n",
        "\n",
        "    def _bit_flip_mutation(self, individual):\n",
        "        mask = np.random.rand(self.gene_length) < self.mutation_rate\n",
        "        mutated_individual = individual.copy()\n",
        "        mutated_individual[mask] = 1 - mutated_individual[mask]\n",
        "        return mutated_individual\n",
        "\n",
        "    def _swap_mutation(self, individual):\n",
        "        idx = np.random.randint(0, self.genelength, 2)\n",
        "        individual[idx[0]], individual[idx[1]] = individual[idx[1]], individual[idx[0]]\n",
        "\n",
        "    def evolve(self, generations):\n",
        "        self._initialize_population()\n",
        "        self._evaluate_fitness()\n",
        "        self.fitness_history = np.zeros(shape=(generations,))\n",
        "        for i in tqdm(range(generations), dynamic_ncols=True):\n",
        "            # Store the best fitness value for this generation in fitness_history\n",
        "            self.fitness_history[i] = self.best_fitness\n",
        "            new_population = []\n",
        "            elitism_offset = 1 if self.elitism else 0\n",
        "            if self.elitism:\n",
        "                new_population.append(self.best_individual)\n",
        "            for j in range(elitism_offset, self.population_size):\n",
        "                # Selection\n",
        "                if self.selection_method == \"tournament\":\n",
        "                    parent1 = self._tournament_selection()\n",
        "                    parent2 = self._tournament_selection()\n",
        "                elif self.selection_method == \"roulette_wheel\":\n",
        "                    parent1 = self._roulette_wheel_selection()\n",
        "                    parent2 = self._roulette_wheel_selection()\n",
        "                elif self.selection_method == \"rank_based\":\n",
        "                    parent1 = self._rank_based_selection()\n",
        "                    parent2 = self._rank_based_selection()\n",
        "                # Crossover\n",
        "                crossover = np.random.rand() < self.crossover_probability\n",
        "                if self.crossover_method == \"one-point\" and crossover:\n",
        "                    child1, child2 = self._one_point_crossover(parent1, parent2)\n",
        "                elif self.crossover_method == \"two-point\" and crossover:\n",
        "                    child1, child2 = self._two_point_crossover(parent1, parent2)\n",
        "                elif self.crossover_method == \"uniform\" and crossover:\n",
        "                    child1, child2 = self._uniform_crossover(parent1, parent2)\n",
        "                else:\n",
        "                    child1, child2 = parent1, parent2\n",
        "                # Mutation\n",
        "                if self.mutation_method == \"swap\":\n",
        "                    child1 = self._swap_mutation(child1)\n",
        "                    child2 = self._swap_mutation(child2)\n",
        "                else:\n",
        "                    child1 = self._bit_flip_mutation(child1)\n",
        "                    child2 = self._bit_flip_mutation(child2)\n",
        "                new_population.extend([child1, child2])\n",
        "            self.population = np.array(new_population)\n",
        "            self._evaluate_fitness()\n",
        "\n",
        "            print(f\"Generation {i}: Best fitness: {self.best_fitness}\")\n",
        "        return self.best_individual, self.best_fitness\n",
        "\n",
        "    def get_best_individual(self):\n",
        "        return self.best_individual\n",
        "\n",
        "    def get_best_fitness(self):\n",
        "        return self.best_fitness\n",
        "\n"
      ],
      "metadata": {
        "id": "NQyy0fWay3w7"
      },
      "execution_count": null,
      "outputs": []
    },
    {
      "cell_type": "code",
      "source": [
        "# for knapsack problem\n",
        "weights = weights = {i : np.random.randint(1, 100) for i in range(1, 22+1)}\n",
        "\n",
        "def fitness(pop, weights=weights, limit=500):\n",
        "    weight = 0\n",
        "    for _ in range(1, len(pop)+1):\n",
        "        if(pop[_ - 1] != '0'):\n",
        "            weight += weights[_]\n",
        "    return weight if weight - limit  < 0 else 0"
      ],
      "metadata": {
        "id": "OxyQeKbu0izH"
      },
      "execution_count": null,
      "outputs": []
    },
    {
      "cell_type": "code",
      "source": [
        "fitness('1000000000000000101001')"
      ],
      "metadata": {
        "colab": {
          "base_uri": "https://localhost:8080/"
        },
        "id": "paxjfSvd1WXQ",
        "outputId": "dbf92dbb-1cac-4a07-c8d5-18bf3566eeab"
      },
      "execution_count": null,
      "outputs": [
        {
          "output_type": "execute_result",
          "data": {
            "text/plain": [
              "300"
            ]
          },
          "metadata": {},
          "execution_count": 119
        }
      ]
    },
    {
      "cell_type": "code",
      "source": [
        "GA = GABIN(population_size=50 \\\n",
        "           , fitness_function=fitness \\\n",
        "           , gene_length=22 \\\n",
        "           , encoding=\"binary\" \\\n",
        "           , selection_method=\"tournament\" \\\n",
        "           , tournament_size=10 \\\n",
        "           , crossover_method=\"two-point\" \\\n",
        "           , crossover_prob=0.85 \\\n",
        "           , mutation_method=\"bit-flip\" \\\n",
        "           , mutation_rate=0.1, elitism=True)"
      ],
      "metadata": {
        "id": "Fs83AH5R0PsZ"
      },
      "execution_count": null,
      "outputs": []
    },
    {
      "cell_type": "code",
      "source": [
        "GA.evolve(50)"
      ],
      "metadata": {
        "colab": {
          "base_uri": "https://localhost:8080/",
          "height": 1000,
          "referenced_widgets": [
            "6b4ecec53ed24611b017581ababcf44f",
            "183671dc1d8d481eb0caa8537465be57",
            "dac2a2d906494861824b34aab80e04c2",
            "c2dc5166fb39474aac4da149dfc74375",
            "9573a82a4906478384581e2b7836f2dd",
            "1a0b7bbc4dbf49e4a800d2ec2a1fdaa0",
            "87c9c93e14554207aaa5653a3291bad5",
            "41d89e1b2e3a4892a33fd3cf02dc1b71",
            "29ede12b9e0a46f8a626834876a3ba97",
            "dcd7dbc23c98437b91cef4a30394767d",
            "2072077e3f364e82b6776379a3f771d1"
          ]
        },
        "id": "wut-dY6I2ofG",
        "outputId": "1a901871-8839-4def-9a20-0f62fdd18bae"
      },
      "execution_count": null,
      "outputs": [
        {
          "output_type": "stream",
          "name": "stdout",
          "text": [
            "[0 1 1 0 1 1 0 0 0 0 1 0 0 1 0 1 0 0 0 1 1 0]\n"
          ]
        },
        {
          "output_type": "display_data",
          "data": {
            "text/plain": [
              "  0%|          | 0/50 [00:00<?, ?it/s]"
            ],
            "application/vnd.jupyter.widget-view+json": {
              "version_major": 2,
              "version_minor": 0,
              "model_id": "6b4ecec53ed24611b017581ababcf44f"
            }
          },
          "metadata": {}
        },
        {
          "output_type": "stream",
          "name": "stdout",
          "text": [
            "[0 1 1 0 1 1 0 0 0 0 1 0 0 1 0 1 0 0 0 1 1 0]\n",
            "Generation 0: Best fitness: 495.0\n",
            "[1 0 0 1 1 1 0 0 0 0 1 0 0 1 0 1 0 0 0 1 1 0]\n",
            "Generation 1: Best fitness: 499.0\n",
            "[1 0 0 1 1 1 0 0 0 0 1 0 0 1 0 1 0 0 0 1 1 0]\n",
            "Generation 2: Best fitness: 499.0\n",
            "[1 0 0 1 1 1 0 0 0 0 1 0 0 1 0 1 0 0 0 1 1 0]\n",
            "Generation 3: Best fitness: 499.0\n",
            "[1 0 0 1 1 1 0 0 0 0 1 0 0 1 0 1 0 0 0 1 1 0]\n",
            "Generation 4: Best fitness: 499.0\n",
            "[1 0 0 1 1 1 0 0 0 0 1 0 0 1 0 1 0 0 0 1 1 0]\n",
            "Generation 5: Best fitness: 499.0\n",
            "[1 0 0 1 1 1 0 0 0 0 1 0 0 1 0 1 0 0 0 1 1 0]\n",
            "Generation 6: Best fitness: 499.0\n",
            "[1 0 0 1 1 1 0 0 0 0 1 0 0 1 0 1 0 0 0 1 1 0]\n",
            "Generation 7: Best fitness: 499.0\n",
            "[1 0 0 1 1 1 0 0 0 0 1 0 0 1 0 1 0 0 0 1 1 0]\n",
            "Generation 8: Best fitness: 499.0\n",
            "[1 0 0 1 1 1 0 0 0 0 1 0 0 1 0 1 0 0 0 1 1 0]\n",
            "Generation 9: Best fitness: 499.0\n",
            "[1 0 0 1 1 1 0 0 0 0 1 0 0 1 0 1 0 0 0 1 1 0]\n",
            "Generation 10: Best fitness: 499.0\n",
            "[1 0 0 1 1 1 0 0 0 0 1 0 0 1 0 1 0 0 0 1 1 0]\n",
            "Generation 11: Best fitness: 499.0\n",
            "[1 0 0 1 1 1 0 0 0 0 1 0 0 1 0 1 0 0 0 1 1 0]\n",
            "Generation 12: Best fitness: 499.0\n",
            "[1 0 0 1 1 1 0 0 0 0 1 0 0 1 0 1 0 0 0 1 1 0]\n",
            "Generation 13: Best fitness: 499.0\n",
            "[1 0 0 1 1 1 0 0 0 0 1 0 0 1 0 1 0 0 0 1 1 0]\n",
            "Generation 14: Best fitness: 499.0\n",
            "[1 0 0 1 1 1 0 0 0 0 1 0 0 1 0 1 0 0 0 1 1 0]\n",
            "Generation 15: Best fitness: 499.0\n",
            "[1 0 0 1 1 1 0 0 0 0 1 0 0 1 0 1 0 0 0 1 1 0]\n",
            "Generation 16: Best fitness: 499.0\n",
            "[1 0 0 1 1 1 0 0 0 0 1 0 0 1 0 1 0 0 0 1 1 0]\n",
            "Generation 17: Best fitness: 499.0\n",
            "[1 0 0 1 1 1 0 0 0 0 1 0 0 1 0 1 0 0 0 1 1 0]\n",
            "Generation 18: Best fitness: 499.0\n",
            "[1 0 0 1 1 1 0 0 0 0 1 0 0 1 0 1 0 0 0 1 1 0]\n",
            "Generation 19: Best fitness: 499.0\n",
            "[1 0 0 1 1 1 0 0 0 0 1 0 0 1 0 1 0 0 0 1 1 0]\n",
            "Generation 20: Best fitness: 499.0\n",
            "[1 0 0 1 1 1 0 0 0 0 1 0 0 1 0 1 0 0 0 1 1 0]\n",
            "Generation 21: Best fitness: 499.0\n",
            "[1 0 0 1 1 1 0 0 0 0 1 0 0 1 0 1 0 0 0 1 1 0]\n",
            "Generation 22: Best fitness: 499.0\n",
            "[1 0 0 1 1 1 0 0 0 0 1 0 0 1 0 1 0 0 0 1 1 0]\n",
            "Generation 23: Best fitness: 499.0\n",
            "[1 0 0 1 1 1 0 0 0 0 1 0 0 1 0 1 0 0 0 1 1 0]\n",
            "Generation 24: Best fitness: 499.0\n",
            "[1 0 0 1 1 1 0 0 0 0 1 0 0 1 0 1 0 0 0 1 1 0]\n",
            "Generation 25: Best fitness: 499.0\n",
            "[1 0 0 1 1 1 0 0 0 0 1 0 0 1 0 1 0 0 0 1 1 0]\n",
            "Generation 26: Best fitness: 499.0\n",
            "[1 0 0 1 1 1 0 0 0 0 1 0 0 1 0 1 0 0 0 1 1 0]\n",
            "Generation 27: Best fitness: 499.0\n",
            "[1 0 0 1 1 1 0 0 0 0 1 0 0 1 0 1 0 0 0 1 1 0]\n",
            "Generation 28: Best fitness: 499.0\n",
            "[1 0 0 1 1 1 0 0 0 0 1 0 0 1 0 1 0 0 0 1 1 0]\n",
            "Generation 29: Best fitness: 499.0\n",
            "[1 0 0 1 1 1 0 0 0 0 1 0 0 1 0 1 0 0 0 1 1 0]\n",
            "Generation 30: Best fitness: 499.0\n",
            "[1 0 0 1 1 1 0 0 0 0 1 0 0 1 0 1 0 0 0 1 1 0]\n",
            "Generation 31: Best fitness: 499.0\n",
            "[1 0 0 1 1 1 0 0 0 0 1 0 0 1 0 1 0 0 0 1 1 0]\n",
            "Generation 32: Best fitness: 499.0\n",
            "[1 0 0 1 1 1 0 0 0 0 1 0 0 1 0 1 0 0 0 1 1 0]\n",
            "Generation 33: Best fitness: 499.0\n",
            "[1 0 0 1 1 1 0 0 0 0 1 0 0 1 0 1 0 0 0 1 1 0]\n",
            "Generation 34: Best fitness: 499.0\n",
            "[1 0 0 1 1 1 0 0 0 0 1 0 0 1 0 1 0 0 0 1 1 0]\n",
            "Generation 35: Best fitness: 499.0\n",
            "[1 0 0 1 1 1 0 0 0 0 1 0 0 1 0 1 0 0 0 1 1 0]\n",
            "Generation 36: Best fitness: 499.0\n",
            "[1 0 0 1 1 1 0 0 0 0 1 0 0 1 0 1 0 0 0 1 1 0]\n",
            "Generation 37: Best fitness: 499.0\n",
            "[1 0 0 1 1 1 0 0 0 0 1 0 0 1 0 1 0 0 0 1 1 0]\n",
            "Generation 38: Best fitness: 499.0\n",
            "[1 0 0 1 1 1 0 0 0 0 1 0 0 1 0 1 0 0 0 1 1 0]\n",
            "Generation 39: Best fitness: 499.0\n",
            "[1 0 0 1 1 1 0 0 0 0 1 0 0 1 0 1 0 0 0 1 1 0]\n",
            "Generation 40: Best fitness: 499.0\n",
            "[1 0 0 1 1 1 0 0 0 0 1 0 0 1 0 1 0 0 0 1 1 0]\n",
            "Generation 41: Best fitness: 499.0\n",
            "[1 0 0 1 1 1 0 0 0 0 1 0 0 1 0 1 0 0 0 1 1 0]\n",
            "Generation 42: Best fitness: 499.0\n",
            "[1 0 0 1 1 1 0 0 0 0 1 0 0 1 0 1 0 0 0 1 1 0]\n",
            "Generation 43: Best fitness: 499.0\n",
            "[1 0 0 1 1 1 0 0 0 0 1 0 0 1 0 1 0 0 0 1 1 0]\n",
            "Generation 44: Best fitness: 499.0\n",
            "[1 0 0 1 1 1 0 0 0 0 1 0 0 1 0 1 0 0 0 1 1 0]\n",
            "Generation 45: Best fitness: 499.0\n",
            "[1 0 0 1 1 1 0 0 0 0 1 0 0 1 0 1 0 0 0 1 1 0]\n",
            "Generation 46: Best fitness: 499.0\n",
            "[1 0 0 1 1 1 0 0 0 0 1 0 0 1 0 1 0 0 0 1 1 0]\n",
            "Generation 47: Best fitness: 499.0\n",
            "[1 0 0 1 1 1 0 0 0 0 1 0 0 1 0 1 0 0 0 1 1 0]\n",
            "Generation 48: Best fitness: 499.0\n",
            "[1 0 0 1 1 1 0 0 0 0 1 0 0 1 0 1 0 0 0 1 1 0]\n",
            "Generation 49: Best fitness: 499.0\n"
          ]
        },
        {
          "output_type": "execute_result",
          "data": {
            "text/plain": [
              "(array([1, 0, 0, 1, 1, 1, 0, 0, 0, 0, 1, 0, 0, 1, 0, 1, 0, 0, 0, 1, 1, 0]),\n",
              " 499.0)"
            ]
          },
          "metadata": {},
          "execution_count": 121
        }
      ]
    },
    {
      "cell_type": "code",
      "source": [
        "fitness(''.join(map(str, [1, 1, 0, 1, 1, 0, 0, 0, 0, 1, 0, 1, 0, 0, 0, 1, 1, 1, 1, 0, 0, 1])))"
      ],
      "metadata": {
        "colab": {
          "base_uri": "https://localhost:8080/"
        },
        "id": "gAF16ERb2xgt",
        "outputId": "54c29260-f0d7-41ec-9b95-cf5522b7031a"
      },
      "execution_count": null,
      "outputs": [
        {
          "output_type": "execute_result",
          "data": {
            "text/plain": [
              "0"
            ]
          },
          "metadata": {},
          "execution_count": 122
        }
      ]
    },
    {
      "cell_type": "code",
      "source": [
        "GA1 = GABIN(population_size=50 \\\n",
        "           , fitness_function=fitness \\\n",
        "           , gene_length=22 \\\n",
        "           , encoding=\"binary\" \\\n",
        "           , selection_method=\"rank_based\" \\\n",
        "           , tournament_size=10 \\\n",
        "           , crossover_method=\"uniform\" \\\n",
        "           , crossover_prob=0.85 \\\n",
        "           , mutation_method=\"bit-flip\" \\\n",
        "           , mutation_rate=0.1, elitism=True)"
      ],
      "metadata": {
        "id": "WUCYtYNNAFM-"
      },
      "execution_count": null,
      "outputs": []
    },
    {
      "cell_type": "code",
      "source": [
        "GA1.evolve(50)"
      ],
      "metadata": {
        "colab": {
          "base_uri": "https://localhost:8080/",
          "height": 1000,
          "referenced_widgets": [
            "01d36f9d08a54a1ca2cbb61275be0431",
            "38ab6977e68f469aac2d876157a0f5f6",
            "8c4cbc7536ff4c47b26c34b0424cdc51",
            "8ba4b7864c734914865c737be6e61782",
            "61a811e79c6c445e807e5665b587c3ce",
            "a400d730e489429598f072d171320ba6",
            "3c95ba3d25f8440085a2f6aaf97e32a5",
            "7e47e272c6dd4ee49de7488f6ae2718c",
            "6006f2917250429e96ed6563e5612b0a",
            "49e38eca6edd4b32ba315a220c1036be",
            "07bc28d0f2ba493b9c29d71a84df41f1"
          ]
        },
        "id": "DLxIeB4dBSvO",
        "outputId": "479afd9a-3cd6-4136-d52f-361a4a5fefc9"
      },
      "execution_count": null,
      "outputs": [
        {
          "output_type": "stream",
          "name": "stdout",
          "text": [
            "[1 0 1 0 0 0 0 0 0 0 1 0 1 1 0 1 1 0 0 1 0 1]\n"
          ]
        },
        {
          "output_type": "display_data",
          "data": {
            "text/plain": [
              "  0%|          | 0/50 [00:00<?, ?it/s]"
            ],
            "application/vnd.jupyter.widget-view+json": {
              "version_major": 2,
              "version_minor": 0,
              "model_id": "01d36f9d08a54a1ca2cbb61275be0431"
            }
          },
          "metadata": {}
        },
        {
          "output_type": "stream",
          "name": "stdout",
          "text": [
            "[0 0 1 0 0 1 1 0 0 1 1 0 1 1 1 0 1 0 0 0 0 0]\n",
            "Generation 0: Best fitness: 490.0\n",
            "[0 0 1 0 0 1 1 0 0 1 1 0 1 1 1 0 1 0 0 0 0 0]\n",
            "Generation 1: Best fitness: 490.0\n",
            "[0 0 1 0 0 1 1 0 0 1 1 0 1 1 1 0 1 0 0 0 0 0]\n",
            "Generation 2: Best fitness: 490.0\n",
            "[0 1 1 0 1 1 0 0 0 0 0 1 0 1 0 1 0 0 0 1 1 0]\n",
            "Generation 3: Best fitness: 495.0\n",
            "[0 1 1 0 0 0 0 0 1 1 0 0 0 0 0 0 0 0 1 0 1 1]\n",
            "Generation 4: Best fitness: 498.0\n",
            "[0 1 1 0 0 0 0 0 1 1 0 0 0 0 0 0 0 0 1 0 1 1]\n",
            "Generation 5: Best fitness: 498.0\n",
            "[0 1 1 0 0 0 0 0 1 1 0 0 0 0 0 0 0 0 1 0 1 1]\n",
            "Generation 6: Best fitness: 498.0\n",
            "[0 1 1 0 0 0 0 0 1 1 0 0 0 0 0 0 0 0 1 0 1 1]\n",
            "Generation 7: Best fitness: 498.0\n",
            "[0 1 1 0 0 0 0 0 1 1 0 0 0 0 0 0 0 0 1 0 1 1]\n",
            "Generation 8: Best fitness: 498.0\n",
            "[0 1 1 0 0 0 0 0 1 1 0 0 0 0 0 0 0 0 1 0 1 1]\n",
            "Generation 9: Best fitness: 498.0\n",
            "[0 1 1 0 0 0 0 0 1 1 0 0 0 0 0 0 0 0 1 0 1 1]\n",
            "Generation 10: Best fitness: 498.0\n",
            "[0 1 1 0 0 0 0 0 1 1 0 0 0 0 0 0 0 0 1 0 1 1]\n",
            "Generation 11: Best fitness: 498.0\n",
            "[0 1 1 0 0 0 0 0 1 1 0 0 0 0 0 0 0 0 1 0 1 1]\n",
            "Generation 12: Best fitness: 498.0\n",
            "[0 1 1 0 0 0 0 0 1 1 0 0 0 0 0 0 0 0 1 0 1 1]\n",
            "Generation 13: Best fitness: 498.0\n",
            "[0 1 1 0 0 0 0 0 1 1 0 0 0 0 0 0 0 0 1 0 1 1]\n",
            "Generation 14: Best fitness: 498.0\n",
            "[0 1 1 0 0 0 0 0 1 1 0 0 0 0 0 0 0 0 1 0 1 1]\n",
            "Generation 15: Best fitness: 498.0\n",
            "[0 1 1 0 0 0 0 0 1 1 0 0 0 0 0 0 0 0 1 0 1 1]\n",
            "Generation 16: Best fitness: 498.0\n",
            "[0 1 1 0 0 0 0 0 1 1 0 0 0 0 0 0 0 0 1 0 1 1]\n",
            "Generation 17: Best fitness: 498.0\n",
            "[0 1 1 0 0 0 0 0 1 1 0 0 0 0 0 0 0 0 1 0 1 1]\n",
            "Generation 18: Best fitness: 498.0\n",
            "[0 1 1 0 0 0 0 0 1 1 0 0 0 0 0 0 0 0 1 0 1 1]\n",
            "Generation 19: Best fitness: 498.0\n",
            "[0 1 1 0 0 0 0 0 1 1 0 0 0 0 0 0 0 0 1 0 1 1]\n",
            "Generation 20: Best fitness: 498.0\n",
            "[0 1 1 0 0 0 0 0 1 1 0 0 0 0 0 0 0 0 1 0 1 1]\n",
            "Generation 21: Best fitness: 498.0\n",
            "[0 1 1 0 0 0 0 0 1 1 0 0 0 0 0 0 0 0 1 0 1 1]\n",
            "Generation 22: Best fitness: 498.0\n",
            "[0 1 1 0 0 0 0 0 1 1 0 0 0 0 0 0 0 0 1 0 1 1]\n",
            "Generation 23: Best fitness: 498.0\n",
            "[0 1 1 0 0 0 0 0 1 1 0 0 0 0 0 0 0 0 1 0 1 1]\n",
            "Generation 24: Best fitness: 498.0\n",
            "[0 1 1 0 0 0 0 0 1 1 0 0 0 0 0 0 0 0 1 0 1 1]\n",
            "Generation 25: Best fitness: 498.0\n",
            "[0 1 1 0 0 0 0 0 1 1 0 0 0 0 0 0 0 0 1 0 1 1]\n",
            "Generation 26: Best fitness: 498.0\n",
            "[0 1 1 0 0 0 0 0 1 1 0 0 0 0 0 0 0 0 1 0 1 1]\n",
            "Generation 27: Best fitness: 498.0\n",
            "[0 1 1 0 0 0 0 0 1 1 0 0 0 0 0 0 0 0 1 0 1 1]\n",
            "Generation 28: Best fitness: 498.0\n",
            "[0 1 1 0 0 0 0 0 1 1 0 0 0 0 0 0 0 0 1 0 1 1]\n",
            "Generation 29: Best fitness: 498.0\n",
            "[0 1 1 0 0 0 0 0 1 1 0 0 0 0 0 0 0 0 1 0 1 1]\n",
            "Generation 30: Best fitness: 498.0\n",
            "[0 1 1 0 0 0 0 0 1 1 0 0 0 0 0 0 0 0 1 0 1 1]\n",
            "Generation 31: Best fitness: 498.0\n",
            "[0 1 1 0 0 0 0 0 1 1 0 0 0 0 0 0 0 0 1 0 1 1]\n",
            "Generation 32: Best fitness: 498.0\n",
            "[0 1 1 0 0 0 0 0 1 1 0 0 0 0 0 0 0 0 1 0 1 1]\n",
            "Generation 33: Best fitness: 498.0\n",
            "[0 1 1 0 0 0 0 0 1 1 0 0 0 0 0 0 0 0 1 0 1 1]\n",
            "Generation 34: Best fitness: 498.0\n",
            "[0 1 1 0 0 0 0 0 1 1 0 0 0 0 0 0 0 0 1 0 1 1]\n",
            "Generation 35: Best fitness: 498.0\n",
            "[0 1 1 0 0 0 0 0 1 1 0 0 0 0 0 0 0 0 1 0 1 1]\n",
            "Generation 36: Best fitness: 498.0\n",
            "[0 1 1 0 0 0 0 0 1 1 0 0 0 0 0 0 0 0 1 0 1 1]\n",
            "Generation 37: Best fitness: 498.0\n",
            "[0 1 1 0 0 0 0 0 1 1 0 0 0 0 0 0 0 0 1 0 1 1]\n",
            "Generation 38: Best fitness: 498.0\n",
            "[0 1 1 0 0 0 0 0 1 1 0 0 0 0 0 0 0 0 1 0 1 1]\n",
            "Generation 39: Best fitness: 498.0\n",
            "[0 1 1 0 0 0 0 0 1 1 0 0 0 0 0 0 0 0 1 0 1 1]\n",
            "Generation 40: Best fitness: 498.0\n",
            "[0 1 1 0 0 0 0 0 1 1 0 0 0 0 0 0 0 0 1 0 1 1]\n",
            "Generation 41: Best fitness: 498.0\n",
            "[0 1 1 0 0 0 0 0 1 1 0 0 0 0 0 0 0 0 1 0 1 1]\n",
            "Generation 42: Best fitness: 498.0\n",
            "[0 1 1 0 0 0 0 0 1 1 0 0 0 0 0 0 0 0 1 0 1 1]\n",
            "Generation 43: Best fitness: 498.0\n",
            "[0 1 1 0 0 0 0 0 1 1 0 0 0 0 0 0 0 0 1 0 1 1]\n",
            "Generation 44: Best fitness: 498.0\n",
            "[0 1 1 0 0 0 0 0 1 1 0 0 0 0 0 0 0 0 1 0 1 1]\n",
            "Generation 45: Best fitness: 498.0\n",
            "[0 1 1 0 0 0 0 0 1 1 0 0 0 0 0 0 0 0 1 0 1 1]\n",
            "Generation 46: Best fitness: 498.0\n",
            "[0 1 1 0 0 0 0 0 1 1 0 0 0 0 0 0 0 0 1 0 1 1]\n",
            "Generation 47: Best fitness: 498.0\n",
            "[0 1 1 0 0 0 0 0 1 1 0 0 0 0 0 0 0 0 1 0 1 1]\n",
            "Generation 48: Best fitness: 498.0\n",
            "[0 1 1 0 0 0 0 0 1 1 0 0 0 0 0 0 0 0 1 0 1 1]\n",
            "Generation 49: Best fitness: 498.0\n"
          ]
        },
        {
          "output_type": "execute_result",
          "data": {
            "text/plain": [
              "(array([0, 1, 1, 0, 0, 0, 0, 0, 1, 1, 0, 0, 0, 0, 0, 0, 0, 0, 1, 0, 1, 1]),\n",
              " 498.0)"
            ]
          },
          "metadata": {},
          "execution_count": 131
        }
      ]
    },
    {
      "cell_type": "code",
      "source": [],
      "metadata": {
        "id": "5aaZt1uzBUrT"
      },
      "execution_count": null,
      "outputs": []
    },
    {
      "cell_type": "markdown",
      "source": [
        "# MaxOne's"
      ],
      "metadata": {
        "id": "lAiEMAfoS0NF"
      }
    },
    {
      "cell_type": "code",
      "source": [
        "class MaxOnes(GABIN):\n",
        "    \n",
        "    def __init__(self, population_size, gene_length, encoding, selection_method,\n",
        "                 tournament_size=None, crossover_method=None, crossover_prob=0.6, mutation_method=None,\n",
        "                 mutation_rate=0.1, elitism=False):\n",
        "        super().__init__(population_size, fitness_function = lambda x : x.count('1'), gene_length=gene_length, encoding=encoding,\n",
        "                         selection_method = selection_method, tournament_size=tournament_size,\n",
        "                         crossover_method=crossover_method, crossover_prob=0.6, mutation_method=mutation_method, \n",
        "                         mutation_rate=0.1, elitism=elitism)"
      ],
      "metadata": {
        "id": "L9JXx2V6S7y9"
      },
      "execution_count": null,
      "outputs": []
    },
    {
      "cell_type": "code",
      "source": [
        "maxones = MaxOnes(population_size=20,\n",
        "                  gene_length=10,\n",
        "                  encoding=\"binary\",\n",
        "                  selection_method=\"tournament\",\n",
        "                  tournament_size=5,\n",
        "                  crossover_method=\"two-point\",\n",
        "                  crossover_prob=0.7,\n",
        "                  mutation_method=\"bit-flip\",\n",
        "                  mutation_rate=0.1,\n",
        "                  elitism=True)"
      ],
      "metadata": {
        "id": "mQcbM-1hT3-Q"
      },
      "execution_count": null,
      "outputs": []
    },
    {
      "cell_type": "code",
      "source": [
        "maxones.evolve(10)"
      ],
      "metadata": {
        "colab": {
          "base_uri": "https://localhost:8080/",
          "height": 431,
          "referenced_widgets": [
            "8181498f2e804d8f89fc64daffe9c722",
            "962dcdfb1b834e28bebc6aa82fa14235",
            "c1896f2a89894dcb9560ed45e378d081",
            "485792a6b4e24e6db11f112638ca4cd1",
            "1ec3c8879e8e43e7987174c5967fbc7e",
            "8affd8ab9f65416e97f7ad48d8a97e07",
            "54ed3e3b65e54d13974470d6d4940f64",
            "27d66c5648f642a3a67c97f04d690cc5",
            "e62a365b78674aaa9cc0643a1b91fe16",
            "c27b520c4d0040e2bf2a1574842ea245",
            "9d16fd6eb1234ef1bf2baa037b194599"
          ]
        },
        "id": "yPHkdywDTEQw",
        "outputId": "4ccb5d84-aa3b-415d-a942-9626e70b5d26"
      },
      "execution_count": null,
      "outputs": [
        {
          "output_type": "stream",
          "name": "stdout",
          "text": [
            "[1 1 1 1 1 1 0 1 0 1]\n"
          ]
        },
        {
          "output_type": "display_data",
          "data": {
            "text/plain": [
              "  0%|          | 0/10 [00:00<?, ?it/s]"
            ],
            "application/vnd.jupyter.widget-view+json": {
              "version_major": 2,
              "version_minor": 0,
              "model_id": "8181498f2e804d8f89fc64daffe9c722"
            }
          },
          "metadata": {}
        },
        {
          "output_type": "stream",
          "name": "stdout",
          "text": [
            "[1 1 1 1 1 1 0 1 0 1]\n",
            "Generation 0: Best fitness: 8.0\n",
            "[1 1 1 1 1 0 1 1 1 1]\n",
            "Generation 1: Best fitness: 9.0\n",
            "[1 1 1 1 1 0 1 1 1 1]\n",
            "Generation 2: Best fitness: 9.0\n",
            "[1 1 1 1 1 1 1 1 1 1]\n",
            "Generation 3: Best fitness: 10.0\n",
            "[1 1 1 1 1 1 1 1 1 1]\n",
            "Generation 4: Best fitness: 10.0\n",
            "[1 1 1 1 1 1 1 1 1 1]\n",
            "Generation 5: Best fitness: 10.0\n",
            "[1 1 1 1 1 1 1 1 1 1]\n",
            "Generation 6: Best fitness: 10.0\n",
            "[1 1 1 1 1 1 1 1 1 1]\n",
            "Generation 7: Best fitness: 10.0\n",
            "[1 1 1 1 1 1 1 1 1 1]\n",
            "Generation 8: Best fitness: 10.0\n",
            "[1 1 1 1 1 1 1 1 1 1]\n",
            "Generation 9: Best fitness: 10.0\n"
          ]
        },
        {
          "output_type": "execute_result",
          "data": {
            "text/plain": [
              "(array([1, 1, 1, 1, 1, 1, 1, 1, 1, 1]), 10.0)"
            ]
          },
          "metadata": {},
          "execution_count": 41
        }
      ]
    },
    {
      "cell_type": "code",
      "source": [],
      "metadata": {
        "id": "e7v3dPMCTEZH"
      },
      "execution_count": null,
      "outputs": []
    }
  ]
}
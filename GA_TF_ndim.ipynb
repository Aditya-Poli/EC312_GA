{
  "nbformat": 4,
  "nbformat_minor": 0,
  "metadata": {
    "colab": {
      "provenance": [],
      "collapsed_sections": [
        "i4hvsvjcYRjS",
        "rgCnj4F-EwtE"
      ],
      "authorship_tag": "ABX9TyME0qAN1npxr0Wj6ZOx2X0O",
      "include_colab_link": true
    },
    "kernelspec": {
      "name": "python3",
      "display_name": "Python 3"
    },
    "language_info": {
      "name": "python"
    },
    "widgets": {
      "application/vnd.jupyter.widget-state+json": {
        "61fff4509132495fbb42e5ba844f7472": {
          "model_module": "@jupyter-widgets/controls",
          "model_name": "HBoxModel",
          "model_module_version": "1.5.0",
          "state": {
            "_dom_classes": [],
            "_model_module": "@jupyter-widgets/controls",
            "_model_module_version": "1.5.0",
            "_model_name": "HBoxModel",
            "_view_count": null,
            "_view_module": "@jupyter-widgets/controls",
            "_view_module_version": "1.5.0",
            "_view_name": "HBoxView",
            "box_style": "",
            "children": [
              "IPY_MODEL_612aaa6e54d64dea85030f327c00c500",
              "IPY_MODEL_3494246b512a4d3eaf8a7f5e6b3d63e8",
              "IPY_MODEL_5acc4e1b4e9549829dcbcaa8bd7cba29"
            ],
            "layout": "IPY_MODEL_4fd72421b5f44360afee238c9ecae59a"
          }
        },
        "612aaa6e54d64dea85030f327c00c500": {
          "model_module": "@jupyter-widgets/controls",
          "model_name": "HTMLModel",
          "model_module_version": "1.5.0",
          "state": {
            "_dom_classes": [],
            "_model_module": "@jupyter-widgets/controls",
            "_model_module_version": "1.5.0",
            "_model_name": "HTMLModel",
            "_view_count": null,
            "_view_module": "@jupyter-widgets/controls",
            "_view_module_version": "1.5.0",
            "_view_name": "HTMLView",
            "description": "",
            "description_tooltip": null,
            "layout": "IPY_MODEL_7b966d6fe4bc480ab3b646d90677ab9b",
            "placeholder": "​",
            "style": "IPY_MODEL_5ae730bf18e848f1bb386ab8775abbb8",
            "value": "100%"
          }
        },
        "3494246b512a4d3eaf8a7f5e6b3d63e8": {
          "model_module": "@jupyter-widgets/controls",
          "model_name": "FloatProgressModel",
          "model_module_version": "1.5.0",
          "state": {
            "_dom_classes": [],
            "_model_module": "@jupyter-widgets/controls",
            "_model_module_version": "1.5.0",
            "_model_name": "FloatProgressModel",
            "_view_count": null,
            "_view_module": "@jupyter-widgets/controls",
            "_view_module_version": "1.5.0",
            "_view_name": "ProgressView",
            "bar_style": "success",
            "description": "",
            "description_tooltip": null,
            "layout": "IPY_MODEL_b9d72e89bb3d47db9a4c3df965832c3e",
            "max": 50,
            "min": 0,
            "orientation": "horizontal",
            "style": "IPY_MODEL_8e1c04e1b6484ce48add18cfd997545f",
            "value": 50
          }
        },
        "5acc4e1b4e9549829dcbcaa8bd7cba29": {
          "model_module": "@jupyter-widgets/controls",
          "model_name": "HTMLModel",
          "model_module_version": "1.5.0",
          "state": {
            "_dom_classes": [],
            "_model_module": "@jupyter-widgets/controls",
            "_model_module_version": "1.5.0",
            "_model_name": "HTMLModel",
            "_view_count": null,
            "_view_module": "@jupyter-widgets/controls",
            "_view_module_version": "1.5.0",
            "_view_name": "HTMLView",
            "description": "",
            "description_tooltip": null,
            "layout": "IPY_MODEL_96e6a838cbb442428d4691388d107b4d",
            "placeholder": "​",
            "style": "IPY_MODEL_44deb6f06f9143d0b134e13fa55c476f",
            "value": " 50/50 [00:00&lt;00:00, 128.71it/s]"
          }
        },
        "4fd72421b5f44360afee238c9ecae59a": {
          "model_module": "@jupyter-widgets/base",
          "model_name": "LayoutModel",
          "model_module_version": "1.2.0",
          "state": {
            "_model_module": "@jupyter-widgets/base",
            "_model_module_version": "1.2.0",
            "_model_name": "LayoutModel",
            "_view_count": null,
            "_view_module": "@jupyter-widgets/base",
            "_view_module_version": "1.2.0",
            "_view_name": "LayoutView",
            "align_content": null,
            "align_items": null,
            "align_self": null,
            "border": null,
            "bottom": null,
            "display": null,
            "flex": null,
            "flex_flow": null,
            "grid_area": null,
            "grid_auto_columns": null,
            "grid_auto_flow": null,
            "grid_auto_rows": null,
            "grid_column": null,
            "grid_gap": null,
            "grid_row": null,
            "grid_template_areas": null,
            "grid_template_columns": null,
            "grid_template_rows": null,
            "height": null,
            "justify_content": null,
            "justify_items": null,
            "left": null,
            "margin": null,
            "max_height": null,
            "max_width": null,
            "min_height": null,
            "min_width": null,
            "object_fit": null,
            "object_position": null,
            "order": null,
            "overflow": null,
            "overflow_x": null,
            "overflow_y": null,
            "padding": null,
            "right": null,
            "top": null,
            "visibility": null,
            "width": null
          }
        },
        "7b966d6fe4bc480ab3b646d90677ab9b": {
          "model_module": "@jupyter-widgets/base",
          "model_name": "LayoutModel",
          "model_module_version": "1.2.0",
          "state": {
            "_model_module": "@jupyter-widgets/base",
            "_model_module_version": "1.2.0",
            "_model_name": "LayoutModel",
            "_view_count": null,
            "_view_module": "@jupyter-widgets/base",
            "_view_module_version": "1.2.0",
            "_view_name": "LayoutView",
            "align_content": null,
            "align_items": null,
            "align_self": null,
            "border": null,
            "bottom": null,
            "display": null,
            "flex": null,
            "flex_flow": null,
            "grid_area": null,
            "grid_auto_columns": null,
            "grid_auto_flow": null,
            "grid_auto_rows": null,
            "grid_column": null,
            "grid_gap": null,
            "grid_row": null,
            "grid_template_areas": null,
            "grid_template_columns": null,
            "grid_template_rows": null,
            "height": null,
            "justify_content": null,
            "justify_items": null,
            "left": null,
            "margin": null,
            "max_height": null,
            "max_width": null,
            "min_height": null,
            "min_width": null,
            "object_fit": null,
            "object_position": null,
            "order": null,
            "overflow": null,
            "overflow_x": null,
            "overflow_y": null,
            "padding": null,
            "right": null,
            "top": null,
            "visibility": null,
            "width": null
          }
        },
        "5ae730bf18e848f1bb386ab8775abbb8": {
          "model_module": "@jupyter-widgets/controls",
          "model_name": "DescriptionStyleModel",
          "model_module_version": "1.5.0",
          "state": {
            "_model_module": "@jupyter-widgets/controls",
            "_model_module_version": "1.5.0",
            "_model_name": "DescriptionStyleModel",
            "_view_count": null,
            "_view_module": "@jupyter-widgets/base",
            "_view_module_version": "1.2.0",
            "_view_name": "StyleView",
            "description_width": ""
          }
        },
        "b9d72e89bb3d47db9a4c3df965832c3e": {
          "model_module": "@jupyter-widgets/base",
          "model_name": "LayoutModel",
          "model_module_version": "1.2.0",
          "state": {
            "_model_module": "@jupyter-widgets/base",
            "_model_module_version": "1.2.0",
            "_model_name": "LayoutModel",
            "_view_count": null,
            "_view_module": "@jupyter-widgets/base",
            "_view_module_version": "1.2.0",
            "_view_name": "LayoutView",
            "align_content": null,
            "align_items": null,
            "align_self": null,
            "border": null,
            "bottom": null,
            "display": null,
            "flex": null,
            "flex_flow": null,
            "grid_area": null,
            "grid_auto_columns": null,
            "grid_auto_flow": null,
            "grid_auto_rows": null,
            "grid_column": null,
            "grid_gap": null,
            "grid_row": null,
            "grid_template_areas": null,
            "grid_template_columns": null,
            "grid_template_rows": null,
            "height": null,
            "justify_content": null,
            "justify_items": null,
            "left": null,
            "margin": null,
            "max_height": null,
            "max_width": null,
            "min_height": null,
            "min_width": null,
            "object_fit": null,
            "object_position": null,
            "order": null,
            "overflow": null,
            "overflow_x": null,
            "overflow_y": null,
            "padding": null,
            "right": null,
            "top": null,
            "visibility": null,
            "width": null
          }
        },
        "8e1c04e1b6484ce48add18cfd997545f": {
          "model_module": "@jupyter-widgets/controls",
          "model_name": "ProgressStyleModel",
          "model_module_version": "1.5.0",
          "state": {
            "_model_module": "@jupyter-widgets/controls",
            "_model_module_version": "1.5.0",
            "_model_name": "ProgressStyleModel",
            "_view_count": null,
            "_view_module": "@jupyter-widgets/base",
            "_view_module_version": "1.2.0",
            "_view_name": "StyleView",
            "bar_color": null,
            "description_width": ""
          }
        },
        "96e6a838cbb442428d4691388d107b4d": {
          "model_module": "@jupyter-widgets/base",
          "model_name": "LayoutModel",
          "model_module_version": "1.2.0",
          "state": {
            "_model_module": "@jupyter-widgets/base",
            "_model_module_version": "1.2.0",
            "_model_name": "LayoutModel",
            "_view_count": null,
            "_view_module": "@jupyter-widgets/base",
            "_view_module_version": "1.2.0",
            "_view_name": "LayoutView",
            "align_content": null,
            "align_items": null,
            "align_self": null,
            "border": null,
            "bottom": null,
            "display": null,
            "flex": null,
            "flex_flow": null,
            "grid_area": null,
            "grid_auto_columns": null,
            "grid_auto_flow": null,
            "grid_auto_rows": null,
            "grid_column": null,
            "grid_gap": null,
            "grid_row": null,
            "grid_template_areas": null,
            "grid_template_columns": null,
            "grid_template_rows": null,
            "height": null,
            "justify_content": null,
            "justify_items": null,
            "left": null,
            "margin": null,
            "max_height": null,
            "max_width": null,
            "min_height": null,
            "min_width": null,
            "object_fit": null,
            "object_position": null,
            "order": null,
            "overflow": null,
            "overflow_x": null,
            "overflow_y": null,
            "padding": null,
            "right": null,
            "top": null,
            "visibility": null,
            "width": null
          }
        },
        "44deb6f06f9143d0b134e13fa55c476f": {
          "model_module": "@jupyter-widgets/controls",
          "model_name": "DescriptionStyleModel",
          "model_module_version": "1.5.0",
          "state": {
            "_model_module": "@jupyter-widgets/controls",
            "_model_module_version": "1.5.0",
            "_model_name": "DescriptionStyleModel",
            "_view_count": null,
            "_view_module": "@jupyter-widgets/base",
            "_view_module_version": "1.2.0",
            "_view_name": "StyleView",
            "description_width": ""
          }
        },
        "062c6e11b9e546418771db1c8c379154": {
          "model_module": "@jupyter-widgets/controls",
          "model_name": "HBoxModel",
          "model_module_version": "1.5.0",
          "state": {
            "_dom_classes": [],
            "_model_module": "@jupyter-widgets/controls",
            "_model_module_version": "1.5.0",
            "_model_name": "HBoxModel",
            "_view_count": null,
            "_view_module": "@jupyter-widgets/controls",
            "_view_module_version": "1.5.0",
            "_view_name": "HBoxView",
            "box_style": "",
            "children": [
              "IPY_MODEL_0a7715104f6044459999608134f66384",
              "IPY_MODEL_53dbfb4c00cf44b38dfc0a9a61426d97",
              "IPY_MODEL_760e423d94f44149b0d8094d8fefc6ae"
            ],
            "layout": "IPY_MODEL_c00f8d8cb54e4671a4d061c882c4c32d"
          }
        },
        "0a7715104f6044459999608134f66384": {
          "model_module": "@jupyter-widgets/controls",
          "model_name": "HTMLModel",
          "model_module_version": "1.5.0",
          "state": {
            "_dom_classes": [],
            "_model_module": "@jupyter-widgets/controls",
            "_model_module_version": "1.5.0",
            "_model_name": "HTMLModel",
            "_view_count": null,
            "_view_module": "@jupyter-widgets/controls",
            "_view_module_version": "1.5.0",
            "_view_name": "HTMLView",
            "description": "",
            "description_tooltip": null,
            "layout": "IPY_MODEL_6c5bdd483bba4b23b532905770f5ba61",
            "placeholder": "​",
            "style": "IPY_MODEL_d5eeeb580d7b43afa64186669b8c685f",
            "value": "100%"
          }
        },
        "53dbfb4c00cf44b38dfc0a9a61426d97": {
          "model_module": "@jupyter-widgets/controls",
          "model_name": "FloatProgressModel",
          "model_module_version": "1.5.0",
          "state": {
            "_dom_classes": [],
            "_model_module": "@jupyter-widgets/controls",
            "_model_module_version": "1.5.0",
            "_model_name": "FloatProgressModel",
            "_view_count": null,
            "_view_module": "@jupyter-widgets/controls",
            "_view_module_version": "1.5.0",
            "_view_name": "ProgressView",
            "bar_style": "success",
            "description": "",
            "description_tooltip": null,
            "layout": "IPY_MODEL_bf7f5d91a065474e881faf15e03ffe4c",
            "max": 50,
            "min": 0,
            "orientation": "horizontal",
            "style": "IPY_MODEL_b561e584cc5b429aa6d3d139d680ca87",
            "value": 50
          }
        },
        "760e423d94f44149b0d8094d8fefc6ae": {
          "model_module": "@jupyter-widgets/controls",
          "model_name": "HTMLModel",
          "model_module_version": "1.5.0",
          "state": {
            "_dom_classes": [],
            "_model_module": "@jupyter-widgets/controls",
            "_model_module_version": "1.5.0",
            "_model_name": "HTMLModel",
            "_view_count": null,
            "_view_module": "@jupyter-widgets/controls",
            "_view_module_version": "1.5.0",
            "_view_name": "HTMLView",
            "description": "",
            "description_tooltip": null,
            "layout": "IPY_MODEL_8085e88f4aab4a098e25deb6e10fcf93",
            "placeholder": "​",
            "style": "IPY_MODEL_d54fa50a94c44c6b9227b6519d41c5f6",
            "value": " 50/50 [00:02&lt;00:00, 20.48it/s]"
          }
        },
        "c00f8d8cb54e4671a4d061c882c4c32d": {
          "model_module": "@jupyter-widgets/base",
          "model_name": "LayoutModel",
          "model_module_version": "1.2.0",
          "state": {
            "_model_module": "@jupyter-widgets/base",
            "_model_module_version": "1.2.0",
            "_model_name": "LayoutModel",
            "_view_count": null,
            "_view_module": "@jupyter-widgets/base",
            "_view_module_version": "1.2.0",
            "_view_name": "LayoutView",
            "align_content": null,
            "align_items": null,
            "align_self": null,
            "border": null,
            "bottom": null,
            "display": null,
            "flex": null,
            "flex_flow": null,
            "grid_area": null,
            "grid_auto_columns": null,
            "grid_auto_flow": null,
            "grid_auto_rows": null,
            "grid_column": null,
            "grid_gap": null,
            "grid_row": null,
            "grid_template_areas": null,
            "grid_template_columns": null,
            "grid_template_rows": null,
            "height": null,
            "justify_content": null,
            "justify_items": null,
            "left": null,
            "margin": null,
            "max_height": null,
            "max_width": null,
            "min_height": null,
            "min_width": null,
            "object_fit": null,
            "object_position": null,
            "order": null,
            "overflow": null,
            "overflow_x": null,
            "overflow_y": null,
            "padding": null,
            "right": null,
            "top": null,
            "visibility": null,
            "width": null
          }
        },
        "6c5bdd483bba4b23b532905770f5ba61": {
          "model_module": "@jupyter-widgets/base",
          "model_name": "LayoutModel",
          "model_module_version": "1.2.0",
          "state": {
            "_model_module": "@jupyter-widgets/base",
            "_model_module_version": "1.2.0",
            "_model_name": "LayoutModel",
            "_view_count": null,
            "_view_module": "@jupyter-widgets/base",
            "_view_module_version": "1.2.0",
            "_view_name": "LayoutView",
            "align_content": null,
            "align_items": null,
            "align_self": null,
            "border": null,
            "bottom": null,
            "display": null,
            "flex": null,
            "flex_flow": null,
            "grid_area": null,
            "grid_auto_columns": null,
            "grid_auto_flow": null,
            "grid_auto_rows": null,
            "grid_column": null,
            "grid_gap": null,
            "grid_row": null,
            "grid_template_areas": null,
            "grid_template_columns": null,
            "grid_template_rows": null,
            "height": null,
            "justify_content": null,
            "justify_items": null,
            "left": null,
            "margin": null,
            "max_height": null,
            "max_width": null,
            "min_height": null,
            "min_width": null,
            "object_fit": null,
            "object_position": null,
            "order": null,
            "overflow": null,
            "overflow_x": null,
            "overflow_y": null,
            "padding": null,
            "right": null,
            "top": null,
            "visibility": null,
            "width": null
          }
        },
        "d5eeeb580d7b43afa64186669b8c685f": {
          "model_module": "@jupyter-widgets/controls",
          "model_name": "DescriptionStyleModel",
          "model_module_version": "1.5.0",
          "state": {
            "_model_module": "@jupyter-widgets/controls",
            "_model_module_version": "1.5.0",
            "_model_name": "DescriptionStyleModel",
            "_view_count": null,
            "_view_module": "@jupyter-widgets/base",
            "_view_module_version": "1.2.0",
            "_view_name": "StyleView",
            "description_width": ""
          }
        },
        "bf7f5d91a065474e881faf15e03ffe4c": {
          "model_module": "@jupyter-widgets/base",
          "model_name": "LayoutModel",
          "model_module_version": "1.2.0",
          "state": {
            "_model_module": "@jupyter-widgets/base",
            "_model_module_version": "1.2.0",
            "_model_name": "LayoutModel",
            "_view_count": null,
            "_view_module": "@jupyter-widgets/base",
            "_view_module_version": "1.2.0",
            "_view_name": "LayoutView",
            "align_content": null,
            "align_items": null,
            "align_self": null,
            "border": null,
            "bottom": null,
            "display": null,
            "flex": null,
            "flex_flow": null,
            "grid_area": null,
            "grid_auto_columns": null,
            "grid_auto_flow": null,
            "grid_auto_rows": null,
            "grid_column": null,
            "grid_gap": null,
            "grid_row": null,
            "grid_template_areas": null,
            "grid_template_columns": null,
            "grid_template_rows": null,
            "height": null,
            "justify_content": null,
            "justify_items": null,
            "left": null,
            "margin": null,
            "max_height": null,
            "max_width": null,
            "min_height": null,
            "min_width": null,
            "object_fit": null,
            "object_position": null,
            "order": null,
            "overflow": null,
            "overflow_x": null,
            "overflow_y": null,
            "padding": null,
            "right": null,
            "top": null,
            "visibility": null,
            "width": null
          }
        },
        "b561e584cc5b429aa6d3d139d680ca87": {
          "model_module": "@jupyter-widgets/controls",
          "model_name": "ProgressStyleModel",
          "model_module_version": "1.5.0",
          "state": {
            "_model_module": "@jupyter-widgets/controls",
            "_model_module_version": "1.5.0",
            "_model_name": "ProgressStyleModel",
            "_view_count": null,
            "_view_module": "@jupyter-widgets/base",
            "_view_module_version": "1.2.0",
            "_view_name": "StyleView",
            "bar_color": null,
            "description_width": ""
          }
        },
        "8085e88f4aab4a098e25deb6e10fcf93": {
          "model_module": "@jupyter-widgets/base",
          "model_name": "LayoutModel",
          "model_module_version": "1.2.0",
          "state": {
            "_model_module": "@jupyter-widgets/base",
            "_model_module_version": "1.2.0",
            "_model_name": "LayoutModel",
            "_view_count": null,
            "_view_module": "@jupyter-widgets/base",
            "_view_module_version": "1.2.0",
            "_view_name": "LayoutView",
            "align_content": null,
            "align_items": null,
            "align_self": null,
            "border": null,
            "bottom": null,
            "display": null,
            "flex": null,
            "flex_flow": null,
            "grid_area": null,
            "grid_auto_columns": null,
            "grid_auto_flow": null,
            "grid_auto_rows": null,
            "grid_column": null,
            "grid_gap": null,
            "grid_row": null,
            "grid_template_areas": null,
            "grid_template_columns": null,
            "grid_template_rows": null,
            "height": null,
            "justify_content": null,
            "justify_items": null,
            "left": null,
            "margin": null,
            "max_height": null,
            "max_width": null,
            "min_height": null,
            "min_width": null,
            "object_fit": null,
            "object_position": null,
            "order": null,
            "overflow": null,
            "overflow_x": null,
            "overflow_y": null,
            "padding": null,
            "right": null,
            "top": null,
            "visibility": null,
            "width": null
          }
        },
        "d54fa50a94c44c6b9227b6519d41c5f6": {
          "model_module": "@jupyter-widgets/controls",
          "model_name": "DescriptionStyleModel",
          "model_module_version": "1.5.0",
          "state": {
            "_model_module": "@jupyter-widgets/controls",
            "_model_module_version": "1.5.0",
            "_model_name": "DescriptionStyleModel",
            "_view_count": null,
            "_view_module": "@jupyter-widgets/base",
            "_view_module_version": "1.2.0",
            "_view_name": "StyleView",
            "description_width": ""
          }
        },
        "3812847cc59d46aabf32ab7035636150": {
          "model_module": "@jupyter-widgets/controls",
          "model_name": "HBoxModel",
          "model_module_version": "1.5.0",
          "state": {
            "_dom_classes": [],
            "_model_module": "@jupyter-widgets/controls",
            "_model_module_version": "1.5.0",
            "_model_name": "HBoxModel",
            "_view_count": null,
            "_view_module": "@jupyter-widgets/controls",
            "_view_module_version": "1.5.0",
            "_view_name": "HBoxView",
            "box_style": "",
            "children": [
              "IPY_MODEL_d26c5bdd836a4912808b7505be6880cd",
              "IPY_MODEL_8ea09c01834748bc8631375e005427fd",
              "IPY_MODEL_4529885a153649968573498f6e6c9d99"
            ],
            "layout": "IPY_MODEL_d3059c9107944ba38cc92ca4ce18ac14"
          }
        },
        "d26c5bdd836a4912808b7505be6880cd": {
          "model_module": "@jupyter-widgets/controls",
          "model_name": "HTMLModel",
          "model_module_version": "1.5.0",
          "state": {
            "_dom_classes": [],
            "_model_module": "@jupyter-widgets/controls",
            "_model_module_version": "1.5.0",
            "_model_name": "HTMLModel",
            "_view_count": null,
            "_view_module": "@jupyter-widgets/controls",
            "_view_module_version": "1.5.0",
            "_view_name": "HTMLView",
            "description": "",
            "description_tooltip": null,
            "layout": "IPY_MODEL_4274653022044d28bd88f152d34fec64",
            "placeholder": "​",
            "style": "IPY_MODEL_1e7dfd0c76dd4058a7079d776c5cb0f2",
            "value": "100%"
          }
        },
        "8ea09c01834748bc8631375e005427fd": {
          "model_module": "@jupyter-widgets/controls",
          "model_name": "FloatProgressModel",
          "model_module_version": "1.5.0",
          "state": {
            "_dom_classes": [],
            "_model_module": "@jupyter-widgets/controls",
            "_model_module_version": "1.5.0",
            "_model_name": "FloatProgressModel",
            "_view_count": null,
            "_view_module": "@jupyter-widgets/controls",
            "_view_module_version": "1.5.0",
            "_view_name": "ProgressView",
            "bar_style": "success",
            "description": "",
            "description_tooltip": null,
            "layout": "IPY_MODEL_ac83736517e94c6e9b8d64bf6a1b46a3",
            "max": 50,
            "min": 0,
            "orientation": "horizontal",
            "style": "IPY_MODEL_77ad4bae044846938475ceca663ec470",
            "value": 50
          }
        },
        "4529885a153649968573498f6e6c9d99": {
          "model_module": "@jupyter-widgets/controls",
          "model_name": "HTMLModel",
          "model_module_version": "1.5.0",
          "state": {
            "_dom_classes": [],
            "_model_module": "@jupyter-widgets/controls",
            "_model_module_version": "1.5.0",
            "_model_name": "HTMLModel",
            "_view_count": null,
            "_view_module": "@jupyter-widgets/controls",
            "_view_module_version": "1.5.0",
            "_view_name": "HTMLView",
            "description": "",
            "description_tooltip": null,
            "layout": "IPY_MODEL_0354955c38fa4b00831461a2171f7b85",
            "placeholder": "​",
            "style": "IPY_MODEL_a47b283c766e4a6b944d79793c15130d",
            "value": " 50/50 [00:00&lt;00:00, 118.89it/s]"
          }
        },
        "d3059c9107944ba38cc92ca4ce18ac14": {
          "model_module": "@jupyter-widgets/base",
          "model_name": "LayoutModel",
          "model_module_version": "1.2.0",
          "state": {
            "_model_module": "@jupyter-widgets/base",
            "_model_module_version": "1.2.0",
            "_model_name": "LayoutModel",
            "_view_count": null,
            "_view_module": "@jupyter-widgets/base",
            "_view_module_version": "1.2.0",
            "_view_name": "LayoutView",
            "align_content": null,
            "align_items": null,
            "align_self": null,
            "border": null,
            "bottom": null,
            "display": null,
            "flex": null,
            "flex_flow": null,
            "grid_area": null,
            "grid_auto_columns": null,
            "grid_auto_flow": null,
            "grid_auto_rows": null,
            "grid_column": null,
            "grid_gap": null,
            "grid_row": null,
            "grid_template_areas": null,
            "grid_template_columns": null,
            "grid_template_rows": null,
            "height": null,
            "justify_content": null,
            "justify_items": null,
            "left": null,
            "margin": null,
            "max_height": null,
            "max_width": null,
            "min_height": null,
            "min_width": null,
            "object_fit": null,
            "object_position": null,
            "order": null,
            "overflow": null,
            "overflow_x": null,
            "overflow_y": null,
            "padding": null,
            "right": null,
            "top": null,
            "visibility": null,
            "width": null
          }
        },
        "4274653022044d28bd88f152d34fec64": {
          "model_module": "@jupyter-widgets/base",
          "model_name": "LayoutModel",
          "model_module_version": "1.2.0",
          "state": {
            "_model_module": "@jupyter-widgets/base",
            "_model_module_version": "1.2.0",
            "_model_name": "LayoutModel",
            "_view_count": null,
            "_view_module": "@jupyter-widgets/base",
            "_view_module_version": "1.2.0",
            "_view_name": "LayoutView",
            "align_content": null,
            "align_items": null,
            "align_self": null,
            "border": null,
            "bottom": null,
            "display": null,
            "flex": null,
            "flex_flow": null,
            "grid_area": null,
            "grid_auto_columns": null,
            "grid_auto_flow": null,
            "grid_auto_rows": null,
            "grid_column": null,
            "grid_gap": null,
            "grid_row": null,
            "grid_template_areas": null,
            "grid_template_columns": null,
            "grid_template_rows": null,
            "height": null,
            "justify_content": null,
            "justify_items": null,
            "left": null,
            "margin": null,
            "max_height": null,
            "max_width": null,
            "min_height": null,
            "min_width": null,
            "object_fit": null,
            "object_position": null,
            "order": null,
            "overflow": null,
            "overflow_x": null,
            "overflow_y": null,
            "padding": null,
            "right": null,
            "top": null,
            "visibility": null,
            "width": null
          }
        },
        "1e7dfd0c76dd4058a7079d776c5cb0f2": {
          "model_module": "@jupyter-widgets/controls",
          "model_name": "DescriptionStyleModel",
          "model_module_version": "1.5.0",
          "state": {
            "_model_module": "@jupyter-widgets/controls",
            "_model_module_version": "1.5.0",
            "_model_name": "DescriptionStyleModel",
            "_view_count": null,
            "_view_module": "@jupyter-widgets/base",
            "_view_module_version": "1.2.0",
            "_view_name": "StyleView",
            "description_width": ""
          }
        },
        "ac83736517e94c6e9b8d64bf6a1b46a3": {
          "model_module": "@jupyter-widgets/base",
          "model_name": "LayoutModel",
          "model_module_version": "1.2.0",
          "state": {
            "_model_module": "@jupyter-widgets/base",
            "_model_module_version": "1.2.0",
            "_model_name": "LayoutModel",
            "_view_count": null,
            "_view_module": "@jupyter-widgets/base",
            "_view_module_version": "1.2.0",
            "_view_name": "LayoutView",
            "align_content": null,
            "align_items": null,
            "align_self": null,
            "border": null,
            "bottom": null,
            "display": null,
            "flex": null,
            "flex_flow": null,
            "grid_area": null,
            "grid_auto_columns": null,
            "grid_auto_flow": null,
            "grid_auto_rows": null,
            "grid_column": null,
            "grid_gap": null,
            "grid_row": null,
            "grid_template_areas": null,
            "grid_template_columns": null,
            "grid_template_rows": null,
            "height": null,
            "justify_content": null,
            "justify_items": null,
            "left": null,
            "margin": null,
            "max_height": null,
            "max_width": null,
            "min_height": null,
            "min_width": null,
            "object_fit": null,
            "object_position": null,
            "order": null,
            "overflow": null,
            "overflow_x": null,
            "overflow_y": null,
            "padding": null,
            "right": null,
            "top": null,
            "visibility": null,
            "width": null
          }
        },
        "77ad4bae044846938475ceca663ec470": {
          "model_module": "@jupyter-widgets/controls",
          "model_name": "ProgressStyleModel",
          "model_module_version": "1.5.0",
          "state": {
            "_model_module": "@jupyter-widgets/controls",
            "_model_module_version": "1.5.0",
            "_model_name": "ProgressStyleModel",
            "_view_count": null,
            "_view_module": "@jupyter-widgets/base",
            "_view_module_version": "1.2.0",
            "_view_name": "StyleView",
            "bar_color": null,
            "description_width": ""
          }
        },
        "0354955c38fa4b00831461a2171f7b85": {
          "model_module": "@jupyter-widgets/base",
          "model_name": "LayoutModel",
          "model_module_version": "1.2.0",
          "state": {
            "_model_module": "@jupyter-widgets/base",
            "_model_module_version": "1.2.0",
            "_model_name": "LayoutModel",
            "_view_count": null,
            "_view_module": "@jupyter-widgets/base",
            "_view_module_version": "1.2.0",
            "_view_name": "LayoutView",
            "align_content": null,
            "align_items": null,
            "align_self": null,
            "border": null,
            "bottom": null,
            "display": null,
            "flex": null,
            "flex_flow": null,
            "grid_area": null,
            "grid_auto_columns": null,
            "grid_auto_flow": null,
            "grid_auto_rows": null,
            "grid_column": null,
            "grid_gap": null,
            "grid_row": null,
            "grid_template_areas": null,
            "grid_template_columns": null,
            "grid_template_rows": null,
            "height": null,
            "justify_content": null,
            "justify_items": null,
            "left": null,
            "margin": null,
            "max_height": null,
            "max_width": null,
            "min_height": null,
            "min_width": null,
            "object_fit": null,
            "object_position": null,
            "order": null,
            "overflow": null,
            "overflow_x": null,
            "overflow_y": null,
            "padding": null,
            "right": null,
            "top": null,
            "visibility": null,
            "width": null
          }
        },
        "a47b283c766e4a6b944d79793c15130d": {
          "model_module": "@jupyter-widgets/controls",
          "model_name": "DescriptionStyleModel",
          "model_module_version": "1.5.0",
          "state": {
            "_model_module": "@jupyter-widgets/controls",
            "_model_module_version": "1.5.0",
            "_model_name": "DescriptionStyleModel",
            "_view_count": null,
            "_view_module": "@jupyter-widgets/base",
            "_view_module_version": "1.2.0",
            "_view_name": "StyleView",
            "description_width": ""
          }
        },
        "15fb2e54b8994499b8f0dd5953ab27e7": {
          "model_module": "@jupyter-widgets/controls",
          "model_name": "HBoxModel",
          "model_module_version": "1.5.0",
          "state": {
            "_dom_classes": [],
            "_model_module": "@jupyter-widgets/controls",
            "_model_module_version": "1.5.0",
            "_model_name": "HBoxModel",
            "_view_count": null,
            "_view_module": "@jupyter-widgets/controls",
            "_view_module_version": "1.5.0",
            "_view_name": "HBoxView",
            "box_style": "",
            "children": [
              "IPY_MODEL_a8eaead86d3d4c88b0108344e925a4da",
              "IPY_MODEL_17a292ac175644e2b86fdb3d679f4ea6",
              "IPY_MODEL_e5363cee5ea442bd932d832a7601e30a"
            ],
            "layout": "IPY_MODEL_36e0b86810114556b699eb291b96d2fa"
          }
        },
        "a8eaead86d3d4c88b0108344e925a4da": {
          "model_module": "@jupyter-widgets/controls",
          "model_name": "HTMLModel",
          "model_module_version": "1.5.0",
          "state": {
            "_dom_classes": [],
            "_model_module": "@jupyter-widgets/controls",
            "_model_module_version": "1.5.0",
            "_model_name": "HTMLModel",
            "_view_count": null,
            "_view_module": "@jupyter-widgets/controls",
            "_view_module_version": "1.5.0",
            "_view_name": "HTMLView",
            "description": "",
            "description_tooltip": null,
            "layout": "IPY_MODEL_dc5fdb1f81334e978b67390d5d75f1ec",
            "placeholder": "​",
            "style": "IPY_MODEL_253bd724063a43998c79162a36a354f3",
            "value": "100%"
          }
        },
        "17a292ac175644e2b86fdb3d679f4ea6": {
          "model_module": "@jupyter-widgets/controls",
          "model_name": "FloatProgressModel",
          "model_module_version": "1.5.0",
          "state": {
            "_dom_classes": [],
            "_model_module": "@jupyter-widgets/controls",
            "_model_module_version": "1.5.0",
            "_model_name": "FloatProgressModel",
            "_view_count": null,
            "_view_module": "@jupyter-widgets/controls",
            "_view_module_version": "1.5.0",
            "_view_name": "ProgressView",
            "bar_style": "success",
            "description": "",
            "description_tooltip": null,
            "layout": "IPY_MODEL_da2239b40ba642928e2c2d2d3d39fe3c",
            "max": 50,
            "min": 0,
            "orientation": "horizontal",
            "style": "IPY_MODEL_8133c3fd3e4c4188a82d9d9233c424c1",
            "value": 50
          }
        },
        "e5363cee5ea442bd932d832a7601e30a": {
          "model_module": "@jupyter-widgets/controls",
          "model_name": "HTMLModel",
          "model_module_version": "1.5.0",
          "state": {
            "_dom_classes": [],
            "_model_module": "@jupyter-widgets/controls",
            "_model_module_version": "1.5.0",
            "_model_name": "HTMLModel",
            "_view_count": null,
            "_view_module": "@jupyter-widgets/controls",
            "_view_module_version": "1.5.0",
            "_view_name": "HTMLView",
            "description": "",
            "description_tooltip": null,
            "layout": "IPY_MODEL_c8333a8d1c134dbdb4ecf9a96978acd4",
            "placeholder": "​",
            "style": "IPY_MODEL_1050ee449f4142f49700b3e0d8aae414",
            "value": " 50/50 [00:01&lt;00:00, 45.04it/s]"
          }
        },
        "36e0b86810114556b699eb291b96d2fa": {
          "model_module": "@jupyter-widgets/base",
          "model_name": "LayoutModel",
          "model_module_version": "1.2.0",
          "state": {
            "_model_module": "@jupyter-widgets/base",
            "_model_module_version": "1.2.0",
            "_model_name": "LayoutModel",
            "_view_count": null,
            "_view_module": "@jupyter-widgets/base",
            "_view_module_version": "1.2.0",
            "_view_name": "LayoutView",
            "align_content": null,
            "align_items": null,
            "align_self": null,
            "border": null,
            "bottom": null,
            "display": null,
            "flex": null,
            "flex_flow": null,
            "grid_area": null,
            "grid_auto_columns": null,
            "grid_auto_flow": null,
            "grid_auto_rows": null,
            "grid_column": null,
            "grid_gap": null,
            "grid_row": null,
            "grid_template_areas": null,
            "grid_template_columns": null,
            "grid_template_rows": null,
            "height": null,
            "justify_content": null,
            "justify_items": null,
            "left": null,
            "margin": null,
            "max_height": null,
            "max_width": null,
            "min_height": null,
            "min_width": null,
            "object_fit": null,
            "object_position": null,
            "order": null,
            "overflow": null,
            "overflow_x": null,
            "overflow_y": null,
            "padding": null,
            "right": null,
            "top": null,
            "visibility": null,
            "width": null
          }
        },
        "dc5fdb1f81334e978b67390d5d75f1ec": {
          "model_module": "@jupyter-widgets/base",
          "model_name": "LayoutModel",
          "model_module_version": "1.2.0",
          "state": {
            "_model_module": "@jupyter-widgets/base",
            "_model_module_version": "1.2.0",
            "_model_name": "LayoutModel",
            "_view_count": null,
            "_view_module": "@jupyter-widgets/base",
            "_view_module_version": "1.2.0",
            "_view_name": "LayoutView",
            "align_content": null,
            "align_items": null,
            "align_self": null,
            "border": null,
            "bottom": null,
            "display": null,
            "flex": null,
            "flex_flow": null,
            "grid_area": null,
            "grid_auto_columns": null,
            "grid_auto_flow": null,
            "grid_auto_rows": null,
            "grid_column": null,
            "grid_gap": null,
            "grid_row": null,
            "grid_template_areas": null,
            "grid_template_columns": null,
            "grid_template_rows": null,
            "height": null,
            "justify_content": null,
            "justify_items": null,
            "left": null,
            "margin": null,
            "max_height": null,
            "max_width": null,
            "min_height": null,
            "min_width": null,
            "object_fit": null,
            "object_position": null,
            "order": null,
            "overflow": null,
            "overflow_x": null,
            "overflow_y": null,
            "padding": null,
            "right": null,
            "top": null,
            "visibility": null,
            "width": null
          }
        },
        "253bd724063a43998c79162a36a354f3": {
          "model_module": "@jupyter-widgets/controls",
          "model_name": "DescriptionStyleModel",
          "model_module_version": "1.5.0",
          "state": {
            "_model_module": "@jupyter-widgets/controls",
            "_model_module_version": "1.5.0",
            "_model_name": "DescriptionStyleModel",
            "_view_count": null,
            "_view_module": "@jupyter-widgets/base",
            "_view_module_version": "1.2.0",
            "_view_name": "StyleView",
            "description_width": ""
          }
        },
        "da2239b40ba642928e2c2d2d3d39fe3c": {
          "model_module": "@jupyter-widgets/base",
          "model_name": "LayoutModel",
          "model_module_version": "1.2.0",
          "state": {
            "_model_module": "@jupyter-widgets/base",
            "_model_module_version": "1.2.0",
            "_model_name": "LayoutModel",
            "_view_count": null,
            "_view_module": "@jupyter-widgets/base",
            "_view_module_version": "1.2.0",
            "_view_name": "LayoutView",
            "align_content": null,
            "align_items": null,
            "align_self": null,
            "border": null,
            "bottom": null,
            "display": null,
            "flex": null,
            "flex_flow": null,
            "grid_area": null,
            "grid_auto_columns": null,
            "grid_auto_flow": null,
            "grid_auto_rows": null,
            "grid_column": null,
            "grid_gap": null,
            "grid_row": null,
            "grid_template_areas": null,
            "grid_template_columns": null,
            "grid_template_rows": null,
            "height": null,
            "justify_content": null,
            "justify_items": null,
            "left": null,
            "margin": null,
            "max_height": null,
            "max_width": null,
            "min_height": null,
            "min_width": null,
            "object_fit": null,
            "object_position": null,
            "order": null,
            "overflow": null,
            "overflow_x": null,
            "overflow_y": null,
            "padding": null,
            "right": null,
            "top": null,
            "visibility": null,
            "width": null
          }
        },
        "8133c3fd3e4c4188a82d9d9233c424c1": {
          "model_module": "@jupyter-widgets/controls",
          "model_name": "ProgressStyleModel",
          "model_module_version": "1.5.0",
          "state": {
            "_model_module": "@jupyter-widgets/controls",
            "_model_module_version": "1.5.0",
            "_model_name": "ProgressStyleModel",
            "_view_count": null,
            "_view_module": "@jupyter-widgets/base",
            "_view_module_version": "1.2.0",
            "_view_name": "StyleView",
            "bar_color": null,
            "description_width": ""
          }
        },
        "c8333a8d1c134dbdb4ecf9a96978acd4": {
          "model_module": "@jupyter-widgets/base",
          "model_name": "LayoutModel",
          "model_module_version": "1.2.0",
          "state": {
            "_model_module": "@jupyter-widgets/base",
            "_model_module_version": "1.2.0",
            "_model_name": "LayoutModel",
            "_view_count": null,
            "_view_module": "@jupyter-widgets/base",
            "_view_module_version": "1.2.0",
            "_view_name": "LayoutView",
            "align_content": null,
            "align_items": null,
            "align_self": null,
            "border": null,
            "bottom": null,
            "display": null,
            "flex": null,
            "flex_flow": null,
            "grid_area": null,
            "grid_auto_columns": null,
            "grid_auto_flow": null,
            "grid_auto_rows": null,
            "grid_column": null,
            "grid_gap": null,
            "grid_row": null,
            "grid_template_areas": null,
            "grid_template_columns": null,
            "grid_template_rows": null,
            "height": null,
            "justify_content": null,
            "justify_items": null,
            "left": null,
            "margin": null,
            "max_height": null,
            "max_width": null,
            "min_height": null,
            "min_width": null,
            "object_fit": null,
            "object_position": null,
            "order": null,
            "overflow": null,
            "overflow_x": null,
            "overflow_y": null,
            "padding": null,
            "right": null,
            "top": null,
            "visibility": null,
            "width": null
          }
        },
        "1050ee449f4142f49700b3e0d8aae414": {
          "model_module": "@jupyter-widgets/controls",
          "model_name": "DescriptionStyleModel",
          "model_module_version": "1.5.0",
          "state": {
            "_model_module": "@jupyter-widgets/controls",
            "_model_module_version": "1.5.0",
            "_model_name": "DescriptionStyleModel",
            "_view_count": null,
            "_view_module": "@jupyter-widgets/base",
            "_view_module_version": "1.2.0",
            "_view_name": "StyleView",
            "description_width": ""
          }
        }
      }
    }
  },
  "cells": [
    {
      "cell_type": "markdown",
      "metadata": {
        "id": "view-in-github",
        "colab_type": "text"
      },
      "source": [
        "<a href=\"https://colab.research.google.com/github/Aditya-Poli/EC312_GA/blob/main/GA_TF_ndim.ipynb\" target=\"_parent\"><img src=\"https://colab.research.google.com/assets/colab-badge.svg\" alt=\"Open In Colab\"/></a>"
      ]
    },
    {
      "cell_type": "code",
      "execution_count": null,
      "metadata": {
        "id": "QppG8qeuVAO4"
      },
      "outputs": [],
      "source": []
    },
    {
      "cell_type": "markdown",
      "source": [
        "# Testing for n-dim"
      ],
      "metadata": {
        "id": "i4hvsvjcYRjS"
      }
    },
    {
      "cell_type": "code",
      "source": [
        "import numpy as np\n",
        "import matplotlib.pyplot as plt\n",
        "from tqdm.auto import tqdm\n",
        "%matplotlib notebook\n",
        "%matplotlib inline\n",
        "%config InlineBackend.figure_format = 'svg'\n",
        "\n",
        "class TestFunctionN:\n",
        "    def __init__(self, func, num_pop=50, mut_rate=0.1, num_gen=50, range=np.array([-5, 5]), minimize=True):\n",
        "        self.func = func[0]\n",
        "        self.ndim = func[1]\n",
        "        self.pop = None\n",
        "        self.POP_SIZE = num_pop\n",
        "        self.MUT_RATE = mut_rate\n",
        "        self.NUM_GEN = num_gen\n",
        "        self.best_pop = None\n",
        "        self.range = range\n",
        "        self.x = np.linspace(*self.range, 100)\n",
        "        self.y = np.linspace(*self.range, 100)\n",
        "        self.minimize = minimize\n",
        "\n",
        "    def _generate_init_(self):\n",
        "        # Generate an initial population of random solutions\n",
        "        self.pop = np.random.rand(self.POP_SIZE, self.ndim) * 10 - self.range[1]\n",
        "    \n",
        "    # Define the fitness function\n",
        "    def fitness(self):\n",
        "        if self.minimize:\n",
        "            return -self.func(self.pop)\n",
        "        else:\n",
        "            return self.func(self.pop)\n",
        "\n",
        "    # Define the selection function\n",
        "    def selection(self, fitness):\n",
        "        if fitness.sum() == 0:\n",
        "            return self.pop[-2]\n",
        "        return self.pop[np.argmax(fitness)]\n",
        "\n",
        "    # Define the crossover function\n",
        "    def crossover(self, parents):\n",
        "        child = np.zeros(self.ndim)\n",
        "        for i in range(self.ndim):\n",
        "            child[i] = np.random.choice(parents[:,i])\n",
        "        return child\n",
        "\n",
        "    # Define the mutation function\n",
        "    def mutation(self, child):\n",
        "        if np.random.rand() < self.MUT_RATE:\n",
        "            child += np.random.randn(self.ndim) * self.MUT_RATE\n",
        "        return child\n",
        "\n",
        "\n",
        "\n",
        "    def run(self, print_iter=True):\n",
        "        if(self.pop == None):\n",
        "            self._generate_init_()\n",
        "\n",
        "        # Run the genetic algorithm\n",
        "        for i in tqdm(range(self.NUM_GEN)):\n",
        "            fitness_vals = self.fitness()\n",
        "            if fitness_vals.min() < 0:\n",
        "                fitness_vals += abs(fitness_vals.min())\n",
        "            if fitness_vals.sum() == 0:\n",
        "                break\n",
        "            best_idx = np.argmax(fitness_vals)\n",
        "            self.best_pop = self.pop[best_idx]\n",
        "            if print_iter:\n",
        "                print(\"Iteration:\", i+1,\"  \", self.best_pop, \"z:\", self.func(self.best_pop))\n",
        "            new_pop = np.zeros((self.POP_SIZE, self.ndim))\n",
        "            for j in range(self.POP_SIZE):\n",
        "                parents = np.array([self.selection(fitness_vals), self.selection(fitness_vals)])\n",
        "                child = self.crossover(parents)\n",
        "                child = self.mutation(child)\n",
        "                new_pop[j] = child\n",
        "            self.pop = new_pop\n",
        "        \n",
        "        print(\"Best Solution  x:\", self.best_pop, \"func:\", self.func(self.best_pop))\n"
      ],
      "metadata": {
        "id": "YVxh7HwLYVsB"
      },
      "execution_count": null,
      "outputs": []
    },
    {
      "cell_type": "code",
      "source": [
        "\n",
        "\n",
        "def sphere(x):\n",
        "    try:\n",
        "        out = np.zeros(x[:,0].shape, dtype=x.dtype)\n",
        "        for i in range(x.shape[1]):\n",
        "            out+=x[:,i]**2\n",
        "        return out\n",
        "    except:\n",
        "        out = np.array([0], dtype=x.dtype)\n",
        "        for i in x:\n",
        "            out += i**2\n",
        "        return out"
      ],
      "metadata": {
        "id": "t1dY1hm2X2n2"
      },
      "execution_count": null,
      "outputs": []
    },
    {
      "cell_type": "code",
      "source": [
        "x = np.array([[1, 2, 3], [4, 5, 6]])\n",
        "sphere(x)"
      ],
      "metadata": {
        "colab": {
          "base_uri": "https://localhost:8080/"
        },
        "id": "9-cUE_dUZuih",
        "outputId": "c1bb9c37-7f19-4df1-a5ae-d486a7e3b46f"
      },
      "execution_count": null,
      "outputs": [
        {
          "output_type": "execute_result",
          "data": {
            "text/plain": [
              "array([14, 77])"
            ]
          },
          "metadata": {},
          "execution_count": 30
        }
      ]
    },
    {
      "cell_type": "code",
      "source": [
        "sphere(np.array([2, 2]))"
      ],
      "metadata": {
        "colab": {
          "base_uri": "https://localhost:8080/"
        },
        "id": "0ZYR4Q7Pcmkr",
        "outputId": "76c6cfab-07c5-44f1-e092-317854066c40"
      },
      "execution_count": null,
      "outputs": [
        {
          "output_type": "execute_result",
          "data": {
            "text/plain": [
              "array([8])"
            ]
          },
          "metadata": {},
          "execution_count": 31
        }
      ]
    },
    {
      "cell_type": "code",
      "source": [
        "sph = TestFunctionN(func=(sphere(3),3))"
      ],
      "metadata": {
        "id": "_EQSpvz_dDMW"
      },
      "execution_count": null,
      "outputs": []
    },
    {
      "cell_type": "code",
      "source": [
        "sph.run()"
      ],
      "metadata": {
        "colab": {
          "base_uri": "https://localhost:8080/",
          "height": 570,
          "referenced_widgets": [
            "4078a08646594e61b5e2f0447228315f",
            "fd58ae4d8e864c0a84a94c86b4e77dbf",
            "5bdc93d2793f4939b74838b8f2abc076",
            "186a0ece12af4649a5f9c7ac6109d390",
            "4dee6f9ceb794acf91cf95ab617b75cd",
            "0018b3ef9db54257b70c56604bd196f0",
            "3a0ae089ab2445c4b8fda551e96b52b1",
            "12ac59842e9541fc94ef0e647ad8768f",
            "d08c7f53b77142c4a0abe4acc819acf9",
            "f7e050faa63647a09b3574cc0d542c9d",
            "93747e4910674cf9be17f9703f232a19"
          ]
        },
        "id": "wN2mL2zwdKn4",
        "outputId": "d144a3ab-a96f-4d68-eed7-bca7c31b42cb"
      },
      "execution_count": null,
      "outputs": [
        {
          "output_type": "display_data",
          "data": {
            "text/plain": [
              "  0%|          | 0/50 [00:00<?, ?it/s]"
            ],
            "application/vnd.jupyter.widget-view+json": {
              "version_major": 2,
              "version_minor": 0,
              "model_id": "4078a08646594e61b5e2f0447228315f"
            }
          },
          "metadata": {}
        },
        {
          "output_type": "stream",
          "name": "stdout",
          "text": [
            "Iteration: 1    [0.572766   0.26090111 0.40525873] z: [0.56036492]\n",
            "Iteration: 2    [0.4215857  0.29293544 0.43306931] z: [0.4510947]\n",
            "Iteration: 3    [0.37191856 0.28823677 0.41064346] z: [0.3900319]\n",
            "Iteration: 4    [0.18649065 0.2245325  0.31759455] z: [0.1860599]\n",
            "Iteration: 5    [0.24260833 0.21136267 0.16775459] z: [0.13167458]\n",
            "Iteration: 6    [0.2287666  0.06522244 0.02494614] z: [0.05721043]\n",
            "Iteration: 7    [0.17876423 0.04422296 0.02908379] z: [0.03475819]\n",
            "Iteration: 8    [0.17876423 0.04422296 0.02908379] z: [0.03475819]\n",
            "Iteration: 9    [0.14675485 0.05444497 0.01446944] z: [0.0247106]\n",
            "Iteration: 10    [ 0.09202584  0.02583425 -0.02522801] z: [0.00977262]\n",
            "Iteration: 11    [ 0.09202584  0.02583425 -0.02522801] z: [0.00977262]\n",
            "Iteration: 12    [ 0.09202584  0.02583425 -0.02522801] z: [0.00977262]\n",
            "Iteration: 13    [-0.01803283  0.04268824  0.04715709] z: [0.00437126]\n",
            "Iteration: 14    [-0.01803283  0.04268824  0.04715709] z: [0.00437126]\n",
            "Iteration: 15    [-0.01803283  0.04268824  0.04715709] z: [0.00437126]\n",
            "Iteration: 16    [-0.00740483 -0.03902996  0.03733275] z: [0.0029719]\n",
            "Iteration: 17    [-0.00740483 -0.03902996  0.03733275] z: [0.0029719]\n",
            "Iteration: 18    [-0.00740483 -0.03902996  0.03733275] z: [0.0029719]\n",
            "Iteration: 19    [-0.00740483 -0.03902996  0.03733275] z: [0.0029719]\n",
            "Iteration: 20    [-0.00740483 -0.03902996  0.03733275] z: [0.0029719]\n",
            "Iteration: 21    [0.04116306 0.03225841 0.00506983] z: [0.00276071]\n",
            "Iteration: 22    [ 0.0012734  -0.04693834 -0.0164876 ] z: [0.00247667]\n",
            "Iteration: 23    [ 0.0012734  -0.04693834 -0.0164876 ] z: [0.00247667]\n",
            "Iteration: 24    [ 0.0012734  -0.04693834 -0.0164876 ] z: [0.00247667]\n",
            "Iteration: 25    [ 0.0012734  -0.04693834 -0.0164876 ] z: [0.00247667]\n",
            "Iteration: 26    [-0.03289189 -0.01240649  0.00010303] z: [0.00123581]\n",
            "Iteration: 27    [-0.03289189 -0.01240649  0.00010303] z: [0.00123581]\n",
            "Iteration: 28    [-0.03289189 -0.01240649  0.00010303] z: [0.00123581]\n",
            "Iteration: 29    [-0.03289189 -0.01240649  0.00010303] z: [0.00123581]\n",
            "Best Solution  x: [-0.03289189 -0.01240649  0.00010303] func: [0.00123581]\n"
          ]
        }
      ]
    },
    {
      "cell_type": "code",
      "source": [
        "np.random.rand(2)"
      ],
      "metadata": {
        "colab": {
          "base_uri": "https://localhost:8080/"
        },
        "id": "KivjztHrdLWY",
        "outputId": "66387edc-e239-43c9-e5e6-3ee92f0bfb78"
      },
      "execution_count": null,
      "outputs": [
        {
          "output_type": "execute_result",
          "data": {
            "text/plain": [
              "array([0.71742121, 0.0172569 ])"
            ]
          },
          "metadata": {},
          "execution_count": 130
        }
      ]
    },
    {
      "cell_type": "code",
      "source": [
        "sph.best_pop"
      ],
      "metadata": {
        "colab": {
          "base_uri": "https://localhost:8080/"
        },
        "id": "ugrWoQj0e1sj",
        "outputId": "fe14a275-f0b3-4308-ac4e-7a2920fe8f94"
      },
      "execution_count": null,
      "outputs": [
        {
          "output_type": "execute_result",
          "data": {
            "text/plain": [
              "array([ 0.03553363, -0.00478674, -0.00090538])"
            ]
          },
          "metadata": {},
          "execution_count": 136
        }
      ]
    },
    {
      "cell_type": "code",
      "source": [
        "# 10dim\n",
        "sph = TestFunctionN(func=(sphere(10),10), num_pop=100, mut_rate=0.1, num_gen=100)\n",
        "sph.run()"
      ],
      "metadata": {
        "id": "6PVq4wFgfpKd",
        "colab": {
          "base_uri": "https://localhost:8080/",
          "height": 1000,
          "referenced_widgets": [
            "0e58cde0486c4eadb7edcf211c968550",
            "7dcdd9eb8fe342ec98e4288d69d1d4c7",
            "5bdfd021a9e84882a4e8c19d7d44208e",
            "b727385d6577478a8ff1a65815c56526",
            "cb881e2bcc58491387f812abf1da3d7a",
            "751ac29886aa424a98e52cef696a1f49",
            "383c5f01c57c44349f8e3abc3a8c12c1",
            "b01080b6843d44aa861c688854b714d6",
            "c55a2a09e87c47ffaae26309a00c02ac",
            "4dc0f0dacc6546fd918e5495591d5f06",
            "5053d27eac5f471e898b33462d98369e"
          ]
        },
        "outputId": "c9ea7a24-8a87-41d5-9e7d-16c1e3f7f205"
      },
      "execution_count": null,
      "outputs": [
        {
          "output_type": "display_data",
          "data": {
            "text/plain": [
              "  0%|          | 0/100 [00:00<?, ?it/s]"
            ],
            "application/vnd.jupyter.widget-view+json": {
              "version_major": 2,
              "version_minor": 0,
              "model_id": "0e58cde0486c4eadb7edcf211c968550"
            }
          },
          "metadata": {}
        },
        {
          "output_type": "stream",
          "name": "stdout",
          "text": [
            "Iteration: 1    [-0.54025379 -1.55832303 -0.71893786 -1.71825186  1.53280784  3.16188152\n",
            " -1.692803    2.17944583  1.38884859 -2.77211151] z: [35.76556936]\n",
            "Iteration: 2    [-0.48888177 -1.43631087 -0.67365365 -1.75410264  1.25122517  3.09638916\n",
            " -1.61685314  2.13570525  1.54215034 -2.71492036] z: [33.91034112]\n",
            "Iteration: 3    [-0.49401299 -1.29269658 -0.78372034 -1.75432329  1.23172562  3.00940519\n",
            " -1.63955315  2.10638827  1.56062774 -2.57618184] z: [32.37792655]\n",
            "Iteration: 4    [-0.31551499 -1.39372086 -0.7275414  -1.67285327  1.13410812  3.02285886\n",
            " -1.62265268  2.08097812  1.46110497 -2.50313231] z: [31.15760976]\n",
            "Iteration: 5    [-0.18285292 -1.45590393 -0.89573498 -1.55127424  1.02148297  2.74929617\n",
            " -1.61620815  1.91869194  1.3952105  -2.57556506] z: [28.83759653]\n",
            "Iteration: 6    [-0.07934109 -1.43293453 -0.87325413 -1.44399366  0.84806802  2.74982751\n",
            " -1.66325512  1.87553404  1.33936755 -2.44804654] z: [27.2589404]\n",
            "Iteration: 7    [-0.17102164 -1.28885298 -0.92316404 -1.44954556  0.8672388   2.7586451\n",
            " -1.58565525  1.76857006  1.24902427 -2.26253495] z: [25.32729916]\n",
            "Iteration: 8    [-0.29999937 -1.21706036 -0.73763559 -1.32005101  0.74824013  2.81950811\n",
            " -1.4370635   1.70005583  1.05818082 -2.17847874] z: [23.18822335]\n",
            "Iteration: 9    [-0.19513226 -1.31346355 -0.67779709 -1.38366636  0.52561572  2.72464473\n",
            " -1.4049668   1.56163879  1.22508119 -1.7902807 ] z: [20.9557417]\n",
            "Iteration: 10    [-0.24220473 -1.34253359 -0.72465547 -1.29345519  0.45556864  2.56758301\n",
            " -1.47119457  1.48536566  1.28376954 -1.67654109] z: [19.68881568]\n",
            "Iteration: 11    [-0.12179816 -1.31560642 -0.72908547 -1.33917897  0.43943537  2.49011129\n",
            " -1.4196267   1.30687529  1.29571475 -1.51343258] z: [18.15699652]\n",
            "Iteration: 12    [-0.12929743 -1.21119609 -0.81567224 -1.46740446  0.38691933  2.43205934\n",
            " -1.30759448  1.15970539  1.34679605 -1.4145232 ] z: [17.23638545]\n",
            "Iteration: 13    [-0.19930624 -1.25719792 -0.87225276 -1.31071974  0.28984262  2.227004\n",
            " -1.3472775   1.06691557  1.35171353 -1.40858318] z: [15.90733776]\n",
            "Iteration: 14    [-0.28384321 -1.09722776 -0.85528245 -1.15865876  0.22260347  2.09618401\n",
            " -1.44117842  1.06469152  1.2893577  -1.54195259] z: [15.05263803]\n",
            "Iteration: 15    [-0.18401041 -1.0660688  -0.87923585 -1.23944503  0.1142835   2.09883594\n",
            " -1.37618951  0.98230203  1.05952415 -1.40689713] z: [13.85858099]\n",
            "Iteration: 16    [-0.22451689 -1.0375957  -0.77148597 -1.22452563  0.01050188  1.97938665\n",
            " -1.28200387  0.99936776  0.99668737 -1.41189109] z: [12.76884009]\n",
            "Iteration: 17    [-0.22451689 -1.0375957  -0.77148597 -1.22452563  0.01050188  1.97938665\n",
            " -1.28200387  0.99936776  0.99668737 -1.41189109] z: [12.76884009]\n",
            "Iteration: 18    [-0.04211576 -1.03560589 -0.50610484 -1.16601072  0.00247624  1.83806533\n",
            " -1.22030756  1.13562472  0.98479958 -1.41033921] z: [11.80614763]\n",
            "Iteration: 19    [-0.02001006 -1.07867362 -0.55427181 -1.22350629  0.02018725  1.75219963\n",
            " -1.07693672  1.05878556  0.80299235 -1.31540567] z: [10.69464151]\n",
            "Iteration: 20    [ 0.06946735 -1.01474307 -0.5547085  -1.10785896  0.06344271  1.71096184\n",
            " -1.12428989  0.85353924  0.86192192 -1.42060795] z: [10.25459092]\n",
            "Iteration: 21    [ 0.06020947 -0.84925236 -0.6289561  -0.99610403  0.006923    1.61373073\n",
            " -1.18643106  0.80687881  0.99143044 -1.28326255] z: [9.40520773]\n",
            "Iteration: 22    [ 0.00498283 -0.80313423 -0.60788744 -0.97291317  0.04473324  1.66419387\n",
            " -1.16542016  0.65222294  1.03417536 -1.23188893] z: [9.10334683]\n",
            "Iteration: 23    [-0.08777725 -0.72200494 -0.58821031 -0.88976102  0.15087987  1.71066456\n",
            " -1.10414858  0.59257889  0.87759969 -1.04248188] z: [8.0430435]\n",
            "Iteration: 24    [-0.25144112 -0.71424979 -0.76475691 -0.57140765  0.27544735  1.57716817\n",
            " -1.03437307  0.69538887  0.87073892 -1.0599081 ] z: [7.48315071]\n",
            "Iteration: 25    [-0.2493638  -0.72068462 -0.63756278 -0.63582637  0.22846593  1.46450463\n",
            " -1.10576868  0.63827184  0.78236384 -1.04798502] z: [6.9297817]\n",
            "Iteration: 26    [-0.36715776 -0.67172409 -0.48974141 -0.73272907  0.22752078  1.32075323\n",
            " -1.08140621  0.62713788  0.80273635 -1.06124248] z: [6.49227398]\n",
            "Iteration: 27    [-0.38669426 -0.74754499 -0.65690914 -0.51173581  0.20606115  1.21910655\n",
            " -0.89497063  0.69463692  0.68235892 -0.89761904] z: [5.4852676]\n",
            "Iteration: 28    [-0.42419663 -0.58989861 -0.54718386 -0.54229059  0.27569948  1.1646794\n",
            " -0.80315123  0.62170297  0.62372588 -0.86637015] z: [4.72509841]\n",
            "Iteration: 29    [-0.4155103  -0.57433783 -0.51536664 -0.42398412  0.05413265  1.14737048\n",
            " -0.83081479  0.53329052  0.53314484 -0.9108608 ] z: [4.35583022]\n",
            "Iteration: 30    [-0.27715084 -0.45650896 -0.46676831 -0.46727489  0.09997733  1.15181239\n",
            " -0.70735218  0.59339735  0.45417035 -0.91151351] z: [3.94769386]\n",
            "Iteration: 31    [-0.44284127 -0.51437089 -0.37363261 -0.22397861  0.12917517  1.05773156\n",
            " -0.47015588  0.59744371  0.4937224  -0.97212843] z: [3.55271686]\n",
            "Iteration: 32    [-0.44686354 -0.5951754  -0.28793348 -0.13832436  0.25070472  0.96586255\n",
            " -0.49646024  0.6175716   0.45265505 -0.76134479] z: [3.06411337]\n",
            "Iteration: 33    [-0.53406802 -0.66174591 -0.42066886 -0.1379758   0.18825335  0.76825693\n",
            " -0.28608323  0.58742525  0.36194862 -0.67016027] z: [2.55182756]\n",
            "Iteration: 34    [-0.47592304 -0.6109527  -0.37931122 -0.20083605  0.12252515  0.79941781\n",
            " -0.31632367  0.56827077  0.21538834 -0.54440326] z: [2.2038187]\n",
            "Iteration: 35    [-0.48017067 -0.34351868 -0.36234644 -0.16431604  0.11291846  0.96725351\n",
            " -0.21499707  0.46241683  0.19831113 -0.58175336] z: [2.09301093]\n",
            "Iteration: 36    [-0.38095851 -0.26903345 -0.32791229 -0.26460031  0.19096639  0.92027152\n",
            " -0.20204399  0.49680371  0.14467256 -0.47560915] z: [1.81318591]\n",
            "Iteration: 37    [-0.33021974 -0.28349658 -0.25829731 -0.32251239  0.19817     0.86239484\n",
            " -0.2600289   0.40797474  0.24311042 -0.43536054] z: [1.62584322]\n",
            "Iteration: 38    [-0.29463733 -0.09792691 -0.16601209 -0.42687396  0.3168893   0.70177766\n",
            " -0.32477773  0.37521694  0.23998668 -0.40080654] z: [1.36360076]\n",
            "Iteration: 39    [-0.29463733 -0.09792691 -0.16601209 -0.42687396  0.3168893   0.70177766\n",
            " -0.32477773  0.37521694  0.23998668 -0.40080654] z: [1.36360076]\n",
            "Iteration: 40    [-0.22861554 -0.253463   -0.22651441 -0.43179789  0.13708804  0.6199602\n",
            " -0.24479137  0.2776085   0.2330028  -0.39082277] z: [1.10143257]\n",
            "Iteration: 41    [-0.12189309 -0.02684238 -0.29594867 -0.52403974 -0.01139052  0.48236984\n",
            " -0.44761998  0.33441026  0.03035931 -0.40450769] z: [1.08733413]\n",
            "Iteration: 42    [-0.24072398 -0.02401893 -0.19029258 -0.3457825   0.04167391  0.30944775\n",
            " -0.38142898  0.32846026  0.12126722 -0.49046251] z: [0.82042979]\n",
            "Iteration: 43    [-0.34466397 -0.068796   -0.20359411 -0.2035552  -0.03977208  0.1244876\n",
            " -0.41787527  0.29329362  0.1251419  -0.48193154] z: [0.7320498]\n",
            "Iteration: 44    [-0.31283394 -0.08625546 -0.24684405 -0.1084276  -0.02499278  0.02607845\n",
            " -0.42632012  0.36391901  0.0355765  -0.3614476 ] z: [0.62539428]\n",
            "Iteration: 45    [-0.32029065 -0.10265808 -0.14212142 -0.06569065  0.00809681  0.00581682\n",
            " -0.21144005  0.30197385  0.08408945 -0.42456033] z: [0.46095554]\n",
            "Iteration: 46    [-0.27976105  0.05196341 -0.21889129 -0.02541669  0.02790097 -0.13309424\n",
            " -0.12915521  0.27344248  0.03419547 -0.32635538] z: [0.34714741]\n",
            "Iteration: 47    [-0.22954886  0.09421401 -0.16169202 -0.19698181  0.03943618 -0.07648254\n",
            " -0.16037773  0.16299607  0.09825329 -0.34889374] z: [0.31758918]\n",
            "Iteration: 48    [-0.10558782  0.18002563  0.01341003 -0.20224856 -0.09411187 -0.0258084\n",
            " -0.09926696  0.29157867 -0.02864113 -0.24332512] z: [0.24906492]\n",
            "Iteration: 49    [-0.05166858  0.15942368 -0.00702437 -0.23081897 -0.02200895 -0.02712881\n",
            " -0.10137634  0.19046663 -0.02883293 -0.1394755 ] z: [0.14947211]\n",
            "Iteration: 50    [-0.05166858  0.15942368 -0.00702437 -0.23081897 -0.02200895 -0.02712881\n",
            " -0.10137634  0.19046663 -0.02883293 -0.1394755 ] z: [0.14947211]\n",
            "Iteration: 51    [-0.05166858  0.15942368 -0.00702437 -0.23081897 -0.02200895 -0.02712881\n",
            " -0.10137634  0.19046663 -0.02883293 -0.1394755 ] z: [0.14947211]\n",
            "Iteration: 52    [-0.00731489  0.18682185  0.03402166 -0.16276301  0.04368012  0.09392241\n",
            " -0.02042265  0.07174832  0.07437369  0.0930557 ] z: [0.09309027]\n",
            "Iteration: 53    [ 0.03153709  0.25168556  0.03744115 -0.00648823 -0.0694332  -0.02717265\n",
            "  0.0147332  -0.02887806  0.05581716  0.05239535] z: [0.0782553]\n",
            "Iteration: 54    [ 0.03153709  0.25168556  0.03744115 -0.00648823 -0.0694332  -0.02717265\n",
            "  0.0147332  -0.02887806  0.05581716  0.05239535] z: [0.0782553]\n",
            "Iteration: 55    [-0.07558515  0.14523877 -0.017461    0.09202078 -0.0689651  -0.00785509\n",
            "  0.00755448 -0.05123819 -0.08431303  0.11195703] z: [0.0627235]\n",
            "Iteration: 56    [ 0.01589163 -0.00282624  0.04060119  0.16290927 -0.07655443  0.03356096\n",
            " -0.05790034  0.0668919  -0.12134831  0.04556256] z: [0.06006367]\n",
            "Iteration: 57    [ 0.01589163 -0.00282624  0.04060119  0.16290927 -0.07655443  0.03356096\n",
            " -0.05790034  0.0668919  -0.12134831  0.04556256] z: [0.06006367]\n",
            "Iteration: 58    [ 0.10553058  0.01975812  0.03353812  0.0368019  -0.02802799  0.07312788\n",
            "  0.01123003  0.13645902 -0.08128746  0.01025007] z: [0.04559942]\n",
            "Iteration: 59    [ 0.10553058  0.01975812  0.03353812  0.0368019  -0.02802799  0.07312788\n",
            "  0.01123003  0.13645902 -0.08128746  0.01025007] z: [0.04559942]\n",
            "Iteration: 60    [ 0.10553058  0.01975812  0.03353812  0.0368019  -0.02802799  0.07312788\n",
            "  0.01123003  0.13645902 -0.08128746  0.01025007] z: [0.04559942]\n",
            "Iteration: 61    [-0.07601104  0.12051929  0.05958203 -0.00672468 -0.08614525  0.02914257\n",
            " -0.05230963  0.04129487 -0.07987694 -0.04721659] z: [0.04521941]\n",
            "Iteration: 62    [-0.07601104  0.12051929  0.05958203 -0.00672468 -0.08614525  0.02914257\n",
            " -0.05230963  0.04129487 -0.07987694 -0.04721659] z: [0.04521941]\n",
            "Iteration: 63    [-0.07601104  0.12051929  0.05958203 -0.00672468 -0.08614525  0.02914257\n",
            " -0.05230963  0.04129487 -0.07987694 -0.04721659] z: [0.04521941]\n",
            "Iteration: 64    [-0.07601104  0.12051929  0.05958203 -0.00672468 -0.08614525  0.02914257\n",
            " -0.05230963  0.04129487 -0.07987694 -0.04721659] z: [0.04521941]\n",
            "Iteration: 65    [-0.07601104  0.12051929  0.05958203 -0.00672468 -0.08614525  0.02914257\n",
            " -0.05230963  0.04129487 -0.07987694 -0.04721659] z: [0.04521941]\n",
            "Iteration: 66    [-0.07601104  0.12051929  0.05958203 -0.00672468 -0.08614525  0.02914257\n",
            " -0.05230963  0.04129487 -0.07987694 -0.04721659] z: [0.04521941]\n",
            "Iteration: 67    [-0.07601104  0.12051929  0.05958203 -0.00672468 -0.08614525  0.02914257\n",
            " -0.05230963  0.04129487 -0.07987694 -0.04721659] z: [0.04521941]\n",
            "Iteration: 68    [-0.07601104  0.12051929  0.05958203 -0.00672468 -0.08614525  0.02914257\n",
            " -0.05230963  0.04129487 -0.07987694 -0.04721659] z: [0.04521941]\n",
            "Iteration: 69    [-0.07601104  0.12051929  0.05958203 -0.00672468 -0.08614525  0.02914257\n",
            " -0.05230963  0.04129487 -0.07987694 -0.04721659] z: [0.04521941]\n",
            "Iteration: 70    [-0.07601104  0.12051929  0.05958203 -0.00672468 -0.08614525  0.02914257\n",
            " -0.05230963  0.04129487 -0.07987694 -0.04721659] z: [0.04521941]\n",
            "Iteration: 71    [-0.07601104  0.12051929  0.05958203 -0.00672468 -0.08614525  0.02914257\n",
            " -0.05230963  0.04129487 -0.07987694 -0.04721659] z: [0.04521941]\n",
            "Iteration: 72    [-0.00048697 -0.09519742  0.03144693 -0.01314701 -0.04414341  0.03702875\n",
            " -0.06009689 -0.01113189  0.10589555  0.03079305] z: [0.02944194]\n",
            "Iteration: 73    [-0.00048697 -0.09519742  0.03144693 -0.01314701 -0.04414341  0.03702875\n",
            " -0.06009689 -0.01113189  0.10589555  0.03079305] z: [0.02944194]\n",
            "Iteration: 74    [-0.00048697 -0.09519742  0.03144693 -0.01314701 -0.04414341  0.03702875\n",
            " -0.06009689 -0.01113189  0.10589555  0.03079305] z: [0.02944194]\n",
            "Iteration: 75    [-0.00048697 -0.09519742  0.03144693 -0.01314701 -0.04414341  0.03702875\n",
            " -0.06009689 -0.01113189  0.10589555  0.03079305] z: [0.02944194]\n",
            "Iteration: 76    [-0.00048697 -0.09519742  0.03144693 -0.01314701 -0.04414341  0.03702875\n",
            " -0.06009689 -0.01113189  0.10589555  0.03079305] z: [0.02944194]\n",
            "Iteration: 77    [-0.00048697 -0.09519742  0.03144693 -0.01314701 -0.04414341  0.03702875\n",
            " -0.06009689 -0.01113189  0.10589555  0.03079305] z: [0.02944194]\n",
            "Iteration: 78    [-0.00048697 -0.09519742  0.03144693 -0.01314701 -0.04414341  0.03702875\n",
            " -0.06009689 -0.01113189  0.10589555  0.03079305] z: [0.02944194]\n",
            "Iteration: 79    [-0.00048697 -0.09519742  0.03144693 -0.01314701 -0.04414341  0.03702875\n",
            " -0.06009689 -0.01113189  0.10589555  0.03079305] z: [0.02944194]\n",
            "Iteration: 80    [-0.00048697 -0.09519742  0.03144693 -0.01314701 -0.04414341  0.03702875\n",
            " -0.06009689 -0.01113189  0.10589555  0.03079305] z: [0.02944194]\n",
            "Iteration: 81    [-0.00048697 -0.09519742  0.03144693 -0.01314701 -0.04414341  0.03702875\n",
            " -0.06009689 -0.01113189  0.10589555  0.03079305] z: [0.02944194]\n",
            "Iteration: 82    [-0.00048697 -0.09519742  0.03144693 -0.01314701 -0.04414341  0.03702875\n",
            " -0.06009689 -0.01113189  0.10589555  0.03079305] z: [0.02944194]\n",
            "Iteration: 83    [-0.00048697 -0.09519742  0.03144693 -0.01314701 -0.04414341  0.03702875\n",
            " -0.06009689 -0.01113189  0.10589555  0.03079305] z: [0.02944194]\n",
            "Iteration: 84    [-0.00048697 -0.09519742  0.03144693 -0.01314701 -0.04414341  0.03702875\n",
            " -0.06009689 -0.01113189  0.10589555  0.03079305] z: [0.02944194]\n",
            "Iteration: 85    [-0.00048697 -0.09519742  0.03144693 -0.01314701 -0.04414341  0.03702875\n",
            " -0.06009689 -0.01113189  0.10589555  0.03079305] z: [0.02944194]\n",
            "Iteration: 86    [-0.00048697 -0.09519742  0.03144693 -0.01314701 -0.04414341  0.03702875\n",
            " -0.06009689 -0.01113189  0.10589555  0.03079305] z: [0.02944194]\n",
            "Iteration: 87    [-0.00048697 -0.09519742  0.03144693 -0.01314701 -0.04414341  0.03702875\n",
            " -0.06009689 -0.01113189  0.10589555  0.03079305] z: [0.02944194]\n",
            "Iteration: 88    [-0.00048697 -0.09519742  0.03144693 -0.01314701 -0.04414341  0.03702875\n",
            " -0.06009689 -0.01113189  0.10589555  0.03079305] z: [0.02944194]\n",
            "Iteration: 89    [-0.00048697 -0.09519742  0.03144693 -0.01314701 -0.04414341  0.03702875\n",
            " -0.06009689 -0.01113189  0.10589555  0.03079305] z: [0.02944194]\n",
            "Iteration: 90    [-0.00048697 -0.09519742  0.03144693 -0.01314701 -0.04414341  0.03702875\n",
            " -0.06009689 -0.01113189  0.10589555  0.03079305] z: [0.02944194]\n",
            "Iteration: 91    [-0.00048697 -0.09519742  0.03144693 -0.01314701 -0.04414341  0.03702875\n",
            " -0.06009689 -0.01113189  0.10589555  0.03079305] z: [0.02944194]\n",
            "Iteration: 92    [-0.00048697 -0.09519742  0.03144693 -0.01314701 -0.04414341  0.03702875\n",
            " -0.06009689 -0.01113189  0.10589555  0.03079305] z: [0.02944194]\n",
            "Iteration: 93    [-0.00048697 -0.09519742  0.03144693 -0.01314701 -0.04414341  0.03702875\n",
            " -0.06009689 -0.01113189  0.10589555  0.03079305] z: [0.02944194]\n",
            "Iteration: 94    [-0.00048697 -0.09519742  0.03144693 -0.01314701 -0.04414341  0.03702875\n",
            " -0.06009689 -0.01113189  0.10589555  0.03079305] z: [0.02944194]\n",
            "Iteration: 95    [-0.00048697 -0.09519742  0.03144693 -0.01314701 -0.04414341  0.03702875\n",
            " -0.06009689 -0.01113189  0.10589555  0.03079305] z: [0.02944194]\n",
            "Iteration: 96    [-0.00048697 -0.09519742  0.03144693 -0.01314701 -0.04414341  0.03702875\n",
            " -0.06009689 -0.01113189  0.10589555  0.03079305] z: [0.02944194]\n",
            "Iteration: 97    [-0.00048697 -0.09519742  0.03144693 -0.01314701 -0.04414341  0.03702875\n",
            " -0.06009689 -0.01113189  0.10589555  0.03079305] z: [0.02944194]\n",
            "Iteration: 98    [-0.00048697 -0.09519742  0.03144693 -0.01314701 -0.04414341  0.03702875\n",
            " -0.06009689 -0.01113189  0.10589555  0.03079305] z: [0.02944194]\n",
            "Iteration: 99    [-0.00048697 -0.09519742  0.03144693 -0.01314701 -0.04414341  0.03702875\n",
            " -0.06009689 -0.01113189  0.10589555  0.03079305] z: [0.02944194]\n",
            "Iteration: 100    [-0.00048697 -0.09519742  0.03144693 -0.01314701 -0.04414341  0.03702875\n",
            " -0.06009689 -0.01113189  0.10589555  0.03079305] z: [0.02944194]\n",
            "Best Solution  x: [-0.00048697 -0.09519742  0.03144693 -0.01314701 -0.04414341  0.03702875\n",
            " -0.06009689 -0.01113189  0.10589555  0.03079305] func: [0.02944194]\n"
          ]
        }
      ]
    },
    {
      "cell_type": "markdown",
      "source": [
        "# nDim"
      ],
      "metadata": {
        "id": "rgCnj4F-EwtE"
      }
    },
    {
      "cell_type": "code",
      "source": [
        "import time\n",
        "time.strftime(\"%a_%d_%b_%Y_%H_%M_%S\")"
      ],
      "metadata": {
        "colab": {
          "base_uri": "https://localhost:8080/",
          "height": 36
        },
        "id": "SK7WOUUw6VrJ",
        "outputId": "3e987233-45e7-47b4-d5e1-2ac351b10abf"
      },
      "execution_count": null,
      "outputs": [
        {
          "output_type": "execute_result",
          "data": {
            "text/plain": [
              "'Fri_21_Apr_2023_03_48_40'"
            ],
            "application/vnd.google.colaboratory.intrinsic+json": {
              "type": "string"
            }
          },
          "metadata": {},
          "execution_count": 12
        }
      ]
    },
    {
      "cell_type": "code",
      "source": [
        "import numpy as np\n",
        "from tqdm.auto import tqdm\n",
        "import matplotlib.pyplot as plt\n",
        "%matplotlib notebook\n",
        "%matplotlib inline\n",
        "%config InlineBackend.figure_formats = 'svg'\n",
        "import time\n",
        "class TestFunctionN:\n",
        "    def __init__(self, func, num_pop=50, mut_rate=0.1, range=np.array([-5, 5]), minimize=True, \n",
        "                 crossover_method='uniform', crossover_prob=0.85, \n",
        "                 selection_method='roulette_wheel', tournament_size=10,\n",
        "                 mutation_method='gaussian', eta=np.random.randint(5, 20),\n",
        "                 elitism=True):\n",
        "        self.func = func[0]\n",
        "        self.ndim = func[1]\n",
        "        self.pop = None\n",
        "        self.num_pop = num_pop\n",
        "        self.mut_rate = mut_rate\n",
        "        self.best_pop = None\n",
        "        self.range = range\n",
        "        self.x = np.linspace(*self.range, 100)\n",
        "        self.y = np.linspace(*self.range, 100)\n",
        "        self.minimize = minimize\n",
        "        self.crossover_method = crossover_method\n",
        "        self.crossover_probability = crossover_prob\n",
        "        self.selection_method = selection_method\n",
        "        self.tournament_size = tournament_size\n",
        "        self.mutation_method = mutation_method\n",
        "        self.eta = eta\n",
        "        self.elitism = elitism\n",
        "        self.history = list()\n",
        "\n",
        "    def _generate_init_(self):\n",
        "        # Generate an initial population of random solutions\n",
        "        self.pop = np.random.rand(self.num_pop, self.ndim) * 10 - self.range[1]\n",
        "    \n",
        "    # Define the fitness function\n",
        "    def fitness(self):\n",
        "        if self.minimize:\n",
        "            return -self.func(self.pop)\n",
        "        else:\n",
        "            return self.func(self.pop)\n",
        "\n",
        "    # Define the roulette wheel selection method\n",
        "    def roulette_wheel_selection(self, fitness):\n",
        "        total_fitness = np.sum(fitness)\n",
        "        selection_probs = fitness / total_fitness\n",
        "        selected_idx = np.random.choice(np.arange(self.num_pop), p=selection_probs)\n",
        "        return self.pop[selected_idx]\n",
        "\n",
        "    # Define the tournament selection method\n",
        "    def tournament_selection(self, fitness):\n",
        "        # tournament_size = int(self.num_pop * 0.1)\n",
        "        selected_idx = np.random.choice(np.arange(self.num_pop), size=self.tournament_size, replace=False)\n",
        "        tournament_fitness = fitness[selected_idx]\n",
        "        return self.pop[selected_idx[np.argmax(tournament_fitness)]]\n",
        "\n",
        "    # Define the rank based selection method\n",
        "    def rank_based_selection(fitness, num_parents):\n",
        "        ranked_fitness = np.argsort(np.argsort(-fitness)) # rank fitness in descending order\n",
        "        selection_prob = ranked_fitness / np.sum(ranked_fitness) # calculate selection probabilities\n",
        "        selected_indices = np.random.choices(range(len(fitness)), selection_prob, k=num_parents) # select indices based on probabilities\n",
        "        return selected_indices\n",
        "    \n",
        "    # Define the uniform crossover method\n",
        "    def uniform_crossover(self, parents):\n",
        "        child = np.zeros(self.ndim)\n",
        "        for i in range(self.ndim):\n",
        "            if np.random.rand() < 0.5:\n",
        "                child[i] = parents[0][i]\n",
        "            else:\n",
        "                child[i] = parents[1][i]\n",
        "        return child\n",
        "    \n",
        "    # Define the single point crossover method\n",
        "    def single_point_crossover(self, parents):\n",
        "        child = np.zeros(self.ndim)\n",
        "        crossover_point = np.random.randint(self.ndim)\n",
        "        child[:crossover_point] = parents[0][:crossover_point]\n",
        "        child[crossover_point:] = parents[1][crossover_point:]\n",
        "        return child\n",
        "    \n",
        "    # Define the arithmetic crossover method\n",
        "    def arithmetic_crossover(self, parents):\n",
        "        alpha = np.random.uniform(0, 1)\n",
        "        child = alpha * parents[0] + (1 - alpha) * parents[1]\n",
        "        return child\n",
        "    \n",
        "    # Define the gaussian mutation method\n",
        "    def gaussian_mutation(self, child):\n",
        "        child += np.random.randn(self.ndim) * self.mut_rate\n",
        "        return child\n",
        "\n",
        "    # Define the polynomial mutation method\n",
        "    def polynomial_mutation(self, child):\n",
        "        eta = self.eta\n",
        "        lower_bound = self.range[0]\n",
        "        upper_bound = self.range[1]\n",
        "        for i in range(self.ndim):\n",
        "            r = np.random.rand()\n",
        "            if r < 0.5:\n",
        "                delta = (2 * r) ** (1 / (eta + 1)) - 1\n",
        "            else:\n",
        "                delta = 1 - (2 * (1 - r)) ** (1 / (eta + 1))\n",
        "            child[i] = np.clip(child[i] + delta * (upper_bound - lower_bound), lower_bound, upper_bound)\n",
        "        return child\n",
        "\n",
        "    # Define the mutation function\n",
        "    def mutation(self, child):\n",
        "        if self.mutation_method == 'gaussian':\n",
        "            return self.gaussian_mutation(child)\n",
        "        elif self.mutation_method == 'polynomial':\n",
        "            # Polynomial mutation\n",
        "            return self.polynomial_mutation(child)\n",
        "        else:\n",
        "            raise ValueError('Invalid mutation method selected!')\n",
        "\n",
        "    # Define the crossover function\n",
        "    def crossover(self, parents):\n",
        "        if self.crossover_method == 'uniform':\n",
        "            # Uniform crossover\n",
        "            return  self.uniform_crossover(parents)\n",
        "        elif self.crossover_method == 'single_point':\n",
        "            # Single point crossover\n",
        "            return self.single_point_crossover(parents)\n",
        "        elif self.crossover_method == 'arithmetic':\n",
        "            # Arithmetic crossover\n",
        "            return self.arithmetic_crossover(parents)\n",
        "        else:\n",
        "            raise ValueError('Invalid crossover method selected!')\n",
        "\n",
        "    # Define the selection function\n",
        "    def selection(self, fitness):\n",
        "        if self.selection_method == 'roulette_wheel':\n",
        "            # Roulette wheel selection\n",
        "            parent1 = self.roulette_wheel_selection(fitness)\n",
        "            parent2 = self.roulette_wheel_selection(fitness)\n",
        "        elif self.selection_method == 'tournament':\n",
        "            # Tournament selection\n",
        "            parent1 = self.tournament_selection(fitness)\n",
        "            parent2 = self.tournament_selection(fitness)\n",
        "        elif self.selection_method == \"rank_based\":\n",
        "            parent1, parent2 = self.pop[self.rank_based_selection(fitness, 2)]\n",
        "        else:\n",
        "            raise ValueError('Invalid selection method selected!')\n",
        "        return parent1, parent2\n",
        "    \n",
        "    # Define the plot history function\n",
        "    def plot_history(self, num_gen):\n",
        "        x = np.arange(1, num_gen+1)\n",
        "        fig = plt.figure(dpi=100)\n",
        "        plt.plot(x, self.history)\n",
        "        plt.xlabel(\"number of generations\")\n",
        "        plt.ylabel(\"history\")\n",
        "        plt.title(\"Convergence History\")\n",
        "        plt.plot(x,np.zeros(x.shape))\n",
        "        plt.plot(np.ones(x.shape)*x[np.argmin(self.history)], self.history)\n",
        "        minima = np.array([x[np.argmin(self.history)], np.min(self.history)])\n",
        "        plt.annotate(f'Best Solution {np.argmin(self.history)+1}', xy=minima+0.1, xytext=minima+0.5)\n",
        "        plt.legend([\"fitness\", \"actual minima\", \"best soution\"])\n",
        "        plt.savefig(f'ch_{str(self.func).split()[1]}_{time.strftime(\"%a_%d_%b_%Y_%H_%M_%S\")}.png', dpi=250, format='png')\n",
        "        # plt.pause(10)     # not requires in jupyter notebook\n",
        "\n",
        "\n",
        "    # Define the main genetic algorithm function\n",
        "    def evolve(self, generations, plot_history=True):\n",
        "        # Generate an initial population\n",
        "        self._generate_init_()\n",
        "        \n",
        "        # Evaluate the fitness of the initial population\n",
        "        fitness = self.fitness()\n",
        "        # if self.minimize:\n",
        "        #     self.best_pop = self.pop[np.argmin(fitness)]\n",
        "        # else:\n",
        "        #     self.best_pop = self.pop[np.argmax(fitness)]\n",
        "        # the above condition check not required in fitness we are taking care of \n",
        "        # this condition\n",
        "        self.best_pop = self.pop[np.argmax(fitness)]\n",
        "        \n",
        "        # Run the genetic algorithm for the specified number of generations\n",
        "        for i in tqdm(range(generations)):\n",
        "            # Create a new population by performing selection, crossover, and mutation\n",
        "            new_pop = []\n",
        "            if self.elitism:\n",
        "                new_pop.append(self.best_pop)\n",
        "                new_pop.append(self.best_pop)\n",
        "            for j in range(self.num_pop // 2 - int(self.elitism)):\n",
        "                parent1, parent2 = self.selection(fitness)\n",
        "                if np.random.rand() < self.crossover_probability:\n",
        "                    child1 = self.crossover([parent1, parent2])\n",
        "                    child2 = self.crossover([parent2, parent1])\n",
        "                else:\n",
        "                    child1, child2 = parent1, parent2\n",
        "                child1 = self.mutation(child1)\n",
        "                child2 = self.mutation(child2)\n",
        "                new_pop.append(child1)\n",
        "                new_pop.append(child2)\n",
        "            \n",
        "            # Update the current population\n",
        "            self.pop = np.array(new_pop)\n",
        "            \n",
        "            # Evaluate the fitness of the new population\n",
        "            fitness = self.fitness()\n",
        "            current_best = self.pop[np.argmax(fitness)]\n",
        "            \n",
        "            # Update the best population\n",
        "            if self.minimize:\n",
        "                if (self.func(current_best) < self.func(self.best_pop)):\n",
        "                    self.best_pop = current_best\n",
        "            else:\n",
        "                if (self.func(current_best) > self.func(self.best_pop)):\n",
        "                    self.best_pop = current_best\n",
        "            self.history.append(self.func(self.best_pop))\n",
        "            print(f\"Iteration {i+1}: x: {self.best_pop}, z: {self.func(self.best_pop)}\")\n",
        "        print(f\"Best Solution: x: {self.best_pop}, z: {self.func(self.best_pop)}\")\n",
        "        if plot_history:\n",
        "            self.plot_history(generations)\n",
        "        return self.best_pop"
      ],
      "metadata": {
        "id": "oo4lIetwEy8F"
      },
      "execution_count": 16,
      "outputs": []
    },
    {
      "cell_type": "code",
      "source": [
        "# ---------------- Sphere -----------------------\n",
        "def Sphere(x):\n",
        "\ttry:\n",
        "\t\tout = np.zeros(x[:,0].shape, dtype=x.dtype)\n",
        "\t\tfor i in range(x.shape[1]):\n",
        "\t\t\tout+=(x[:, i]**2)\n",
        "\t\treturn out\n",
        "\texcept:\n",
        "\t\treturn np.sum(np.array([i**2 for i in x]))"
      ],
      "metadata": {
        "id": "YdfEWLJkQx9t"
      },
      "execution_count": 17,
      "outputs": []
    },
    {
      "cell_type": "code",
      "source": [
        "spht = TestFunctionN(func=(Sphere,3), crossover_method='single_point' \\\n",
        "                     , selection_method='tournament', mutation_method='polynomial', eta=20)\n",
        "spht.evolve(50)"
      ],
      "metadata": {
        "colab": {
          "base_uri": "https://localhost:8080/",
          "height": 1000,
          "referenced_widgets": [
            "61fff4509132495fbb42e5ba844f7472",
            "612aaa6e54d64dea85030f327c00c500",
            "3494246b512a4d3eaf8a7f5e6b3d63e8",
            "5acc4e1b4e9549829dcbcaa8bd7cba29",
            "4fd72421b5f44360afee238c9ecae59a",
            "7b966d6fe4bc480ab3b646d90677ab9b",
            "5ae730bf18e848f1bb386ab8775abbb8",
            "b9d72e89bb3d47db9a4c3df965832c3e",
            "8e1c04e1b6484ce48add18cfd997545f",
            "96e6a838cbb442428d4691388d107b4d",
            "44deb6f06f9143d0b134e13fa55c476f"
          ]
        },
        "id": "khrOpAqNNQmg",
        "outputId": "861b9776-82da-46e7-f7c8-7ed06303919a"
      },
      "execution_count": 21,
      "outputs": [
        {
          "output_type": "display_data",
          "data": {
            "text/plain": [
              "  0%|          | 0/50 [00:00<?, ?it/s]"
            ],
            "application/vnd.jupyter.widget-view+json": {
              "version_major": 2,
              "version_minor": 0,
              "model_id": "61fff4509132495fbb42e5ba844f7472"
            }
          },
          "metadata": {}
        },
        {
          "output_type": "stream",
          "name": "stdout",
          "text": [
            "Iteration 1: x: [0.11893178 0.85323389 0.82218222], z: 1.4181364401702283\n",
            "Iteration 2: x: [ 0.14032431 -0.08659853  0.05105857], z: 0.029797194316930564\n",
            "Iteration 3: x: [ 0.14032431 -0.08659853  0.05105857], z: 0.029797194316930564\n",
            "Iteration 4: x: [ 0.14032431 -0.08659853  0.05105857], z: 0.029797194316930564\n",
            "Iteration 5: x: [ 0.14032431 -0.08659853  0.05105857], z: 0.029797194316930564\n",
            "Iteration 6: x: [ 0.14032431 -0.08659853  0.05105857], z: 0.029797194316930564\n",
            "Iteration 7: x: [ 0.0295028  -0.08176944 -0.12506664], z: 0.023198320990843915\n",
            "Iteration 8: x: [-0.04195024 -0.01333105  0.00777044], z: 0.0019979191218108846\n",
            "Iteration 9: x: [-0.24345872 -0.13391842  0.06496053], z: 0.08142616154437388\n",
            "Iteration 10: x: [-0.23493643 -0.11724781  0.01562205], z: 0.06918622377307619\n",
            "Iteration 11: x: [0.00277896 0.13567318 0.20014922], z: 0.05847464641066068\n",
            "Iteration 12: x: [ 0.1119296  -0.02028479 -0.06789818], z: 0.01754987051272709\n",
            "Iteration 13: x: [-0.05393323 -0.09925876 -0.0207713 ], z: 0.013192541393923441\n",
            "Iteration 14: x: [-0.06037399 -0.06114631 -0.12841872], z: 0.023875257907811524\n",
            "Iteration 15: x: [-0.06037399 -0.06114631 -0.12841872], z: 0.023875257907811524\n",
            "Iteration 16: x: [-0.06037399 -0.06114631 -0.12841872], z: 0.023875257907811524\n",
            "Iteration 17: x: [-0.02907697  0.06952216  0.04158433], z: 0.007408057413761607\n",
            "Iteration 18: x: [-0.02907697  0.06952216  0.04158433], z: 0.007408057413761607\n",
            "Iteration 19: x: [-0.02907697  0.06952216  0.04158433], z: 0.007408057413761607\n",
            "Iteration 20: x: [-0.02907697  0.06952216  0.04158433], z: 0.007408057413761607\n",
            "Iteration 21: x: [-0.02907697  0.06952216  0.04158433], z: 0.007408057413761607\n",
            "Iteration 22: x: [-0.02907697  0.06952216  0.04158433], z: 0.007408057413761607\n",
            "Iteration 23: x: [-0.02907697  0.06952216  0.04158433], z: 0.007408057413761607\n",
            "Iteration 24: x: [-0.02907697  0.06952216  0.04158433], z: 0.007408057413761607\n",
            "Iteration 25: x: [-0.02907697  0.06952216  0.04158433], z: 0.007408057413761607\n",
            "Iteration 26: x: [-0.02907697  0.06952216  0.04158433], z: 0.007408057413761607\n",
            "Iteration 27: x: [-0.02907697  0.06952216  0.04158433], z: 0.007408057413761607\n",
            "Iteration 28: x: [-0.02907697  0.06952216  0.04158433], z: 0.007408057413761607\n",
            "Iteration 29: x: [-0.02907697  0.06952216  0.04158433], z: 0.007408057413761607\n",
            "Iteration 30: x: [-0.02907697  0.06952216  0.04158433], z: 0.007408057413761607\n",
            "Iteration 31: x: [-0.02907697  0.06952216  0.04158433], z: 0.007408057413761607\n",
            "Iteration 32: x: [-0.02907697  0.06952216  0.04158433], z: 0.007408057413761607\n",
            "Iteration 33: x: [-0.02907697  0.06952216  0.04158433], z: 0.007408057413761607\n",
            "Iteration 34: x: [-0.02907697  0.06952216  0.04158433], z: 0.007408057413761607\n",
            "Iteration 35: x: [-0.02907697  0.06952216  0.04158433], z: 0.007408057413761607\n",
            "Iteration 36: x: [-0.02907697  0.06952216  0.04158433], z: 0.007408057413761607\n",
            "Iteration 37: x: [-0.02907697  0.06952216  0.04158433], z: 0.007408057413761607\n",
            "Iteration 38: x: [-0.02907697  0.06952216  0.04158433], z: 0.007408057413761607\n",
            "Iteration 39: x: [-0.02907697  0.06952216  0.04158433], z: 0.007408057413761607\n",
            "Iteration 40: x: [-0.02907697  0.06952216  0.04158433], z: 0.007408057413761607\n",
            "Iteration 41: x: [-0.02907697  0.06952216  0.04158433], z: 0.007408057413761607\n",
            "Iteration 42: x: [-0.02907697  0.06952216  0.04158433], z: 0.007408057413761607\n",
            "Iteration 43: x: [-0.02907697  0.06952216  0.04158433], z: 0.007408057413761607\n",
            "Iteration 44: x: [-0.02907697  0.06952216  0.04158433], z: 0.007408057413761607\n",
            "Iteration 45: x: [-0.02907697  0.06952216  0.04158433], z: 0.007408057413761607\n",
            "Iteration 46: x: [-0.02907697  0.06952216  0.04158433], z: 0.007408057413761607\n",
            "Iteration 47: x: [-0.02907697  0.06952216  0.04158433], z: 0.007408057413761607\n",
            "Iteration 48: x: [-0.02907697  0.06952216  0.04158433], z: 0.007408057413761607\n",
            "Iteration 49: x: [-0.02907697  0.06952216  0.04158433], z: 0.007408057413761607\n",
            "Iteration 50: x: [-0.02907697  0.06952216  0.04158433], z: 0.007408057413761607\n",
            "Best Solution: x: [-0.02907697  0.06952216  0.04158433], z: 0.007408057413761607\n"
          ]
        },
        {
          "output_type": "execute_result",
          "data": {
            "text/plain": [
              "array([-0.02907697,  0.06952216,  0.04158433])"
            ]
          },
          "metadata": {},
          "execution_count": 21
        },
        {
          "output_type": "display_data",
          "data": {
            "text/plain": [
              "<Figure size 640x480 with 1 Axes>"
            ],
            "image/svg+xml": "<?xml version=\"1.0\" encoding=\"utf-8\" standalone=\"no\"?>\n<!DOCTYPE svg PUBLIC \"-//W3C//DTD SVG 1.1//EN\"\n  \"http://www.w3.org/Graphics/SVG/1.1/DTD/svg11.dtd\">\n<svg xmlns:xlink=\"http://www.w3.org/1999/xlink\" width=\"408.10125pt\" height=\"325.986375pt\" viewBox=\"0 0 408.10125 325.986375\" xmlns=\"http://www.w3.org/2000/svg\" version=\"1.1\">\n <metadata>\n  <rdf:RDF xmlns:dc=\"http://purl.org/dc/elements/1.1/\" xmlns:cc=\"http://creativecommons.org/ns#\" xmlns:rdf=\"http://www.w3.org/1999/02/22-rdf-syntax-ns#\">\n   <cc:Work>\n    <dc:type rdf:resource=\"http://purl.org/dc/dcmitype/StillImage\"/>\n    <dc:date>2023-04-22T06:05:58.667188</dc:date>\n    <dc:format>image/svg+xml</dc:format>\n    <dc:creator>\n     <cc:Agent>\n      <dc:title>Matplotlib v3.7.1, https://matplotlib.org/</dc:title>\n     </cc:Agent>\n    </dc:creator>\n   </cc:Work>\n  </rdf:RDF>\n </metadata>\n <defs>\n  <style type=\"text/css\">*{stroke-linejoin: round; stroke-linecap: butt}</style>\n </defs>\n <g id=\"figure_1\">\n  <g id=\"patch_1\">\n   <path d=\"M 0 325.986375 \nL 408.10125 325.986375 \nL 408.10125 0 \nL 0 0 \nz\n\" style=\"fill: #ffffff\"/>\n  </g>\n  <g id=\"axes_1\">\n   <g id=\"patch_2\">\n    <path d=\"M 43.78125 288.430125 \nL 400.90125 288.430125 \nL 400.90125 22.318125 \nL 43.78125 22.318125 \nz\n\" style=\"fill: #ffffff\"/>\n   </g>\n   <g id=\"matplotlib.axis_1\">\n    <g id=\"xtick_1\">\n     <g id=\"line2d_1\">\n      <defs>\n       <path id=\"mf283c02b64\" d=\"M 0 0 \nL 0 3.5 \n\" style=\"stroke: #000000; stroke-width: 0.8\"/>\n      </defs>\n      <g>\n       <use xlink:href=\"#mf283c02b64\" x=\"53.388374\" y=\"288.430125\" style=\"stroke: #000000; stroke-width: 0.8\"/>\n      </g>\n     </g>\n     <g id=\"text_1\">\n      <!-- 0 -->\n      <g transform=\"translate(50.207124 303.028562) scale(0.1 -0.1)\">\n       <defs>\n        <path id=\"DejaVuSans-30\" d=\"M 2034 4250 \nQ 1547 4250 1301 3770 \nQ 1056 3291 1056 2328 \nQ 1056 1369 1301 889 \nQ 1547 409 2034 409 \nQ 2525 409 2770 889 \nQ 3016 1369 3016 2328 \nQ 3016 3291 2770 3770 \nQ 2525 4250 2034 4250 \nz\nM 2034 4750 \nQ 2819 4750 3233 4129 \nQ 3647 3509 3647 2328 \nQ 3647 1150 3233 529 \nQ 2819 -91 2034 -91 \nQ 1250 -91 836 529 \nQ 422 1150 422 2328 \nQ 422 3509 836 4129 \nQ 1250 4750 2034 4750 \nz\n\" transform=\"scale(0.015625)\"/>\n       </defs>\n       <use xlink:href=\"#DejaVuSans-30\"/>\n      </g>\n     </g>\n    </g>\n    <g id=\"xtick_2\">\n     <g id=\"line2d_2\">\n      <g>\n       <use xlink:href=\"#mf283c02b64\" x=\"119.644404\" y=\"288.430125\" style=\"stroke: #000000; stroke-width: 0.8\"/>\n      </g>\n     </g>\n     <g id=\"text_2\">\n      <!-- 10 -->\n      <g transform=\"translate(113.281904 303.028562) scale(0.1 -0.1)\">\n       <defs>\n        <path id=\"DejaVuSans-31\" d=\"M 794 531 \nL 1825 531 \nL 1825 4091 \nL 703 3866 \nL 703 4441 \nL 1819 4666 \nL 2450 4666 \nL 2450 531 \nL 3481 531 \nL 3481 0 \nL 794 0 \nL 794 531 \nz\n\" transform=\"scale(0.015625)\"/>\n       </defs>\n       <use xlink:href=\"#DejaVuSans-31\"/>\n       <use xlink:href=\"#DejaVuSans-30\" x=\"63.623047\"/>\n      </g>\n     </g>\n    </g>\n    <g id=\"xtick_3\">\n     <g id=\"line2d_3\">\n      <g>\n       <use xlink:href=\"#mf283c02b64\" x=\"185.900434\" y=\"288.430125\" style=\"stroke: #000000; stroke-width: 0.8\"/>\n      </g>\n     </g>\n     <g id=\"text_3\">\n      <!-- 20 -->\n      <g transform=\"translate(179.537934 303.028562) scale(0.1 -0.1)\">\n       <defs>\n        <path id=\"DejaVuSans-32\" d=\"M 1228 531 \nL 3431 531 \nL 3431 0 \nL 469 0 \nL 469 531 \nQ 828 903 1448 1529 \nQ 2069 2156 2228 2338 \nQ 2531 2678 2651 2914 \nQ 2772 3150 2772 3378 \nQ 2772 3750 2511 3984 \nQ 2250 4219 1831 4219 \nQ 1534 4219 1204 4116 \nQ 875 4013 500 3803 \nL 500 4441 \nQ 881 4594 1212 4672 \nQ 1544 4750 1819 4750 \nQ 2544 4750 2975 4387 \nQ 3406 4025 3406 3419 \nQ 3406 3131 3298 2873 \nQ 3191 2616 2906 2266 \nQ 2828 2175 2409 1742 \nQ 1991 1309 1228 531 \nz\n\" transform=\"scale(0.015625)\"/>\n       </defs>\n       <use xlink:href=\"#DejaVuSans-32\"/>\n       <use xlink:href=\"#DejaVuSans-30\" x=\"63.623047\"/>\n      </g>\n     </g>\n    </g>\n    <g id=\"xtick_4\">\n     <g id=\"line2d_4\">\n      <g>\n       <use xlink:href=\"#mf283c02b64\" x=\"252.156463\" y=\"288.430125\" style=\"stroke: #000000; stroke-width: 0.8\"/>\n      </g>\n     </g>\n     <g id=\"text_4\">\n      <!-- 30 -->\n      <g transform=\"translate(245.793963 303.028562) scale(0.1 -0.1)\">\n       <defs>\n        <path id=\"DejaVuSans-33\" d=\"M 2597 2516 \nQ 3050 2419 3304 2112 \nQ 3559 1806 3559 1356 \nQ 3559 666 3084 287 \nQ 2609 -91 1734 -91 \nQ 1441 -91 1130 -33 \nQ 819 25 488 141 \nL 488 750 \nQ 750 597 1062 519 \nQ 1375 441 1716 441 \nQ 2309 441 2620 675 \nQ 2931 909 2931 1356 \nQ 2931 1769 2642 2001 \nQ 2353 2234 1838 2234 \nL 1294 2234 \nL 1294 2753 \nL 1863 2753 \nQ 2328 2753 2575 2939 \nQ 2822 3125 2822 3475 \nQ 2822 3834 2567 4026 \nQ 2313 4219 1838 4219 \nQ 1578 4219 1281 4162 \nQ 984 4106 628 3988 \nL 628 4550 \nQ 988 4650 1302 4700 \nQ 1616 4750 1894 4750 \nQ 2613 4750 3031 4423 \nQ 3450 4097 3450 3541 \nQ 3450 3153 3228 2886 \nQ 3006 2619 2597 2516 \nz\n\" transform=\"scale(0.015625)\"/>\n       </defs>\n       <use xlink:href=\"#DejaVuSans-33\"/>\n       <use xlink:href=\"#DejaVuSans-30\" x=\"63.623047\"/>\n      </g>\n     </g>\n    </g>\n    <g id=\"xtick_5\">\n     <g id=\"line2d_5\">\n      <g>\n       <use xlink:href=\"#mf283c02b64\" x=\"318.412493\" y=\"288.430125\" style=\"stroke: #000000; stroke-width: 0.8\"/>\n      </g>\n     </g>\n     <g id=\"text_5\">\n      <!-- 40 -->\n      <g transform=\"translate(312.049993 303.028562) scale(0.1 -0.1)\">\n       <defs>\n        <path id=\"DejaVuSans-34\" d=\"M 2419 4116 \nL 825 1625 \nL 2419 1625 \nL 2419 4116 \nz\nM 2253 4666 \nL 3047 4666 \nL 3047 1625 \nL 3713 1625 \nL 3713 1100 \nL 3047 1100 \nL 3047 0 \nL 2419 0 \nL 2419 1100 \nL 313 1100 \nL 313 1709 \nL 2253 4666 \nz\n\" transform=\"scale(0.015625)\"/>\n       </defs>\n       <use xlink:href=\"#DejaVuSans-34\"/>\n       <use xlink:href=\"#DejaVuSans-30\" x=\"63.623047\"/>\n      </g>\n     </g>\n    </g>\n    <g id=\"xtick_6\">\n     <g id=\"line2d_6\">\n      <g>\n       <use xlink:href=\"#mf283c02b64\" x=\"384.668523\" y=\"288.430125\" style=\"stroke: #000000; stroke-width: 0.8\"/>\n      </g>\n     </g>\n     <g id=\"text_6\">\n      <!-- 50 -->\n      <g transform=\"translate(378.306023 303.028562) scale(0.1 -0.1)\">\n       <defs>\n        <path id=\"DejaVuSans-35\" d=\"M 691 4666 \nL 3169 4666 \nL 3169 4134 \nL 1269 4134 \nL 1269 2991 \nQ 1406 3038 1543 3061 \nQ 1681 3084 1819 3084 \nQ 2600 3084 3056 2656 \nQ 3513 2228 3513 1497 \nQ 3513 744 3044 326 \nQ 2575 -91 1722 -91 \nQ 1428 -91 1123 -41 \nQ 819 9 494 109 \nL 494 744 \nQ 775 591 1075 516 \nQ 1375 441 1709 441 \nQ 2250 441 2565 725 \nQ 2881 1009 2881 1497 \nQ 2881 1984 2565 2268 \nQ 2250 2553 1709 2553 \nQ 1456 2553 1204 2497 \nQ 953 2441 691 2322 \nL 691 4666 \nz\n\" transform=\"scale(0.015625)\"/>\n       </defs>\n       <use xlink:href=\"#DejaVuSans-35\"/>\n       <use xlink:href=\"#DejaVuSans-30\" x=\"63.623047\"/>\n      </g>\n     </g>\n    </g>\n    <g id=\"text_7\">\n     <!-- number of generations -->\n     <g transform=\"translate(165.031875 316.706687) scale(0.1 -0.1)\">\n      <defs>\n       <path id=\"DejaVuSans-6e\" d=\"M 3513 2113 \nL 3513 0 \nL 2938 0 \nL 2938 2094 \nQ 2938 2591 2744 2837 \nQ 2550 3084 2163 3084 \nQ 1697 3084 1428 2787 \nQ 1159 2491 1159 1978 \nL 1159 0 \nL 581 0 \nL 581 3500 \nL 1159 3500 \nL 1159 2956 \nQ 1366 3272 1645 3428 \nQ 1925 3584 2291 3584 \nQ 2894 3584 3203 3211 \nQ 3513 2838 3513 2113 \nz\n\" transform=\"scale(0.015625)\"/>\n       <path id=\"DejaVuSans-75\" d=\"M 544 1381 \nL 544 3500 \nL 1119 3500 \nL 1119 1403 \nQ 1119 906 1312 657 \nQ 1506 409 1894 409 \nQ 2359 409 2629 706 \nQ 2900 1003 2900 1516 \nL 2900 3500 \nL 3475 3500 \nL 3475 0 \nL 2900 0 \nL 2900 538 \nQ 2691 219 2414 64 \nQ 2138 -91 1772 -91 \nQ 1169 -91 856 284 \nQ 544 659 544 1381 \nz\nM 1991 3584 \nL 1991 3584 \nz\n\" transform=\"scale(0.015625)\"/>\n       <path id=\"DejaVuSans-6d\" d=\"M 3328 2828 \nQ 3544 3216 3844 3400 \nQ 4144 3584 4550 3584 \nQ 5097 3584 5394 3201 \nQ 5691 2819 5691 2113 \nL 5691 0 \nL 5113 0 \nL 5113 2094 \nQ 5113 2597 4934 2840 \nQ 4756 3084 4391 3084 \nQ 3944 3084 3684 2787 \nQ 3425 2491 3425 1978 \nL 3425 0 \nL 2847 0 \nL 2847 2094 \nQ 2847 2600 2669 2842 \nQ 2491 3084 2119 3084 \nQ 1678 3084 1418 2786 \nQ 1159 2488 1159 1978 \nL 1159 0 \nL 581 0 \nL 581 3500 \nL 1159 3500 \nL 1159 2956 \nQ 1356 3278 1631 3431 \nQ 1906 3584 2284 3584 \nQ 2666 3584 2933 3390 \nQ 3200 3197 3328 2828 \nz\n\" transform=\"scale(0.015625)\"/>\n       <path id=\"DejaVuSans-62\" d=\"M 3116 1747 \nQ 3116 2381 2855 2742 \nQ 2594 3103 2138 3103 \nQ 1681 3103 1420 2742 \nQ 1159 2381 1159 1747 \nQ 1159 1113 1420 752 \nQ 1681 391 2138 391 \nQ 2594 391 2855 752 \nQ 3116 1113 3116 1747 \nz\nM 1159 2969 \nQ 1341 3281 1617 3432 \nQ 1894 3584 2278 3584 \nQ 2916 3584 3314 3078 \nQ 3713 2572 3713 1747 \nQ 3713 922 3314 415 \nQ 2916 -91 2278 -91 \nQ 1894 -91 1617 61 \nQ 1341 213 1159 525 \nL 1159 0 \nL 581 0 \nL 581 4863 \nL 1159 4863 \nL 1159 2969 \nz\n\" transform=\"scale(0.015625)\"/>\n       <path id=\"DejaVuSans-65\" d=\"M 3597 1894 \nL 3597 1613 \nL 953 1613 \nQ 991 1019 1311 708 \nQ 1631 397 2203 397 \nQ 2534 397 2845 478 \nQ 3156 559 3463 722 \nL 3463 178 \nQ 3153 47 2828 -22 \nQ 2503 -91 2169 -91 \nQ 1331 -91 842 396 \nQ 353 884 353 1716 \nQ 353 2575 817 3079 \nQ 1281 3584 2069 3584 \nQ 2775 3584 3186 3129 \nQ 3597 2675 3597 1894 \nz\nM 3022 2063 \nQ 3016 2534 2758 2815 \nQ 2500 3097 2075 3097 \nQ 1594 3097 1305 2825 \nQ 1016 2553 972 2059 \nL 3022 2063 \nz\n\" transform=\"scale(0.015625)\"/>\n       <path id=\"DejaVuSans-72\" d=\"M 2631 2963 \nQ 2534 3019 2420 3045 \nQ 2306 3072 2169 3072 \nQ 1681 3072 1420 2755 \nQ 1159 2438 1159 1844 \nL 1159 0 \nL 581 0 \nL 581 3500 \nL 1159 3500 \nL 1159 2956 \nQ 1341 3275 1631 3429 \nQ 1922 3584 2338 3584 \nQ 2397 3584 2469 3576 \nQ 2541 3569 2628 3553 \nL 2631 2963 \nz\n\" transform=\"scale(0.015625)\"/>\n       <path id=\"DejaVuSans-20\" transform=\"scale(0.015625)\"/>\n       <path id=\"DejaVuSans-6f\" d=\"M 1959 3097 \nQ 1497 3097 1228 2736 \nQ 959 2375 959 1747 \nQ 959 1119 1226 758 \nQ 1494 397 1959 397 \nQ 2419 397 2687 759 \nQ 2956 1122 2956 1747 \nQ 2956 2369 2687 2733 \nQ 2419 3097 1959 3097 \nz\nM 1959 3584 \nQ 2709 3584 3137 3096 \nQ 3566 2609 3566 1747 \nQ 3566 888 3137 398 \nQ 2709 -91 1959 -91 \nQ 1206 -91 779 398 \nQ 353 888 353 1747 \nQ 353 2609 779 3096 \nQ 1206 3584 1959 3584 \nz\n\" transform=\"scale(0.015625)\"/>\n       <path id=\"DejaVuSans-66\" d=\"M 2375 4863 \nL 2375 4384 \nL 1825 4384 \nQ 1516 4384 1395 4259 \nQ 1275 4134 1275 3809 \nL 1275 3500 \nL 2222 3500 \nL 2222 3053 \nL 1275 3053 \nL 1275 0 \nL 697 0 \nL 697 3053 \nL 147 3053 \nL 147 3500 \nL 697 3500 \nL 697 3744 \nQ 697 4328 969 4595 \nQ 1241 4863 1831 4863 \nL 2375 4863 \nz\n\" transform=\"scale(0.015625)\"/>\n       <path id=\"DejaVuSans-67\" d=\"M 2906 1791 \nQ 2906 2416 2648 2759 \nQ 2391 3103 1925 3103 \nQ 1463 3103 1205 2759 \nQ 947 2416 947 1791 \nQ 947 1169 1205 825 \nQ 1463 481 1925 481 \nQ 2391 481 2648 825 \nQ 2906 1169 2906 1791 \nz\nM 3481 434 \nQ 3481 -459 3084 -895 \nQ 2688 -1331 1869 -1331 \nQ 1566 -1331 1297 -1286 \nQ 1028 -1241 775 -1147 \nL 775 -588 \nQ 1028 -725 1275 -790 \nQ 1522 -856 1778 -856 \nQ 2344 -856 2625 -561 \nQ 2906 -266 2906 331 \nL 2906 616 \nQ 2728 306 2450 153 \nQ 2172 0 1784 0 \nQ 1141 0 747 490 \nQ 353 981 353 1791 \nQ 353 2603 747 3093 \nQ 1141 3584 1784 3584 \nQ 2172 3584 2450 3431 \nQ 2728 3278 2906 2969 \nL 2906 3500 \nL 3481 3500 \nL 3481 434 \nz\n\" transform=\"scale(0.015625)\"/>\n       <path id=\"DejaVuSans-61\" d=\"M 2194 1759 \nQ 1497 1759 1228 1600 \nQ 959 1441 959 1056 \nQ 959 750 1161 570 \nQ 1363 391 1709 391 \nQ 2188 391 2477 730 \nQ 2766 1069 2766 1631 \nL 2766 1759 \nL 2194 1759 \nz\nM 3341 1997 \nL 3341 0 \nL 2766 0 \nL 2766 531 \nQ 2569 213 2275 61 \nQ 1981 -91 1556 -91 \nQ 1019 -91 701 211 \nQ 384 513 384 1019 \nQ 384 1609 779 1909 \nQ 1175 2209 1959 2209 \nL 2766 2209 \nL 2766 2266 \nQ 2766 2663 2505 2880 \nQ 2244 3097 1772 3097 \nQ 1472 3097 1187 3025 \nQ 903 2953 641 2809 \nL 641 3341 \nQ 956 3463 1253 3523 \nQ 1550 3584 1831 3584 \nQ 2591 3584 2966 3190 \nQ 3341 2797 3341 1997 \nz\n\" transform=\"scale(0.015625)\"/>\n       <path id=\"DejaVuSans-74\" d=\"M 1172 4494 \nL 1172 3500 \nL 2356 3500 \nL 2356 3053 \nL 1172 3053 \nL 1172 1153 \nQ 1172 725 1289 603 \nQ 1406 481 1766 481 \nL 2356 481 \nL 2356 0 \nL 1766 0 \nQ 1100 0 847 248 \nQ 594 497 594 1153 \nL 594 3053 \nL 172 3053 \nL 172 3500 \nL 594 3500 \nL 594 4494 \nL 1172 4494 \nz\n\" transform=\"scale(0.015625)\"/>\n       <path id=\"DejaVuSans-69\" d=\"M 603 3500 \nL 1178 3500 \nL 1178 0 \nL 603 0 \nL 603 3500 \nz\nM 603 4863 \nL 1178 4863 \nL 1178 4134 \nL 603 4134 \nL 603 4863 \nz\n\" transform=\"scale(0.015625)\"/>\n       <path id=\"DejaVuSans-73\" d=\"M 2834 3397 \nL 2834 2853 \nQ 2591 2978 2328 3040 \nQ 2066 3103 1784 3103 \nQ 1356 3103 1142 2972 \nQ 928 2841 928 2578 \nQ 928 2378 1081 2264 \nQ 1234 2150 1697 2047 \nL 1894 2003 \nQ 2506 1872 2764 1633 \nQ 3022 1394 3022 966 \nQ 3022 478 2636 193 \nQ 2250 -91 1575 -91 \nQ 1294 -91 989 -36 \nQ 684 19 347 128 \nL 347 722 \nQ 666 556 975 473 \nQ 1284 391 1588 391 \nQ 1994 391 2212 530 \nQ 2431 669 2431 922 \nQ 2431 1156 2273 1281 \nQ 2116 1406 1581 1522 \nL 1381 1569 \nQ 847 1681 609 1914 \nQ 372 2147 372 2553 \nQ 372 3047 722 3315 \nQ 1072 3584 1716 3584 \nQ 2034 3584 2315 3537 \nQ 2597 3491 2834 3397 \nz\n\" transform=\"scale(0.015625)\"/>\n      </defs>\n      <use xlink:href=\"#DejaVuSans-6e\"/>\n      <use xlink:href=\"#DejaVuSans-75\" x=\"63.378906\"/>\n      <use xlink:href=\"#DejaVuSans-6d\" x=\"126.757812\"/>\n      <use xlink:href=\"#DejaVuSans-62\" x=\"224.169922\"/>\n      <use xlink:href=\"#DejaVuSans-65\" x=\"287.646484\"/>\n      <use xlink:href=\"#DejaVuSans-72\" x=\"349.169922\"/>\n      <use xlink:href=\"#DejaVuSans-20\" x=\"390.283203\"/>\n      <use xlink:href=\"#DejaVuSans-6f\" x=\"422.070312\"/>\n      <use xlink:href=\"#DejaVuSans-66\" x=\"483.251953\"/>\n      <use xlink:href=\"#DejaVuSans-20\" x=\"518.457031\"/>\n      <use xlink:href=\"#DejaVuSans-67\" x=\"550.244141\"/>\n      <use xlink:href=\"#DejaVuSans-65\" x=\"613.720703\"/>\n      <use xlink:href=\"#DejaVuSans-6e\" x=\"675.244141\"/>\n      <use xlink:href=\"#DejaVuSans-65\" x=\"738.623047\"/>\n      <use xlink:href=\"#DejaVuSans-72\" x=\"800.146484\"/>\n      <use xlink:href=\"#DejaVuSans-61\" x=\"841.259766\"/>\n      <use xlink:href=\"#DejaVuSans-74\" x=\"902.539062\"/>\n      <use xlink:href=\"#DejaVuSans-69\" x=\"941.748047\"/>\n      <use xlink:href=\"#DejaVuSans-6f\" x=\"969.53125\"/>\n      <use xlink:href=\"#DejaVuSans-6e\" x=\"1030.712891\"/>\n      <use xlink:href=\"#DejaVuSans-73\" x=\"1094.091797\"/>\n     </g>\n    </g>\n   </g>\n   <g id=\"matplotlib.axis_2\">\n    <g id=\"ytick_1\">\n     <g id=\"line2d_7\">\n      <defs>\n       <path id=\"mb2235384b9\" d=\"M 0 0 \nL -3.5 0 \n\" style=\"stroke: #000000; stroke-width: 0.8\"/>\n      </defs>\n      <g>\n       <use xlink:href=\"#mb2235384b9\" x=\"43.78125\" y=\"276.334125\" style=\"stroke: #000000; stroke-width: 0.8\"/>\n      </g>\n     </g>\n     <g id=\"text_8\">\n      <!-- 0.0 -->\n      <g transform=\"translate(20.878125 280.133344) scale(0.1 -0.1)\">\n       <defs>\n        <path id=\"DejaVuSans-2e\" d=\"M 684 794 \nL 1344 794 \nL 1344 0 \nL 684 0 \nL 684 794 \nz\n\" transform=\"scale(0.015625)\"/>\n       </defs>\n       <use xlink:href=\"#DejaVuSans-30\"/>\n       <use xlink:href=\"#DejaVuSans-2e\" x=\"63.623047\"/>\n       <use xlink:href=\"#DejaVuSans-30\" x=\"95.410156\"/>\n      </g>\n     </g>\n    </g>\n    <g id=\"ytick_2\">\n     <g id=\"line2d_8\">\n      <g>\n       <use xlink:href=\"#mb2235384b9\" x=\"43.78125\" y=\"242.21611\" style=\"stroke: #000000; stroke-width: 0.8\"/>\n      </g>\n     </g>\n     <g id=\"text_9\">\n      <!-- 0.2 -->\n      <g transform=\"translate(20.878125 246.015329) scale(0.1 -0.1)\">\n       <use xlink:href=\"#DejaVuSans-30\"/>\n       <use xlink:href=\"#DejaVuSans-2e\" x=\"63.623047\"/>\n       <use xlink:href=\"#DejaVuSans-32\" x=\"95.410156\"/>\n      </g>\n     </g>\n    </g>\n    <g id=\"ytick_3\">\n     <g id=\"line2d_9\">\n      <g>\n       <use xlink:href=\"#mb2235384b9\" x=\"43.78125\" y=\"208.098095\" style=\"stroke: #000000; stroke-width: 0.8\"/>\n      </g>\n     </g>\n     <g id=\"text_10\">\n      <!-- 0.4 -->\n      <g transform=\"translate(20.878125 211.897314) scale(0.1 -0.1)\">\n       <use xlink:href=\"#DejaVuSans-30\"/>\n       <use xlink:href=\"#DejaVuSans-2e\" x=\"63.623047\"/>\n       <use xlink:href=\"#DejaVuSans-34\" x=\"95.410156\"/>\n      </g>\n     </g>\n    </g>\n    <g id=\"ytick_4\">\n     <g id=\"line2d_10\">\n      <g>\n       <use xlink:href=\"#mb2235384b9\" x=\"43.78125\" y=\"173.980081\" style=\"stroke: #000000; stroke-width: 0.8\"/>\n      </g>\n     </g>\n     <g id=\"text_11\">\n      <!-- 0.6 -->\n      <g transform=\"translate(20.878125 177.779299) scale(0.1 -0.1)\">\n       <defs>\n        <path id=\"DejaVuSans-36\" d=\"M 2113 2584 \nQ 1688 2584 1439 2293 \nQ 1191 2003 1191 1497 \nQ 1191 994 1439 701 \nQ 1688 409 2113 409 \nQ 2538 409 2786 701 \nQ 3034 994 3034 1497 \nQ 3034 2003 2786 2293 \nQ 2538 2584 2113 2584 \nz\nM 3366 4563 \nL 3366 3988 \nQ 3128 4100 2886 4159 \nQ 2644 4219 2406 4219 \nQ 1781 4219 1451 3797 \nQ 1122 3375 1075 2522 \nQ 1259 2794 1537 2939 \nQ 1816 3084 2150 3084 \nQ 2853 3084 3261 2657 \nQ 3669 2231 3669 1497 \nQ 3669 778 3244 343 \nQ 2819 -91 2113 -91 \nQ 1303 -91 875 529 \nQ 447 1150 447 2328 \nQ 447 3434 972 4092 \nQ 1497 4750 2381 4750 \nQ 2619 4750 2861 4703 \nQ 3103 4656 3366 4563 \nz\n\" transform=\"scale(0.015625)\"/>\n       </defs>\n       <use xlink:href=\"#DejaVuSans-30\"/>\n       <use xlink:href=\"#DejaVuSans-2e\" x=\"63.623047\"/>\n       <use xlink:href=\"#DejaVuSans-36\" x=\"95.410156\"/>\n      </g>\n     </g>\n    </g>\n    <g id=\"ytick_5\">\n     <g id=\"line2d_11\">\n      <g>\n       <use xlink:href=\"#mb2235384b9\" x=\"43.78125\" y=\"139.862066\" style=\"stroke: #000000; stroke-width: 0.8\"/>\n      </g>\n     </g>\n     <g id=\"text_12\">\n      <!-- 0.8 -->\n      <g transform=\"translate(20.878125 143.661285) scale(0.1 -0.1)\">\n       <defs>\n        <path id=\"DejaVuSans-38\" d=\"M 2034 2216 \nQ 1584 2216 1326 1975 \nQ 1069 1734 1069 1313 \nQ 1069 891 1326 650 \nQ 1584 409 2034 409 \nQ 2484 409 2743 651 \nQ 3003 894 3003 1313 \nQ 3003 1734 2745 1975 \nQ 2488 2216 2034 2216 \nz\nM 1403 2484 \nQ 997 2584 770 2862 \nQ 544 3141 544 3541 \nQ 544 4100 942 4425 \nQ 1341 4750 2034 4750 \nQ 2731 4750 3128 4425 \nQ 3525 4100 3525 3541 \nQ 3525 3141 3298 2862 \nQ 3072 2584 2669 2484 \nQ 3125 2378 3379 2068 \nQ 3634 1759 3634 1313 \nQ 3634 634 3220 271 \nQ 2806 -91 2034 -91 \nQ 1263 -91 848 271 \nQ 434 634 434 1313 \nQ 434 1759 690 2068 \nQ 947 2378 1403 2484 \nz\nM 1172 3481 \nQ 1172 3119 1398 2916 \nQ 1625 2713 2034 2713 \nQ 2441 2713 2670 2916 \nQ 2900 3119 2900 3481 \nQ 2900 3844 2670 4047 \nQ 2441 4250 2034 4250 \nQ 1625 4250 1398 4047 \nQ 1172 3844 1172 3481 \nz\n\" transform=\"scale(0.015625)\"/>\n       </defs>\n       <use xlink:href=\"#DejaVuSans-30\"/>\n       <use xlink:href=\"#DejaVuSans-2e\" x=\"63.623047\"/>\n       <use xlink:href=\"#DejaVuSans-38\" x=\"95.410156\"/>\n      </g>\n     </g>\n    </g>\n    <g id=\"ytick_6\">\n     <g id=\"line2d_12\">\n      <g>\n       <use xlink:href=\"#mb2235384b9\" x=\"43.78125\" y=\"105.744051\" style=\"stroke: #000000; stroke-width: 0.8\"/>\n      </g>\n     </g>\n     <g id=\"text_13\">\n      <!-- 1.0 -->\n      <g transform=\"translate(20.878125 109.54327) scale(0.1 -0.1)\">\n       <use xlink:href=\"#DejaVuSans-31\"/>\n       <use xlink:href=\"#DejaVuSans-2e\" x=\"63.623047\"/>\n       <use xlink:href=\"#DejaVuSans-30\" x=\"95.410156\"/>\n      </g>\n     </g>\n    </g>\n    <g id=\"ytick_7\">\n     <g id=\"line2d_13\">\n      <g>\n       <use xlink:href=\"#mb2235384b9\" x=\"43.78125\" y=\"71.626036\" style=\"stroke: #000000; stroke-width: 0.8\"/>\n      </g>\n     </g>\n     <g id=\"text_14\">\n      <!-- 1.2 -->\n      <g transform=\"translate(20.878125 75.425255) scale(0.1 -0.1)\">\n       <use xlink:href=\"#DejaVuSans-31\"/>\n       <use xlink:href=\"#DejaVuSans-2e\" x=\"63.623047\"/>\n       <use xlink:href=\"#DejaVuSans-32\" x=\"95.410156\"/>\n      </g>\n     </g>\n    </g>\n    <g id=\"ytick_8\">\n     <g id=\"line2d_14\">\n      <g>\n       <use xlink:href=\"#mb2235384b9\" x=\"43.78125\" y=\"37.508022\" style=\"stroke: #000000; stroke-width: 0.8\"/>\n      </g>\n     </g>\n     <g id=\"text_15\">\n      <!-- 1.4 -->\n      <g transform=\"translate(20.878125 41.30724) scale(0.1 -0.1)\">\n       <use xlink:href=\"#DejaVuSans-31\"/>\n       <use xlink:href=\"#DejaVuSans-2e\" x=\"63.623047\"/>\n       <use xlink:href=\"#DejaVuSans-34\" x=\"95.410156\"/>\n      </g>\n     </g>\n    </g>\n    <g id=\"text_16\">\n     <!-- history -->\n     <g transform=\"translate(14.798438 172.571) rotate(-90) scale(0.1 -0.1)\">\n      <defs>\n       <path id=\"DejaVuSans-68\" d=\"M 3513 2113 \nL 3513 0 \nL 2938 0 \nL 2938 2094 \nQ 2938 2591 2744 2837 \nQ 2550 3084 2163 3084 \nQ 1697 3084 1428 2787 \nQ 1159 2491 1159 1978 \nL 1159 0 \nL 581 0 \nL 581 4863 \nL 1159 4863 \nL 1159 2956 \nQ 1366 3272 1645 3428 \nQ 1925 3584 2291 3584 \nQ 2894 3584 3203 3211 \nQ 3513 2838 3513 2113 \nz\n\" transform=\"scale(0.015625)\"/>\n       <path id=\"DejaVuSans-79\" d=\"M 2059 -325 \nQ 1816 -950 1584 -1140 \nQ 1353 -1331 966 -1331 \nL 506 -1331 \nL 506 -850 \nL 844 -850 \nQ 1081 -850 1212 -737 \nQ 1344 -625 1503 -206 \nL 1606 56 \nL 191 3500 \nL 800 3500 \nL 1894 763 \nL 2988 3500 \nL 3597 3500 \nL 2059 -325 \nz\n\" transform=\"scale(0.015625)\"/>\n      </defs>\n      <use xlink:href=\"#DejaVuSans-68\"/>\n      <use xlink:href=\"#DejaVuSans-69\" x=\"63.378906\"/>\n      <use xlink:href=\"#DejaVuSans-73\" x=\"91.162109\"/>\n      <use xlink:href=\"#DejaVuSans-74\" x=\"143.261719\"/>\n      <use xlink:href=\"#DejaVuSans-6f\" x=\"182.470703\"/>\n      <use xlink:href=\"#DejaVuSans-72\" x=\"243.652344\"/>\n      <use xlink:href=\"#DejaVuSans-79\" x=\"284.765625\"/>\n     </g>\n    </g>\n   </g>\n   <g id=\"line2d_15\">\n    <path d=\"M 60.013977 34.414125 \nL 66.63958 271.251019 \nL 73.265183 271.251019 \nL 79.890786 271.251019 \nL 86.516389 271.251019 \nL 93.141992 271.251019 \nL 99.767595 272.376722 \nL 106.393198 275.9933 \nL 113.018801 262.44363 \nL 119.644404 264.531642 \nL 126.270007 266.358931 \nL 132.89561 273.340291 \nL 139.521213 274.083608 \nL 146.146816 272.261243 \nL 152.772419 272.261243 \nL 159.398022 272.261243 \nL 166.023625 275.070384 \nL 172.649228 275.070384 \nL 179.274831 275.070384 \nL 185.900434 275.070384 \nL 192.526037 275.070384 \nL 199.15164 275.070384 \nL 205.777243 275.070384 \nL 212.402846 275.070384 \nL 219.028449 275.070384 \nL 225.654051 275.070384 \nL 232.279654 275.070384 \nL 238.905257 275.070384 \nL 245.53086 275.070384 \nL 252.156463 275.070384 \nL 258.782066 275.070384 \nL 265.407669 275.070384 \nL 272.033272 275.070384 \nL 278.658875 275.070384 \nL 285.284478 275.070384 \nL 291.910081 275.070384 \nL 298.535684 275.070384 \nL 305.161287 275.070384 \nL 311.78689 275.070384 \nL 318.412493 275.070384 \nL 325.038096 275.070384 \nL 331.663699 275.070384 \nL 338.289302 275.070384 \nL 344.914905 275.070384 \nL 351.540508 275.070384 \nL 358.166111 275.070384 \nL 364.791714 275.070384 \nL 371.417317 275.070384 \nL 378.04292 275.070384 \nL 384.668523 275.070384 \n\" clip-path=\"url(#p841d1e0856)\" style=\"fill: none; stroke: #1f77b4; stroke-width: 1.5; stroke-linecap: square\"/>\n   </g>\n   <g id=\"line2d_16\">\n    <path d=\"M 60.013977 276.334125 \nL 66.63958 276.334125 \nL 73.265183 276.334125 \nL 79.890786 276.334125 \nL 86.516389 276.334125 \nL 93.141992 276.334125 \nL 99.767595 276.334125 \nL 106.393198 276.334125 \nL 113.018801 276.334125 \nL 119.644404 276.334125 \nL 126.270007 276.334125 \nL 132.89561 276.334125 \nL 139.521213 276.334125 \nL 146.146816 276.334125 \nL 152.772419 276.334125 \nL 159.398022 276.334125 \nL 166.023625 276.334125 \nL 172.649228 276.334125 \nL 179.274831 276.334125 \nL 185.900434 276.334125 \nL 192.526037 276.334125 \nL 199.15164 276.334125 \nL 205.777243 276.334125 \nL 212.402846 276.334125 \nL 219.028449 276.334125 \nL 225.654051 276.334125 \nL 232.279654 276.334125 \nL 238.905257 276.334125 \nL 245.53086 276.334125 \nL 252.156463 276.334125 \nL 258.782066 276.334125 \nL 265.407669 276.334125 \nL 272.033272 276.334125 \nL 278.658875 276.334125 \nL 285.284478 276.334125 \nL 291.910081 276.334125 \nL 298.535684 276.334125 \nL 305.161287 276.334125 \nL 311.78689 276.334125 \nL 318.412493 276.334125 \nL 325.038096 276.334125 \nL 331.663699 276.334125 \nL 338.289302 276.334125 \nL 344.914905 276.334125 \nL 351.540508 276.334125 \nL 358.166111 276.334125 \nL 364.791714 276.334125 \nL 371.417317 276.334125 \nL 378.04292 276.334125 \nL 384.668523 276.334125 \n\" clip-path=\"url(#p841d1e0856)\" style=\"fill: none; stroke: #ff7f0e; stroke-width: 1.5; stroke-linecap: square\"/>\n   </g>\n   <g id=\"line2d_17\">\n    <path d=\"M 106.393198 34.414125 \nL 106.393198 271.251019 \nL 106.393198 271.251019 \nL 106.393198 271.251019 \nL 106.393198 271.251019 \nL 106.393198 271.251019 \nL 106.393198 272.376722 \nL 106.393198 275.9933 \nL 106.393198 262.44363 \nL 106.393198 264.531642 \nL 106.393198 266.358931 \nL 106.393198 273.340291 \nL 106.393198 274.083608 \nL 106.393198 272.261243 \nL 106.393198 272.261243 \nL 106.393198 272.261243 \nL 106.393198 275.070384 \nL 106.393198 275.070384 \nL 106.393198 275.070384 \nL 106.393198 275.070384 \nL 106.393198 275.070384 \nL 106.393198 275.070384 \nL 106.393198 275.070384 \nL 106.393198 275.070384 \nL 106.393198 275.070384 \nL 106.393198 275.070384 \nL 106.393198 275.070384 \nL 106.393198 275.070384 \nL 106.393198 275.070384 \nL 106.393198 275.070384 \nL 106.393198 275.070384 \nL 106.393198 275.070384 \nL 106.393198 275.070384 \nL 106.393198 275.070384 \nL 106.393198 275.070384 \nL 106.393198 275.070384 \nL 106.393198 275.070384 \nL 106.393198 275.070384 \nL 106.393198 275.070384 \nL 106.393198 275.070384 \nL 106.393198 275.070384 \nL 106.393198 275.070384 \nL 106.393198 275.070384 \nL 106.393198 275.070384 \nL 106.393198 275.070384 \nL 106.393198 275.070384 \nL 106.393198 275.070384 \nL 106.393198 275.070384 \nL 106.393198 275.070384 \nL 106.393198 275.070384 \n\" clip-path=\"url(#p841d1e0856)\" style=\"fill: none; stroke: #2ca02c; stroke-width: 1.5; stroke-linecap: square\"/>\n   </g>\n   <g id=\"patch_3\">\n    <path d=\"M 43.78125 288.430125 \nL 43.78125 22.318125 \n\" style=\"fill: none; stroke: #000000; stroke-width: 0.8; stroke-linejoin: miter; stroke-linecap: square\"/>\n   </g>\n   <g id=\"patch_4\">\n    <path d=\"M 400.90125 288.430125 \nL 400.90125 22.318125 \n\" style=\"fill: none; stroke: #000000; stroke-width: 0.8; stroke-linejoin: miter; stroke-linecap: square\"/>\n   </g>\n   <g id=\"patch_5\">\n    <path d=\"M 43.78125 288.430125 \nL 400.90125 288.430125 \n\" style=\"fill: none; stroke: #000000; stroke-width: 0.8; stroke-linejoin: miter; stroke-linecap: square\"/>\n   </g>\n   <g id=\"patch_6\">\n    <path d=\"M 43.78125 22.318125 \nL 400.90125 22.318125 \n\" style=\"fill: none; stroke: #000000; stroke-width: 0.8; stroke-linejoin: miter; stroke-linecap: square\"/>\n   </g>\n   <g id=\"text_17\">\n    <!-- Best Solution 8 -->\n    <g transform=\"translate(109.706 190.698263) scale(0.1 -0.1)\">\n     <defs>\n      <path id=\"DejaVuSans-42\" d=\"M 1259 2228 \nL 1259 519 \nL 2272 519 \nQ 2781 519 3026 730 \nQ 3272 941 3272 1375 \nQ 3272 1813 3026 2020 \nQ 2781 2228 2272 2228 \nL 1259 2228 \nz\nM 1259 4147 \nL 1259 2741 \nL 2194 2741 \nQ 2656 2741 2882 2914 \nQ 3109 3088 3109 3444 \nQ 3109 3797 2882 3972 \nQ 2656 4147 2194 4147 \nL 1259 4147 \nz\nM 628 4666 \nL 2241 4666 \nQ 2963 4666 3353 4366 \nQ 3744 4066 3744 3513 \nQ 3744 3084 3544 2831 \nQ 3344 2578 2956 2516 \nQ 3422 2416 3680 2098 \nQ 3938 1781 3938 1306 \nQ 3938 681 3513 340 \nQ 3088 0 2303 0 \nL 628 0 \nL 628 4666 \nz\n\" transform=\"scale(0.015625)\"/>\n      <path id=\"DejaVuSans-53\" d=\"M 3425 4513 \nL 3425 3897 \nQ 3066 4069 2747 4153 \nQ 2428 4238 2131 4238 \nQ 1616 4238 1336 4038 \nQ 1056 3838 1056 3469 \nQ 1056 3159 1242 3001 \nQ 1428 2844 1947 2747 \nL 2328 2669 \nQ 3034 2534 3370 2195 \nQ 3706 1856 3706 1288 \nQ 3706 609 3251 259 \nQ 2797 -91 1919 -91 \nQ 1588 -91 1214 -16 \nQ 841 59 441 206 \nL 441 856 \nQ 825 641 1194 531 \nQ 1563 422 1919 422 \nQ 2459 422 2753 634 \nQ 3047 847 3047 1241 \nQ 3047 1584 2836 1778 \nQ 2625 1972 2144 2069 \nL 1759 2144 \nQ 1053 2284 737 2584 \nQ 422 2884 422 3419 \nQ 422 4038 858 4394 \nQ 1294 4750 2059 4750 \nQ 2388 4750 2728 4690 \nQ 3069 4631 3425 4513 \nz\n\" transform=\"scale(0.015625)\"/>\n      <path id=\"DejaVuSans-6c\" d=\"M 603 4863 \nL 1178 4863 \nL 1178 0 \nL 603 0 \nL 603 4863 \nz\n\" transform=\"scale(0.015625)\"/>\n     </defs>\n     <use xlink:href=\"#DejaVuSans-42\"/>\n     <use xlink:href=\"#DejaVuSans-65\" x=\"68.603516\"/>\n     <use xlink:href=\"#DejaVuSans-73\" x=\"130.126953\"/>\n     <use xlink:href=\"#DejaVuSans-74\" x=\"182.226562\"/>\n     <use xlink:href=\"#DejaVuSans-20\" x=\"221.435547\"/>\n     <use xlink:href=\"#DejaVuSans-53\" x=\"253.222656\"/>\n     <use xlink:href=\"#DejaVuSans-6f\" x=\"316.699219\"/>\n     <use xlink:href=\"#DejaVuSans-6c\" x=\"377.880859\"/>\n     <use xlink:href=\"#DejaVuSans-75\" x=\"405.664062\"/>\n     <use xlink:href=\"#DejaVuSans-74\" x=\"469.042969\"/>\n     <use xlink:href=\"#DejaVuSans-69\" x=\"508.251953\"/>\n     <use xlink:href=\"#DejaVuSans-6f\" x=\"536.035156\"/>\n     <use xlink:href=\"#DejaVuSans-6e\" x=\"597.216797\"/>\n     <use xlink:href=\"#DejaVuSans-20\" x=\"660.595703\"/>\n     <use xlink:href=\"#DejaVuSans-38\" x=\"692.382812\"/>\n    </g>\n   </g>\n   <g id=\"text_18\">\n    <!-- Convergence History -->\n    <g transform=\"translate(159.525937 16.318125) scale(0.12 -0.12)\">\n     <defs>\n      <path id=\"DejaVuSans-43\" d=\"M 4122 4306 \nL 4122 3641 \nQ 3803 3938 3442 4084 \nQ 3081 4231 2675 4231 \nQ 1875 4231 1450 3742 \nQ 1025 3253 1025 2328 \nQ 1025 1406 1450 917 \nQ 1875 428 2675 428 \nQ 3081 428 3442 575 \nQ 3803 722 4122 1019 \nL 4122 359 \nQ 3791 134 3420 21 \nQ 3050 -91 2638 -91 \nQ 1578 -91 968 557 \nQ 359 1206 359 2328 \nQ 359 3453 968 4101 \nQ 1578 4750 2638 4750 \nQ 3056 4750 3426 4639 \nQ 3797 4528 4122 4306 \nz\n\" transform=\"scale(0.015625)\"/>\n      <path id=\"DejaVuSans-76\" d=\"M 191 3500 \nL 800 3500 \nL 1894 563 \nL 2988 3500 \nL 3597 3500 \nL 2284 0 \nL 1503 0 \nL 191 3500 \nz\n\" transform=\"scale(0.015625)\"/>\n      <path id=\"DejaVuSans-63\" d=\"M 3122 3366 \nL 3122 2828 \nQ 2878 2963 2633 3030 \nQ 2388 3097 2138 3097 \nQ 1578 3097 1268 2742 \nQ 959 2388 959 1747 \nQ 959 1106 1268 751 \nQ 1578 397 2138 397 \nQ 2388 397 2633 464 \nQ 2878 531 3122 666 \nL 3122 134 \nQ 2881 22 2623 -34 \nQ 2366 -91 2075 -91 \nQ 1284 -91 818 406 \nQ 353 903 353 1747 \nQ 353 2603 823 3093 \nQ 1294 3584 2113 3584 \nQ 2378 3584 2631 3529 \nQ 2884 3475 3122 3366 \nz\n\" transform=\"scale(0.015625)\"/>\n      <path id=\"DejaVuSans-48\" d=\"M 628 4666 \nL 1259 4666 \nL 1259 2753 \nL 3553 2753 \nL 3553 4666 \nL 4184 4666 \nL 4184 0 \nL 3553 0 \nL 3553 2222 \nL 1259 2222 \nL 1259 0 \nL 628 0 \nL 628 4666 \nz\n\" transform=\"scale(0.015625)\"/>\n     </defs>\n     <use xlink:href=\"#DejaVuSans-43\"/>\n     <use xlink:href=\"#DejaVuSans-6f\" x=\"69.824219\"/>\n     <use xlink:href=\"#DejaVuSans-6e\" x=\"131.005859\"/>\n     <use xlink:href=\"#DejaVuSans-76\" x=\"194.384766\"/>\n     <use xlink:href=\"#DejaVuSans-65\" x=\"253.564453\"/>\n     <use xlink:href=\"#DejaVuSans-72\" x=\"315.087891\"/>\n     <use xlink:href=\"#DejaVuSans-67\" x=\"354.451172\"/>\n     <use xlink:href=\"#DejaVuSans-65\" x=\"417.927734\"/>\n     <use xlink:href=\"#DejaVuSans-6e\" x=\"479.451172\"/>\n     <use xlink:href=\"#DejaVuSans-63\" x=\"542.830078\"/>\n     <use xlink:href=\"#DejaVuSans-65\" x=\"597.810547\"/>\n     <use xlink:href=\"#DejaVuSans-20\" x=\"659.333984\"/>\n     <use xlink:href=\"#DejaVuSans-48\" x=\"691.121094\"/>\n     <use xlink:href=\"#DejaVuSans-69\" x=\"766.316406\"/>\n     <use xlink:href=\"#DejaVuSans-73\" x=\"794.099609\"/>\n     <use xlink:href=\"#DejaVuSans-74\" x=\"846.199219\"/>\n     <use xlink:href=\"#DejaVuSans-6f\" x=\"885.408203\"/>\n     <use xlink:href=\"#DejaVuSans-72\" x=\"946.589844\"/>\n     <use xlink:href=\"#DejaVuSans-79\" x=\"987.703125\"/>\n    </g>\n   </g>\n   <g id=\"legend_1\">\n    <g id=\"patch_7\">\n     <path d=\"M 290.429375 74.3525 \nL 393.90125 74.3525 \nQ 395.90125 74.3525 395.90125 72.3525 \nL 395.90125 29.318125 \nQ 395.90125 27.318125 393.90125 27.318125 \nL 290.429375 27.318125 \nQ 288.429375 27.318125 288.429375 29.318125 \nL 288.429375 72.3525 \nQ 288.429375 74.3525 290.429375 74.3525 \nz\n\" style=\"fill: #ffffff; opacity: 0.8; stroke: #cccccc; stroke-linejoin: miter\"/>\n    </g>\n    <g id=\"line2d_18\">\n     <path d=\"M 292.429375 35.416562 \nL 302.429375 35.416562 \nL 312.429375 35.416562 \n\" style=\"fill: none; stroke: #1f77b4; stroke-width: 1.5; stroke-linecap: square\"/>\n    </g>\n    <g id=\"text_19\">\n     <!-- fitness -->\n     <g transform=\"translate(320.429375 38.916562) scale(0.1 -0.1)\">\n      <use xlink:href=\"#DejaVuSans-66\"/>\n      <use xlink:href=\"#DejaVuSans-69\" x=\"35.205078\"/>\n      <use xlink:href=\"#DejaVuSans-74\" x=\"62.988281\"/>\n      <use xlink:href=\"#DejaVuSans-6e\" x=\"102.197266\"/>\n      <use xlink:href=\"#DejaVuSans-65\" x=\"165.576172\"/>\n      <use xlink:href=\"#DejaVuSans-73\" x=\"227.099609\"/>\n      <use xlink:href=\"#DejaVuSans-73\" x=\"279.199219\"/>\n     </g>\n    </g>\n    <g id=\"line2d_19\">\n     <path d=\"M 292.429375 50.094688 \nL 302.429375 50.094688 \nL 312.429375 50.094688 \n\" style=\"fill: none; stroke: #ff7f0e; stroke-width: 1.5; stroke-linecap: square\"/>\n    </g>\n    <g id=\"text_20\">\n     <!-- actual minima -->\n     <g transform=\"translate(320.429375 53.594688) scale(0.1 -0.1)\">\n      <use xlink:href=\"#DejaVuSans-61\"/>\n      <use xlink:href=\"#DejaVuSans-63\" x=\"61.279297\"/>\n      <use xlink:href=\"#DejaVuSans-74\" x=\"116.259766\"/>\n      <use xlink:href=\"#DejaVuSans-75\" x=\"155.46875\"/>\n      <use xlink:href=\"#DejaVuSans-61\" x=\"218.847656\"/>\n      <use xlink:href=\"#DejaVuSans-6c\" x=\"280.126953\"/>\n      <use xlink:href=\"#DejaVuSans-20\" x=\"307.910156\"/>\n      <use xlink:href=\"#DejaVuSans-6d\" x=\"339.697266\"/>\n      <use xlink:href=\"#DejaVuSans-69\" x=\"437.109375\"/>\n      <use xlink:href=\"#DejaVuSans-6e\" x=\"464.892578\"/>\n      <use xlink:href=\"#DejaVuSans-69\" x=\"528.271484\"/>\n      <use xlink:href=\"#DejaVuSans-6d\" x=\"556.054688\"/>\n      <use xlink:href=\"#DejaVuSans-61\" x=\"653.466797\"/>\n     </g>\n    </g>\n    <g id=\"line2d_20\">\n     <path d=\"M 292.429375 64.772812 \nL 302.429375 64.772812 \nL 312.429375 64.772812 \n\" style=\"fill: none; stroke: #2ca02c; stroke-width: 1.5; stroke-linecap: square\"/>\n    </g>\n    <g id=\"text_21\">\n     <!-- best soution -->\n     <g transform=\"translate(320.429375 68.272812) scale(0.1 -0.1)\">\n      <use xlink:href=\"#DejaVuSans-62\"/>\n      <use xlink:href=\"#DejaVuSans-65\" x=\"63.476562\"/>\n      <use xlink:href=\"#DejaVuSans-73\" x=\"125\"/>\n      <use xlink:href=\"#DejaVuSans-74\" x=\"177.099609\"/>\n      <use xlink:href=\"#DejaVuSans-20\" x=\"216.308594\"/>\n      <use xlink:href=\"#DejaVuSans-73\" x=\"248.095703\"/>\n      <use xlink:href=\"#DejaVuSans-6f\" x=\"300.195312\"/>\n      <use xlink:href=\"#DejaVuSans-75\" x=\"361.376953\"/>\n      <use xlink:href=\"#DejaVuSans-74\" x=\"424.755859\"/>\n      <use xlink:href=\"#DejaVuSans-69\" x=\"463.964844\"/>\n      <use xlink:href=\"#DejaVuSans-6f\" x=\"491.748047\"/>\n      <use xlink:href=\"#DejaVuSans-6e\" x=\"552.929688\"/>\n     </g>\n    </g>\n   </g>\n  </g>\n </g>\n <defs>\n  <clipPath id=\"p841d1e0856\">\n   <rect x=\"43.78125\" y=\"22.318125\" width=\"357.12\" height=\"266.112\"/>\n  </clipPath>\n </defs>\n</svg>\n"
          },
          "metadata": {}
        }
      ]
    },
    {
      "cell_type": "code",
      "source": [
        "def Sphere(*x):\n",
        "\treturn np.sum(np.array([i**2 for i in x]), axis=0)"
      ],
      "metadata": {
        "id": "VCwKfd0aNVVx"
      },
      "execution_count": null,
      "outputs": []
    },
    {
      "cell_type": "code",
      "source": [
        "x1 = np.array([1, 6, 8, 0, 2])\n",
        "x2 = np.array([1, 6, 8, 0, 2])\n",
        "x4 = np.array([1, 6, 8, 0, 2])\n",
        "x3 = np.array([1, 6, 8, 0, 2])\n",
        "print(Sphere(x1, x2, x3, x4))"
      ],
      "metadata": {
        "colab": {
          "base_uri": "https://localhost:8080/"
        },
        "id": "ZjBx-Awtv7gD",
        "outputId": "c3040f58-e355-438c-d382-837e66ac2bfd"
      },
      "execution_count": null,
      "outputs": [
        {
          "output_type": "stream",
          "name": "stdout",
          "text": [
            "[  4 144 256   0  16]\n"
          ]
        }
      ]
    },
    {
      "cell_type": "code",
      "source": [
        "spht = TestFunctionN(func=(sphere,3), crossover_method='single_point' \\\n",
        "                     , selection_method='tournament', mutation_method='polynomial', eta=20)\n",
        "spht.evolve(50)"
      ],
      "metadata": {
        "colab": {
          "base_uri": "https://localhost:8080/",
          "height": 951,
          "referenced_widgets": [
            "7d1218201cb748298fc41cbaab79292c",
            "058406d0a27c4d5faa5f909abf1c11a6",
            "2d31466be69c42a49a838ced6703b9a4",
            "d0b700d1df724d4e8cf76726c97e304d",
            "d1c3a3d93c04404c8122fd7b69dec26b",
            "87d4633aa510435c894e8b516c536f70",
            "a36067c31df4405699a3d99ddb066327",
            "d15d08536a994a128f0480e9751b251a",
            "cb7b37aced004be9ac7fbea9e09a7fea",
            "cdfaaa339e1b4411b7125f1b69fb6a2f",
            "ec6ecc163dc841b29007a6c4ac73f33f"
          ]
        },
        "id": "DVOxUYx4wKzi",
        "outputId": "e4ba9245-12d1-40ec-903d-1da53afb8c86"
      },
      "execution_count": null,
      "outputs": [
        {
          "output_type": "display_data",
          "data": {
            "text/plain": [
              "  0%|          | 0/50 [00:00<?, ?it/s]"
            ],
            "application/vnd.jupyter.widget-view+json": {
              "version_major": 2,
              "version_minor": 0,
              "model_id": "7d1218201cb748298fc41cbaab79292c"
            }
          },
          "metadata": {}
        },
        {
          "output_type": "stream",
          "name": "stdout",
          "text": [
            "Iteration 1: x: [-0.19660486  0.31456386  0.57097135], z: [0.46361218]\n",
            "Iteration 2: x: [ 0.14064406  0.01731706 -0.30950074], z: [0.11587134]\n",
            "Iteration 3: x: [ 0.12246607  0.09384667 -0.08430409], z: [0.03091232]\n",
            "Iteration 4: x: [-0.04175007  0.48396925 -0.27322942], z: [0.31062363]\n",
            "Iteration 5: x: [0.1191209  0.20553868 0.3273527 ], z: [0.16359573]\n",
            "Iteration 6: x: [-0.16345416  0.1514521   0.03297476], z: [0.05074234]\n",
            "Iteration 7: x: [-0.13648364 -0.05841556  0.11937256], z: [0.03628997]\n",
            "Iteration 8: x: [0.07222478 0.1281548  0.09701988], z: [0.03105293]\n",
            "Iteration 9: x: [0.12188322 0.12749678 0.1849939 ], z: [0.06533369]\n",
            "Iteration 10: x: [0.07575574 0.08572877 0.06318533], z: [0.01708074]\n",
            "Iteration 11: x: [-0.00160883  0.08574573  0.31979151], z: [0.10962153]\n",
            "Iteration 12: x: [-0.11879003  0.15939267  0.09616352], z: [0.04876452]\n",
            "Iteration 13: x: [ 0.03203962 -0.26963367  0.18075739], z: [0.10640209]\n",
            "Iteration 14: x: [ 0.22477245 -0.07928159  0.20474893], z: [0.09873035]\n",
            "Iteration 15: x: [-0.21869202  0.00492291  0.02243378], z: [0.04835371]\n",
            "Iteration 16: x: [-0.01949883  0.2067806   0.17941395], z: [0.07532779]\n",
            "Iteration 17: x: [-0.23895788  0.01101453 -0.10421832], z: [0.06808365]\n",
            "Iteration 18: x: [ 0.10734136  0.21642566 -0.33764029], z: [0.1723632]\n",
            "Iteration 19: x: [-0.06733749  0.22539843  0.15653405], z: [0.0798417]\n",
            "Iteration 20: x: [-0.01163954  0.17101483 -0.07601819], z: [0.03516032]\n",
            "Iteration 21: x: [-0.05058402 -0.00080803 -0.1790328 ], z: [0.03461214]\n",
            "Iteration 22: x: [-0.06413847 -0.15255387  0.26550998], z: [0.09788198]\n",
            "Iteration 23: x: [-0.08878232 -0.1607919  -0.08256982], z: [0.04055411]\n",
            "Iteration 24: x: [-0.1983463   0.03940693 -0.13463365], z: [0.05902038]\n",
            "Iteration 25: x: [-0.1983463   0.03940693 -0.13463365], z: [0.05902038]\n",
            "Iteration 26: x: [ 0.22693271 -0.01221935 -0.0347333 ], z: [0.05285417]\n",
            "Iteration 27: x: [-0.00586297 -0.09290783 -0.18640046], z: [0.04341137]\n",
            "Iteration 28: x: [0.06298009 0.06255419 0.13598672], z: [0.02637191]\n",
            "Iteration 29: x: [0.0771934  0.11786269 0.19192028], z: [0.05668383]\n",
            "Iteration 30: x: [0.07948735 0.19312381 0.02329065], z: [0.0441575]\n",
            "Iteration 31: x: [0.07948735 0.19312381 0.02329065], z: [0.0441575]\n",
            "Iteration 32: x: [0.07948735 0.19312381 0.02329065], z: [0.0441575]\n",
            "Iteration 33: x: [-0.02302274  0.12257809  0.00608954], z: [0.01559252]\n",
            "Iteration 34: x: [-0.1483013  -0.00847518  0.04658493], z: [0.02423526]\n",
            "Iteration 35: x: [-0.06189009 -0.00835082  0.02332853], z: [0.00444434]\n",
            "Iteration 36: x: [-0.08718497  0.01793805 -0.34192366], z: [0.12483478]\n",
            "Iteration 37: x: [0.30459219 0.02036267 0.27006053], z: [0.16612373]\n",
            "Iteration 38: x: [-0.16916395  0.25241162 -0.01224581], z: [0.09247803]\n",
            "Iteration 39: x: [ 0.05047657 -0.14822787 -0.22384779], z: [0.07462722]\n",
            "Iteration 40: x: [-0.14915972 -0.06924736 -0.06620849], z: [0.03142738]\n",
            "Iteration 41: x: [-0.14915972 -0.06924736 -0.06620849], z: [0.03142738]\n",
            "Iteration 42: x: [-0.14915972 -0.06924736 -0.06620849], z: [0.03142738]\n",
            "Iteration 43: x: [-0.14915972 -0.06924736 -0.06620849], z: [0.03142738]\n",
            "Iteration 44: x: [-0.14915972 -0.06924736 -0.06620849], z: [0.03142738]\n",
            "Iteration 45: x: [-0.14915972 -0.06924736 -0.06620849], z: [0.03142738]\n",
            "Iteration 46: x: [-0.14915972 -0.06924736 -0.06620849], z: [0.03142738]\n",
            "Iteration 47: x: [-0.14915972 -0.06924736 -0.06620849], z: [0.03142738]\n",
            "Iteration 48: x: [-0.14915972 -0.06924736 -0.06620849], z: [0.03142738]\n",
            "Iteration 49: x: [-0.05728695  0.05760215 -0.09893035], z: [0.01638702]\n",
            "Iteration 50: x: [-0.02310885  0.1734689  -0.0415154 ], z: [0.03234901]\n",
            "Best Solution: x: [-0.02310885  0.1734689  -0.0415154 ], z: [0.03234901]\n"
          ]
        },
        {
          "output_type": "execute_result",
          "data": {
            "text/plain": [
              "array([-0.02310885,  0.1734689 , -0.0415154 ])"
            ]
          },
          "metadata": {},
          "execution_count": 62
        }
      ]
    },
    {
      "cell_type": "code",
      "source": [
        "# ----------------- Rastrigin -------------------\n",
        "def Rastrigin(x):\n",
        "\ttry:\n",
        "\t\tA, n = 10, x.shape[1]\n",
        "\t\tout = A * n * np.ones(x[:,0].shape, dtype='float')\n",
        "\t\tfor i in range(n):\n",
        "\t\t\tout += (x[:,i]**2 - A*np.cos(2*np.pi*x[:,i]))\n",
        "\t\treturn out\n",
        "\texcept:\n",
        "\t\treturn (10 * x.shape[0]) + np.sum(np.array([i**2 - 10 * np.cos(2*np.pi*i) for i in x]))"
      ],
      "metadata": {
        "id": "yHr2rNnCwRbP"
      },
      "execution_count": 22,
      "outputs": []
    },
    {
      "cell_type": "code",
      "source": [
        "rst = TestFunctionN(func=(Rastrigin,3), num_pop=300, crossover_method='uniform' \\\n",
        "                     , selection_method='tournament', mutation_method='polynomial', eta=100)\n",
        "rst.evolve(50)"
      ],
      "metadata": {
        "id": "RluRo6Ygyekd",
        "colab": {
          "base_uri": "https://localhost:8080/",
          "height": 1000,
          "referenced_widgets": [
            "062c6e11b9e546418771db1c8c379154",
            "0a7715104f6044459999608134f66384",
            "53dbfb4c00cf44b38dfc0a9a61426d97",
            "760e423d94f44149b0d8094d8fefc6ae",
            "c00f8d8cb54e4671a4d061c882c4c32d",
            "6c5bdd483bba4b23b532905770f5ba61",
            "d5eeeb580d7b43afa64186669b8c685f",
            "bf7f5d91a065474e881faf15e03ffe4c",
            "b561e584cc5b429aa6d3d139d680ca87",
            "8085e88f4aab4a098e25deb6e10fcf93",
            "d54fa50a94c44c6b9227b6519d41c5f6"
          ]
        },
        "outputId": "c58d799a-41a1-4374-e892-3ef69c64f496"
      },
      "execution_count": 23,
      "outputs": [
        {
          "output_type": "display_data",
          "data": {
            "text/plain": [
              "  0%|          | 0/50 [00:00<?, ?it/s]"
            ],
            "application/vnd.jupyter.widget-view+json": {
              "version_major": 2,
              "version_minor": 0,
              "model_id": "062c6e11b9e546418771db1c8c379154"
            }
          },
          "metadata": {}
        },
        {
          "output_type": "stream",
          "name": "stdout",
          "text": [
            "Iteration 1: x: [-1.05682988 -0.97959006  0.8545916 ], z: 7.410912284785031\n",
            "Iteration 2: x: [ 1.02531729  0.0356934  -0.03113115], z: 1.620895614551909\n",
            "Iteration 3: x: [ 0.94973407  0.02076399 -0.00439334], z: 1.4858500095244231\n",
            "Iteration 4: x: [ 0.00547125 -0.04167766  0.0372558 ], z: 0.6227141560979703\n",
            "Iteration 5: x: [-0.05942914  0.01047007 -0.04521102], z: 1.1171779170534677\n",
            "Iteration 6: x: [ 0.0014942   0.01287085 -0.01681554], z: 0.08933638395107835\n",
            "Iteration 7: x: [-0.06459957 -0.00650456 -0.00421924], z: 0.8285879202682196\n",
            "Iteration 8: x: [0.0278777  0.01669677 0.00748384], z: 0.22015893795254016\n",
            "Iteration 9: x: [0.03928284 0.00977641 0.00230058], z: 0.3246098503699315\n",
            "Iteration 10: x: [0.02230313 0.00335852 0.00134187], z: 0.10112049254709632\n",
            "Iteration 11: x: [ 0.03360106  0.01874272 -0.00309501], z: 0.2946775481917143\n",
            "Iteration 12: x: [ 0.00380166 -0.00573278  0.05076639], z: 0.5163890626272618\n",
            "Iteration 13: x: [-0.02026214 -0.02780615 -0.0258471 ], z: 0.36659753830520714\n",
            "Iteration 14: x: [ 0.02599049 -0.00068632 -0.03282048], z: 0.3467647584063229\n",
            "Iteration 15: x: [ 0.0225479  -0.01209156 -0.0145398 ], z: 0.17160073549574406\n",
            "Iteration 16: x: [-0.03073254  0.00604919  0.01122281], z: 0.21903688148552547\n",
            "Iteration 17: x: [ 0.00490718 -0.02666238  0.02475347], z: 0.26680057054198514\n",
            "Iteration 18: x: [-0.01612161  0.0181455   0.00775201], z: 0.12869133191306759\n",
            "Iteration 19: x: [-0.01612161  0.0181455   0.00775201], z: 0.12869133191306759\n",
            "Iteration 20: x: [ 0.02122585  0.00320383 -0.00346952], z: 0.09367556524533072\n",
            "Iteration 21: x: [-0.02609971 -0.01176376  0.00303409], z: 0.16411111000411438\n",
            "Iteration 22: x: [-0.01403385 -0.00476303  0.00564385], z: 0.049867140713445224\n",
            "Iteration 23: x: [-0.00066316  0.01255168  0.01768563], z: 0.09331665855751936\n",
            "Iteration 24: x: [-0.011366   -0.02652726 -0.02026785], z: 0.24629203846721737\n",
            "Iteration 25: x: [-0.03122939 -0.00508497 -0.01616992], z: 0.249827744093988\n",
            "Iteration 26: x: [-0.0119629  -0.04097507  0.01478301], z: 0.40296894754968093\n",
            "Iteration 27: x: [ 0.00104118 -0.01045011  0.00219858], z: 0.022831664336905533\n",
            "Iteration 28: x: [ 0.00104118 -0.01045011  0.00219858], z: 0.022831664336905533\n",
            "Iteration 29: x: [ 0.00104118 -0.01045011  0.00219858], z: 0.022831664336905533\n",
            "Iteration 30: x: [ 0.00104118 -0.01045011  0.00219858], z: 0.022831664336905533\n",
            "Iteration 31: x: [ 0.00104118 -0.01045011  0.00219858], z: 0.022831664336905533\n",
            "Iteration 32: x: [ 0.00104118 -0.01045011  0.00219858], z: 0.022831664336905533\n",
            "Iteration 33: x: [ 0.00104118 -0.01045011  0.00219858], z: 0.022831664336905533\n",
            "Iteration 34: x: [ 0.00104118 -0.01045011  0.00219858], z: 0.022831664336905533\n",
            "Iteration 35: x: [ 0.00104118 -0.01045011  0.00219858], z: 0.022831664336905533\n",
            "Iteration 36: x: [ 0.00104118 -0.01045011  0.00219858], z: 0.022831664336905533\n",
            "Iteration 37: x: [ 0.00104118 -0.01045011  0.00219858], z: 0.022831664336905533\n",
            "Iteration 38: x: [ 0.00104118 -0.01045011  0.00219858], z: 0.022831664336905533\n",
            "Iteration 39: x: [ 0.00104118 -0.01045011  0.00219858], z: 0.022831664336905533\n",
            "Iteration 40: x: [ 0.00104118 -0.01045011  0.00219858], z: 0.022831664336905533\n",
            "Iteration 41: x: [ 0.00104118 -0.01045011  0.00219858], z: 0.022831664336905533\n",
            "Iteration 42: x: [ 0.00104118 -0.01045011  0.00219858], z: 0.022831664336905533\n",
            "Iteration 43: x: [ 0.00104118 -0.01045011  0.00219858], z: 0.022831664336905533\n",
            "Iteration 44: x: [ 0.00104118 -0.01045011  0.00219858], z: 0.022831664336905533\n",
            "Iteration 45: x: [ 0.00104118 -0.01045011  0.00219858], z: 0.022831664336905533\n",
            "Iteration 46: x: [ 0.00104118 -0.01045011  0.00219858], z: 0.022831664336905533\n",
            "Iteration 47: x: [ 0.00104118 -0.01045011  0.00219858], z: 0.022831664336905533\n",
            "Iteration 48: x: [ 0.00104118 -0.01045011  0.00219858], z: 0.022831664336905533\n",
            "Iteration 49: x: [ 0.00104118 -0.01045011  0.00219858], z: 0.022831664336905533\n",
            "Iteration 50: x: [ 0.00104118 -0.01045011  0.00219858], z: 0.022831664336905533\n",
            "Best Solution: x: [ 0.00104118 -0.01045011  0.00219858], z: 0.022831664336905533\n"
          ]
        },
        {
          "output_type": "execute_result",
          "data": {
            "text/plain": [
              "array([ 0.00104118, -0.01045011,  0.00219858])"
            ]
          },
          "metadata": {},
          "execution_count": 23
        },
        {
          "output_type": "display_data",
          "data": {
            "text/plain": [
              "<Figure size 640x480 with 1 Axes>"
            ],
            "image/svg+xml": "<?xml version=\"1.0\" encoding=\"utf-8\" standalone=\"no\"?>\n<!DOCTYPE svg PUBLIC \"-//W3C//DTD SVG 1.1//EN\"\n  \"http://www.w3.org/Graphics/SVG/1.1/DTD/svg11.dtd\">\n<svg xmlns:xlink=\"http://www.w3.org/1999/xlink\" width=\"398.560625pt\" height=\"325.986375pt\" viewBox=\"0 0 398.560625 325.986375\" xmlns=\"http://www.w3.org/2000/svg\" version=\"1.1\">\n <metadata>\n  <rdf:RDF xmlns:dc=\"http://purl.org/dc/elements/1.1/\" xmlns:cc=\"http://creativecommons.org/ns#\" xmlns:rdf=\"http://www.w3.org/1999/02/22-rdf-syntax-ns#\">\n   <cc:Work>\n    <dc:type rdf:resource=\"http://purl.org/dc/dcmitype/StillImage\"/>\n    <dc:date>2023-04-22T06:06:53.510338</dc:date>\n    <dc:format>image/svg+xml</dc:format>\n    <dc:creator>\n     <cc:Agent>\n      <dc:title>Matplotlib v3.7.1, https://matplotlib.org/</dc:title>\n     </cc:Agent>\n    </dc:creator>\n   </cc:Work>\n  </rdf:RDF>\n </metadata>\n <defs>\n  <style type=\"text/css\">*{stroke-linejoin: round; stroke-linecap: butt}</style>\n </defs>\n <g id=\"figure_1\">\n  <g id=\"patch_1\">\n   <path d=\"M 0 325.986375 \nL 398.560625 325.986375 \nL 398.560625 0 \nL 0 0 \nz\n\" style=\"fill: #ffffff\"/>\n  </g>\n  <g id=\"axes_1\">\n   <g id=\"patch_2\">\n    <path d=\"M 34.240625 288.430125 \nL 391.360625 288.430125 \nL 391.360625 22.318125 \nL 34.240625 22.318125 \nz\n\" style=\"fill: #ffffff\"/>\n   </g>\n   <g id=\"matplotlib.axis_1\">\n    <g id=\"xtick_1\">\n     <g id=\"line2d_1\">\n      <defs>\n       <path id=\"mfbedaf160b\" d=\"M 0 0 \nL 0 3.5 \n\" style=\"stroke: #000000; stroke-width: 0.8\"/>\n      </defs>\n      <g>\n       <use xlink:href=\"#mfbedaf160b\" x=\"43.847749\" y=\"288.430125\" style=\"stroke: #000000; stroke-width: 0.8\"/>\n      </g>\n     </g>\n     <g id=\"text_1\">\n      <!-- 0 -->\n      <g transform=\"translate(40.666499 303.028562) scale(0.1 -0.1)\">\n       <defs>\n        <path id=\"DejaVuSans-30\" d=\"M 2034 4250 \nQ 1547 4250 1301 3770 \nQ 1056 3291 1056 2328 \nQ 1056 1369 1301 889 \nQ 1547 409 2034 409 \nQ 2525 409 2770 889 \nQ 3016 1369 3016 2328 \nQ 3016 3291 2770 3770 \nQ 2525 4250 2034 4250 \nz\nM 2034 4750 \nQ 2819 4750 3233 4129 \nQ 3647 3509 3647 2328 \nQ 3647 1150 3233 529 \nQ 2819 -91 2034 -91 \nQ 1250 -91 836 529 \nQ 422 1150 422 2328 \nQ 422 3509 836 4129 \nQ 1250 4750 2034 4750 \nz\n\" transform=\"scale(0.015625)\"/>\n       </defs>\n       <use xlink:href=\"#DejaVuSans-30\"/>\n      </g>\n     </g>\n    </g>\n    <g id=\"xtick_2\">\n     <g id=\"line2d_2\">\n      <g>\n       <use xlink:href=\"#mfbedaf160b\" x=\"110.103779\" y=\"288.430125\" style=\"stroke: #000000; stroke-width: 0.8\"/>\n      </g>\n     </g>\n     <g id=\"text_2\">\n      <!-- 10 -->\n      <g transform=\"translate(103.741279 303.028562) scale(0.1 -0.1)\">\n       <defs>\n        <path id=\"DejaVuSans-31\" d=\"M 794 531 \nL 1825 531 \nL 1825 4091 \nL 703 3866 \nL 703 4441 \nL 1819 4666 \nL 2450 4666 \nL 2450 531 \nL 3481 531 \nL 3481 0 \nL 794 0 \nL 794 531 \nz\n\" transform=\"scale(0.015625)\"/>\n       </defs>\n       <use xlink:href=\"#DejaVuSans-31\"/>\n       <use xlink:href=\"#DejaVuSans-30\" x=\"63.623047\"/>\n      </g>\n     </g>\n    </g>\n    <g id=\"xtick_3\">\n     <g id=\"line2d_3\">\n      <g>\n       <use xlink:href=\"#mfbedaf160b\" x=\"176.359809\" y=\"288.430125\" style=\"stroke: #000000; stroke-width: 0.8\"/>\n      </g>\n     </g>\n     <g id=\"text_3\">\n      <!-- 20 -->\n      <g transform=\"translate(169.997309 303.028562) scale(0.1 -0.1)\">\n       <defs>\n        <path id=\"DejaVuSans-32\" d=\"M 1228 531 \nL 3431 531 \nL 3431 0 \nL 469 0 \nL 469 531 \nQ 828 903 1448 1529 \nQ 2069 2156 2228 2338 \nQ 2531 2678 2651 2914 \nQ 2772 3150 2772 3378 \nQ 2772 3750 2511 3984 \nQ 2250 4219 1831 4219 \nQ 1534 4219 1204 4116 \nQ 875 4013 500 3803 \nL 500 4441 \nQ 881 4594 1212 4672 \nQ 1544 4750 1819 4750 \nQ 2544 4750 2975 4387 \nQ 3406 4025 3406 3419 \nQ 3406 3131 3298 2873 \nQ 3191 2616 2906 2266 \nQ 2828 2175 2409 1742 \nQ 1991 1309 1228 531 \nz\n\" transform=\"scale(0.015625)\"/>\n       </defs>\n       <use xlink:href=\"#DejaVuSans-32\"/>\n       <use xlink:href=\"#DejaVuSans-30\" x=\"63.623047\"/>\n      </g>\n     </g>\n    </g>\n    <g id=\"xtick_4\">\n     <g id=\"line2d_4\">\n      <g>\n       <use xlink:href=\"#mfbedaf160b\" x=\"242.615838\" y=\"288.430125\" style=\"stroke: #000000; stroke-width: 0.8\"/>\n      </g>\n     </g>\n     <g id=\"text_4\">\n      <!-- 30 -->\n      <g transform=\"translate(236.253338 303.028562) scale(0.1 -0.1)\">\n       <defs>\n        <path id=\"DejaVuSans-33\" d=\"M 2597 2516 \nQ 3050 2419 3304 2112 \nQ 3559 1806 3559 1356 \nQ 3559 666 3084 287 \nQ 2609 -91 1734 -91 \nQ 1441 -91 1130 -33 \nQ 819 25 488 141 \nL 488 750 \nQ 750 597 1062 519 \nQ 1375 441 1716 441 \nQ 2309 441 2620 675 \nQ 2931 909 2931 1356 \nQ 2931 1769 2642 2001 \nQ 2353 2234 1838 2234 \nL 1294 2234 \nL 1294 2753 \nL 1863 2753 \nQ 2328 2753 2575 2939 \nQ 2822 3125 2822 3475 \nQ 2822 3834 2567 4026 \nQ 2313 4219 1838 4219 \nQ 1578 4219 1281 4162 \nQ 984 4106 628 3988 \nL 628 4550 \nQ 988 4650 1302 4700 \nQ 1616 4750 1894 4750 \nQ 2613 4750 3031 4423 \nQ 3450 4097 3450 3541 \nQ 3450 3153 3228 2886 \nQ 3006 2619 2597 2516 \nz\n\" transform=\"scale(0.015625)\"/>\n       </defs>\n       <use xlink:href=\"#DejaVuSans-33\"/>\n       <use xlink:href=\"#DejaVuSans-30\" x=\"63.623047\"/>\n      </g>\n     </g>\n    </g>\n    <g id=\"xtick_5\">\n     <g id=\"line2d_5\">\n      <g>\n       <use xlink:href=\"#mfbedaf160b\" x=\"308.871868\" y=\"288.430125\" style=\"stroke: #000000; stroke-width: 0.8\"/>\n      </g>\n     </g>\n     <g id=\"text_5\">\n      <!-- 40 -->\n      <g transform=\"translate(302.509368 303.028562) scale(0.1 -0.1)\">\n       <defs>\n        <path id=\"DejaVuSans-34\" d=\"M 2419 4116 \nL 825 1625 \nL 2419 1625 \nL 2419 4116 \nz\nM 2253 4666 \nL 3047 4666 \nL 3047 1625 \nL 3713 1625 \nL 3713 1100 \nL 3047 1100 \nL 3047 0 \nL 2419 0 \nL 2419 1100 \nL 313 1100 \nL 313 1709 \nL 2253 4666 \nz\n\" transform=\"scale(0.015625)\"/>\n       </defs>\n       <use xlink:href=\"#DejaVuSans-34\"/>\n       <use xlink:href=\"#DejaVuSans-30\" x=\"63.623047\"/>\n      </g>\n     </g>\n    </g>\n    <g id=\"xtick_6\">\n     <g id=\"line2d_6\">\n      <g>\n       <use xlink:href=\"#mfbedaf160b\" x=\"375.127898\" y=\"288.430125\" style=\"stroke: #000000; stroke-width: 0.8\"/>\n      </g>\n     </g>\n     <g id=\"text_6\">\n      <!-- 50 -->\n      <g transform=\"translate(368.765398 303.028562) scale(0.1 -0.1)\">\n       <defs>\n        <path id=\"DejaVuSans-35\" d=\"M 691 4666 \nL 3169 4666 \nL 3169 4134 \nL 1269 4134 \nL 1269 2991 \nQ 1406 3038 1543 3061 \nQ 1681 3084 1819 3084 \nQ 2600 3084 3056 2656 \nQ 3513 2228 3513 1497 \nQ 3513 744 3044 326 \nQ 2575 -91 1722 -91 \nQ 1428 -91 1123 -41 \nQ 819 9 494 109 \nL 494 744 \nQ 775 591 1075 516 \nQ 1375 441 1709 441 \nQ 2250 441 2565 725 \nQ 2881 1009 2881 1497 \nQ 2881 1984 2565 2268 \nQ 2250 2553 1709 2553 \nQ 1456 2553 1204 2497 \nQ 953 2441 691 2322 \nL 691 4666 \nz\n\" transform=\"scale(0.015625)\"/>\n       </defs>\n       <use xlink:href=\"#DejaVuSans-35\"/>\n       <use xlink:href=\"#DejaVuSans-30\" x=\"63.623047\"/>\n      </g>\n     </g>\n    </g>\n    <g id=\"text_7\">\n     <!-- number of generations -->\n     <g transform=\"translate(155.49125 316.706687) scale(0.1 -0.1)\">\n      <defs>\n       <path id=\"DejaVuSans-6e\" d=\"M 3513 2113 \nL 3513 0 \nL 2938 0 \nL 2938 2094 \nQ 2938 2591 2744 2837 \nQ 2550 3084 2163 3084 \nQ 1697 3084 1428 2787 \nQ 1159 2491 1159 1978 \nL 1159 0 \nL 581 0 \nL 581 3500 \nL 1159 3500 \nL 1159 2956 \nQ 1366 3272 1645 3428 \nQ 1925 3584 2291 3584 \nQ 2894 3584 3203 3211 \nQ 3513 2838 3513 2113 \nz\n\" transform=\"scale(0.015625)\"/>\n       <path id=\"DejaVuSans-75\" d=\"M 544 1381 \nL 544 3500 \nL 1119 3500 \nL 1119 1403 \nQ 1119 906 1312 657 \nQ 1506 409 1894 409 \nQ 2359 409 2629 706 \nQ 2900 1003 2900 1516 \nL 2900 3500 \nL 3475 3500 \nL 3475 0 \nL 2900 0 \nL 2900 538 \nQ 2691 219 2414 64 \nQ 2138 -91 1772 -91 \nQ 1169 -91 856 284 \nQ 544 659 544 1381 \nz\nM 1991 3584 \nL 1991 3584 \nz\n\" transform=\"scale(0.015625)\"/>\n       <path id=\"DejaVuSans-6d\" d=\"M 3328 2828 \nQ 3544 3216 3844 3400 \nQ 4144 3584 4550 3584 \nQ 5097 3584 5394 3201 \nQ 5691 2819 5691 2113 \nL 5691 0 \nL 5113 0 \nL 5113 2094 \nQ 5113 2597 4934 2840 \nQ 4756 3084 4391 3084 \nQ 3944 3084 3684 2787 \nQ 3425 2491 3425 1978 \nL 3425 0 \nL 2847 0 \nL 2847 2094 \nQ 2847 2600 2669 2842 \nQ 2491 3084 2119 3084 \nQ 1678 3084 1418 2786 \nQ 1159 2488 1159 1978 \nL 1159 0 \nL 581 0 \nL 581 3500 \nL 1159 3500 \nL 1159 2956 \nQ 1356 3278 1631 3431 \nQ 1906 3584 2284 3584 \nQ 2666 3584 2933 3390 \nQ 3200 3197 3328 2828 \nz\n\" transform=\"scale(0.015625)\"/>\n       <path id=\"DejaVuSans-62\" d=\"M 3116 1747 \nQ 3116 2381 2855 2742 \nQ 2594 3103 2138 3103 \nQ 1681 3103 1420 2742 \nQ 1159 2381 1159 1747 \nQ 1159 1113 1420 752 \nQ 1681 391 2138 391 \nQ 2594 391 2855 752 \nQ 3116 1113 3116 1747 \nz\nM 1159 2969 \nQ 1341 3281 1617 3432 \nQ 1894 3584 2278 3584 \nQ 2916 3584 3314 3078 \nQ 3713 2572 3713 1747 \nQ 3713 922 3314 415 \nQ 2916 -91 2278 -91 \nQ 1894 -91 1617 61 \nQ 1341 213 1159 525 \nL 1159 0 \nL 581 0 \nL 581 4863 \nL 1159 4863 \nL 1159 2969 \nz\n\" transform=\"scale(0.015625)\"/>\n       <path id=\"DejaVuSans-65\" d=\"M 3597 1894 \nL 3597 1613 \nL 953 1613 \nQ 991 1019 1311 708 \nQ 1631 397 2203 397 \nQ 2534 397 2845 478 \nQ 3156 559 3463 722 \nL 3463 178 \nQ 3153 47 2828 -22 \nQ 2503 -91 2169 -91 \nQ 1331 -91 842 396 \nQ 353 884 353 1716 \nQ 353 2575 817 3079 \nQ 1281 3584 2069 3584 \nQ 2775 3584 3186 3129 \nQ 3597 2675 3597 1894 \nz\nM 3022 2063 \nQ 3016 2534 2758 2815 \nQ 2500 3097 2075 3097 \nQ 1594 3097 1305 2825 \nQ 1016 2553 972 2059 \nL 3022 2063 \nz\n\" transform=\"scale(0.015625)\"/>\n       <path id=\"DejaVuSans-72\" d=\"M 2631 2963 \nQ 2534 3019 2420 3045 \nQ 2306 3072 2169 3072 \nQ 1681 3072 1420 2755 \nQ 1159 2438 1159 1844 \nL 1159 0 \nL 581 0 \nL 581 3500 \nL 1159 3500 \nL 1159 2956 \nQ 1341 3275 1631 3429 \nQ 1922 3584 2338 3584 \nQ 2397 3584 2469 3576 \nQ 2541 3569 2628 3553 \nL 2631 2963 \nz\n\" transform=\"scale(0.015625)\"/>\n       <path id=\"DejaVuSans-20\" transform=\"scale(0.015625)\"/>\n       <path id=\"DejaVuSans-6f\" d=\"M 1959 3097 \nQ 1497 3097 1228 2736 \nQ 959 2375 959 1747 \nQ 959 1119 1226 758 \nQ 1494 397 1959 397 \nQ 2419 397 2687 759 \nQ 2956 1122 2956 1747 \nQ 2956 2369 2687 2733 \nQ 2419 3097 1959 3097 \nz\nM 1959 3584 \nQ 2709 3584 3137 3096 \nQ 3566 2609 3566 1747 \nQ 3566 888 3137 398 \nQ 2709 -91 1959 -91 \nQ 1206 -91 779 398 \nQ 353 888 353 1747 \nQ 353 2609 779 3096 \nQ 1206 3584 1959 3584 \nz\n\" transform=\"scale(0.015625)\"/>\n       <path id=\"DejaVuSans-66\" d=\"M 2375 4863 \nL 2375 4384 \nL 1825 4384 \nQ 1516 4384 1395 4259 \nQ 1275 4134 1275 3809 \nL 1275 3500 \nL 2222 3500 \nL 2222 3053 \nL 1275 3053 \nL 1275 0 \nL 697 0 \nL 697 3053 \nL 147 3053 \nL 147 3500 \nL 697 3500 \nL 697 3744 \nQ 697 4328 969 4595 \nQ 1241 4863 1831 4863 \nL 2375 4863 \nz\n\" transform=\"scale(0.015625)\"/>\n       <path id=\"DejaVuSans-67\" d=\"M 2906 1791 \nQ 2906 2416 2648 2759 \nQ 2391 3103 1925 3103 \nQ 1463 3103 1205 2759 \nQ 947 2416 947 1791 \nQ 947 1169 1205 825 \nQ 1463 481 1925 481 \nQ 2391 481 2648 825 \nQ 2906 1169 2906 1791 \nz\nM 3481 434 \nQ 3481 -459 3084 -895 \nQ 2688 -1331 1869 -1331 \nQ 1566 -1331 1297 -1286 \nQ 1028 -1241 775 -1147 \nL 775 -588 \nQ 1028 -725 1275 -790 \nQ 1522 -856 1778 -856 \nQ 2344 -856 2625 -561 \nQ 2906 -266 2906 331 \nL 2906 616 \nQ 2728 306 2450 153 \nQ 2172 0 1784 0 \nQ 1141 0 747 490 \nQ 353 981 353 1791 \nQ 353 2603 747 3093 \nQ 1141 3584 1784 3584 \nQ 2172 3584 2450 3431 \nQ 2728 3278 2906 2969 \nL 2906 3500 \nL 3481 3500 \nL 3481 434 \nz\n\" transform=\"scale(0.015625)\"/>\n       <path id=\"DejaVuSans-61\" d=\"M 2194 1759 \nQ 1497 1759 1228 1600 \nQ 959 1441 959 1056 \nQ 959 750 1161 570 \nQ 1363 391 1709 391 \nQ 2188 391 2477 730 \nQ 2766 1069 2766 1631 \nL 2766 1759 \nL 2194 1759 \nz\nM 3341 1997 \nL 3341 0 \nL 2766 0 \nL 2766 531 \nQ 2569 213 2275 61 \nQ 1981 -91 1556 -91 \nQ 1019 -91 701 211 \nQ 384 513 384 1019 \nQ 384 1609 779 1909 \nQ 1175 2209 1959 2209 \nL 2766 2209 \nL 2766 2266 \nQ 2766 2663 2505 2880 \nQ 2244 3097 1772 3097 \nQ 1472 3097 1187 3025 \nQ 903 2953 641 2809 \nL 641 3341 \nQ 956 3463 1253 3523 \nQ 1550 3584 1831 3584 \nQ 2591 3584 2966 3190 \nQ 3341 2797 3341 1997 \nz\n\" transform=\"scale(0.015625)\"/>\n       <path id=\"DejaVuSans-74\" d=\"M 1172 4494 \nL 1172 3500 \nL 2356 3500 \nL 2356 3053 \nL 1172 3053 \nL 1172 1153 \nQ 1172 725 1289 603 \nQ 1406 481 1766 481 \nL 2356 481 \nL 2356 0 \nL 1766 0 \nQ 1100 0 847 248 \nQ 594 497 594 1153 \nL 594 3053 \nL 172 3053 \nL 172 3500 \nL 594 3500 \nL 594 4494 \nL 1172 4494 \nz\n\" transform=\"scale(0.015625)\"/>\n       <path id=\"DejaVuSans-69\" d=\"M 603 3500 \nL 1178 3500 \nL 1178 0 \nL 603 0 \nL 603 3500 \nz\nM 603 4863 \nL 1178 4863 \nL 1178 4134 \nL 603 4134 \nL 603 4863 \nz\n\" transform=\"scale(0.015625)\"/>\n       <path id=\"DejaVuSans-73\" d=\"M 2834 3397 \nL 2834 2853 \nQ 2591 2978 2328 3040 \nQ 2066 3103 1784 3103 \nQ 1356 3103 1142 2972 \nQ 928 2841 928 2578 \nQ 928 2378 1081 2264 \nQ 1234 2150 1697 2047 \nL 1894 2003 \nQ 2506 1872 2764 1633 \nQ 3022 1394 3022 966 \nQ 3022 478 2636 193 \nQ 2250 -91 1575 -91 \nQ 1294 -91 989 -36 \nQ 684 19 347 128 \nL 347 722 \nQ 666 556 975 473 \nQ 1284 391 1588 391 \nQ 1994 391 2212 530 \nQ 2431 669 2431 922 \nQ 2431 1156 2273 1281 \nQ 2116 1406 1581 1522 \nL 1381 1569 \nQ 847 1681 609 1914 \nQ 372 2147 372 2553 \nQ 372 3047 722 3315 \nQ 1072 3584 1716 3584 \nQ 2034 3584 2315 3537 \nQ 2597 3491 2834 3397 \nz\n\" transform=\"scale(0.015625)\"/>\n      </defs>\n      <use xlink:href=\"#DejaVuSans-6e\"/>\n      <use xlink:href=\"#DejaVuSans-75\" x=\"63.378906\"/>\n      <use xlink:href=\"#DejaVuSans-6d\" x=\"126.757812\"/>\n      <use xlink:href=\"#DejaVuSans-62\" x=\"224.169922\"/>\n      <use xlink:href=\"#DejaVuSans-65\" x=\"287.646484\"/>\n      <use xlink:href=\"#DejaVuSans-72\" x=\"349.169922\"/>\n      <use xlink:href=\"#DejaVuSans-20\" x=\"390.283203\"/>\n      <use xlink:href=\"#DejaVuSans-6f\" x=\"422.070312\"/>\n      <use xlink:href=\"#DejaVuSans-66\" x=\"483.251953\"/>\n      <use xlink:href=\"#DejaVuSans-20\" x=\"518.457031\"/>\n      <use xlink:href=\"#DejaVuSans-67\" x=\"550.244141\"/>\n      <use xlink:href=\"#DejaVuSans-65\" x=\"613.720703\"/>\n      <use xlink:href=\"#DejaVuSans-6e\" x=\"675.244141\"/>\n      <use xlink:href=\"#DejaVuSans-65\" x=\"738.623047\"/>\n      <use xlink:href=\"#DejaVuSans-72\" x=\"800.146484\"/>\n      <use xlink:href=\"#DejaVuSans-61\" x=\"841.259766\"/>\n      <use xlink:href=\"#DejaVuSans-74\" x=\"902.539062\"/>\n      <use xlink:href=\"#DejaVuSans-69\" x=\"941.748047\"/>\n      <use xlink:href=\"#DejaVuSans-6f\" x=\"969.53125\"/>\n      <use xlink:href=\"#DejaVuSans-6e\" x=\"1030.712891\"/>\n      <use xlink:href=\"#DejaVuSans-73\" x=\"1094.091797\"/>\n     </g>\n    </g>\n   </g>\n   <g id=\"matplotlib.axis_2\">\n    <g id=\"ytick_1\">\n     <g id=\"line2d_7\">\n      <defs>\n       <path id=\"m068a831608\" d=\"M 0 0 \nL -3.5 0 \n\" style=\"stroke: #000000; stroke-width: 0.8\"/>\n      </defs>\n      <g>\n       <use xlink:href=\"#m068a831608\" x=\"34.240625\" y=\"276.334125\" style=\"stroke: #000000; stroke-width: 0.8\"/>\n      </g>\n     </g>\n     <g id=\"text_8\">\n      <!-- 0 -->\n      <g transform=\"translate(20.878125 280.133344) scale(0.1 -0.1)\">\n       <use xlink:href=\"#DejaVuSans-30\"/>\n      </g>\n     </g>\n    </g>\n    <g id=\"ytick_2\">\n     <g id=\"line2d_8\">\n      <g>\n       <use xlink:href=\"#m068a831608\" x=\"34.240625\" y=\"243.690371\" style=\"stroke: #000000; stroke-width: 0.8\"/>\n      </g>\n     </g>\n     <g id=\"text_9\">\n      <!-- 1 -->\n      <g transform=\"translate(20.878125 247.489589) scale(0.1 -0.1)\">\n       <use xlink:href=\"#DejaVuSans-31\"/>\n      </g>\n     </g>\n    </g>\n    <g id=\"ytick_3\">\n     <g id=\"line2d_9\">\n      <g>\n       <use xlink:href=\"#m068a831608\" x=\"34.240625\" y=\"211.046616\" style=\"stroke: #000000; stroke-width: 0.8\"/>\n      </g>\n     </g>\n     <g id=\"text_10\">\n      <!-- 2 -->\n      <g transform=\"translate(20.878125 214.845835) scale(0.1 -0.1)\">\n       <use xlink:href=\"#DejaVuSans-32\"/>\n      </g>\n     </g>\n    </g>\n    <g id=\"ytick_4\">\n     <g id=\"line2d_10\">\n      <g>\n       <use xlink:href=\"#m068a831608\" x=\"34.240625\" y=\"178.402862\" style=\"stroke: #000000; stroke-width: 0.8\"/>\n      </g>\n     </g>\n     <g id=\"text_11\">\n      <!-- 3 -->\n      <g transform=\"translate(20.878125 182.202081) scale(0.1 -0.1)\">\n       <use xlink:href=\"#DejaVuSans-33\"/>\n      </g>\n     </g>\n    </g>\n    <g id=\"ytick_5\">\n     <g id=\"line2d_11\">\n      <g>\n       <use xlink:href=\"#m068a831608\" x=\"34.240625\" y=\"145.759108\" style=\"stroke: #000000; stroke-width: 0.8\"/>\n      </g>\n     </g>\n     <g id=\"text_12\">\n      <!-- 4 -->\n      <g transform=\"translate(20.878125 149.558326) scale(0.1 -0.1)\">\n       <use xlink:href=\"#DejaVuSans-34\"/>\n      </g>\n     </g>\n    </g>\n    <g id=\"ytick_6\">\n     <g id=\"line2d_12\">\n      <g>\n       <use xlink:href=\"#m068a831608\" x=\"34.240625\" y=\"113.115353\" style=\"stroke: #000000; stroke-width: 0.8\"/>\n      </g>\n     </g>\n     <g id=\"text_13\">\n      <!-- 5 -->\n      <g transform=\"translate(20.878125 116.914572) scale(0.1 -0.1)\">\n       <use xlink:href=\"#DejaVuSans-35\"/>\n      </g>\n     </g>\n    </g>\n    <g id=\"ytick_7\">\n     <g id=\"line2d_13\">\n      <g>\n       <use xlink:href=\"#m068a831608\" x=\"34.240625\" y=\"80.471599\" style=\"stroke: #000000; stroke-width: 0.8\"/>\n      </g>\n     </g>\n     <g id=\"text_14\">\n      <!-- 6 -->\n      <g transform=\"translate(20.878125 84.270818) scale(0.1 -0.1)\">\n       <defs>\n        <path id=\"DejaVuSans-36\" d=\"M 2113 2584 \nQ 1688 2584 1439 2293 \nQ 1191 2003 1191 1497 \nQ 1191 994 1439 701 \nQ 1688 409 2113 409 \nQ 2538 409 2786 701 \nQ 3034 994 3034 1497 \nQ 3034 2003 2786 2293 \nQ 2538 2584 2113 2584 \nz\nM 3366 4563 \nL 3366 3988 \nQ 3128 4100 2886 4159 \nQ 2644 4219 2406 4219 \nQ 1781 4219 1451 3797 \nQ 1122 3375 1075 2522 \nQ 1259 2794 1537 2939 \nQ 1816 3084 2150 3084 \nQ 2853 3084 3261 2657 \nQ 3669 2231 3669 1497 \nQ 3669 778 3244 343 \nQ 2819 -91 2113 -91 \nQ 1303 -91 875 529 \nQ 447 1150 447 2328 \nQ 447 3434 972 4092 \nQ 1497 4750 2381 4750 \nQ 2619 4750 2861 4703 \nQ 3103 4656 3366 4563 \nz\n\" transform=\"scale(0.015625)\"/>\n       </defs>\n       <use xlink:href=\"#DejaVuSans-36\"/>\n      </g>\n     </g>\n    </g>\n    <g id=\"ytick_8\">\n     <g id=\"line2d_14\">\n      <g>\n       <use xlink:href=\"#m068a831608\" x=\"34.240625\" y=\"47.827845\" style=\"stroke: #000000; stroke-width: 0.8\"/>\n      </g>\n     </g>\n     <g id=\"text_15\">\n      <!-- 7 -->\n      <g transform=\"translate(20.878125 51.627063) scale(0.1 -0.1)\">\n       <defs>\n        <path id=\"DejaVuSans-37\" d=\"M 525 4666 \nL 3525 4666 \nL 3525 4397 \nL 1831 0 \nL 1172 0 \nL 2766 4134 \nL 525 4134 \nL 525 4666 \nz\n\" transform=\"scale(0.015625)\"/>\n       </defs>\n       <use xlink:href=\"#DejaVuSans-37\"/>\n      </g>\n     </g>\n    </g>\n    <g id=\"text_16\">\n     <!-- history -->\n     <g transform=\"translate(14.798438 172.571) rotate(-90) scale(0.1 -0.1)\">\n      <defs>\n       <path id=\"DejaVuSans-68\" d=\"M 3513 2113 \nL 3513 0 \nL 2938 0 \nL 2938 2094 \nQ 2938 2591 2744 2837 \nQ 2550 3084 2163 3084 \nQ 1697 3084 1428 2787 \nQ 1159 2491 1159 1978 \nL 1159 0 \nL 581 0 \nL 581 4863 \nL 1159 4863 \nL 1159 2956 \nQ 1366 3272 1645 3428 \nQ 1925 3584 2291 3584 \nQ 2894 3584 3203 3211 \nQ 3513 2838 3513 2113 \nz\n\" transform=\"scale(0.015625)\"/>\n       <path id=\"DejaVuSans-79\" d=\"M 2059 -325 \nQ 1816 -950 1584 -1140 \nQ 1353 -1331 966 -1331 \nL 506 -1331 \nL 506 -850 \nL 844 -850 \nQ 1081 -850 1212 -737 \nQ 1344 -625 1503 -206 \nL 1606 56 \nL 191 3500 \nL 800 3500 \nL 1894 763 \nL 2988 3500 \nL 3597 3500 \nL 2059 -325 \nz\n\" transform=\"scale(0.015625)\"/>\n      </defs>\n      <use xlink:href=\"#DejaVuSans-68\"/>\n      <use xlink:href=\"#DejaVuSans-69\" x=\"63.378906\"/>\n      <use xlink:href=\"#DejaVuSans-73\" x=\"91.162109\"/>\n      <use xlink:href=\"#DejaVuSans-74\" x=\"143.261719\"/>\n      <use xlink:href=\"#DejaVuSans-6f\" x=\"182.470703\"/>\n      <use xlink:href=\"#DejaVuSans-72\" x=\"243.652344\"/>\n      <use xlink:href=\"#DejaVuSans-79\" x=\"284.765625\"/>\n     </g>\n    </g>\n   </g>\n   <g id=\"line2d_15\">\n    <path d=\"M 50.473352 34.414125 \nL 57.098955 223.422007 \nL 63.724558 227.830402 \nL 70.350161 256.006397 \nL 76.975764 239.865244 \nL 83.601367 273.41785 \nL 90.22697 249.285904 \nL 96.852573 269.147311 \nL 103.478176 265.737641 \nL 110.103779 273.033172 \nL 116.729382 266.714744 \nL 123.354985 259.477247 \nL 129.980588 264.367005 \nL 136.606191 265.014421 \nL 143.231794 270.732433 \nL 149.857397 269.183939 \nL 156.483 267.624753 \nL 163.108603 272.133157 \nL 169.734206 272.133157 \nL 176.359809 273.276203 \nL 182.985412 270.976922 \nL 189.611015 274.706274 \nL 196.236618 273.287919 \nL 202.862221 268.294228 \nL 209.487824 268.178809 \nL 216.113426 263.179706 \nL 222.739029 275.588814 \nL 229.364632 275.588814 \nL 235.990235 275.588814 \nL 242.615838 275.588814 \nL 249.241441 275.588814 \nL 255.867044 275.588814 \nL 262.492647 275.588814 \nL 269.11825 275.588814 \nL 275.743853 275.588814 \nL 282.369456 275.588814 \nL 288.995059 275.588814 \nL 295.620662 275.588814 \nL 302.246265 275.588814 \nL 308.871868 275.588814 \nL 315.497471 275.588814 \nL 322.123074 275.588814 \nL 328.748677 275.588814 \nL 335.37428 275.588814 \nL 341.999883 275.588814 \nL 348.625486 275.588814 \nL 355.251089 275.588814 \nL 361.876692 275.588814 \nL 368.502295 275.588814 \nL 375.127898 275.588814 \n\" clip-path=\"url(#p8f27b80100)\" style=\"fill: none; stroke: #1f77b4; stroke-width: 1.5; stroke-linecap: square\"/>\n   </g>\n   <g id=\"line2d_16\">\n    <path d=\"M 50.473352 276.334125 \nL 57.098955 276.334125 \nL 63.724558 276.334125 \nL 70.350161 276.334125 \nL 76.975764 276.334125 \nL 83.601367 276.334125 \nL 90.22697 276.334125 \nL 96.852573 276.334125 \nL 103.478176 276.334125 \nL 110.103779 276.334125 \nL 116.729382 276.334125 \nL 123.354985 276.334125 \nL 129.980588 276.334125 \nL 136.606191 276.334125 \nL 143.231794 276.334125 \nL 149.857397 276.334125 \nL 156.483 276.334125 \nL 163.108603 276.334125 \nL 169.734206 276.334125 \nL 176.359809 276.334125 \nL 182.985412 276.334125 \nL 189.611015 276.334125 \nL 196.236618 276.334125 \nL 202.862221 276.334125 \nL 209.487824 276.334125 \nL 216.113426 276.334125 \nL 222.739029 276.334125 \nL 229.364632 276.334125 \nL 235.990235 276.334125 \nL 242.615838 276.334125 \nL 249.241441 276.334125 \nL 255.867044 276.334125 \nL 262.492647 276.334125 \nL 269.11825 276.334125 \nL 275.743853 276.334125 \nL 282.369456 276.334125 \nL 288.995059 276.334125 \nL 295.620662 276.334125 \nL 302.246265 276.334125 \nL 308.871868 276.334125 \nL 315.497471 276.334125 \nL 322.123074 276.334125 \nL 328.748677 276.334125 \nL 335.37428 276.334125 \nL 341.999883 276.334125 \nL 348.625486 276.334125 \nL 355.251089 276.334125 \nL 361.876692 276.334125 \nL 368.502295 276.334125 \nL 375.127898 276.334125 \n\" clip-path=\"url(#p8f27b80100)\" style=\"fill: none; stroke: #ff7f0e; stroke-width: 1.5; stroke-linecap: square\"/>\n   </g>\n   <g id=\"line2d_17\">\n    <path d=\"M 222.739029 34.414125 \nL 222.739029 223.422007 \nL 222.739029 227.830402 \nL 222.739029 256.006397 \nL 222.739029 239.865244 \nL 222.739029 273.41785 \nL 222.739029 249.285904 \nL 222.739029 269.147311 \nL 222.739029 265.737641 \nL 222.739029 273.033172 \nL 222.739029 266.714744 \nL 222.739029 259.477247 \nL 222.739029 264.367005 \nL 222.739029 265.014421 \nL 222.739029 270.732433 \nL 222.739029 269.183939 \nL 222.739029 267.624753 \nL 222.739029 272.133157 \nL 222.739029 272.133157 \nL 222.739029 273.276203 \nL 222.739029 270.976922 \nL 222.739029 274.706274 \nL 222.739029 273.287919 \nL 222.739029 268.294228 \nL 222.739029 268.178809 \nL 222.739029 263.179706 \nL 222.739029 275.588814 \nL 222.739029 275.588814 \nL 222.739029 275.588814 \nL 222.739029 275.588814 \nL 222.739029 275.588814 \nL 222.739029 275.588814 \nL 222.739029 275.588814 \nL 222.739029 275.588814 \nL 222.739029 275.588814 \nL 222.739029 275.588814 \nL 222.739029 275.588814 \nL 222.739029 275.588814 \nL 222.739029 275.588814 \nL 222.739029 275.588814 \nL 222.739029 275.588814 \nL 222.739029 275.588814 \nL 222.739029 275.588814 \nL 222.739029 275.588814 \nL 222.739029 275.588814 \nL 222.739029 275.588814 \nL 222.739029 275.588814 \nL 222.739029 275.588814 \nL 222.739029 275.588814 \nL 222.739029 275.588814 \n\" clip-path=\"url(#p8f27b80100)\" style=\"fill: none; stroke: #2ca02c; stroke-width: 1.5; stroke-linecap: square\"/>\n   </g>\n   <g id=\"patch_3\">\n    <path d=\"M 34.240625 288.430125 \nL 34.240625 22.318125 \n\" style=\"fill: none; stroke: #000000; stroke-width: 0.8; stroke-linejoin: miter; stroke-linecap: square\"/>\n   </g>\n   <g id=\"patch_4\">\n    <path d=\"M 391.360625 288.430125 \nL 391.360625 22.318125 \n\" style=\"fill: none; stroke: #000000; stroke-width: 0.8; stroke-linejoin: miter; stroke-linecap: square\"/>\n   </g>\n   <g id=\"patch_5\">\n    <path d=\"M 34.240625 288.430125 \nL 391.360625 288.430125 \n\" style=\"fill: none; stroke: #000000; stroke-width: 0.8; stroke-linejoin: miter; stroke-linecap: square\"/>\n   </g>\n   <g id=\"patch_6\">\n    <path d=\"M 34.240625 22.318125 \nL 391.360625 22.318125 \n\" style=\"fill: none; stroke: #000000; stroke-width: 0.8; stroke-linejoin: miter; stroke-linecap: square\"/>\n   </g>\n   <g id=\"text_17\">\n    <!-- Best Solution 27 -->\n    <g transform=\"translate(226.051831 259.266937) scale(0.1 -0.1)\">\n     <defs>\n      <path id=\"DejaVuSans-42\" d=\"M 1259 2228 \nL 1259 519 \nL 2272 519 \nQ 2781 519 3026 730 \nQ 3272 941 3272 1375 \nQ 3272 1813 3026 2020 \nQ 2781 2228 2272 2228 \nL 1259 2228 \nz\nM 1259 4147 \nL 1259 2741 \nL 2194 2741 \nQ 2656 2741 2882 2914 \nQ 3109 3088 3109 3444 \nQ 3109 3797 2882 3972 \nQ 2656 4147 2194 4147 \nL 1259 4147 \nz\nM 628 4666 \nL 2241 4666 \nQ 2963 4666 3353 4366 \nQ 3744 4066 3744 3513 \nQ 3744 3084 3544 2831 \nQ 3344 2578 2956 2516 \nQ 3422 2416 3680 2098 \nQ 3938 1781 3938 1306 \nQ 3938 681 3513 340 \nQ 3088 0 2303 0 \nL 628 0 \nL 628 4666 \nz\n\" transform=\"scale(0.015625)\"/>\n      <path id=\"DejaVuSans-53\" d=\"M 3425 4513 \nL 3425 3897 \nQ 3066 4069 2747 4153 \nQ 2428 4238 2131 4238 \nQ 1616 4238 1336 4038 \nQ 1056 3838 1056 3469 \nQ 1056 3159 1242 3001 \nQ 1428 2844 1947 2747 \nL 2328 2669 \nQ 3034 2534 3370 2195 \nQ 3706 1856 3706 1288 \nQ 3706 609 3251 259 \nQ 2797 -91 1919 -91 \nQ 1588 -91 1214 -16 \nQ 841 59 441 206 \nL 441 856 \nQ 825 641 1194 531 \nQ 1563 422 1919 422 \nQ 2459 422 2753 634 \nQ 3047 847 3047 1241 \nQ 3047 1584 2836 1778 \nQ 2625 1972 2144 2069 \nL 1759 2144 \nQ 1053 2284 737 2584 \nQ 422 2884 422 3419 \nQ 422 4038 858 4394 \nQ 1294 4750 2059 4750 \nQ 2388 4750 2728 4690 \nQ 3069 4631 3425 4513 \nz\n\" transform=\"scale(0.015625)\"/>\n      <path id=\"DejaVuSans-6c\" d=\"M 603 4863 \nL 1178 4863 \nL 1178 0 \nL 603 0 \nL 603 4863 \nz\n\" transform=\"scale(0.015625)\"/>\n     </defs>\n     <use xlink:href=\"#DejaVuSans-42\"/>\n     <use xlink:href=\"#DejaVuSans-65\" x=\"68.603516\"/>\n     <use xlink:href=\"#DejaVuSans-73\" x=\"130.126953\"/>\n     <use xlink:href=\"#DejaVuSans-74\" x=\"182.226562\"/>\n     <use xlink:href=\"#DejaVuSans-20\" x=\"221.435547\"/>\n     <use xlink:href=\"#DejaVuSans-53\" x=\"253.222656\"/>\n     <use xlink:href=\"#DejaVuSans-6f\" x=\"316.699219\"/>\n     <use xlink:href=\"#DejaVuSans-6c\" x=\"377.880859\"/>\n     <use xlink:href=\"#DejaVuSans-75\" x=\"405.664062\"/>\n     <use xlink:href=\"#DejaVuSans-74\" x=\"469.042969\"/>\n     <use xlink:href=\"#DejaVuSans-69\" x=\"508.251953\"/>\n     <use xlink:href=\"#DejaVuSans-6f\" x=\"536.035156\"/>\n     <use xlink:href=\"#DejaVuSans-6e\" x=\"597.216797\"/>\n     <use xlink:href=\"#DejaVuSans-20\" x=\"660.595703\"/>\n     <use xlink:href=\"#DejaVuSans-32\" x=\"692.382812\"/>\n     <use xlink:href=\"#DejaVuSans-37\" x=\"756.005859\"/>\n    </g>\n   </g>\n   <g id=\"text_18\">\n    <!-- Convergence History -->\n    <g transform=\"translate(149.985313 16.318125) scale(0.12 -0.12)\">\n     <defs>\n      <path id=\"DejaVuSans-43\" d=\"M 4122 4306 \nL 4122 3641 \nQ 3803 3938 3442 4084 \nQ 3081 4231 2675 4231 \nQ 1875 4231 1450 3742 \nQ 1025 3253 1025 2328 \nQ 1025 1406 1450 917 \nQ 1875 428 2675 428 \nQ 3081 428 3442 575 \nQ 3803 722 4122 1019 \nL 4122 359 \nQ 3791 134 3420 21 \nQ 3050 -91 2638 -91 \nQ 1578 -91 968 557 \nQ 359 1206 359 2328 \nQ 359 3453 968 4101 \nQ 1578 4750 2638 4750 \nQ 3056 4750 3426 4639 \nQ 3797 4528 4122 4306 \nz\n\" transform=\"scale(0.015625)\"/>\n      <path id=\"DejaVuSans-76\" d=\"M 191 3500 \nL 800 3500 \nL 1894 563 \nL 2988 3500 \nL 3597 3500 \nL 2284 0 \nL 1503 0 \nL 191 3500 \nz\n\" transform=\"scale(0.015625)\"/>\n      <path id=\"DejaVuSans-63\" d=\"M 3122 3366 \nL 3122 2828 \nQ 2878 2963 2633 3030 \nQ 2388 3097 2138 3097 \nQ 1578 3097 1268 2742 \nQ 959 2388 959 1747 \nQ 959 1106 1268 751 \nQ 1578 397 2138 397 \nQ 2388 397 2633 464 \nQ 2878 531 3122 666 \nL 3122 134 \nQ 2881 22 2623 -34 \nQ 2366 -91 2075 -91 \nQ 1284 -91 818 406 \nQ 353 903 353 1747 \nQ 353 2603 823 3093 \nQ 1294 3584 2113 3584 \nQ 2378 3584 2631 3529 \nQ 2884 3475 3122 3366 \nz\n\" transform=\"scale(0.015625)\"/>\n      <path id=\"DejaVuSans-48\" d=\"M 628 4666 \nL 1259 4666 \nL 1259 2753 \nL 3553 2753 \nL 3553 4666 \nL 4184 4666 \nL 4184 0 \nL 3553 0 \nL 3553 2222 \nL 1259 2222 \nL 1259 0 \nL 628 0 \nL 628 4666 \nz\n\" transform=\"scale(0.015625)\"/>\n     </defs>\n     <use xlink:href=\"#DejaVuSans-43\"/>\n     <use xlink:href=\"#DejaVuSans-6f\" x=\"69.824219\"/>\n     <use xlink:href=\"#DejaVuSans-6e\" x=\"131.005859\"/>\n     <use xlink:href=\"#DejaVuSans-76\" x=\"194.384766\"/>\n     <use xlink:href=\"#DejaVuSans-65\" x=\"253.564453\"/>\n     <use xlink:href=\"#DejaVuSans-72\" x=\"315.087891\"/>\n     <use xlink:href=\"#DejaVuSans-67\" x=\"354.451172\"/>\n     <use xlink:href=\"#DejaVuSans-65\" x=\"417.927734\"/>\n     <use xlink:href=\"#DejaVuSans-6e\" x=\"479.451172\"/>\n     <use xlink:href=\"#DejaVuSans-63\" x=\"542.830078\"/>\n     <use xlink:href=\"#DejaVuSans-65\" x=\"597.810547\"/>\n     <use xlink:href=\"#DejaVuSans-20\" x=\"659.333984\"/>\n     <use xlink:href=\"#DejaVuSans-48\" x=\"691.121094\"/>\n     <use xlink:href=\"#DejaVuSans-69\" x=\"766.316406\"/>\n     <use xlink:href=\"#DejaVuSans-73\" x=\"794.099609\"/>\n     <use xlink:href=\"#DejaVuSans-74\" x=\"846.199219\"/>\n     <use xlink:href=\"#DejaVuSans-6f\" x=\"885.408203\"/>\n     <use xlink:href=\"#DejaVuSans-72\" x=\"946.589844\"/>\n     <use xlink:href=\"#DejaVuSans-79\" x=\"987.703125\"/>\n    </g>\n   </g>\n   <g id=\"legend_1\">\n    <g id=\"patch_7\">\n     <path d=\"M 280.88875 74.3525 \nL 384.360625 74.3525 \nQ 386.360625 74.3525 386.360625 72.3525 \nL 386.360625 29.318125 \nQ 386.360625 27.318125 384.360625 27.318125 \nL 280.88875 27.318125 \nQ 278.88875 27.318125 278.88875 29.318125 \nL 278.88875 72.3525 \nQ 278.88875 74.3525 280.88875 74.3525 \nz\n\" style=\"fill: #ffffff; opacity: 0.8; stroke: #cccccc; stroke-linejoin: miter\"/>\n    </g>\n    <g id=\"line2d_18\">\n     <path d=\"M 282.88875 35.416562 \nL 292.88875 35.416562 \nL 302.88875 35.416562 \n\" style=\"fill: none; stroke: #1f77b4; stroke-width: 1.5; stroke-linecap: square\"/>\n    </g>\n    <g id=\"text_19\">\n     <!-- fitness -->\n     <g transform=\"translate(310.88875 38.916562) scale(0.1 -0.1)\">\n      <use xlink:href=\"#DejaVuSans-66\"/>\n      <use xlink:href=\"#DejaVuSans-69\" x=\"35.205078\"/>\n      <use xlink:href=\"#DejaVuSans-74\" x=\"62.988281\"/>\n      <use xlink:href=\"#DejaVuSans-6e\" x=\"102.197266\"/>\n      <use xlink:href=\"#DejaVuSans-65\" x=\"165.576172\"/>\n      <use xlink:href=\"#DejaVuSans-73\" x=\"227.099609\"/>\n      <use xlink:href=\"#DejaVuSans-73\" x=\"279.199219\"/>\n     </g>\n    </g>\n    <g id=\"line2d_19\">\n     <path d=\"M 282.88875 50.094688 \nL 292.88875 50.094688 \nL 302.88875 50.094688 \n\" style=\"fill: none; stroke: #ff7f0e; stroke-width: 1.5; stroke-linecap: square\"/>\n    </g>\n    <g id=\"text_20\">\n     <!-- actual minima -->\n     <g transform=\"translate(310.88875 53.594688) scale(0.1 -0.1)\">\n      <use xlink:href=\"#DejaVuSans-61\"/>\n      <use xlink:href=\"#DejaVuSans-63\" x=\"61.279297\"/>\n      <use xlink:href=\"#DejaVuSans-74\" x=\"116.259766\"/>\n      <use xlink:href=\"#DejaVuSans-75\" x=\"155.46875\"/>\n      <use xlink:href=\"#DejaVuSans-61\" x=\"218.847656\"/>\n      <use xlink:href=\"#DejaVuSans-6c\" x=\"280.126953\"/>\n      <use xlink:href=\"#DejaVuSans-20\" x=\"307.910156\"/>\n      <use xlink:href=\"#DejaVuSans-6d\" x=\"339.697266\"/>\n      <use xlink:href=\"#DejaVuSans-69\" x=\"437.109375\"/>\n      <use xlink:href=\"#DejaVuSans-6e\" x=\"464.892578\"/>\n      <use xlink:href=\"#DejaVuSans-69\" x=\"528.271484\"/>\n      <use xlink:href=\"#DejaVuSans-6d\" x=\"556.054688\"/>\n      <use xlink:href=\"#DejaVuSans-61\" x=\"653.466797\"/>\n     </g>\n    </g>\n    <g id=\"line2d_20\">\n     <path d=\"M 282.88875 64.772812 \nL 292.88875 64.772812 \nL 302.88875 64.772812 \n\" style=\"fill: none; stroke: #2ca02c; stroke-width: 1.5; stroke-linecap: square\"/>\n    </g>\n    <g id=\"text_21\">\n     <!-- best soution -->\n     <g transform=\"translate(310.88875 68.272812) scale(0.1 -0.1)\">\n      <use xlink:href=\"#DejaVuSans-62\"/>\n      <use xlink:href=\"#DejaVuSans-65\" x=\"63.476562\"/>\n      <use xlink:href=\"#DejaVuSans-73\" x=\"125\"/>\n      <use xlink:href=\"#DejaVuSans-74\" x=\"177.099609\"/>\n      <use xlink:href=\"#DejaVuSans-20\" x=\"216.308594\"/>\n      <use xlink:href=\"#DejaVuSans-73\" x=\"248.095703\"/>\n      <use xlink:href=\"#DejaVuSans-6f\" x=\"300.195312\"/>\n      <use xlink:href=\"#DejaVuSans-75\" x=\"361.376953\"/>\n      <use xlink:href=\"#DejaVuSans-74\" x=\"424.755859\"/>\n      <use xlink:href=\"#DejaVuSans-69\" x=\"463.964844\"/>\n      <use xlink:href=\"#DejaVuSans-6f\" x=\"491.748047\"/>\n      <use xlink:href=\"#DejaVuSans-6e\" x=\"552.929688\"/>\n     </g>\n    </g>\n   </g>\n  </g>\n </g>\n <defs>\n  <clipPath id=\"p8f27b80100\">\n   <rect x=\"34.240625\" y=\"22.318125\" width=\"357.12\" height=\"266.112\"/>\n  </clipPath>\n </defs>\n</svg>\n"
          },
          "metadata": {}
        }
      ]
    },
    {
      "cell_type": "code",
      "source": [
        "# ------------------- Rosenbrock ------------------\n",
        "def Rosenbrock(x):\n",
        "    try:\n",
        "        n = x.shape[1]\n",
        "        out = np.zeros(x[:,0].shape, dtype='float')\n",
        "        for i in range(n-1):\n",
        "            out += 100 * (x[:,i+1] - x[:,i]**2)**2 + (1 - x[:,i])**2\n",
        "        return out\n",
        "    except:\n",
        "        return 100 * (x[1] - x[0]**2)**2 + (1 - x[0])**2"
      ],
      "metadata": {
        "id": "1FellmikGYSh"
      },
      "execution_count": 24,
      "outputs": []
    },
    {
      "cell_type": "code",
      "source": [
        "rsb = TestFunctionN(func=(Rosenbrock,3), num_pop=50, crossover_method='arithmetic' \\\n",
        "                     , selection_method='tournament', mutation_method='polynomial', eta=50)\n",
        "rsb.evolve(50)"
      ],
      "metadata": {
        "colab": {
          "base_uri": "https://localhost:8080/",
          "height": 1000,
          "referenced_widgets": [
            "3812847cc59d46aabf32ab7035636150",
            "d26c5bdd836a4912808b7505be6880cd",
            "8ea09c01834748bc8631375e005427fd",
            "4529885a153649968573498f6e6c9d99",
            "d3059c9107944ba38cc92ca4ce18ac14",
            "4274653022044d28bd88f152d34fec64",
            "1e7dfd0c76dd4058a7079d776c5cb0f2",
            "ac83736517e94c6e9b8d64bf6a1b46a3",
            "77ad4bae044846938475ceca663ec470",
            "0354955c38fa4b00831461a2171f7b85",
            "a47b283c766e4a6b944d79793c15130d"
          ]
        },
        "id": "4OIWbY5hJbDT",
        "outputId": "6347857e-ed90-4864-98af-26e1684bc482"
      },
      "execution_count": 26,
      "outputs": [
        {
          "output_type": "display_data",
          "data": {
            "text/plain": [
              "  0%|          | 0/50 [00:00<?, ?it/s]"
            ],
            "application/vnd.jupyter.widget-view+json": {
              "version_major": 2,
              "version_minor": 0,
              "model_id": "3812847cc59d46aabf32ab7035636150"
            }
          },
          "metadata": {}
        },
        {
          "output_type": "stream",
          "name": "stdout",
          "text": [
            "Iteration 1: x: [-0.20486291 -0.48258207  1.25954927], z: 28.96705710705914\n",
            "Iteration 2: x: [0.49147674 0.38565835 0.40016751], z: 2.3353351378375837\n",
            "Iteration 3: x: [0.34570556 0.20594573 0.17711382], z: 1.175174403536814\n",
            "Iteration 4: x: [0.32673505 0.20650825 0.40316366], z: 1.4483409281281863\n",
            "Iteration 5: x: [0.7106204  0.44723076 0.13498322], z: 0.41725354430679806\n",
            "Iteration 6: x: [0.37753113 0.24524396 0.12949779], z: 1.4424882052320878\n",
            "Iteration 7: x: [ 0.45921583  0.09718826 -0.01513643], z: 1.585009982341837\n",
            "Iteration 8: x: [0.13887854 0.10207799 0.08136311], z: 1.4269608911964322\n",
            "Iteration 9: x: [ 0.49835974  0.26785012 -0.07327014], z: 0.28961994720043377\n",
            "Iteration 10: x: [0.50465828 0.33939977 0.13643152], z: 0.9631077012891295\n",
            "Iteration 11: x: [0.44498436 0.22843211 0.11643958], z: 0.400586257705499\n",
            "Iteration 12: x: [0.63397467 0.33848986 0.17218011], z: 0.5363620500708575\n",
            "Iteration 13: x: [0.63397467 0.33848986 0.17218011], z: 0.5363620500708575\n",
            "Iteration 14: x: [0.63397467 0.33848986 0.17218011], z: 0.5363620500708575\n",
            "Iteration 15: x: [0.81605942 0.68547579 0.52313672], z: 0.07194811017592723\n",
            "Iteration 16: x: [0.81605942 0.68547579 0.52313672], z: 0.07194811017592723\n",
            "Iteration 17: x: [0.81605942 0.68547579 0.52313672], z: 0.07194811017592723\n",
            "Iteration 18: x: [0.81605942 0.68547579 0.52313672], z: 0.07194811017592723\n",
            "Iteration 19: x: [0.81605942 0.68547579 0.52313672], z: 0.07194811017592723\n",
            "Iteration 20: x: [0.81605942 0.68547579 0.52313672], z: 0.07194811017592723\n",
            "Iteration 21: x: [0.81605942 0.68547579 0.52313672], z: 0.07194811017592723\n",
            "Iteration 22: x: [0.81605942 0.68547579 0.52313672], z: 0.07194811017592723\n",
            "Iteration 23: x: [0.81605942 0.68547579 0.52313672], z: 0.07194811017592723\n",
            "Iteration 24: x: [0.93582417 0.86733296 0.70035248], z: 0.01123161267992543\n",
            "Iteration 25: x: [0.93582417 0.86733296 0.70035248], z: 0.01123161267992543\n",
            "Iteration 26: x: [0.93582417 0.86733296 0.70035248], z: 0.01123161267992543\n",
            "Iteration 27: x: [0.93582417 0.86733296 0.70035248], z: 0.01123161267992543\n",
            "Iteration 28: x: [0.93582417 0.86733296 0.70035248], z: 0.01123161267992543\n",
            "Iteration 29: x: [0.93582417 0.86733296 0.70035248], z: 0.01123161267992543\n",
            "Iteration 30: x: [0.93582417 0.86733296 0.70035248], z: 0.01123161267992543\n",
            "Iteration 31: x: [0.93582417 0.86733296 0.70035248], z: 0.01123161267992543\n",
            "Iteration 32: x: [0.93582417 0.86733296 0.70035248], z: 0.01123161267992543\n",
            "Iteration 33: x: [0.93582417 0.86733296 0.70035248], z: 0.01123161267992543\n",
            "Iteration 34: x: [0.93582417 0.86733296 0.70035248], z: 0.01123161267992543\n",
            "Iteration 35: x: [0.93582417 0.86733296 0.70035248], z: 0.01123161267992543\n",
            "Iteration 36: x: [0.93582417 0.86733296 0.70035248], z: 0.01123161267992543\n",
            "Iteration 37: x: [0.93582417 0.86733296 0.70035248], z: 0.01123161267992543\n",
            "Iteration 38: x: [0.93582417 0.86733296 0.70035248], z: 0.01123161267992543\n",
            "Iteration 39: x: [0.93582417 0.86733296 0.70035248], z: 0.01123161267992543\n",
            "Iteration 40: x: [0.93582417 0.86733296 0.70035248], z: 0.01123161267992543\n",
            "Iteration 41: x: [0.93582417 0.86733296 0.70035248], z: 0.01123161267992543\n",
            "Iteration 42: x: [0.93582417 0.86733296 0.70035248], z: 0.01123161267992543\n",
            "Iteration 43: x: [0.93582417 0.86733296 0.70035248], z: 0.01123161267992543\n",
            "Iteration 44: x: [0.93582417 0.86733296 0.70035248], z: 0.01123161267992543\n",
            "Iteration 45: x: [0.93582417 0.86733296 0.70035248], z: 0.01123161267992543\n",
            "Iteration 46: x: [0.93582417 0.86733296 0.70035248], z: 0.01123161267992543\n",
            "Iteration 47: x: [0.93582417 0.86733296 0.70035248], z: 0.01123161267992543\n",
            "Iteration 48: x: [0.93582417 0.86733296 0.70035248], z: 0.01123161267992543\n",
            "Iteration 49: x: [0.93582417 0.86733296 0.70035248], z: 0.01123161267992543\n",
            "Iteration 50: x: [0.93582417 0.86733296 0.70035248], z: 0.01123161267992543\n",
            "Best Solution: x: [0.93582417 0.86733296 0.70035248], z: 0.01123161267992543\n"
          ]
        },
        {
          "output_type": "execute_result",
          "data": {
            "text/plain": [
              "array([0.93582417, 0.86733296, 0.70035248])"
            ]
          },
          "metadata": {},
          "execution_count": 26
        },
        {
          "output_type": "display_data",
          "data": {
            "text/plain": [
              "<Figure size 640x480 with 1 Axes>"
            ],
            "image/svg+xml": "<?xml version=\"1.0\" encoding=\"utf-8\" standalone=\"no\"?>\n<!DOCTYPE svg PUBLIC \"-//W3C//DTD SVG 1.1//EN\"\n  \"http://www.w3.org/Graphics/SVG/1.1/DTD/svg11.dtd\">\n<svg xmlns:xlink=\"http://www.w3.org/1999/xlink\" width=\"404.923125pt\" height=\"325.986375pt\" viewBox=\"0 0 404.923125 325.986375\" xmlns=\"http://www.w3.org/2000/svg\" version=\"1.1\">\n <metadata>\n  <rdf:RDF xmlns:dc=\"http://purl.org/dc/elements/1.1/\" xmlns:cc=\"http://creativecommons.org/ns#\" xmlns:rdf=\"http://www.w3.org/1999/02/22-rdf-syntax-ns#\">\n   <cc:Work>\n    <dc:type rdf:resource=\"http://purl.org/dc/dcmitype/StillImage\"/>\n    <dc:date>2023-04-22T06:07:45.352072</dc:date>\n    <dc:format>image/svg+xml</dc:format>\n    <dc:creator>\n     <cc:Agent>\n      <dc:title>Matplotlib v3.7.1, https://matplotlib.org/</dc:title>\n     </cc:Agent>\n    </dc:creator>\n   </cc:Work>\n  </rdf:RDF>\n </metadata>\n <defs>\n  <style type=\"text/css\">*{stroke-linejoin: round; stroke-linecap: butt}</style>\n </defs>\n <g id=\"figure_1\">\n  <g id=\"patch_1\">\n   <path d=\"M 0 325.986375 \nL 404.923125 325.986375 \nL 404.923125 0 \nL 0 0 \nz\n\" style=\"fill: #ffffff\"/>\n  </g>\n  <g id=\"axes_1\">\n   <g id=\"patch_2\">\n    <path d=\"M 40.603125 288.430125 \nL 397.723125 288.430125 \nL 397.723125 22.318125 \nL 40.603125 22.318125 \nz\n\" style=\"fill: #ffffff\"/>\n   </g>\n   <g id=\"matplotlib.axis_1\">\n    <g id=\"xtick_1\">\n     <g id=\"line2d_1\">\n      <defs>\n       <path id=\"ma4e8f8845a\" d=\"M 0 0 \nL 0 3.5 \n\" style=\"stroke: #000000; stroke-width: 0.8\"/>\n      </defs>\n      <g>\n       <use xlink:href=\"#ma4e8f8845a\" x=\"50.210249\" y=\"288.430125\" style=\"stroke: #000000; stroke-width: 0.8\"/>\n      </g>\n     </g>\n     <g id=\"text_1\">\n      <!-- 0 -->\n      <g transform=\"translate(47.028999 303.028562) scale(0.1 -0.1)\">\n       <defs>\n        <path id=\"DejaVuSans-30\" d=\"M 2034 4250 \nQ 1547 4250 1301 3770 \nQ 1056 3291 1056 2328 \nQ 1056 1369 1301 889 \nQ 1547 409 2034 409 \nQ 2525 409 2770 889 \nQ 3016 1369 3016 2328 \nQ 3016 3291 2770 3770 \nQ 2525 4250 2034 4250 \nz\nM 2034 4750 \nQ 2819 4750 3233 4129 \nQ 3647 3509 3647 2328 \nQ 3647 1150 3233 529 \nQ 2819 -91 2034 -91 \nQ 1250 -91 836 529 \nQ 422 1150 422 2328 \nQ 422 3509 836 4129 \nQ 1250 4750 2034 4750 \nz\n\" transform=\"scale(0.015625)\"/>\n       </defs>\n       <use xlink:href=\"#DejaVuSans-30\"/>\n      </g>\n     </g>\n    </g>\n    <g id=\"xtick_2\">\n     <g id=\"line2d_2\">\n      <g>\n       <use xlink:href=\"#ma4e8f8845a\" x=\"116.466279\" y=\"288.430125\" style=\"stroke: #000000; stroke-width: 0.8\"/>\n      </g>\n     </g>\n     <g id=\"text_2\">\n      <!-- 10 -->\n      <g transform=\"translate(110.103779 303.028562) scale(0.1 -0.1)\">\n       <defs>\n        <path id=\"DejaVuSans-31\" d=\"M 794 531 \nL 1825 531 \nL 1825 4091 \nL 703 3866 \nL 703 4441 \nL 1819 4666 \nL 2450 4666 \nL 2450 531 \nL 3481 531 \nL 3481 0 \nL 794 0 \nL 794 531 \nz\n\" transform=\"scale(0.015625)\"/>\n       </defs>\n       <use xlink:href=\"#DejaVuSans-31\"/>\n       <use xlink:href=\"#DejaVuSans-30\" x=\"63.623047\"/>\n      </g>\n     </g>\n    </g>\n    <g id=\"xtick_3\">\n     <g id=\"line2d_3\">\n      <g>\n       <use xlink:href=\"#ma4e8f8845a\" x=\"182.722309\" y=\"288.430125\" style=\"stroke: #000000; stroke-width: 0.8\"/>\n      </g>\n     </g>\n     <g id=\"text_3\">\n      <!-- 20 -->\n      <g transform=\"translate(176.359809 303.028562) scale(0.1 -0.1)\">\n       <defs>\n        <path id=\"DejaVuSans-32\" d=\"M 1228 531 \nL 3431 531 \nL 3431 0 \nL 469 0 \nL 469 531 \nQ 828 903 1448 1529 \nQ 2069 2156 2228 2338 \nQ 2531 2678 2651 2914 \nQ 2772 3150 2772 3378 \nQ 2772 3750 2511 3984 \nQ 2250 4219 1831 4219 \nQ 1534 4219 1204 4116 \nQ 875 4013 500 3803 \nL 500 4441 \nQ 881 4594 1212 4672 \nQ 1544 4750 1819 4750 \nQ 2544 4750 2975 4387 \nQ 3406 4025 3406 3419 \nQ 3406 3131 3298 2873 \nQ 3191 2616 2906 2266 \nQ 2828 2175 2409 1742 \nQ 1991 1309 1228 531 \nz\n\" transform=\"scale(0.015625)\"/>\n       </defs>\n       <use xlink:href=\"#DejaVuSans-32\"/>\n       <use xlink:href=\"#DejaVuSans-30\" x=\"63.623047\"/>\n      </g>\n     </g>\n    </g>\n    <g id=\"xtick_4\">\n     <g id=\"line2d_4\">\n      <g>\n       <use xlink:href=\"#ma4e8f8845a\" x=\"248.978338\" y=\"288.430125\" style=\"stroke: #000000; stroke-width: 0.8\"/>\n      </g>\n     </g>\n     <g id=\"text_4\">\n      <!-- 30 -->\n      <g transform=\"translate(242.615838 303.028562) scale(0.1 -0.1)\">\n       <defs>\n        <path id=\"DejaVuSans-33\" d=\"M 2597 2516 \nQ 3050 2419 3304 2112 \nQ 3559 1806 3559 1356 \nQ 3559 666 3084 287 \nQ 2609 -91 1734 -91 \nQ 1441 -91 1130 -33 \nQ 819 25 488 141 \nL 488 750 \nQ 750 597 1062 519 \nQ 1375 441 1716 441 \nQ 2309 441 2620 675 \nQ 2931 909 2931 1356 \nQ 2931 1769 2642 2001 \nQ 2353 2234 1838 2234 \nL 1294 2234 \nL 1294 2753 \nL 1863 2753 \nQ 2328 2753 2575 2939 \nQ 2822 3125 2822 3475 \nQ 2822 3834 2567 4026 \nQ 2313 4219 1838 4219 \nQ 1578 4219 1281 4162 \nQ 984 4106 628 3988 \nL 628 4550 \nQ 988 4650 1302 4700 \nQ 1616 4750 1894 4750 \nQ 2613 4750 3031 4423 \nQ 3450 4097 3450 3541 \nQ 3450 3153 3228 2886 \nQ 3006 2619 2597 2516 \nz\n\" transform=\"scale(0.015625)\"/>\n       </defs>\n       <use xlink:href=\"#DejaVuSans-33\"/>\n       <use xlink:href=\"#DejaVuSans-30\" x=\"63.623047\"/>\n      </g>\n     </g>\n    </g>\n    <g id=\"xtick_5\">\n     <g id=\"line2d_5\">\n      <g>\n       <use xlink:href=\"#ma4e8f8845a\" x=\"315.234368\" y=\"288.430125\" style=\"stroke: #000000; stroke-width: 0.8\"/>\n      </g>\n     </g>\n     <g id=\"text_5\">\n      <!-- 40 -->\n      <g transform=\"translate(308.871868 303.028562) scale(0.1 -0.1)\">\n       <defs>\n        <path id=\"DejaVuSans-34\" d=\"M 2419 4116 \nL 825 1625 \nL 2419 1625 \nL 2419 4116 \nz\nM 2253 4666 \nL 3047 4666 \nL 3047 1625 \nL 3713 1625 \nL 3713 1100 \nL 3047 1100 \nL 3047 0 \nL 2419 0 \nL 2419 1100 \nL 313 1100 \nL 313 1709 \nL 2253 4666 \nz\n\" transform=\"scale(0.015625)\"/>\n       </defs>\n       <use xlink:href=\"#DejaVuSans-34\"/>\n       <use xlink:href=\"#DejaVuSans-30\" x=\"63.623047\"/>\n      </g>\n     </g>\n    </g>\n    <g id=\"xtick_6\">\n     <g id=\"line2d_6\">\n      <g>\n       <use xlink:href=\"#ma4e8f8845a\" x=\"381.490398\" y=\"288.430125\" style=\"stroke: #000000; stroke-width: 0.8\"/>\n      </g>\n     </g>\n     <g id=\"text_6\">\n      <!-- 50 -->\n      <g transform=\"translate(375.127898 303.028562) scale(0.1 -0.1)\">\n       <defs>\n        <path id=\"DejaVuSans-35\" d=\"M 691 4666 \nL 3169 4666 \nL 3169 4134 \nL 1269 4134 \nL 1269 2991 \nQ 1406 3038 1543 3061 \nQ 1681 3084 1819 3084 \nQ 2600 3084 3056 2656 \nQ 3513 2228 3513 1497 \nQ 3513 744 3044 326 \nQ 2575 -91 1722 -91 \nQ 1428 -91 1123 -41 \nQ 819 9 494 109 \nL 494 744 \nQ 775 591 1075 516 \nQ 1375 441 1709 441 \nQ 2250 441 2565 725 \nQ 2881 1009 2881 1497 \nQ 2881 1984 2565 2268 \nQ 2250 2553 1709 2553 \nQ 1456 2553 1204 2497 \nQ 953 2441 691 2322 \nL 691 4666 \nz\n\" transform=\"scale(0.015625)\"/>\n       </defs>\n       <use xlink:href=\"#DejaVuSans-35\"/>\n       <use xlink:href=\"#DejaVuSans-30\" x=\"63.623047\"/>\n      </g>\n     </g>\n    </g>\n    <g id=\"text_7\">\n     <!-- number of generations -->\n     <g transform=\"translate(161.85375 316.706687) scale(0.1 -0.1)\">\n      <defs>\n       <path id=\"DejaVuSans-6e\" d=\"M 3513 2113 \nL 3513 0 \nL 2938 0 \nL 2938 2094 \nQ 2938 2591 2744 2837 \nQ 2550 3084 2163 3084 \nQ 1697 3084 1428 2787 \nQ 1159 2491 1159 1978 \nL 1159 0 \nL 581 0 \nL 581 3500 \nL 1159 3500 \nL 1159 2956 \nQ 1366 3272 1645 3428 \nQ 1925 3584 2291 3584 \nQ 2894 3584 3203 3211 \nQ 3513 2838 3513 2113 \nz\n\" transform=\"scale(0.015625)\"/>\n       <path id=\"DejaVuSans-75\" d=\"M 544 1381 \nL 544 3500 \nL 1119 3500 \nL 1119 1403 \nQ 1119 906 1312 657 \nQ 1506 409 1894 409 \nQ 2359 409 2629 706 \nQ 2900 1003 2900 1516 \nL 2900 3500 \nL 3475 3500 \nL 3475 0 \nL 2900 0 \nL 2900 538 \nQ 2691 219 2414 64 \nQ 2138 -91 1772 -91 \nQ 1169 -91 856 284 \nQ 544 659 544 1381 \nz\nM 1991 3584 \nL 1991 3584 \nz\n\" transform=\"scale(0.015625)\"/>\n       <path id=\"DejaVuSans-6d\" d=\"M 3328 2828 \nQ 3544 3216 3844 3400 \nQ 4144 3584 4550 3584 \nQ 5097 3584 5394 3201 \nQ 5691 2819 5691 2113 \nL 5691 0 \nL 5113 0 \nL 5113 2094 \nQ 5113 2597 4934 2840 \nQ 4756 3084 4391 3084 \nQ 3944 3084 3684 2787 \nQ 3425 2491 3425 1978 \nL 3425 0 \nL 2847 0 \nL 2847 2094 \nQ 2847 2600 2669 2842 \nQ 2491 3084 2119 3084 \nQ 1678 3084 1418 2786 \nQ 1159 2488 1159 1978 \nL 1159 0 \nL 581 0 \nL 581 3500 \nL 1159 3500 \nL 1159 2956 \nQ 1356 3278 1631 3431 \nQ 1906 3584 2284 3584 \nQ 2666 3584 2933 3390 \nQ 3200 3197 3328 2828 \nz\n\" transform=\"scale(0.015625)\"/>\n       <path id=\"DejaVuSans-62\" d=\"M 3116 1747 \nQ 3116 2381 2855 2742 \nQ 2594 3103 2138 3103 \nQ 1681 3103 1420 2742 \nQ 1159 2381 1159 1747 \nQ 1159 1113 1420 752 \nQ 1681 391 2138 391 \nQ 2594 391 2855 752 \nQ 3116 1113 3116 1747 \nz\nM 1159 2969 \nQ 1341 3281 1617 3432 \nQ 1894 3584 2278 3584 \nQ 2916 3584 3314 3078 \nQ 3713 2572 3713 1747 \nQ 3713 922 3314 415 \nQ 2916 -91 2278 -91 \nQ 1894 -91 1617 61 \nQ 1341 213 1159 525 \nL 1159 0 \nL 581 0 \nL 581 4863 \nL 1159 4863 \nL 1159 2969 \nz\n\" transform=\"scale(0.015625)\"/>\n       <path id=\"DejaVuSans-65\" d=\"M 3597 1894 \nL 3597 1613 \nL 953 1613 \nQ 991 1019 1311 708 \nQ 1631 397 2203 397 \nQ 2534 397 2845 478 \nQ 3156 559 3463 722 \nL 3463 178 \nQ 3153 47 2828 -22 \nQ 2503 -91 2169 -91 \nQ 1331 -91 842 396 \nQ 353 884 353 1716 \nQ 353 2575 817 3079 \nQ 1281 3584 2069 3584 \nQ 2775 3584 3186 3129 \nQ 3597 2675 3597 1894 \nz\nM 3022 2063 \nQ 3016 2534 2758 2815 \nQ 2500 3097 2075 3097 \nQ 1594 3097 1305 2825 \nQ 1016 2553 972 2059 \nL 3022 2063 \nz\n\" transform=\"scale(0.015625)\"/>\n       <path id=\"DejaVuSans-72\" d=\"M 2631 2963 \nQ 2534 3019 2420 3045 \nQ 2306 3072 2169 3072 \nQ 1681 3072 1420 2755 \nQ 1159 2438 1159 1844 \nL 1159 0 \nL 581 0 \nL 581 3500 \nL 1159 3500 \nL 1159 2956 \nQ 1341 3275 1631 3429 \nQ 1922 3584 2338 3584 \nQ 2397 3584 2469 3576 \nQ 2541 3569 2628 3553 \nL 2631 2963 \nz\n\" transform=\"scale(0.015625)\"/>\n       <path id=\"DejaVuSans-20\" transform=\"scale(0.015625)\"/>\n       <path id=\"DejaVuSans-6f\" d=\"M 1959 3097 \nQ 1497 3097 1228 2736 \nQ 959 2375 959 1747 \nQ 959 1119 1226 758 \nQ 1494 397 1959 397 \nQ 2419 397 2687 759 \nQ 2956 1122 2956 1747 \nQ 2956 2369 2687 2733 \nQ 2419 3097 1959 3097 \nz\nM 1959 3584 \nQ 2709 3584 3137 3096 \nQ 3566 2609 3566 1747 \nQ 3566 888 3137 398 \nQ 2709 -91 1959 -91 \nQ 1206 -91 779 398 \nQ 353 888 353 1747 \nQ 353 2609 779 3096 \nQ 1206 3584 1959 3584 \nz\n\" transform=\"scale(0.015625)\"/>\n       <path id=\"DejaVuSans-66\" d=\"M 2375 4863 \nL 2375 4384 \nL 1825 4384 \nQ 1516 4384 1395 4259 \nQ 1275 4134 1275 3809 \nL 1275 3500 \nL 2222 3500 \nL 2222 3053 \nL 1275 3053 \nL 1275 0 \nL 697 0 \nL 697 3053 \nL 147 3053 \nL 147 3500 \nL 697 3500 \nL 697 3744 \nQ 697 4328 969 4595 \nQ 1241 4863 1831 4863 \nL 2375 4863 \nz\n\" transform=\"scale(0.015625)\"/>\n       <path id=\"DejaVuSans-67\" d=\"M 2906 1791 \nQ 2906 2416 2648 2759 \nQ 2391 3103 1925 3103 \nQ 1463 3103 1205 2759 \nQ 947 2416 947 1791 \nQ 947 1169 1205 825 \nQ 1463 481 1925 481 \nQ 2391 481 2648 825 \nQ 2906 1169 2906 1791 \nz\nM 3481 434 \nQ 3481 -459 3084 -895 \nQ 2688 -1331 1869 -1331 \nQ 1566 -1331 1297 -1286 \nQ 1028 -1241 775 -1147 \nL 775 -588 \nQ 1028 -725 1275 -790 \nQ 1522 -856 1778 -856 \nQ 2344 -856 2625 -561 \nQ 2906 -266 2906 331 \nL 2906 616 \nQ 2728 306 2450 153 \nQ 2172 0 1784 0 \nQ 1141 0 747 490 \nQ 353 981 353 1791 \nQ 353 2603 747 3093 \nQ 1141 3584 1784 3584 \nQ 2172 3584 2450 3431 \nQ 2728 3278 2906 2969 \nL 2906 3500 \nL 3481 3500 \nL 3481 434 \nz\n\" transform=\"scale(0.015625)\"/>\n       <path id=\"DejaVuSans-61\" d=\"M 2194 1759 \nQ 1497 1759 1228 1600 \nQ 959 1441 959 1056 \nQ 959 750 1161 570 \nQ 1363 391 1709 391 \nQ 2188 391 2477 730 \nQ 2766 1069 2766 1631 \nL 2766 1759 \nL 2194 1759 \nz\nM 3341 1997 \nL 3341 0 \nL 2766 0 \nL 2766 531 \nQ 2569 213 2275 61 \nQ 1981 -91 1556 -91 \nQ 1019 -91 701 211 \nQ 384 513 384 1019 \nQ 384 1609 779 1909 \nQ 1175 2209 1959 2209 \nL 2766 2209 \nL 2766 2266 \nQ 2766 2663 2505 2880 \nQ 2244 3097 1772 3097 \nQ 1472 3097 1187 3025 \nQ 903 2953 641 2809 \nL 641 3341 \nQ 956 3463 1253 3523 \nQ 1550 3584 1831 3584 \nQ 2591 3584 2966 3190 \nQ 3341 2797 3341 1997 \nz\n\" transform=\"scale(0.015625)\"/>\n       <path id=\"DejaVuSans-74\" d=\"M 1172 4494 \nL 1172 3500 \nL 2356 3500 \nL 2356 3053 \nL 1172 3053 \nL 1172 1153 \nQ 1172 725 1289 603 \nQ 1406 481 1766 481 \nL 2356 481 \nL 2356 0 \nL 1766 0 \nQ 1100 0 847 248 \nQ 594 497 594 1153 \nL 594 3053 \nL 172 3053 \nL 172 3500 \nL 594 3500 \nL 594 4494 \nL 1172 4494 \nz\n\" transform=\"scale(0.015625)\"/>\n       <path id=\"DejaVuSans-69\" d=\"M 603 3500 \nL 1178 3500 \nL 1178 0 \nL 603 0 \nL 603 3500 \nz\nM 603 4863 \nL 1178 4863 \nL 1178 4134 \nL 603 4134 \nL 603 4863 \nz\n\" transform=\"scale(0.015625)\"/>\n       <path id=\"DejaVuSans-73\" d=\"M 2834 3397 \nL 2834 2853 \nQ 2591 2978 2328 3040 \nQ 2066 3103 1784 3103 \nQ 1356 3103 1142 2972 \nQ 928 2841 928 2578 \nQ 928 2378 1081 2264 \nQ 1234 2150 1697 2047 \nL 1894 2003 \nQ 2506 1872 2764 1633 \nQ 3022 1394 3022 966 \nQ 3022 478 2636 193 \nQ 2250 -91 1575 -91 \nQ 1294 -91 989 -36 \nQ 684 19 347 128 \nL 347 722 \nQ 666 556 975 473 \nQ 1284 391 1588 391 \nQ 1994 391 2212 530 \nQ 2431 669 2431 922 \nQ 2431 1156 2273 1281 \nQ 2116 1406 1581 1522 \nL 1381 1569 \nQ 847 1681 609 1914 \nQ 372 2147 372 2553 \nQ 372 3047 722 3315 \nQ 1072 3584 1716 3584 \nQ 2034 3584 2315 3537 \nQ 2597 3491 2834 3397 \nz\n\" transform=\"scale(0.015625)\"/>\n      </defs>\n      <use xlink:href=\"#DejaVuSans-6e\"/>\n      <use xlink:href=\"#DejaVuSans-75\" x=\"63.378906\"/>\n      <use xlink:href=\"#DejaVuSans-6d\" x=\"126.757812\"/>\n      <use xlink:href=\"#DejaVuSans-62\" x=\"224.169922\"/>\n      <use xlink:href=\"#DejaVuSans-65\" x=\"287.646484\"/>\n      <use xlink:href=\"#DejaVuSans-72\" x=\"349.169922\"/>\n      <use xlink:href=\"#DejaVuSans-20\" x=\"390.283203\"/>\n      <use xlink:href=\"#DejaVuSans-6f\" x=\"422.070312\"/>\n      <use xlink:href=\"#DejaVuSans-66\" x=\"483.251953\"/>\n      <use xlink:href=\"#DejaVuSans-20\" x=\"518.457031\"/>\n      <use xlink:href=\"#DejaVuSans-67\" x=\"550.244141\"/>\n      <use xlink:href=\"#DejaVuSans-65\" x=\"613.720703\"/>\n      <use xlink:href=\"#DejaVuSans-6e\" x=\"675.244141\"/>\n      <use xlink:href=\"#DejaVuSans-65\" x=\"738.623047\"/>\n      <use xlink:href=\"#DejaVuSans-72\" x=\"800.146484\"/>\n      <use xlink:href=\"#DejaVuSans-61\" x=\"841.259766\"/>\n      <use xlink:href=\"#DejaVuSans-74\" x=\"902.539062\"/>\n      <use xlink:href=\"#DejaVuSans-69\" x=\"941.748047\"/>\n      <use xlink:href=\"#DejaVuSans-6f\" x=\"969.53125\"/>\n      <use xlink:href=\"#DejaVuSans-6e\" x=\"1030.712891\"/>\n      <use xlink:href=\"#DejaVuSans-73\" x=\"1094.091797\"/>\n     </g>\n    </g>\n   </g>\n   <g id=\"matplotlib.axis_2\">\n    <g id=\"ytick_1\">\n     <g id=\"line2d_7\">\n      <defs>\n       <path id=\"mcfaa2af0fe\" d=\"M 0 0 \nL -3.5 0 \n\" style=\"stroke: #000000; stroke-width: 0.8\"/>\n      </defs>\n      <g>\n       <use xlink:href=\"#mcfaa2af0fe\" x=\"40.603125\" y=\"276.334125\" style=\"stroke: #000000; stroke-width: 0.8\"/>\n      </g>\n     </g>\n     <g id=\"text_8\">\n      <!-- 0 -->\n      <g transform=\"translate(27.240625 280.133344) scale(0.1 -0.1)\">\n       <use xlink:href=\"#DejaVuSans-30\"/>\n      </g>\n     </g>\n    </g>\n    <g id=\"ytick_2\">\n     <g id=\"line2d_8\">\n      <g>\n       <use xlink:href=\"#mcfaa2af0fe\" x=\"40.603125\" y=\"234.576345\" style=\"stroke: #000000; stroke-width: 0.8\"/>\n      </g>\n     </g>\n     <g id=\"text_9\">\n      <!-- 5 -->\n      <g transform=\"translate(27.240625 238.375564) scale(0.1 -0.1)\">\n       <use xlink:href=\"#DejaVuSans-35\"/>\n      </g>\n     </g>\n    </g>\n    <g id=\"ytick_3\">\n     <g id=\"line2d_9\">\n      <g>\n       <use xlink:href=\"#mcfaa2af0fe\" x=\"40.603125\" y=\"192.818565\" style=\"stroke: #000000; stroke-width: 0.8\"/>\n      </g>\n     </g>\n     <g id=\"text_10\">\n      <!-- 10 -->\n      <g transform=\"translate(20.878125 196.617784) scale(0.1 -0.1)\">\n       <use xlink:href=\"#DejaVuSans-31\"/>\n       <use xlink:href=\"#DejaVuSans-30\" x=\"63.623047\"/>\n      </g>\n     </g>\n    </g>\n    <g id=\"ytick_4\">\n     <g id=\"line2d_10\">\n      <g>\n       <use xlink:href=\"#mcfaa2af0fe\" x=\"40.603125\" y=\"151.060785\" style=\"stroke: #000000; stroke-width: 0.8\"/>\n      </g>\n     </g>\n     <g id=\"text_11\">\n      <!-- 15 -->\n      <g transform=\"translate(20.878125 154.860004) scale(0.1 -0.1)\">\n       <use xlink:href=\"#DejaVuSans-31\"/>\n       <use xlink:href=\"#DejaVuSans-35\" x=\"63.623047\"/>\n      </g>\n     </g>\n    </g>\n    <g id=\"ytick_5\">\n     <g id=\"line2d_11\">\n      <g>\n       <use xlink:href=\"#mcfaa2af0fe\" x=\"40.603125\" y=\"109.303005\" style=\"stroke: #000000; stroke-width: 0.8\"/>\n      </g>\n     </g>\n     <g id=\"text_12\">\n      <!-- 20 -->\n      <g transform=\"translate(20.878125 113.102223) scale(0.1 -0.1)\">\n       <use xlink:href=\"#DejaVuSans-32\"/>\n       <use xlink:href=\"#DejaVuSans-30\" x=\"63.623047\"/>\n      </g>\n     </g>\n    </g>\n    <g id=\"ytick_6\">\n     <g id=\"line2d_12\">\n      <g>\n       <use xlink:href=\"#mcfaa2af0fe\" x=\"40.603125\" y=\"67.545225\" style=\"stroke: #000000; stroke-width: 0.8\"/>\n      </g>\n     </g>\n     <g id=\"text_13\">\n      <!-- 25 -->\n      <g transform=\"translate(20.878125 71.344443) scale(0.1 -0.1)\">\n       <use xlink:href=\"#DejaVuSans-32\"/>\n       <use xlink:href=\"#DejaVuSans-35\" x=\"63.623047\"/>\n      </g>\n     </g>\n    </g>\n    <g id=\"ytick_7\">\n     <g id=\"line2d_13\">\n      <g>\n       <use xlink:href=\"#mcfaa2af0fe\" x=\"40.603125\" y=\"25.787445\" style=\"stroke: #000000; stroke-width: 0.8\"/>\n      </g>\n     </g>\n     <g id=\"text_14\">\n      <!-- 30 -->\n      <g transform=\"translate(20.878125 29.586663) scale(0.1 -0.1)\">\n       <use xlink:href=\"#DejaVuSans-33\"/>\n       <use xlink:href=\"#DejaVuSans-30\" x=\"63.623047\"/>\n      </g>\n     </g>\n    </g>\n    <g id=\"text_15\">\n     <!-- history -->\n     <g transform=\"translate(14.798438 172.571) rotate(-90) scale(0.1 -0.1)\">\n      <defs>\n       <path id=\"DejaVuSans-68\" d=\"M 3513 2113 \nL 3513 0 \nL 2938 0 \nL 2938 2094 \nQ 2938 2591 2744 2837 \nQ 2550 3084 2163 3084 \nQ 1697 3084 1428 2787 \nQ 1159 2491 1159 1978 \nL 1159 0 \nL 581 0 \nL 581 4863 \nL 1159 4863 \nL 1159 2956 \nQ 1366 3272 1645 3428 \nQ 1925 3584 2291 3584 \nQ 2894 3584 3203 3211 \nQ 3513 2838 3513 2113 \nz\n\" transform=\"scale(0.015625)\"/>\n       <path id=\"DejaVuSans-79\" d=\"M 2059 -325 \nQ 1816 -950 1584 -1140 \nQ 1353 -1331 966 -1331 \nL 506 -1331 \nL 506 -850 \nL 844 -850 \nQ 1081 -850 1212 -737 \nQ 1344 -625 1503 -206 \nL 1606 56 \nL 191 3500 \nL 800 3500 \nL 1894 763 \nL 2988 3500 \nL 3597 3500 \nL 2059 -325 \nz\n\" transform=\"scale(0.015625)\"/>\n      </defs>\n      <use xlink:href=\"#DejaVuSans-68\"/>\n      <use xlink:href=\"#DejaVuSans-69\" x=\"63.378906\"/>\n      <use xlink:href=\"#DejaVuSans-73\" x=\"91.162109\"/>\n      <use xlink:href=\"#DejaVuSans-74\" x=\"143.261719\"/>\n      <use xlink:href=\"#DejaVuSans-6f\" x=\"182.470703\"/>\n      <use xlink:href=\"#DejaVuSans-72\" x=\"243.652344\"/>\n      <use xlink:href=\"#DejaVuSans-79\" x=\"284.765625\"/>\n     </g>\n    </g>\n   </g>\n   <g id=\"line2d_14\">\n    <path d=\"M 56.835852 34.414125 \nL 63.461455 256.830443 \nL 70.087058 266.51959 \nL 76.712661 264.238225 \nL 83.338264 272.849409 \nL 89.963867 264.287104 \nL 96.58947 263.096825 \nL 103.215073 264.416781 \nL 109.840676 273.915348 \nL 116.466279 268.290677 \nL 123.091882 272.988606 \nL 129.717485 271.854667 \nL 136.343088 271.854667 \nL 142.968691 271.854667 \nL 149.594294 275.733246 \nL 156.219897 275.733246 \nL 162.8455 275.733246 \nL 169.471103 275.733246 \nL 176.096706 275.733246 \nL 182.722309 275.733246 \nL 189.347912 275.733246 \nL 195.973515 275.733246 \nL 202.599118 275.733246 \nL 209.224721 276.240324 \nL 215.850324 276.240324 \nL 222.475926 276.240324 \nL 229.101529 276.240324 \nL 235.727132 276.240324 \nL 242.352735 276.240324 \nL 248.978338 276.240324 \nL 255.603941 276.240324 \nL 262.229544 276.240324 \nL 268.855147 276.240324 \nL 275.48075 276.240324 \nL 282.106353 276.240324 \nL 288.731956 276.240324 \nL 295.357559 276.240324 \nL 301.983162 276.240324 \nL 308.608765 276.240324 \nL 315.234368 276.240324 \nL 321.859971 276.240324 \nL 328.485574 276.240324 \nL 335.111177 276.240324 \nL 341.73678 276.240324 \nL 348.362383 276.240324 \nL 354.987986 276.240324 \nL 361.613589 276.240324 \nL 368.239192 276.240324 \nL 374.864795 276.240324 \nL 381.490398 276.240324 \n\" clip-path=\"url(#p391d8a8d1a)\" style=\"fill: none; stroke: #1f77b4; stroke-width: 1.5; stroke-linecap: square\"/>\n   </g>\n   <g id=\"line2d_15\">\n    <path d=\"M 56.835852 276.334125 \nL 63.461455 276.334125 \nL 70.087058 276.334125 \nL 76.712661 276.334125 \nL 83.338264 276.334125 \nL 89.963867 276.334125 \nL 96.58947 276.334125 \nL 103.215073 276.334125 \nL 109.840676 276.334125 \nL 116.466279 276.334125 \nL 123.091882 276.334125 \nL 129.717485 276.334125 \nL 136.343088 276.334125 \nL 142.968691 276.334125 \nL 149.594294 276.334125 \nL 156.219897 276.334125 \nL 162.8455 276.334125 \nL 169.471103 276.334125 \nL 176.096706 276.334125 \nL 182.722309 276.334125 \nL 189.347912 276.334125 \nL 195.973515 276.334125 \nL 202.599118 276.334125 \nL 209.224721 276.334125 \nL 215.850324 276.334125 \nL 222.475926 276.334125 \nL 229.101529 276.334125 \nL 235.727132 276.334125 \nL 242.352735 276.334125 \nL 248.978338 276.334125 \nL 255.603941 276.334125 \nL 262.229544 276.334125 \nL 268.855147 276.334125 \nL 275.48075 276.334125 \nL 282.106353 276.334125 \nL 288.731956 276.334125 \nL 295.357559 276.334125 \nL 301.983162 276.334125 \nL 308.608765 276.334125 \nL 315.234368 276.334125 \nL 321.859971 276.334125 \nL 328.485574 276.334125 \nL 335.111177 276.334125 \nL 341.73678 276.334125 \nL 348.362383 276.334125 \nL 354.987986 276.334125 \nL 361.613589 276.334125 \nL 368.239192 276.334125 \nL 374.864795 276.334125 \nL 381.490398 276.334125 \n\" clip-path=\"url(#p391d8a8d1a)\" style=\"fill: none; stroke: #ff7f0e; stroke-width: 1.5; stroke-linecap: square\"/>\n   </g>\n   <g id=\"line2d_16\">\n    <path d=\"M 209.224721 34.414125 \nL 209.224721 256.830443 \nL 209.224721 266.51959 \nL 209.224721 264.238225 \nL 209.224721 272.849409 \nL 209.224721 264.287104 \nL 209.224721 263.096825 \nL 209.224721 264.416781 \nL 209.224721 273.915348 \nL 209.224721 268.290677 \nL 209.224721 272.988606 \nL 209.224721 271.854667 \nL 209.224721 271.854667 \nL 209.224721 271.854667 \nL 209.224721 275.733246 \nL 209.224721 275.733246 \nL 209.224721 275.733246 \nL 209.224721 275.733246 \nL 209.224721 275.733246 \nL 209.224721 275.733246 \nL 209.224721 275.733246 \nL 209.224721 275.733246 \nL 209.224721 275.733246 \nL 209.224721 276.240324 \nL 209.224721 276.240324 \nL 209.224721 276.240324 \nL 209.224721 276.240324 \nL 209.224721 276.240324 \nL 209.224721 276.240324 \nL 209.224721 276.240324 \nL 209.224721 276.240324 \nL 209.224721 276.240324 \nL 209.224721 276.240324 \nL 209.224721 276.240324 \nL 209.224721 276.240324 \nL 209.224721 276.240324 \nL 209.224721 276.240324 \nL 209.224721 276.240324 \nL 209.224721 276.240324 \nL 209.224721 276.240324 \nL 209.224721 276.240324 \nL 209.224721 276.240324 \nL 209.224721 276.240324 \nL 209.224721 276.240324 \nL 209.224721 276.240324 \nL 209.224721 276.240324 \nL 209.224721 276.240324 \nL 209.224721 276.240324 \nL 209.224721 276.240324 \nL 209.224721 276.240324 \n\" clip-path=\"url(#p391d8a8d1a)\" style=\"fill: none; stroke: #2ca02c; stroke-width: 1.5; stroke-linecap: square\"/>\n   </g>\n   <g id=\"patch_3\">\n    <path d=\"M 40.603125 288.430125 \nL 40.603125 22.318125 \n\" style=\"fill: none; stroke: #000000; stroke-width: 0.8; stroke-linejoin: miter; stroke-linecap: square\"/>\n   </g>\n   <g id=\"patch_4\">\n    <path d=\"M 397.723125 288.430125 \nL 397.723125 22.318125 \n\" style=\"fill: none; stroke: #000000; stroke-width: 0.8; stroke-linejoin: miter; stroke-linecap: square\"/>\n   </g>\n   <g id=\"patch_5\">\n    <path d=\"M 40.603125 288.430125 \nL 397.723125 288.430125 \n\" style=\"fill: none; stroke: #000000; stroke-width: 0.8; stroke-linejoin: miter; stroke-linecap: square\"/>\n   </g>\n   <g id=\"patch_6\">\n    <path d=\"M 40.603125 22.318125 \nL 397.723125 22.318125 \n\" style=\"fill: none; stroke: #000000; stroke-width: 0.8; stroke-linejoin: miter; stroke-linecap: square\"/>\n   </g>\n   <g id=\"text_16\">\n    <!-- Best Solution 24 -->\n    <g transform=\"translate(212.537522 272.064546) scale(0.1 -0.1)\">\n     <defs>\n      <path id=\"DejaVuSans-42\" d=\"M 1259 2228 \nL 1259 519 \nL 2272 519 \nQ 2781 519 3026 730 \nQ 3272 941 3272 1375 \nQ 3272 1813 3026 2020 \nQ 2781 2228 2272 2228 \nL 1259 2228 \nz\nM 1259 4147 \nL 1259 2741 \nL 2194 2741 \nQ 2656 2741 2882 2914 \nQ 3109 3088 3109 3444 \nQ 3109 3797 2882 3972 \nQ 2656 4147 2194 4147 \nL 1259 4147 \nz\nM 628 4666 \nL 2241 4666 \nQ 2963 4666 3353 4366 \nQ 3744 4066 3744 3513 \nQ 3744 3084 3544 2831 \nQ 3344 2578 2956 2516 \nQ 3422 2416 3680 2098 \nQ 3938 1781 3938 1306 \nQ 3938 681 3513 340 \nQ 3088 0 2303 0 \nL 628 0 \nL 628 4666 \nz\n\" transform=\"scale(0.015625)\"/>\n      <path id=\"DejaVuSans-53\" d=\"M 3425 4513 \nL 3425 3897 \nQ 3066 4069 2747 4153 \nQ 2428 4238 2131 4238 \nQ 1616 4238 1336 4038 \nQ 1056 3838 1056 3469 \nQ 1056 3159 1242 3001 \nQ 1428 2844 1947 2747 \nL 2328 2669 \nQ 3034 2534 3370 2195 \nQ 3706 1856 3706 1288 \nQ 3706 609 3251 259 \nQ 2797 -91 1919 -91 \nQ 1588 -91 1214 -16 \nQ 841 59 441 206 \nL 441 856 \nQ 825 641 1194 531 \nQ 1563 422 1919 422 \nQ 2459 422 2753 634 \nQ 3047 847 3047 1241 \nQ 3047 1584 2836 1778 \nQ 2625 1972 2144 2069 \nL 1759 2144 \nQ 1053 2284 737 2584 \nQ 422 2884 422 3419 \nQ 422 4038 858 4394 \nQ 1294 4750 2059 4750 \nQ 2388 4750 2728 4690 \nQ 3069 4631 3425 4513 \nz\n\" transform=\"scale(0.015625)\"/>\n      <path id=\"DejaVuSans-6c\" d=\"M 603 4863 \nL 1178 4863 \nL 1178 0 \nL 603 0 \nL 603 4863 \nz\n\" transform=\"scale(0.015625)\"/>\n     </defs>\n     <use xlink:href=\"#DejaVuSans-42\"/>\n     <use xlink:href=\"#DejaVuSans-65\" x=\"68.603516\"/>\n     <use xlink:href=\"#DejaVuSans-73\" x=\"130.126953\"/>\n     <use xlink:href=\"#DejaVuSans-74\" x=\"182.226562\"/>\n     <use xlink:href=\"#DejaVuSans-20\" x=\"221.435547\"/>\n     <use xlink:href=\"#DejaVuSans-53\" x=\"253.222656\"/>\n     <use xlink:href=\"#DejaVuSans-6f\" x=\"316.699219\"/>\n     <use xlink:href=\"#DejaVuSans-6c\" x=\"377.880859\"/>\n     <use xlink:href=\"#DejaVuSans-75\" x=\"405.664062\"/>\n     <use xlink:href=\"#DejaVuSans-74\" x=\"469.042969\"/>\n     <use xlink:href=\"#DejaVuSans-69\" x=\"508.251953\"/>\n     <use xlink:href=\"#DejaVuSans-6f\" x=\"536.035156\"/>\n     <use xlink:href=\"#DejaVuSans-6e\" x=\"597.216797\"/>\n     <use xlink:href=\"#DejaVuSans-20\" x=\"660.595703\"/>\n     <use xlink:href=\"#DejaVuSans-32\" x=\"692.382812\"/>\n     <use xlink:href=\"#DejaVuSans-34\" x=\"756.005859\"/>\n    </g>\n   </g>\n   <g id=\"text_17\">\n    <!-- Convergence History -->\n    <g transform=\"translate(156.347813 16.318125) scale(0.12 -0.12)\">\n     <defs>\n      <path id=\"DejaVuSans-43\" d=\"M 4122 4306 \nL 4122 3641 \nQ 3803 3938 3442 4084 \nQ 3081 4231 2675 4231 \nQ 1875 4231 1450 3742 \nQ 1025 3253 1025 2328 \nQ 1025 1406 1450 917 \nQ 1875 428 2675 428 \nQ 3081 428 3442 575 \nQ 3803 722 4122 1019 \nL 4122 359 \nQ 3791 134 3420 21 \nQ 3050 -91 2638 -91 \nQ 1578 -91 968 557 \nQ 359 1206 359 2328 \nQ 359 3453 968 4101 \nQ 1578 4750 2638 4750 \nQ 3056 4750 3426 4639 \nQ 3797 4528 4122 4306 \nz\n\" transform=\"scale(0.015625)\"/>\n      <path id=\"DejaVuSans-76\" d=\"M 191 3500 \nL 800 3500 \nL 1894 563 \nL 2988 3500 \nL 3597 3500 \nL 2284 0 \nL 1503 0 \nL 191 3500 \nz\n\" transform=\"scale(0.015625)\"/>\n      <path id=\"DejaVuSans-63\" d=\"M 3122 3366 \nL 3122 2828 \nQ 2878 2963 2633 3030 \nQ 2388 3097 2138 3097 \nQ 1578 3097 1268 2742 \nQ 959 2388 959 1747 \nQ 959 1106 1268 751 \nQ 1578 397 2138 397 \nQ 2388 397 2633 464 \nQ 2878 531 3122 666 \nL 3122 134 \nQ 2881 22 2623 -34 \nQ 2366 -91 2075 -91 \nQ 1284 -91 818 406 \nQ 353 903 353 1747 \nQ 353 2603 823 3093 \nQ 1294 3584 2113 3584 \nQ 2378 3584 2631 3529 \nQ 2884 3475 3122 3366 \nz\n\" transform=\"scale(0.015625)\"/>\n      <path id=\"DejaVuSans-48\" d=\"M 628 4666 \nL 1259 4666 \nL 1259 2753 \nL 3553 2753 \nL 3553 4666 \nL 4184 4666 \nL 4184 0 \nL 3553 0 \nL 3553 2222 \nL 1259 2222 \nL 1259 0 \nL 628 0 \nL 628 4666 \nz\n\" transform=\"scale(0.015625)\"/>\n     </defs>\n     <use xlink:href=\"#DejaVuSans-43\"/>\n     <use xlink:href=\"#DejaVuSans-6f\" x=\"69.824219\"/>\n     <use xlink:href=\"#DejaVuSans-6e\" x=\"131.005859\"/>\n     <use xlink:href=\"#DejaVuSans-76\" x=\"194.384766\"/>\n     <use xlink:href=\"#DejaVuSans-65\" x=\"253.564453\"/>\n     <use xlink:href=\"#DejaVuSans-72\" x=\"315.087891\"/>\n     <use xlink:href=\"#DejaVuSans-67\" x=\"354.451172\"/>\n     <use xlink:href=\"#DejaVuSans-65\" x=\"417.927734\"/>\n     <use xlink:href=\"#DejaVuSans-6e\" x=\"479.451172\"/>\n     <use xlink:href=\"#DejaVuSans-63\" x=\"542.830078\"/>\n     <use xlink:href=\"#DejaVuSans-65\" x=\"597.810547\"/>\n     <use xlink:href=\"#DejaVuSans-20\" x=\"659.333984\"/>\n     <use xlink:href=\"#DejaVuSans-48\" x=\"691.121094\"/>\n     <use xlink:href=\"#DejaVuSans-69\" x=\"766.316406\"/>\n     <use xlink:href=\"#DejaVuSans-73\" x=\"794.099609\"/>\n     <use xlink:href=\"#DejaVuSans-74\" x=\"846.199219\"/>\n     <use xlink:href=\"#DejaVuSans-6f\" x=\"885.408203\"/>\n     <use xlink:href=\"#DejaVuSans-72\" x=\"946.589844\"/>\n     <use xlink:href=\"#DejaVuSans-79\" x=\"987.703125\"/>\n    </g>\n   </g>\n   <g id=\"legend_1\">\n    <g id=\"patch_7\">\n     <path d=\"M 287.25125 74.3525 \nL 390.723125 74.3525 \nQ 392.723125 74.3525 392.723125 72.3525 \nL 392.723125 29.318125 \nQ 392.723125 27.318125 390.723125 27.318125 \nL 287.25125 27.318125 \nQ 285.25125 27.318125 285.25125 29.318125 \nL 285.25125 72.3525 \nQ 285.25125 74.3525 287.25125 74.3525 \nz\n\" style=\"fill: #ffffff; opacity: 0.8; stroke: #cccccc; stroke-linejoin: miter\"/>\n    </g>\n    <g id=\"line2d_17\">\n     <path d=\"M 289.25125 35.416562 \nL 299.25125 35.416562 \nL 309.25125 35.416562 \n\" style=\"fill: none; stroke: #1f77b4; stroke-width: 1.5; stroke-linecap: square\"/>\n    </g>\n    <g id=\"text_18\">\n     <!-- fitness -->\n     <g transform=\"translate(317.25125 38.916562) scale(0.1 -0.1)\">\n      <use xlink:href=\"#DejaVuSans-66\"/>\n      <use xlink:href=\"#DejaVuSans-69\" x=\"35.205078\"/>\n      <use xlink:href=\"#DejaVuSans-74\" x=\"62.988281\"/>\n      <use xlink:href=\"#DejaVuSans-6e\" x=\"102.197266\"/>\n      <use xlink:href=\"#DejaVuSans-65\" x=\"165.576172\"/>\n      <use xlink:href=\"#DejaVuSans-73\" x=\"227.099609\"/>\n      <use xlink:href=\"#DejaVuSans-73\" x=\"279.199219\"/>\n     </g>\n    </g>\n    <g id=\"line2d_18\">\n     <path d=\"M 289.25125 50.094688 \nL 299.25125 50.094688 \nL 309.25125 50.094688 \n\" style=\"fill: none; stroke: #ff7f0e; stroke-width: 1.5; stroke-linecap: square\"/>\n    </g>\n    <g id=\"text_19\">\n     <!-- actual minima -->\n     <g transform=\"translate(317.25125 53.594688) scale(0.1 -0.1)\">\n      <use xlink:href=\"#DejaVuSans-61\"/>\n      <use xlink:href=\"#DejaVuSans-63\" x=\"61.279297\"/>\n      <use xlink:href=\"#DejaVuSans-74\" x=\"116.259766\"/>\n      <use xlink:href=\"#DejaVuSans-75\" x=\"155.46875\"/>\n      <use xlink:href=\"#DejaVuSans-61\" x=\"218.847656\"/>\n      <use xlink:href=\"#DejaVuSans-6c\" x=\"280.126953\"/>\n      <use xlink:href=\"#DejaVuSans-20\" x=\"307.910156\"/>\n      <use xlink:href=\"#DejaVuSans-6d\" x=\"339.697266\"/>\n      <use xlink:href=\"#DejaVuSans-69\" x=\"437.109375\"/>\n      <use xlink:href=\"#DejaVuSans-6e\" x=\"464.892578\"/>\n      <use xlink:href=\"#DejaVuSans-69\" x=\"528.271484\"/>\n      <use xlink:href=\"#DejaVuSans-6d\" x=\"556.054688\"/>\n      <use xlink:href=\"#DejaVuSans-61\" x=\"653.466797\"/>\n     </g>\n    </g>\n    <g id=\"line2d_19\">\n     <path d=\"M 289.25125 64.772812 \nL 299.25125 64.772812 \nL 309.25125 64.772812 \n\" style=\"fill: none; stroke: #2ca02c; stroke-width: 1.5; stroke-linecap: square\"/>\n    </g>\n    <g id=\"text_20\">\n     <!-- best soution -->\n     <g transform=\"translate(317.25125 68.272812) scale(0.1 -0.1)\">\n      <use xlink:href=\"#DejaVuSans-62\"/>\n      <use xlink:href=\"#DejaVuSans-65\" x=\"63.476562\"/>\n      <use xlink:href=\"#DejaVuSans-73\" x=\"125\"/>\n      <use xlink:href=\"#DejaVuSans-74\" x=\"177.099609\"/>\n      <use xlink:href=\"#DejaVuSans-20\" x=\"216.308594\"/>\n      <use xlink:href=\"#DejaVuSans-73\" x=\"248.095703\"/>\n      <use xlink:href=\"#DejaVuSans-6f\" x=\"300.195312\"/>\n      <use xlink:href=\"#DejaVuSans-75\" x=\"361.376953\"/>\n      <use xlink:href=\"#DejaVuSans-74\" x=\"424.755859\"/>\n      <use xlink:href=\"#DejaVuSans-69\" x=\"463.964844\"/>\n      <use xlink:href=\"#DejaVuSans-6f\" x=\"491.748047\"/>\n      <use xlink:href=\"#DejaVuSans-6e\" x=\"552.929688\"/>\n     </g>\n    </g>\n   </g>\n  </g>\n </g>\n <defs>\n  <clipPath id=\"p391d8a8d1a\">\n   <rect x=\"40.603125\" y=\"22.318125\" width=\"357.12\" height=\"266.112\"/>\n  </clipPath>\n </defs>\n</svg>\n"
          },
          "metadata": {}
        }
      ]
    },
    {
      "cell_type": "code",
      "source": [
        "rst = TestFunctionN(func=(Rastrigin,3), num_pop=150, crossover_method='uniform' \\\n",
        "                     , selection_method='tournament', mutation_method='polynomial', eta=500)\n",
        "rst.evolve(50)"
      ],
      "metadata": {
        "id": "sjIoMZ32JfgN",
        "colab": {
          "base_uri": "https://localhost:8080/",
          "height": 1000,
          "referenced_widgets": [
            "15fb2e54b8994499b8f0dd5953ab27e7",
            "a8eaead86d3d4c88b0108344e925a4da",
            "17a292ac175644e2b86fdb3d679f4ea6",
            "e5363cee5ea442bd932d832a7601e30a",
            "36e0b86810114556b699eb291b96d2fa",
            "dc5fdb1f81334e978b67390d5d75f1ec",
            "253bd724063a43998c79162a36a354f3",
            "da2239b40ba642928e2c2d2d3d39fe3c",
            "8133c3fd3e4c4188a82d9d9233c424c1",
            "c8333a8d1c134dbdb4ecf9a96978acd4",
            "1050ee449f4142f49700b3e0d8aae414"
          ]
        },
        "outputId": "70c5b65e-71f0-4bbf-a9a0-a47d6a920098"
      },
      "execution_count": 15,
      "outputs": [
        {
          "output_type": "display_data",
          "data": {
            "text/plain": [
              "  0%|          | 0/50 [00:00<?, ?it/s]"
            ],
            "application/vnd.jupyter.widget-view+json": {
              "version_major": 2,
              "version_minor": 0,
              "model_id": "15fb2e54b8994499b8f0dd5953ab27e7"
            }
          },
          "metadata": {}
        },
        {
          "output_type": "stream",
          "name": "stdout",
          "text": [
            "Iteration 1: x: [-0.88418422 -0.99829839  0.95511733], z: 5.619095495990521\n",
            "Iteration 2: x: [-0.98173775 -1.01979884  0.90445846], z: 4.713247971936191\n",
            "Iteration 3: x: [-1.03431838 -0.98815557  0.98762302], z: 3.3111472078269983\n",
            "Iteration 4: x: [-0.99761587 -0.99758032  0.99685965], z: 2.9883573099247016\n",
            "Iteration 5: x: [-0.98564062 -0.99037716  0.99585311], z: 3.006397843023528\n",
            "Iteration 6: x: [-0.99770073 -0.99741687  1.00401092], z: 3.0038210672313497\n",
            "Iteration 7: x: [-0.99455553 -1.00242661  0.99291082], z: 2.9968031689542087\n",
            "Iteration 8: x: [-0.98684049 -1.00348565  0.99735372], z: 3.0134959402746304\n",
            "Iteration 9: x: [-0.99498846 -0.99699941  0.99420061], z: 2.98581722096894\n",
            "Iteration 10: x: [-0.99101887 -0.99675916  0.99354682], z: 2.988992186100454\n",
            "Iteration 11: x: [-0.99243791 -0.9954822   0.98953487], z: 2.9920218524403133\n",
            "Iteration 12: x: [-0.9948473  -0.98599355  0.99152377], z: 3.003142265991549\n",
            "Iteration 13: x: [-0.9947053  -1.00281574  0.99838962], z: 2.999469877379603\n",
            "Iteration 14: x: [-0.98718948 -0.99058155  0.98799128], z: 3.010255347230391\n",
            "Iteration 15: x: [-0.9996332  -0.99685708  0.98666879], z: 3.0035424236044577\n",
            "Iteration 16: x: [-0.99028685 -1.00362469  0.99717402], z: 3.005073462668072\n",
            "Iteration 17: x: [-0.99695323 -0.99839471  0.99176627], z: 2.9900281105354978\n",
            "Iteration 18: x: [-0.99841837 -0.99367422  0.98506028], z: 3.0069875657817775\n",
            "Iteration 19: x: [-0.9970505  -0.99343947  0.9974982 ], z: 2.987481627027769\n",
            "Iteration 20: x: [-0.98894601 -0.99339736  1.00210846], z: 3.0026652513609378\n",
            "Iteration 21: x: [-0.99866934 -0.99136038  0.99135145], z: 2.992754179555469\n",
            "Iteration 22: x: [-0.99597034 -0.99724929  0.99513621], z: 2.9861269947019515\n",
            "Iteration 23: x: [-0.99646312 -0.99203783  0.99341283], z: 2.9874911109238873\n",
            "Iteration 24: x: [-1.00256433 -0.99207483  0.99277436], z: 2.998945949822307\n",
            "Iteration 25: x: [-0.99229939 -0.99719137  0.98943717], z: 2.993310253258173\n",
            "Iteration 26: x: [-0.99649241 -0.99320839  1.00128522], z: 2.9938901379925724\n",
            "Iteration 27: x: [-0.99392315 -1.00247975  0.99664575], z: 2.9968745984662775\n",
            "Iteration 28: x: [-0.99523227 -0.99632284  0.99210089], z: 2.986880140654023\n",
            "Iteration 29: x: [-0.99822656 -0.99619444  0.99178526], z: 2.9892944377761026\n",
            "Iteration 30: x: [-0.99566014 -0.9928528   0.99225579], z: 2.987302272480953\n",
            "Iteration 31: x: [-0.99448787 -0.9929948   0.99406701], z: 2.9858433903593635\n",
            "Iteration 32: x: [-0.99448787 -0.9929948   0.99406701], z: 2.9858433903593635\n",
            "Iteration 33: x: [-0.99448787 -0.9929948   0.99406701], z: 2.9858433903593635\n",
            "Iteration 34: x: [-0.99448787 -0.9929948   0.99406701], z: 2.9858433903593635\n",
            "Iteration 35: x: [-0.99448787 -0.9929948   0.99406701], z: 2.9858433903593635\n",
            "Iteration 36: x: [-0.99448787 -0.9929948   0.99406701], z: 2.9858433903593635\n",
            "Iteration 37: x: [-0.99448787 -0.9929948   0.99406701], z: 2.9858433903593635\n",
            "Iteration 38: x: [-0.99448787 -0.9929948   0.99406701], z: 2.9858433903593635\n",
            "Iteration 39: x: [-0.99448787 -0.9929948   0.99406701], z: 2.9858433903593635\n",
            "Iteration 40: x: [-0.99448787 -0.9929948   0.99406701], z: 2.9858433903593635\n",
            "Iteration 41: x: [-0.99448787 -0.9929948   0.99406701], z: 2.9858433903593635\n",
            "Iteration 42: x: [-0.99448787 -0.9929948   0.99406701], z: 2.9858433903593635\n",
            "Iteration 43: x: [-0.99448787 -0.9929948   0.99406701], z: 2.9858433903593635\n",
            "Iteration 44: x: [-0.99448787 -0.9929948   0.99406701], z: 2.9858433903593635\n",
            "Iteration 45: x: [-0.99448787 -0.9929948   0.99406701], z: 2.9858433903593635\n",
            "Iteration 46: x: [-0.99448787 -0.9929948   0.99406701], z: 2.9858433903593635\n",
            "Iteration 47: x: [-0.99448787 -0.9929948   0.99406701], z: 2.9858433903593635\n",
            "Iteration 48: x: [-0.99448787 -0.9929948   0.99406701], z: 2.9858433903593635\n",
            "Iteration 49: x: [-0.99448787 -0.9929948   0.99406701], z: 2.9858433903593635\n",
            "Iteration 50: x: [-0.99448787 -0.9929948   0.99406701], z: 2.9858433903593635\n",
            "Best Solution: x: [-0.99448787 -0.9929948   0.99406701], z: 2.9858433903593635\n"
          ]
        },
        {
          "output_type": "execute_result",
          "data": {
            "text/plain": [
              "array([-0.99448787, -0.9929948 ,  0.99406701])"
            ]
          },
          "metadata": {},
          "execution_count": 15
        },
        {
          "output_type": "display_data",
          "data": {
            "text/plain": [
              "<Figure size 640x480 with 1 Axes>"
            ],
            "image/svg+xml": "<?xml version=\"1.0\" encoding=\"utf-8\" standalone=\"no\"?>\n<!DOCTYPE svg PUBLIC \"-//W3C//DTD SVG 1.1//EN\"\n  \"http://www.w3.org/Graphics/SVG/1.1/DTD/svg11.dtd\">\n<svg xmlns:xlink=\"http://www.w3.org/1999/xlink\" width=\"398.560625pt\" height=\"325.986375pt\" viewBox=\"0 0 398.560625 325.986375\" xmlns=\"http://www.w3.org/2000/svg\" version=\"1.1\">\n <metadata>\n  <rdf:RDF xmlns:dc=\"http://purl.org/dc/elements/1.1/\" xmlns:cc=\"http://creativecommons.org/ns#\" xmlns:rdf=\"http://www.w3.org/1999/02/22-rdf-syntax-ns#\">\n   <cc:Work>\n    <dc:type rdf:resource=\"http://purl.org/dc/dcmitype/StillImage\"/>\n    <dc:date>2023-04-22T06:01:44.294333</dc:date>\n    <dc:format>image/svg+xml</dc:format>\n    <dc:creator>\n     <cc:Agent>\n      <dc:title>Matplotlib v3.7.1, https://matplotlib.org/</dc:title>\n     </cc:Agent>\n    </dc:creator>\n   </cc:Work>\n  </rdf:RDF>\n </metadata>\n <defs>\n  <style type=\"text/css\">*{stroke-linejoin: round; stroke-linecap: butt}</style>\n </defs>\n <g id=\"figure_1\">\n  <g id=\"patch_1\">\n   <path d=\"M 0 325.986375 \nL 398.560625 325.986375 \nL 398.560625 0 \nL 0 0 \nz\n\" style=\"fill: #ffffff\"/>\n  </g>\n  <g id=\"axes_1\">\n   <g id=\"patch_2\">\n    <path d=\"M 34.240625 288.430125 \nL 391.360625 288.430125 \nL 391.360625 22.318125 \nL 34.240625 22.318125 \nz\n\" style=\"fill: #ffffff\"/>\n   </g>\n   <g id=\"matplotlib.axis_1\">\n    <g id=\"xtick_1\">\n     <g id=\"line2d_1\">\n      <defs>\n       <path id=\"mac4ac0e9c0\" d=\"M 0 0 \nL 0 3.5 \n\" style=\"stroke: #000000; stroke-width: 0.8\"/>\n      </defs>\n      <g>\n       <use xlink:href=\"#mac4ac0e9c0\" x=\"43.847749\" y=\"288.430125\" style=\"stroke: #000000; stroke-width: 0.8\"/>\n      </g>\n     </g>\n     <g id=\"text_1\">\n      <!-- 0 -->\n      <g transform=\"translate(40.666499 303.028562) scale(0.1 -0.1)\">\n       <defs>\n        <path id=\"DejaVuSans-30\" d=\"M 2034 4250 \nQ 1547 4250 1301 3770 \nQ 1056 3291 1056 2328 \nQ 1056 1369 1301 889 \nQ 1547 409 2034 409 \nQ 2525 409 2770 889 \nQ 3016 1369 3016 2328 \nQ 3016 3291 2770 3770 \nQ 2525 4250 2034 4250 \nz\nM 2034 4750 \nQ 2819 4750 3233 4129 \nQ 3647 3509 3647 2328 \nQ 3647 1150 3233 529 \nQ 2819 -91 2034 -91 \nQ 1250 -91 836 529 \nQ 422 1150 422 2328 \nQ 422 3509 836 4129 \nQ 1250 4750 2034 4750 \nz\n\" transform=\"scale(0.015625)\"/>\n       </defs>\n       <use xlink:href=\"#DejaVuSans-30\"/>\n      </g>\n     </g>\n    </g>\n    <g id=\"xtick_2\">\n     <g id=\"line2d_2\">\n      <g>\n       <use xlink:href=\"#mac4ac0e9c0\" x=\"110.103779\" y=\"288.430125\" style=\"stroke: #000000; stroke-width: 0.8\"/>\n      </g>\n     </g>\n     <g id=\"text_2\">\n      <!-- 10 -->\n      <g transform=\"translate(103.741279 303.028562) scale(0.1 -0.1)\">\n       <defs>\n        <path id=\"DejaVuSans-31\" d=\"M 794 531 \nL 1825 531 \nL 1825 4091 \nL 703 3866 \nL 703 4441 \nL 1819 4666 \nL 2450 4666 \nL 2450 531 \nL 3481 531 \nL 3481 0 \nL 794 0 \nL 794 531 \nz\n\" transform=\"scale(0.015625)\"/>\n       </defs>\n       <use xlink:href=\"#DejaVuSans-31\"/>\n       <use xlink:href=\"#DejaVuSans-30\" x=\"63.623047\"/>\n      </g>\n     </g>\n    </g>\n    <g id=\"xtick_3\">\n     <g id=\"line2d_3\">\n      <g>\n       <use xlink:href=\"#mac4ac0e9c0\" x=\"176.359809\" y=\"288.430125\" style=\"stroke: #000000; stroke-width: 0.8\"/>\n      </g>\n     </g>\n     <g id=\"text_3\">\n      <!-- 20 -->\n      <g transform=\"translate(169.997309 303.028562) scale(0.1 -0.1)\">\n       <defs>\n        <path id=\"DejaVuSans-32\" d=\"M 1228 531 \nL 3431 531 \nL 3431 0 \nL 469 0 \nL 469 531 \nQ 828 903 1448 1529 \nQ 2069 2156 2228 2338 \nQ 2531 2678 2651 2914 \nQ 2772 3150 2772 3378 \nQ 2772 3750 2511 3984 \nQ 2250 4219 1831 4219 \nQ 1534 4219 1204 4116 \nQ 875 4013 500 3803 \nL 500 4441 \nQ 881 4594 1212 4672 \nQ 1544 4750 1819 4750 \nQ 2544 4750 2975 4387 \nQ 3406 4025 3406 3419 \nQ 3406 3131 3298 2873 \nQ 3191 2616 2906 2266 \nQ 2828 2175 2409 1742 \nQ 1991 1309 1228 531 \nz\n\" transform=\"scale(0.015625)\"/>\n       </defs>\n       <use xlink:href=\"#DejaVuSans-32\"/>\n       <use xlink:href=\"#DejaVuSans-30\" x=\"63.623047\"/>\n      </g>\n     </g>\n    </g>\n    <g id=\"xtick_4\">\n     <g id=\"line2d_4\">\n      <g>\n       <use xlink:href=\"#mac4ac0e9c0\" x=\"242.615838\" y=\"288.430125\" style=\"stroke: #000000; stroke-width: 0.8\"/>\n      </g>\n     </g>\n     <g id=\"text_4\">\n      <!-- 30 -->\n      <g transform=\"translate(236.253338 303.028562) scale(0.1 -0.1)\">\n       <defs>\n        <path id=\"DejaVuSans-33\" d=\"M 2597 2516 \nQ 3050 2419 3304 2112 \nQ 3559 1806 3559 1356 \nQ 3559 666 3084 287 \nQ 2609 -91 1734 -91 \nQ 1441 -91 1130 -33 \nQ 819 25 488 141 \nL 488 750 \nQ 750 597 1062 519 \nQ 1375 441 1716 441 \nQ 2309 441 2620 675 \nQ 2931 909 2931 1356 \nQ 2931 1769 2642 2001 \nQ 2353 2234 1838 2234 \nL 1294 2234 \nL 1294 2753 \nL 1863 2753 \nQ 2328 2753 2575 2939 \nQ 2822 3125 2822 3475 \nQ 2822 3834 2567 4026 \nQ 2313 4219 1838 4219 \nQ 1578 4219 1281 4162 \nQ 984 4106 628 3988 \nL 628 4550 \nQ 988 4650 1302 4700 \nQ 1616 4750 1894 4750 \nQ 2613 4750 3031 4423 \nQ 3450 4097 3450 3541 \nQ 3450 3153 3228 2886 \nQ 3006 2619 2597 2516 \nz\n\" transform=\"scale(0.015625)\"/>\n       </defs>\n       <use xlink:href=\"#DejaVuSans-33\"/>\n       <use xlink:href=\"#DejaVuSans-30\" x=\"63.623047\"/>\n      </g>\n     </g>\n    </g>\n    <g id=\"xtick_5\">\n     <g id=\"line2d_5\">\n      <g>\n       <use xlink:href=\"#mac4ac0e9c0\" x=\"308.871868\" y=\"288.430125\" style=\"stroke: #000000; stroke-width: 0.8\"/>\n      </g>\n     </g>\n     <g id=\"text_5\">\n      <!-- 40 -->\n      <g transform=\"translate(302.509368 303.028562) scale(0.1 -0.1)\">\n       <defs>\n        <path id=\"DejaVuSans-34\" d=\"M 2419 4116 \nL 825 1625 \nL 2419 1625 \nL 2419 4116 \nz\nM 2253 4666 \nL 3047 4666 \nL 3047 1625 \nL 3713 1625 \nL 3713 1100 \nL 3047 1100 \nL 3047 0 \nL 2419 0 \nL 2419 1100 \nL 313 1100 \nL 313 1709 \nL 2253 4666 \nz\n\" transform=\"scale(0.015625)\"/>\n       </defs>\n       <use xlink:href=\"#DejaVuSans-34\"/>\n       <use xlink:href=\"#DejaVuSans-30\" x=\"63.623047\"/>\n      </g>\n     </g>\n    </g>\n    <g id=\"xtick_6\">\n     <g id=\"line2d_6\">\n      <g>\n       <use xlink:href=\"#mac4ac0e9c0\" x=\"375.127898\" y=\"288.430125\" style=\"stroke: #000000; stroke-width: 0.8\"/>\n      </g>\n     </g>\n     <g id=\"text_6\">\n      <!-- 50 -->\n      <g transform=\"translate(368.765398 303.028562) scale(0.1 -0.1)\">\n       <defs>\n        <path id=\"DejaVuSans-35\" d=\"M 691 4666 \nL 3169 4666 \nL 3169 4134 \nL 1269 4134 \nL 1269 2991 \nQ 1406 3038 1543 3061 \nQ 1681 3084 1819 3084 \nQ 2600 3084 3056 2656 \nQ 3513 2228 3513 1497 \nQ 3513 744 3044 326 \nQ 2575 -91 1722 -91 \nQ 1428 -91 1123 -41 \nQ 819 9 494 109 \nL 494 744 \nQ 775 591 1075 516 \nQ 1375 441 1709 441 \nQ 2250 441 2565 725 \nQ 2881 1009 2881 1497 \nQ 2881 1984 2565 2268 \nQ 2250 2553 1709 2553 \nQ 1456 2553 1204 2497 \nQ 953 2441 691 2322 \nL 691 4666 \nz\n\" transform=\"scale(0.015625)\"/>\n       </defs>\n       <use xlink:href=\"#DejaVuSans-35\"/>\n       <use xlink:href=\"#DejaVuSans-30\" x=\"63.623047\"/>\n      </g>\n     </g>\n    </g>\n    <g id=\"text_7\">\n     <!-- number of generations -->\n     <g transform=\"translate(155.49125 316.706687) scale(0.1 -0.1)\">\n      <defs>\n       <path id=\"DejaVuSans-6e\" d=\"M 3513 2113 \nL 3513 0 \nL 2938 0 \nL 2938 2094 \nQ 2938 2591 2744 2837 \nQ 2550 3084 2163 3084 \nQ 1697 3084 1428 2787 \nQ 1159 2491 1159 1978 \nL 1159 0 \nL 581 0 \nL 581 3500 \nL 1159 3500 \nL 1159 2956 \nQ 1366 3272 1645 3428 \nQ 1925 3584 2291 3584 \nQ 2894 3584 3203 3211 \nQ 3513 2838 3513 2113 \nz\n\" transform=\"scale(0.015625)\"/>\n       <path id=\"DejaVuSans-75\" d=\"M 544 1381 \nL 544 3500 \nL 1119 3500 \nL 1119 1403 \nQ 1119 906 1312 657 \nQ 1506 409 1894 409 \nQ 2359 409 2629 706 \nQ 2900 1003 2900 1516 \nL 2900 3500 \nL 3475 3500 \nL 3475 0 \nL 2900 0 \nL 2900 538 \nQ 2691 219 2414 64 \nQ 2138 -91 1772 -91 \nQ 1169 -91 856 284 \nQ 544 659 544 1381 \nz\nM 1991 3584 \nL 1991 3584 \nz\n\" transform=\"scale(0.015625)\"/>\n       <path id=\"DejaVuSans-6d\" d=\"M 3328 2828 \nQ 3544 3216 3844 3400 \nQ 4144 3584 4550 3584 \nQ 5097 3584 5394 3201 \nQ 5691 2819 5691 2113 \nL 5691 0 \nL 5113 0 \nL 5113 2094 \nQ 5113 2597 4934 2840 \nQ 4756 3084 4391 3084 \nQ 3944 3084 3684 2787 \nQ 3425 2491 3425 1978 \nL 3425 0 \nL 2847 0 \nL 2847 2094 \nQ 2847 2600 2669 2842 \nQ 2491 3084 2119 3084 \nQ 1678 3084 1418 2786 \nQ 1159 2488 1159 1978 \nL 1159 0 \nL 581 0 \nL 581 3500 \nL 1159 3500 \nL 1159 2956 \nQ 1356 3278 1631 3431 \nQ 1906 3584 2284 3584 \nQ 2666 3584 2933 3390 \nQ 3200 3197 3328 2828 \nz\n\" transform=\"scale(0.015625)\"/>\n       <path id=\"DejaVuSans-62\" d=\"M 3116 1747 \nQ 3116 2381 2855 2742 \nQ 2594 3103 2138 3103 \nQ 1681 3103 1420 2742 \nQ 1159 2381 1159 1747 \nQ 1159 1113 1420 752 \nQ 1681 391 2138 391 \nQ 2594 391 2855 752 \nQ 3116 1113 3116 1747 \nz\nM 1159 2969 \nQ 1341 3281 1617 3432 \nQ 1894 3584 2278 3584 \nQ 2916 3584 3314 3078 \nQ 3713 2572 3713 1747 \nQ 3713 922 3314 415 \nQ 2916 -91 2278 -91 \nQ 1894 -91 1617 61 \nQ 1341 213 1159 525 \nL 1159 0 \nL 581 0 \nL 581 4863 \nL 1159 4863 \nL 1159 2969 \nz\n\" transform=\"scale(0.015625)\"/>\n       <path id=\"DejaVuSans-65\" d=\"M 3597 1894 \nL 3597 1613 \nL 953 1613 \nQ 991 1019 1311 708 \nQ 1631 397 2203 397 \nQ 2534 397 2845 478 \nQ 3156 559 3463 722 \nL 3463 178 \nQ 3153 47 2828 -22 \nQ 2503 -91 2169 -91 \nQ 1331 -91 842 396 \nQ 353 884 353 1716 \nQ 353 2575 817 3079 \nQ 1281 3584 2069 3584 \nQ 2775 3584 3186 3129 \nQ 3597 2675 3597 1894 \nz\nM 3022 2063 \nQ 3016 2534 2758 2815 \nQ 2500 3097 2075 3097 \nQ 1594 3097 1305 2825 \nQ 1016 2553 972 2059 \nL 3022 2063 \nz\n\" transform=\"scale(0.015625)\"/>\n       <path id=\"DejaVuSans-72\" d=\"M 2631 2963 \nQ 2534 3019 2420 3045 \nQ 2306 3072 2169 3072 \nQ 1681 3072 1420 2755 \nQ 1159 2438 1159 1844 \nL 1159 0 \nL 581 0 \nL 581 3500 \nL 1159 3500 \nL 1159 2956 \nQ 1341 3275 1631 3429 \nQ 1922 3584 2338 3584 \nQ 2397 3584 2469 3576 \nQ 2541 3569 2628 3553 \nL 2631 2963 \nz\n\" transform=\"scale(0.015625)\"/>\n       <path id=\"DejaVuSans-20\" transform=\"scale(0.015625)\"/>\n       <path id=\"DejaVuSans-6f\" d=\"M 1959 3097 \nQ 1497 3097 1228 2736 \nQ 959 2375 959 1747 \nQ 959 1119 1226 758 \nQ 1494 397 1959 397 \nQ 2419 397 2687 759 \nQ 2956 1122 2956 1747 \nQ 2956 2369 2687 2733 \nQ 2419 3097 1959 3097 \nz\nM 1959 3584 \nQ 2709 3584 3137 3096 \nQ 3566 2609 3566 1747 \nQ 3566 888 3137 398 \nQ 2709 -91 1959 -91 \nQ 1206 -91 779 398 \nQ 353 888 353 1747 \nQ 353 2609 779 3096 \nQ 1206 3584 1959 3584 \nz\n\" transform=\"scale(0.015625)\"/>\n       <path id=\"DejaVuSans-66\" d=\"M 2375 4863 \nL 2375 4384 \nL 1825 4384 \nQ 1516 4384 1395 4259 \nQ 1275 4134 1275 3809 \nL 1275 3500 \nL 2222 3500 \nL 2222 3053 \nL 1275 3053 \nL 1275 0 \nL 697 0 \nL 697 3053 \nL 147 3053 \nL 147 3500 \nL 697 3500 \nL 697 3744 \nQ 697 4328 969 4595 \nQ 1241 4863 1831 4863 \nL 2375 4863 \nz\n\" transform=\"scale(0.015625)\"/>\n       <path id=\"DejaVuSans-67\" d=\"M 2906 1791 \nQ 2906 2416 2648 2759 \nQ 2391 3103 1925 3103 \nQ 1463 3103 1205 2759 \nQ 947 2416 947 1791 \nQ 947 1169 1205 825 \nQ 1463 481 1925 481 \nQ 2391 481 2648 825 \nQ 2906 1169 2906 1791 \nz\nM 3481 434 \nQ 3481 -459 3084 -895 \nQ 2688 -1331 1869 -1331 \nQ 1566 -1331 1297 -1286 \nQ 1028 -1241 775 -1147 \nL 775 -588 \nQ 1028 -725 1275 -790 \nQ 1522 -856 1778 -856 \nQ 2344 -856 2625 -561 \nQ 2906 -266 2906 331 \nL 2906 616 \nQ 2728 306 2450 153 \nQ 2172 0 1784 0 \nQ 1141 0 747 490 \nQ 353 981 353 1791 \nQ 353 2603 747 3093 \nQ 1141 3584 1784 3584 \nQ 2172 3584 2450 3431 \nQ 2728 3278 2906 2969 \nL 2906 3500 \nL 3481 3500 \nL 3481 434 \nz\n\" transform=\"scale(0.015625)\"/>\n       <path id=\"DejaVuSans-61\" d=\"M 2194 1759 \nQ 1497 1759 1228 1600 \nQ 959 1441 959 1056 \nQ 959 750 1161 570 \nQ 1363 391 1709 391 \nQ 2188 391 2477 730 \nQ 2766 1069 2766 1631 \nL 2766 1759 \nL 2194 1759 \nz\nM 3341 1997 \nL 3341 0 \nL 2766 0 \nL 2766 531 \nQ 2569 213 2275 61 \nQ 1981 -91 1556 -91 \nQ 1019 -91 701 211 \nQ 384 513 384 1019 \nQ 384 1609 779 1909 \nQ 1175 2209 1959 2209 \nL 2766 2209 \nL 2766 2266 \nQ 2766 2663 2505 2880 \nQ 2244 3097 1772 3097 \nQ 1472 3097 1187 3025 \nQ 903 2953 641 2809 \nL 641 3341 \nQ 956 3463 1253 3523 \nQ 1550 3584 1831 3584 \nQ 2591 3584 2966 3190 \nQ 3341 2797 3341 1997 \nz\n\" transform=\"scale(0.015625)\"/>\n       <path id=\"DejaVuSans-74\" d=\"M 1172 4494 \nL 1172 3500 \nL 2356 3500 \nL 2356 3053 \nL 1172 3053 \nL 1172 1153 \nQ 1172 725 1289 603 \nQ 1406 481 1766 481 \nL 2356 481 \nL 2356 0 \nL 1766 0 \nQ 1100 0 847 248 \nQ 594 497 594 1153 \nL 594 3053 \nL 172 3053 \nL 172 3500 \nL 594 3500 \nL 594 4494 \nL 1172 4494 \nz\n\" transform=\"scale(0.015625)\"/>\n       <path id=\"DejaVuSans-69\" d=\"M 603 3500 \nL 1178 3500 \nL 1178 0 \nL 603 0 \nL 603 3500 \nz\nM 603 4863 \nL 1178 4863 \nL 1178 4134 \nL 603 4134 \nL 603 4863 \nz\n\" transform=\"scale(0.015625)\"/>\n       <path id=\"DejaVuSans-73\" d=\"M 2834 3397 \nL 2834 2853 \nQ 2591 2978 2328 3040 \nQ 2066 3103 1784 3103 \nQ 1356 3103 1142 2972 \nQ 928 2841 928 2578 \nQ 928 2378 1081 2264 \nQ 1234 2150 1697 2047 \nL 1894 2003 \nQ 2506 1872 2764 1633 \nQ 3022 1394 3022 966 \nQ 3022 478 2636 193 \nQ 2250 -91 1575 -91 \nQ 1294 -91 989 -36 \nQ 684 19 347 128 \nL 347 722 \nQ 666 556 975 473 \nQ 1284 391 1588 391 \nQ 1994 391 2212 530 \nQ 2431 669 2431 922 \nQ 2431 1156 2273 1281 \nQ 2116 1406 1581 1522 \nL 1381 1569 \nQ 847 1681 609 1914 \nQ 372 2147 372 2553 \nQ 372 3047 722 3315 \nQ 1072 3584 1716 3584 \nQ 2034 3584 2315 3537 \nQ 2597 3491 2834 3397 \nz\n\" transform=\"scale(0.015625)\"/>\n      </defs>\n      <use xlink:href=\"#DejaVuSans-6e\"/>\n      <use xlink:href=\"#DejaVuSans-75\" x=\"63.378906\"/>\n      <use xlink:href=\"#DejaVuSans-6d\" x=\"126.757812\"/>\n      <use xlink:href=\"#DejaVuSans-62\" x=\"224.169922\"/>\n      <use xlink:href=\"#DejaVuSans-65\" x=\"287.646484\"/>\n      <use xlink:href=\"#DejaVuSans-72\" x=\"349.169922\"/>\n      <use xlink:href=\"#DejaVuSans-20\" x=\"390.283203\"/>\n      <use xlink:href=\"#DejaVuSans-6f\" x=\"422.070312\"/>\n      <use xlink:href=\"#DejaVuSans-66\" x=\"483.251953\"/>\n      <use xlink:href=\"#DejaVuSans-20\" x=\"518.457031\"/>\n      <use xlink:href=\"#DejaVuSans-67\" x=\"550.244141\"/>\n      <use xlink:href=\"#DejaVuSans-65\" x=\"613.720703\"/>\n      <use xlink:href=\"#DejaVuSans-6e\" x=\"675.244141\"/>\n      <use xlink:href=\"#DejaVuSans-65\" x=\"738.623047\"/>\n      <use xlink:href=\"#DejaVuSans-72\" x=\"800.146484\"/>\n      <use xlink:href=\"#DejaVuSans-61\" x=\"841.259766\"/>\n      <use xlink:href=\"#DejaVuSans-74\" x=\"902.539062\"/>\n      <use xlink:href=\"#DejaVuSans-69\" x=\"941.748047\"/>\n      <use xlink:href=\"#DejaVuSans-6f\" x=\"969.53125\"/>\n      <use xlink:href=\"#DejaVuSans-6e\" x=\"1030.712891\"/>\n      <use xlink:href=\"#DejaVuSans-73\" x=\"1094.091797\"/>\n     </g>\n    </g>\n   </g>\n   <g id=\"matplotlib.axis_2\">\n    <g id=\"ytick_1\">\n     <g id=\"line2d_7\">\n      <defs>\n       <path id=\"m753892fa0d\" d=\"M 0 0 \nL -3.5 0 \n\" style=\"stroke: #000000; stroke-width: 0.8\"/>\n      </defs>\n      <g>\n       <use xlink:href=\"#m753892fa0d\" x=\"34.240625\" y=\"276.334125\" style=\"stroke: #000000; stroke-width: 0.8\"/>\n      </g>\n     </g>\n     <g id=\"text_8\">\n      <!-- 0 -->\n      <g transform=\"translate(20.878125 280.133344) scale(0.1 -0.1)\">\n       <use xlink:href=\"#DejaVuSans-30\"/>\n      </g>\n     </g>\n    </g>\n    <g id=\"ytick_2\">\n     <g id=\"line2d_8\">\n      <g>\n       <use xlink:href=\"#m753892fa0d\" x=\"34.240625\" y=\"233.280933\" style=\"stroke: #000000; stroke-width: 0.8\"/>\n      </g>\n     </g>\n     <g id=\"text_9\">\n      <!-- 1 -->\n      <g transform=\"translate(20.878125 237.080151) scale(0.1 -0.1)\">\n       <use xlink:href=\"#DejaVuSans-31\"/>\n      </g>\n     </g>\n    </g>\n    <g id=\"ytick_3\">\n     <g id=\"line2d_9\">\n      <g>\n       <use xlink:href=\"#m753892fa0d\" x=\"34.240625\" y=\"190.22774\" style=\"stroke: #000000; stroke-width: 0.8\"/>\n      </g>\n     </g>\n     <g id=\"text_10\">\n      <!-- 2 -->\n      <g transform=\"translate(20.878125 194.026959) scale(0.1 -0.1)\">\n       <use xlink:href=\"#DejaVuSans-32\"/>\n      </g>\n     </g>\n    </g>\n    <g id=\"ytick_4\">\n     <g id=\"line2d_10\">\n      <g>\n       <use xlink:href=\"#m753892fa0d\" x=\"34.240625\" y=\"147.174548\" style=\"stroke: #000000; stroke-width: 0.8\"/>\n      </g>\n     </g>\n     <g id=\"text_11\">\n      <!-- 3 -->\n      <g transform=\"translate(20.878125 150.973766) scale(0.1 -0.1)\">\n       <use xlink:href=\"#DejaVuSans-33\"/>\n      </g>\n     </g>\n    </g>\n    <g id=\"ytick_5\">\n     <g id=\"line2d_11\">\n      <g>\n       <use xlink:href=\"#m753892fa0d\" x=\"34.240625\" y=\"104.121355\" style=\"stroke: #000000; stroke-width: 0.8\"/>\n      </g>\n     </g>\n     <g id=\"text_12\">\n      <!-- 4 -->\n      <g transform=\"translate(20.878125 107.920574) scale(0.1 -0.1)\">\n       <use xlink:href=\"#DejaVuSans-34\"/>\n      </g>\n     </g>\n    </g>\n    <g id=\"ytick_6\">\n     <g id=\"line2d_12\">\n      <g>\n       <use xlink:href=\"#m753892fa0d\" x=\"34.240625\" y=\"61.068163\" style=\"stroke: #000000; stroke-width: 0.8\"/>\n      </g>\n     </g>\n     <g id=\"text_13\">\n      <!-- 5 -->\n      <g transform=\"translate(20.878125 64.867381) scale(0.1 -0.1)\">\n       <use xlink:href=\"#DejaVuSans-35\"/>\n      </g>\n     </g>\n    </g>\n    <g id=\"text_14\">\n     <!-- history -->\n     <g transform=\"translate(14.798438 172.571) rotate(-90) scale(0.1 -0.1)\">\n      <defs>\n       <path id=\"DejaVuSans-68\" d=\"M 3513 2113 \nL 3513 0 \nL 2938 0 \nL 2938 2094 \nQ 2938 2591 2744 2837 \nQ 2550 3084 2163 3084 \nQ 1697 3084 1428 2787 \nQ 1159 2491 1159 1978 \nL 1159 0 \nL 581 0 \nL 581 4863 \nL 1159 4863 \nL 1159 2956 \nQ 1366 3272 1645 3428 \nQ 1925 3584 2291 3584 \nQ 2894 3584 3203 3211 \nQ 3513 2838 3513 2113 \nz\n\" transform=\"scale(0.015625)\"/>\n       <path id=\"DejaVuSans-79\" d=\"M 2059 -325 \nQ 1816 -950 1584 -1140 \nQ 1353 -1331 966 -1331 \nL 506 -1331 \nL 506 -850 \nL 844 -850 \nQ 1081 -850 1212 -737 \nQ 1344 -625 1503 -206 \nL 1606 56 \nL 191 3500 \nL 800 3500 \nL 1894 763 \nL 2988 3500 \nL 3597 3500 \nL 2059 -325 \nz\n\" transform=\"scale(0.015625)\"/>\n      </defs>\n      <use xlink:href=\"#DejaVuSans-68\"/>\n      <use xlink:href=\"#DejaVuSans-69\" x=\"63.378906\"/>\n      <use xlink:href=\"#DejaVuSans-73\" x=\"91.162109\"/>\n      <use xlink:href=\"#DejaVuSans-74\" x=\"143.261719\"/>\n      <use xlink:href=\"#DejaVuSans-6f\" x=\"182.470703\"/>\n      <use xlink:href=\"#DejaVuSans-72\" x=\"243.652344\"/>\n      <use xlink:href=\"#DejaVuSans-79\" x=\"284.765625\"/>\n     </g>\n    </g>\n   </g>\n   <g id=\"line2d_13\">\n    <path d=\"M 50.473352 34.414125 \nL 57.098955 73.413753 \nL 63.724558 133.778667 \nL 70.350161 147.675803 \nL 76.975764 146.8991 \nL 83.601367 147.010038 \nL 90.22697 147.312181 \nL 96.852573 146.593504 \nL 103.478176 147.785161 \nL 110.103779 147.648469 \nL 116.729382 147.518032 \nL 123.354985 147.039263 \nL 129.980588 147.197371 \nL 136.606191 146.733022 \nL 143.231794 147.022035 \nL 149.857397 146.956119 \nL 156.483 147.603869 \nL 163.108603 146.873711 \nL 169.734206 147.713503 \nL 176.359809 147.0598 \nL 182.985412 147.486503 \nL 189.611015 147.771825 \nL 196.236618 147.713095 \nL 202.862221 147.219928 \nL 209.487824 147.462562 \nL 216.113426 147.437597 \nL 222.739029 147.309106 \nL 229.364632 147.739399 \nL 235.990235 147.635456 \nL 242.615838 147.721225 \nL 249.241441 147.784035 \nL 255.867044 147.784035 \nL 262.492647 147.784035 \nL 269.11825 147.784035 \nL 275.743853 147.784035 \nL 282.369456 147.784035 \nL 288.995059 147.784035 \nL 295.620662 147.784035 \nL 302.246265 147.784035 \nL 308.871868 147.784035 \nL 315.497471 147.784035 \nL 322.123074 147.784035 \nL 328.748677 147.784035 \nL 335.37428 147.784035 \nL 341.999883 147.784035 \nL 348.625486 147.784035 \nL 355.251089 147.784035 \nL 361.876692 147.784035 \nL 368.502295 147.784035 \nL 375.127898 147.784035 \n\" clip-path=\"url(#pb897b2aa46)\" style=\"fill: none; stroke: #1f77b4; stroke-width: 1.5; stroke-linecap: square\"/>\n   </g>\n   <g id=\"line2d_14\">\n    <path d=\"M 50.473352 276.334125 \nL 57.098955 276.334125 \nL 63.724558 276.334125 \nL 70.350161 276.334125 \nL 76.975764 276.334125 \nL 83.601367 276.334125 \nL 90.22697 276.334125 \nL 96.852573 276.334125 \nL 103.478176 276.334125 \nL 110.103779 276.334125 \nL 116.729382 276.334125 \nL 123.354985 276.334125 \nL 129.980588 276.334125 \nL 136.606191 276.334125 \nL 143.231794 276.334125 \nL 149.857397 276.334125 \nL 156.483 276.334125 \nL 163.108603 276.334125 \nL 169.734206 276.334125 \nL 176.359809 276.334125 \nL 182.985412 276.334125 \nL 189.611015 276.334125 \nL 196.236618 276.334125 \nL 202.862221 276.334125 \nL 209.487824 276.334125 \nL 216.113426 276.334125 \nL 222.739029 276.334125 \nL 229.364632 276.334125 \nL 235.990235 276.334125 \nL 242.615838 276.334125 \nL 249.241441 276.334125 \nL 255.867044 276.334125 \nL 262.492647 276.334125 \nL 269.11825 276.334125 \nL 275.743853 276.334125 \nL 282.369456 276.334125 \nL 288.995059 276.334125 \nL 295.620662 276.334125 \nL 302.246265 276.334125 \nL 308.871868 276.334125 \nL 315.497471 276.334125 \nL 322.123074 276.334125 \nL 328.748677 276.334125 \nL 335.37428 276.334125 \nL 341.999883 276.334125 \nL 348.625486 276.334125 \nL 355.251089 276.334125 \nL 361.876692 276.334125 \nL 368.502295 276.334125 \nL 375.127898 276.334125 \n\" clip-path=\"url(#pb897b2aa46)\" style=\"fill: none; stroke: #ff7f0e; stroke-width: 1.5; stroke-linecap: square\"/>\n   </g>\n   <g id=\"line2d_15\">\n    <path d=\"M 103.478176 34.414125 \nL 103.478176 73.413753 \nL 103.478176 133.778667 \nL 103.478176 147.675803 \nL 103.478176 146.8991 \nL 103.478176 147.010038 \nL 103.478176 147.312181 \nL 103.478176 146.593504 \nL 103.478176 147.785161 \nL 103.478176 147.648469 \nL 103.478176 147.518032 \nL 103.478176 147.039263 \nL 103.478176 147.197371 \nL 103.478176 146.733022 \nL 103.478176 147.022035 \nL 103.478176 146.956119 \nL 103.478176 147.603869 \nL 103.478176 146.873711 \nL 103.478176 147.713503 \nL 103.478176 147.0598 \nL 103.478176 147.486503 \nL 103.478176 147.771825 \nL 103.478176 147.713095 \nL 103.478176 147.219928 \nL 103.478176 147.462562 \nL 103.478176 147.437597 \nL 103.478176 147.309106 \nL 103.478176 147.739399 \nL 103.478176 147.635456 \nL 103.478176 147.721225 \nL 103.478176 147.784035 \nL 103.478176 147.784035 \nL 103.478176 147.784035 \nL 103.478176 147.784035 \nL 103.478176 147.784035 \nL 103.478176 147.784035 \nL 103.478176 147.784035 \nL 103.478176 147.784035 \nL 103.478176 147.784035 \nL 103.478176 147.784035 \nL 103.478176 147.784035 \nL 103.478176 147.784035 \nL 103.478176 147.784035 \nL 103.478176 147.784035 \nL 103.478176 147.784035 \nL 103.478176 147.784035 \nL 103.478176 147.784035 \nL 103.478176 147.784035 \nL 103.478176 147.784035 \nL 103.478176 147.784035 \n\" clip-path=\"url(#pb897b2aa46)\" style=\"fill: none; stroke: #2ca02c; stroke-width: 1.5; stroke-linecap: square\"/>\n   </g>\n   <g id=\"patch_3\">\n    <path d=\"M 34.240625 288.430125 \nL 34.240625 22.318125 \n\" style=\"fill: none; stroke: #000000; stroke-width: 0.8; stroke-linejoin: miter; stroke-linecap: square\"/>\n   </g>\n   <g id=\"patch_4\">\n    <path d=\"M 391.360625 288.430125 \nL 391.360625 22.318125 \n\" style=\"fill: none; stroke: #000000; stroke-width: 0.8; stroke-linejoin: miter; stroke-linecap: square\"/>\n   </g>\n   <g id=\"patch_5\">\n    <path d=\"M 34.240625 288.430125 \nL 391.360625 288.430125 \n\" style=\"fill: none; stroke: #000000; stroke-width: 0.8; stroke-linejoin: miter; stroke-linecap: square\"/>\n   </g>\n   <g id=\"patch_6\">\n    <path d=\"M 34.240625 22.318125 \nL 391.360625 22.318125 \n\" style=\"fill: none; stroke: #000000; stroke-width: 0.8; stroke-linejoin: miter; stroke-linecap: square\"/>\n   </g>\n   <g id=\"text_15\">\n    <!-- Best Solution 9 -->\n    <g transform=\"translate(106.790978 126.258565) scale(0.1 -0.1)\">\n     <defs>\n      <path id=\"DejaVuSans-42\" d=\"M 1259 2228 \nL 1259 519 \nL 2272 519 \nQ 2781 519 3026 730 \nQ 3272 941 3272 1375 \nQ 3272 1813 3026 2020 \nQ 2781 2228 2272 2228 \nL 1259 2228 \nz\nM 1259 4147 \nL 1259 2741 \nL 2194 2741 \nQ 2656 2741 2882 2914 \nQ 3109 3088 3109 3444 \nQ 3109 3797 2882 3972 \nQ 2656 4147 2194 4147 \nL 1259 4147 \nz\nM 628 4666 \nL 2241 4666 \nQ 2963 4666 3353 4366 \nQ 3744 4066 3744 3513 \nQ 3744 3084 3544 2831 \nQ 3344 2578 2956 2516 \nQ 3422 2416 3680 2098 \nQ 3938 1781 3938 1306 \nQ 3938 681 3513 340 \nQ 3088 0 2303 0 \nL 628 0 \nL 628 4666 \nz\n\" transform=\"scale(0.015625)\"/>\n      <path id=\"DejaVuSans-53\" d=\"M 3425 4513 \nL 3425 3897 \nQ 3066 4069 2747 4153 \nQ 2428 4238 2131 4238 \nQ 1616 4238 1336 4038 \nQ 1056 3838 1056 3469 \nQ 1056 3159 1242 3001 \nQ 1428 2844 1947 2747 \nL 2328 2669 \nQ 3034 2534 3370 2195 \nQ 3706 1856 3706 1288 \nQ 3706 609 3251 259 \nQ 2797 -91 1919 -91 \nQ 1588 -91 1214 -16 \nQ 841 59 441 206 \nL 441 856 \nQ 825 641 1194 531 \nQ 1563 422 1919 422 \nQ 2459 422 2753 634 \nQ 3047 847 3047 1241 \nQ 3047 1584 2836 1778 \nQ 2625 1972 2144 2069 \nL 1759 2144 \nQ 1053 2284 737 2584 \nQ 422 2884 422 3419 \nQ 422 4038 858 4394 \nQ 1294 4750 2059 4750 \nQ 2388 4750 2728 4690 \nQ 3069 4631 3425 4513 \nz\n\" transform=\"scale(0.015625)\"/>\n      <path id=\"DejaVuSans-6c\" d=\"M 603 4863 \nL 1178 4863 \nL 1178 0 \nL 603 0 \nL 603 4863 \nz\n\" transform=\"scale(0.015625)\"/>\n      <path id=\"DejaVuSans-39\" d=\"M 703 97 \nL 703 672 \nQ 941 559 1184 500 \nQ 1428 441 1663 441 \nQ 2288 441 2617 861 \nQ 2947 1281 2994 2138 \nQ 2813 1869 2534 1725 \nQ 2256 1581 1919 1581 \nQ 1219 1581 811 2004 \nQ 403 2428 403 3163 \nQ 403 3881 828 4315 \nQ 1253 4750 1959 4750 \nQ 2769 4750 3195 4129 \nQ 3622 3509 3622 2328 \nQ 3622 1225 3098 567 \nQ 2575 -91 1691 -91 \nQ 1453 -91 1209 -44 \nQ 966 3 703 97 \nz\nM 1959 2075 \nQ 2384 2075 2632 2365 \nQ 2881 2656 2881 3163 \nQ 2881 3666 2632 3958 \nQ 2384 4250 1959 4250 \nQ 1534 4250 1286 3958 \nQ 1038 3666 1038 3163 \nQ 1038 2656 1286 2365 \nQ 1534 2075 1959 2075 \nz\n\" transform=\"scale(0.015625)\"/>\n     </defs>\n     <use xlink:href=\"#DejaVuSans-42\"/>\n     <use xlink:href=\"#DejaVuSans-65\" x=\"68.603516\"/>\n     <use xlink:href=\"#DejaVuSans-73\" x=\"130.126953\"/>\n     <use xlink:href=\"#DejaVuSans-74\" x=\"182.226562\"/>\n     <use xlink:href=\"#DejaVuSans-20\" x=\"221.435547\"/>\n     <use xlink:href=\"#DejaVuSans-53\" x=\"253.222656\"/>\n     <use xlink:href=\"#DejaVuSans-6f\" x=\"316.699219\"/>\n     <use xlink:href=\"#DejaVuSans-6c\" x=\"377.880859\"/>\n     <use xlink:href=\"#DejaVuSans-75\" x=\"405.664062\"/>\n     <use xlink:href=\"#DejaVuSans-74\" x=\"469.042969\"/>\n     <use xlink:href=\"#DejaVuSans-69\" x=\"508.251953\"/>\n     <use xlink:href=\"#DejaVuSans-6f\" x=\"536.035156\"/>\n     <use xlink:href=\"#DejaVuSans-6e\" x=\"597.216797\"/>\n     <use xlink:href=\"#DejaVuSans-20\" x=\"660.595703\"/>\n     <use xlink:href=\"#DejaVuSans-39\" x=\"692.382812\"/>\n    </g>\n   </g>\n   <g id=\"text_16\">\n    <!-- Convergence History -->\n    <g transform=\"translate(149.985313 16.318125) scale(0.12 -0.12)\">\n     <defs>\n      <path id=\"DejaVuSans-43\" d=\"M 4122 4306 \nL 4122 3641 \nQ 3803 3938 3442 4084 \nQ 3081 4231 2675 4231 \nQ 1875 4231 1450 3742 \nQ 1025 3253 1025 2328 \nQ 1025 1406 1450 917 \nQ 1875 428 2675 428 \nQ 3081 428 3442 575 \nQ 3803 722 4122 1019 \nL 4122 359 \nQ 3791 134 3420 21 \nQ 3050 -91 2638 -91 \nQ 1578 -91 968 557 \nQ 359 1206 359 2328 \nQ 359 3453 968 4101 \nQ 1578 4750 2638 4750 \nQ 3056 4750 3426 4639 \nQ 3797 4528 4122 4306 \nz\n\" transform=\"scale(0.015625)\"/>\n      <path id=\"DejaVuSans-76\" d=\"M 191 3500 \nL 800 3500 \nL 1894 563 \nL 2988 3500 \nL 3597 3500 \nL 2284 0 \nL 1503 0 \nL 191 3500 \nz\n\" transform=\"scale(0.015625)\"/>\n      <path id=\"DejaVuSans-63\" d=\"M 3122 3366 \nL 3122 2828 \nQ 2878 2963 2633 3030 \nQ 2388 3097 2138 3097 \nQ 1578 3097 1268 2742 \nQ 959 2388 959 1747 \nQ 959 1106 1268 751 \nQ 1578 397 2138 397 \nQ 2388 397 2633 464 \nQ 2878 531 3122 666 \nL 3122 134 \nQ 2881 22 2623 -34 \nQ 2366 -91 2075 -91 \nQ 1284 -91 818 406 \nQ 353 903 353 1747 \nQ 353 2603 823 3093 \nQ 1294 3584 2113 3584 \nQ 2378 3584 2631 3529 \nQ 2884 3475 3122 3366 \nz\n\" transform=\"scale(0.015625)\"/>\n      <path id=\"DejaVuSans-48\" d=\"M 628 4666 \nL 1259 4666 \nL 1259 2753 \nL 3553 2753 \nL 3553 4666 \nL 4184 4666 \nL 4184 0 \nL 3553 0 \nL 3553 2222 \nL 1259 2222 \nL 1259 0 \nL 628 0 \nL 628 4666 \nz\n\" transform=\"scale(0.015625)\"/>\n     </defs>\n     <use xlink:href=\"#DejaVuSans-43\"/>\n     <use xlink:href=\"#DejaVuSans-6f\" x=\"69.824219\"/>\n     <use xlink:href=\"#DejaVuSans-6e\" x=\"131.005859\"/>\n     <use xlink:href=\"#DejaVuSans-76\" x=\"194.384766\"/>\n     <use xlink:href=\"#DejaVuSans-65\" x=\"253.564453\"/>\n     <use xlink:href=\"#DejaVuSans-72\" x=\"315.087891\"/>\n     <use xlink:href=\"#DejaVuSans-67\" x=\"354.451172\"/>\n     <use xlink:href=\"#DejaVuSans-65\" x=\"417.927734\"/>\n     <use xlink:href=\"#DejaVuSans-6e\" x=\"479.451172\"/>\n     <use xlink:href=\"#DejaVuSans-63\" x=\"542.830078\"/>\n     <use xlink:href=\"#DejaVuSans-65\" x=\"597.810547\"/>\n     <use xlink:href=\"#DejaVuSans-20\" x=\"659.333984\"/>\n     <use xlink:href=\"#DejaVuSans-48\" x=\"691.121094\"/>\n     <use xlink:href=\"#DejaVuSans-69\" x=\"766.316406\"/>\n     <use xlink:href=\"#DejaVuSans-73\" x=\"794.099609\"/>\n     <use xlink:href=\"#DejaVuSans-74\" x=\"846.199219\"/>\n     <use xlink:href=\"#DejaVuSans-6f\" x=\"885.408203\"/>\n     <use xlink:href=\"#DejaVuSans-72\" x=\"946.589844\"/>\n     <use xlink:href=\"#DejaVuSans-79\" x=\"987.703125\"/>\n    </g>\n   </g>\n   <g id=\"legend_1\">\n    <g id=\"patch_7\">\n     <path d=\"M 280.88875 74.3525 \nL 384.360625 74.3525 \nQ 386.360625 74.3525 386.360625 72.3525 \nL 386.360625 29.318125 \nQ 386.360625 27.318125 384.360625 27.318125 \nL 280.88875 27.318125 \nQ 278.88875 27.318125 278.88875 29.318125 \nL 278.88875 72.3525 \nQ 278.88875 74.3525 280.88875 74.3525 \nz\n\" style=\"fill: #ffffff; opacity: 0.8; stroke: #cccccc; stroke-linejoin: miter\"/>\n    </g>\n    <g id=\"line2d_16\">\n     <path d=\"M 282.88875 35.416562 \nL 292.88875 35.416562 \nL 302.88875 35.416562 \n\" style=\"fill: none; stroke: #1f77b4; stroke-width: 1.5; stroke-linecap: square\"/>\n    </g>\n    <g id=\"text_17\">\n     <!-- fitness -->\n     <g transform=\"translate(310.88875 38.916562) scale(0.1 -0.1)\">\n      <use xlink:href=\"#DejaVuSans-66\"/>\n      <use xlink:href=\"#DejaVuSans-69\" x=\"35.205078\"/>\n      <use xlink:href=\"#DejaVuSans-74\" x=\"62.988281\"/>\n      <use xlink:href=\"#DejaVuSans-6e\" x=\"102.197266\"/>\n      <use xlink:href=\"#DejaVuSans-65\" x=\"165.576172\"/>\n      <use xlink:href=\"#DejaVuSans-73\" x=\"227.099609\"/>\n      <use xlink:href=\"#DejaVuSans-73\" x=\"279.199219\"/>\n     </g>\n    </g>\n    <g id=\"line2d_17\">\n     <path d=\"M 282.88875 50.094688 \nL 292.88875 50.094688 \nL 302.88875 50.094688 \n\" style=\"fill: none; stroke: #ff7f0e; stroke-width: 1.5; stroke-linecap: square\"/>\n    </g>\n    <g id=\"text_18\">\n     <!-- actual minima -->\n     <g transform=\"translate(310.88875 53.594688) scale(0.1 -0.1)\">\n      <use xlink:href=\"#DejaVuSans-61\"/>\n      <use xlink:href=\"#DejaVuSans-63\" x=\"61.279297\"/>\n      <use xlink:href=\"#DejaVuSans-74\" x=\"116.259766\"/>\n      <use xlink:href=\"#DejaVuSans-75\" x=\"155.46875\"/>\n      <use xlink:href=\"#DejaVuSans-61\" x=\"218.847656\"/>\n      <use xlink:href=\"#DejaVuSans-6c\" x=\"280.126953\"/>\n      <use xlink:href=\"#DejaVuSans-20\" x=\"307.910156\"/>\n      <use xlink:href=\"#DejaVuSans-6d\" x=\"339.697266\"/>\n      <use xlink:href=\"#DejaVuSans-69\" x=\"437.109375\"/>\n      <use xlink:href=\"#DejaVuSans-6e\" x=\"464.892578\"/>\n      <use xlink:href=\"#DejaVuSans-69\" x=\"528.271484\"/>\n      <use xlink:href=\"#DejaVuSans-6d\" x=\"556.054688\"/>\n      <use xlink:href=\"#DejaVuSans-61\" x=\"653.466797\"/>\n     </g>\n    </g>\n    <g id=\"line2d_18\">\n     <path d=\"M 282.88875 64.772812 \nL 292.88875 64.772812 \nL 302.88875 64.772812 \n\" style=\"fill: none; stroke: #2ca02c; stroke-width: 1.5; stroke-linecap: square\"/>\n    </g>\n    <g id=\"text_19\">\n     <!-- best soution -->\n     <g transform=\"translate(310.88875 68.272812) scale(0.1 -0.1)\">\n      <use xlink:href=\"#DejaVuSans-62\"/>\n      <use xlink:href=\"#DejaVuSans-65\" x=\"63.476562\"/>\n      <use xlink:href=\"#DejaVuSans-73\" x=\"125\"/>\n      <use xlink:href=\"#DejaVuSans-74\" x=\"177.099609\"/>\n      <use xlink:href=\"#DejaVuSans-20\" x=\"216.308594\"/>\n      <use xlink:href=\"#DejaVuSans-73\" x=\"248.095703\"/>\n      <use xlink:href=\"#DejaVuSans-6f\" x=\"300.195312\"/>\n      <use xlink:href=\"#DejaVuSans-75\" x=\"361.376953\"/>\n      <use xlink:href=\"#DejaVuSans-74\" x=\"424.755859\"/>\n      <use xlink:href=\"#DejaVuSans-69\" x=\"463.964844\"/>\n      <use xlink:href=\"#DejaVuSans-6f\" x=\"491.748047\"/>\n      <use xlink:href=\"#DejaVuSans-6e\" x=\"552.929688\"/>\n     </g>\n    </g>\n   </g>\n  </g>\n </g>\n <defs>\n  <clipPath id=\"pb897b2aa46\">\n   <rect x=\"34.240625\" y=\"22.318125\" width=\"357.12\" height=\"266.112\"/>\n  </clipPath>\n </defs>\n</svg>\n"
          },
          "metadata": {}
        }
      ]
    },
    {
      "cell_type": "code",
      "source": [],
      "metadata": {
        "id": "Pvmrvf7C8m_M"
      },
      "execution_count": null,
      "outputs": []
    }
  ]
}